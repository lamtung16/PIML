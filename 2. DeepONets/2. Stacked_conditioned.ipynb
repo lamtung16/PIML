{
  "cells": [
    {
      "cell_type": "code",
      "execution_count": 1,
      "metadata": {
        "id": "jzH_LbEIGLWu"
      },
      "outputs": [],
      "source": [
        "# library\n",
        "import torch\n",
        "import numpy as np\n",
        "import matplotlib.pyplot as plt\n",
        "import pandas as pd\n",
        "from torchmetrics import R2Score\n",
        "\n",
        "r2score = R2Score()\n",
        "\n",
        "torch.manual_seed(2)\n",
        "np.random.seed(2)\n",
        "torch.set_printoptions(precision=8)"
      ]
    },
    {
      "cell_type": "code",
      "execution_count": 2,
      "metadata": {},
      "outputs": [],
      "source": [
        "# Sigma function\n",
        "def sigma(t, k, n):\n",
        "    a = np.array([])\n",
        "    for i in range(n):\n",
        "        for j in range(k):\n",
        "            a = np.append(a, i+1)\n",
        "    a = torch.tensor(a, dtype=torch.float32)\n",
        "    alpha = 16\n",
        "    return 1 - torch.sigmoid(alpha*(a-t-0.5))"
      ]
    },
    {
      "cell_type": "code",
      "execution_count": 3,
      "metadata": {
        "id": "Y3eaKBL2GhJI"
      },
      "outputs": [],
      "source": [
        "# Model\n",
        "class Net(torch.nn.Module):\n",
        "  def __init__(self, n=4, p=8):\n",
        "    super(Net, self).__init__()\n",
        "    self.n = n\n",
        "    self.p = p\n",
        "    self.k = int(self.p/self.n)\n",
        "    \n",
        "    # Branch x0\n",
        "    self.input_x0  = torch.nn.Linear(1, 8)\n",
        "    self.hidden_x0 = torch.nn.Linear(8, 8)\n",
        "    self.output_x0 = torch.nn.Linear(8, self.p)\n",
        "\n",
        "    # Branch 1 u\n",
        "    self.input1_u  = torch.nn.Linear(1, 2)\n",
        "    self.hidden1_u = torch.nn.Linear(2, 2)\n",
        "    self.output1_u = torch.nn.Linear(2, self.k)\n",
        "\n",
        "    # Branch 2 u\n",
        "    self.input2_u  = torch.nn.Linear(1, 2)\n",
        "    self.hidden2_u = torch.nn.Linear(2, 2)\n",
        "    self.output2_u = torch.nn.Linear(2, self.k)\n",
        "\n",
        "    # Branch 3 u\n",
        "    self.input3_u  = torch.nn.Linear(1, 2)\n",
        "    self.hidden3_u = torch.nn.Linear(2, 2)\n",
        "    self.output3_u = torch.nn.Linear(2, self.k)\n",
        "\n",
        "    # Branch 4 u\n",
        "    self.input4_u  = torch.nn.Linear(1, 2)\n",
        "    self.hidden4_u = torch.nn.Linear(2, 2)\n",
        "    self.output4_u = torch.nn.Linear(2, self.k)\n",
        "\n",
        "    # Trunk\n",
        "    self.input_t   = torch.nn.Linear(1, 8)\n",
        "    self.hidden_t  = torch.nn.Linear(8, 8)\n",
        "    self.output_t  = torch.nn.Linear(8, self.p)\n",
        "\n",
        "  def forward(self, x0, u, t):\n",
        "    # h\n",
        "    h = torch.relu(self.input_x0(x0))\n",
        "    h = torch.relu(self.hidden_x0(h))\n",
        "    h = self.output_x0(h)\n",
        "\n",
        "    # f\n",
        "    f1 = torch.relu(self.input1_u(u[:,0].reshape(-1,1)))\n",
        "    f1 = torch.relu(self.hidden1_u(f1))\n",
        "    f1 = self.output1_u(f1)\n",
        "\n",
        "    f2 = torch.relu(self.input2_u(u[:,1].reshape(-1,1)))\n",
        "    f2 = torch.relu(self.hidden2_u(f2))\n",
        "    f2 = self.output2_u(f2)\n",
        "\n",
        "    f3 = torch.relu(self.input3_u(u[:,2].reshape(-1,1)))\n",
        "    f3 = torch.relu(self.hidden3_u(f3))\n",
        "    f3 = self.output3_u(f3)\n",
        "\n",
        "    f4 = torch.relu(self.input4_u(u[:,3].reshape(-1,1)))\n",
        "    f4 = torch.relu(self.hidden4_u(f4))\n",
        "    f4 = self.output4_u(f4)\n",
        "\n",
        "    f = torch.cat((f1, f2, f3, f4), dim=1)\n",
        "\n",
        "    # sigma\n",
        "    s = sigma(t, self.k, self.n)\n",
        "\n",
        "    # g\n",
        "    g = torch.relu(self.input_t(t))\n",
        "    g = torch.relu(self.hidden_t(g))\n",
        "    g = self.output_t(g)\n",
        "\n",
        "    return torch.sum(h*f*s*g + x0, dim=1).reshape(-1,1)"
      ]
    },
    {
      "cell_type": "code",
      "execution_count": 4,
      "metadata": {
        "id": "BtNtb3epPIzJ"
      },
      "outputs": [],
      "source": [
        "# Model error\n",
        "def eval(model, testset):\n",
        "    with torch.no_grad():\n",
        "        pred_Y = model(testset.x0_data, testset.u_data, testset.t_data)\n",
        "\n",
        "    r2 = r2score(pred_Y, testset.y_data)\n",
        "    return r2.item()"
      ]
    },
    {
      "cell_type": "code",
      "execution_count": 5,
      "metadata": {
        "id": "dTWtNEdVHCuw"
      },
      "outputs": [],
      "source": [
        "# Data\n",
        "class Data(torch.utils.data.Dataset):\n",
        "  def __init__(self, src_file, n, H):\n",
        "    self.n = n\n",
        "    self.H = H\n",
        "    self.src_file = src_file\n",
        "    df = pd.read_csv(self.src_file, header=None)\n",
        "\n",
        "    X0, U, T, Y = np.array([[1]], dtype=np.float32), np.ones((1, n)), np.array([[1]], dtype=np.float32), np.array([[1]], dtype=np.float32)\n",
        "\n",
        "    for i in range(df.shape[0]):\n",
        "        row = np.array(df.iloc[i])\n",
        "        for j in range(self.H - self.n):\n",
        "            x0 = np.array([[row[self.H + j]]])\n",
        "            u  = np.array([row[j:j + self.n]])\n",
        "            for t in range(1, n+1):\n",
        "                y = np.array([[row[self.H + j + t]]])\n",
        "                t = np.array([[t]])\n",
        "\n",
        "                X0 = np.concatenate((X0, x0))\n",
        "                U  = np.concatenate((U, u))\n",
        "                T  = np.concatenate((T, t))\n",
        "                Y  = np.concatenate((Y, y))\n",
        "\n",
        "    X0, U, T, Y = X0[1:], U[1:], T[1:], Y[1:]\n",
        "\n",
        "    self.x0_data = torch.tensor(X0, dtype=torch.float32)\n",
        "    self.u_data  = torch.tensor(U, dtype=torch.float32)\n",
        "    self.t_data  = torch.tensor(T, dtype=torch.float32)\n",
        "    self.y_data  = torch.tensor(Y, dtype=torch.float32)\n",
        "\n",
        "  def __len__(self):\n",
        "    return len(self.x0_data)\n",
        "\n",
        "  def __getitem__(self, idx):\n",
        "    if torch.is_tensor(idx):\n",
        "      idx = idx.tolist()\n",
        "    x0  = self.x0_data[idx]\n",
        "    u   = self.u_data[idx]\n",
        "    t   = self.t_data[idx]\n",
        "    y   = self.y_data[idx]\n",
        "    sample = {'x0':x0, 'u':u, 't':t, 'y':y}\n",
        "    return sample"
      ]
    },
    {
      "cell_type": "code",
      "execution_count": 6,
      "metadata": {},
      "outputs": [],
      "source": [
        "# Early stopping\n",
        "def early_stop(list, min_epochs, patience):\n",
        "    if(len(list) > min_epochs):\n",
        "        if(np.max(list[-patience:]) < 1.001*np.max(list[0: -patience])):\n",
        "            return 1\n",
        "    return 0"
      ]
    },
    {
      "cell_type": "code",
      "execution_count": 7,
      "metadata": {},
      "outputs": [],
      "source": [
        "# Plot\n",
        "def plot(net, dataset, size):\n",
        "    with torch.no_grad():\n",
        "        pred_Y = net(dataset.x0_data, dataset.u_data, dataset.t_data)\n",
        "\n",
        "    plt.figure(figsize=size)\n",
        "    plt.plot(dataset.y_data, 'b',   label=r'real',      linewidth=3)\n",
        "    plt.plot(pred_Y,         'r--', label=r'predicted', linewidth=1)\n",
        "    plt.ylabel(r'x(t)')\n",
        "    plt.legend()\n",
        "    plt.show()"
      ]
    },
    {
      "cell_type": "code",
      "execution_count": 8,
      "metadata": {},
      "outputs": [],
      "source": [
        "# Train function\n",
        "def train(net, train_ds, test_ds, lr=0.001, min_epochs=200, max_epochs=100000, patience=100):\n",
        "    loss_func  = torch.nn.MSELoss()\n",
        "    optimizer  = torch.optim.Adam(net.parameters(), lr=lr)\n",
        "\n",
        "    train_ldr = torch.utils.data.DataLoader(train_ds, batch_size=train_ds.y_data.shape[0], shuffle=True)\n",
        "\n",
        "    R2_train = np.array([])\n",
        "    R2_test  = np.array([])\n",
        "    for epoch in range(0, max_epochs+1):\n",
        "        net.train()\n",
        "        loss  = 0\n",
        "        count = 0\n",
        "        for (_, batch) in enumerate(train_ldr):\n",
        "            X0 = batch['x0']\n",
        "            U  = batch['u']\n",
        "            T  = batch['t']\n",
        "            Y  = batch['y']\n",
        "\n",
        "            optimizer.zero_grad()\n",
        "            output = net(X0, U, T)             # compute the output of the Network\n",
        "            loss_val = loss_func(output, Y)    # loss function\n",
        "            loss += loss_val.item()            # accumulate\n",
        "            loss_val.backward()                # gradients\n",
        "            optimizer.step()                   # update paramters\n",
        "            count += 1\n",
        "        \n",
        "        net.eval()\n",
        "        R2_train = np.append(R2_train, eval(net, train_ds))\n",
        "        R2_test  = np.append(R2_test, eval(net, test_ds))\n",
        "\n",
        "        if(epoch%100==0):\n",
        "            print(\"epoch = %5d \\t loss = %9.5f \\t R2_train = %12.5f \\t R2_test = %9.5f\" % (epoch, loss/count, eval(net, train_ds), eval(net, test_ds)))\n",
        "        \n",
        "        if(early_stop(list = R2_test, min_epochs = min_epochs, patience = patience) == 1):\n",
        "            break\n",
        "    \n",
        "    return R2_train, R2_test"
      ]
    },
    {
      "cell_type": "code",
      "execution_count": 9,
      "metadata": {
        "colab": {
          "base_uri": "https://localhost:8080/"
        },
        "id": "gebr4CnRLFBd",
        "outputId": "d74e7cd7-8dab-49a9-babc-e77577dd73b7"
      },
      "outputs": [],
      "source": [
        "def main():\n",
        "\n",
        "    # Hyperparameters\n",
        "    p = 8           # size of branch and trunk ouput\n",
        "    n = 4           # horizon window length\n",
        "    H = 51          # maximum window length\n",
        "\n",
        "    # Create Dataset and DataLoader objects\n",
        "    src_file_train = 'C:/Users/tln229/Downloads/Python/2. DeepONets/0. Data/data_8.csv'\n",
        "    train_ds       = Data(src_file_train, n, H)\n",
        "\n",
        "    src_file_test = 'C:/Users/tln229/Downloads/Python/2. DeepONets/0. Data/data_9.csv'\n",
        "    test_ds       = Data(src_file_test, n, H)\n",
        "\n",
        "    # Create network\n",
        "    device = torch.device(\"cpu\")\n",
        "    net = Net(n, p).to(device)\n",
        "\n",
        "    # train model\n",
        "    lr         = 0.1\n",
        "    min_epochs = 500\n",
        "    max_epochs = 10000\n",
        "    patience   = 200\n",
        "    R2_train, R2_test = train(net, train_ds, test_ds, lr, min_epochs, max_epochs, patience)\n",
        "\n",
        "    # plot\n",
        "    plot(net, train_ds, (20,2))\n",
        "    plot(net, test_ds, (20,2))\n",
        "\n",
        "    # best model\n",
        "    print(np.argmax(R2_test))\n",
        "    print(np.max(R2_test))"
      ]
    },
    {
      "cell_type": "code",
      "execution_count": 10,
      "metadata": {},
      "outputs": [
        {
          "name": "stdout",
          "output_type": "stream",
          "text": [
            "epoch =     0 \t loss =  25.81943 \t R2_train =    -46.17467 \t R2_test = -45.58853\n",
            "epoch =   100 \t loss =   0.00283 \t R2_train =      0.99555 \t R2_test =   0.99118\n",
            "epoch =   200 \t loss =   0.00076 \t R2_train =      0.99863 \t R2_test =   0.99741\n",
            "epoch =   300 \t loss =   0.00035 \t R2_train =      0.99937 \t R2_test =   0.99914\n",
            "epoch =   400 \t loss =   0.00026 \t R2_train =      0.99952 \t R2_test =   0.99934\n",
            "epoch =   500 \t loss =   0.00023 \t R2_train =      0.99957 \t R2_test =   0.99939\n"
          ]
        },
        {
          "data": {
            "image/png": "[encoded data removed]",
            "text/plain": [
              "<Figure size 1440x144 with 1 Axes>"
            ]
          },
          "metadata": {
            "needs_background": "light"
          },
          "output_type": "display_data"
        },
        {
          "data": {
            "image/png": "[encoded data removed]",
            "text/plain": [
              "<Figure size 1440x144 with 1 Axes>"
            ]
          },
          "metadata": {
            "needs_background": "light"
          },
          "output_type": "display_data"
        },
        {
          "name": "stdout",
          "output_type": "stream",
          "text": [
            "500\n",
            "0.9993903636932373\n"
          ]
        }
      ],
      "source": [
        "main()"
      ]
    },
    {
      "cell_type": "code",
      "execution_count": 11,
      "metadata": {},
      "outputs": [],
      "source": [
        "# PATH = 'C:/Users/tln229/Downloads/Python/2. DeepONets/0. Saved models/Stacked_conditioned_nonlinear.pt'\n",
        "# torch.save(net, PATH)"
      ]
    }
  ],
  "metadata": {
    "colab": {
      "collapsed_sections": [],
      "name": "3. T_z .ipynb",
      "provenance": []
    },
    "kernelspec": {
      "display_name": "Python 3.10.5 64-bit",
      "language": "python",
      "name": "python3"
    },
    "language_info": {
      "codemirror_mode": {
        "name": "ipython",
        "version": 3
      },
      "file_extension": ".py",
      "mimetype": "text/x-python",
      "name": "python",
      "nbconvert_exporter": "python",
      "pygments_lexer": "ipython3",
      "version": "3.10.5"
    },
    "vscode": {
      "interpreter": {
        "hash": "912d6611990680b3d240e982c9d50f3da4c776707cfd42695cf7d82c88d80956"
      }
    }
  },
  "nbformat": 4,
  "nbformat_minor": 0
}
