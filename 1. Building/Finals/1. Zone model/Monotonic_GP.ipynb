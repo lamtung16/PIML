{
 "cells": [
  {
   "cell_type": "code",
   "execution_count": 1,
   "metadata": {},
   "outputs": [
    {
     "name": "stdout",
     "output_type": "stream",
     "text": [
      "Loading constrained GP module from C:\\Users\\tln229\\Downloads\\Python\\1. Building\\Finals\\1. Zone model\n"
     ]
    },
    {
     "name": "stderr",
     "output_type": "stream",
     "text": [
      "Unable to determine R home: [WinError 2] The system cannot find the file specified\n"
     ]
    },
    {
     "name": "stdout",
     "output_type": "stream",
     "text": [
      "Loading R wrapper...\n"
     ]
    },
    {
     "name": "stderr",
     "output_type": "stream",
     "text": [
      "R[write to console]: Loading required package: mvtnorm\n",
      "\n",
      "R[write to console]: Loading required package: Matrix\n",
      "\n",
      "R[write to console]: Loading required package: stats4\n",
      "\n",
      "R[write to console]: Loading required package: gmm\n",
      "\n",
      "R[write to console]: Loading required package: sandwich\n",
      "\n",
      "R[write to console]: \n",
      "Attaching package: 'TruncatedNormal'\n",
      "\n",
      "\n",
      "R[write to console]: The following objects are masked from 'package:tmvtnorm':\n",
      "\n",
      "    dtmvnorm, dtmvt, ptmvnorm, ptmvt, rtmvnorm, rtmvt\n",
      "\n",
      "\n",
      "R[write to console]: The following objects are masked from 'package:mvtnorm':\n",
      "\n",
      "    pmvnorm, pmvt\n",
      "\n",
      "\n"
     ]
    },
    {
     "name": "stdout",
     "output_type": "stream",
     "text": [
      "Running R from rpy2: R version 4.2.2 (2022-10-31 ucrt)\n"
     ]
    }
   ],
   "source": [
    "import sys\n",
    "import numpy as np\n",
    "import pandas as pd\n",
    "from sklearn.metrics import r2_score\n",
    "\n",
    "### Custom files ###\n",
    "dir_gp_constr = 'C:\\\\Users\\\\tln229\\\\Downloads\\\\Python Tests\\\\Constrained GP_2\\\\GP_2\\\\gp_constr\\\\'\n",
    "sys.path.append(dir_gp_constr)\n",
    "\n",
    "# Import\n",
    "from GPConstr.model import GPmodel, Constraint\n",
    "from GPConstr.kern import kernel_Matern52"
   ]
  },
  {
   "cell_type": "code",
   "execution_count": 2,
   "metadata": {},
   "outputs": [],
   "source": [
    "def get_diagnostics_df(x_test, y_test, mean, var):\n",
    "    \"\"\" Put test data in a dataframe\"\"\"\n",
    "    df = pd.DataFrame(x_test)\n",
    "    df.columns = ['x' + str(i+1) for i in range(x_test.shape[1])]\n",
    "    df['y_true'] = y_test\n",
    "    df['y_mean'] = mean\n",
    "    df['y_var'] = var\n",
    "    return df"
   ]
  },
  {
   "cell_type": "code",
   "execution_count": 3,
   "metadata": {},
   "outputs": [],
   "source": [
    "def constant_function(val):\n",
    "    def fun(x):\n",
    "        return np.array([val]*x.shape[0])\n",
    "    return fun"
   ]
  },
  {
   "cell_type": "code",
   "execution_count": 4,
   "metadata": {},
   "outputs": [],
   "source": [
    "# ---------- DATA ----------\n",
    "def create_data(n_train, n_Xv):\n",
    "    df = pd.read_csv('C:/Users/tln229/Downloads/Python/1. Building/data/HVAC_B90_106_exp_30m_20221130.csv')\n",
    "    n_end = 3000\n",
    "\n",
    "    # TRAIN SET\n",
    "    Tz_k   = np.array(df['room_temp']).reshape(-1,1)[0: n_train]\n",
    "    To_k   = np.array(df['thermostat_outside_temp']).reshape(-1,1)[0: n_train]\n",
    "    Tz_k1  = np.array(df['room_temp'])[1: n_train+1]\n",
    "    Tsa_k1 = np.array(df['supply_discharge_temp']).reshape(-1,1)[1: n_train+1]\n",
    "    msa_k1 = np.array(df['airflow_current']).reshape(-1,1)[1: n_train+1]\n",
    "    z      = ((msa_k1-400)/600)*(Tsa_k1-Tz_k)\n",
    "\n",
    "    x_train = np.concatenate((Tz_k, Tsa_k1, z, To_k), axis=1)\n",
    "    y_train = Tz_k1\n",
    "\n",
    "    # Xv\n",
    "    x1v = np.linspace(69, 75, n_Xv).reshape(-1, 1)\n",
    "    x2v = np.linspace(56, 96, n_Xv).reshape(-1, 1)\n",
    "    x3v = np.linspace(-3, 15, n_Xv).reshape(-1, 1)\n",
    "    x4v = np.linspace(35, 51, n_Xv).reshape(-1, 1)\n",
    "    Xv  = np.concatenate((x1v, x2v, x3v, x4v), axis = 1)\n",
    "\n",
    "    # TEST SET\n",
    "    Tz_k_t   = np.array(df['room_temp']).reshape(-1,1)[n_train: n_end]\n",
    "    Tz_o_t   = np.array(df['thermostat_outside_temp']).reshape(-1,1)[n_train: n_end]\n",
    "    Tz_k1_t  = np.array(df['room_temp'])[n_train+1: n_end+1]\n",
    "    Tsa_k1_t = np.array(df['supply_discharge_temp']).reshape(-1,1)[n_train+1: n_end+1]\n",
    "    msa_k1_t = np.array(df['airflow_current']).reshape(-1,1)[n_train+1: n_end+1]\n",
    "    z_t      = ((msa_k1_t-400)/600)*(Tsa_k1_t-Tz_k_t)\n",
    "\n",
    "    x_test = np.concatenate((Tz_k_t, Tsa_k1_t, z_t, Tz_o_t), axis=1)\n",
    "    y_test = Tz_k1_t\n",
    "\n",
    "    return x_train, y_train, Xv, x_test, y_test"
   ]
  },
  {
   "cell_type": "code",
   "execution_count": 5,
   "metadata": {},
   "outputs": [
    {
     "name": "stdout",
     "output_type": "stream",
     "text": [
      "..Running optimization for unconstrained GP ... DONE - Total time: 0.128 seconds\n",
      "..Running calculation of K_w ... SKIP - (cached)\n",
      "..Running calculation of Cholesky factor for K_w ... SKIP - (cached)\n",
      "..Running preparation step 1 - dependence on (XS, X) ... DONE - time: 0.305 seconds\n",
      "..Running preparation step 2 - dependence on (XV, X) ... DONE - time: 0.003 seconds\n",
      "..Running preparation step 3 - dependence on (XS, XV, X) ... DONE - time: 0.055 seconds\n",
      "..sampling 500 times from truncated constraint distribution C~|C, Y DONE - time: 0.030 seconds\n",
      "..sampling 500 times from constrained GP f*|C, Y DONE - time: 19.173 seconds\n",
      "..computing statistics from samples DONE - time: 0.049 seconds\n",
      " DONE - Total time: 19.617 seconds\n",
      "WARNING: covariance matrix not PD! -- used closest PD matrix, error = 3.395591945641596e-11\n",
      "..Running optimization for unconstrained GP ... DONE - Total time: 0.128 seconds\n",
      "..Running calculation of K_w ... SKIP - (cached)\n",
      "..Running calculation of Cholesky factor for K_w ... SKIP - (cached)\n",
      "..Running preparation step 1 - dependence on (XS, X) ... DONE - time: 0.292 seconds\n",
      "..Running preparation step 2 - dependence on (XV, X) ... DONE - time: 0.003 seconds\n",
      "..Running preparation step 3 - dependence on (XS, XV, X) ... DONE - time: 0.063 seconds\n",
      "..sampling 500 times from truncated constraint distribution C~|C, Y DONE - time: 0.035 seconds\n",
      "..sampling 500 times from constrained GP f*|C, Y DONE - time: 18.788 seconds\n",
      "..computing statistics from samples DONE - time: 0.052 seconds\n",
      " DONE - Total time: 19.235 seconds\n",
      "WARNING: covariance matrix not PD! -- used closest PD matrix, error = 3.39400670111914e-11\n",
      "..Running optimization for unconstrained GP ... DONE - Total time: 0.129 seconds\n",
      "..Running calculation of K_w ... SKIP - (cached)\n",
      "..Running calculation of Cholesky factor for K_w ... SKIP - (cached)\n",
      "..Running preparation step 1 - dependence on (XS, X) ... DONE - time: 0.299 seconds\n",
      "..Running preparation step 2 - dependence on (XV, X) ... DONE - time: 0.003 seconds\n",
      "..Running preparation step 3 - dependence on (XS, XV, X) ... DONE - time: 0.073 seconds\n",
      "..sampling 500 times from truncated constraint distribution C~|C, Y DONE - time: 0.049 seconds\n",
      "..sampling 500 times from constrained GP f*|C, Y DONE - time: 21.868 seconds\n",
      "..computing statistics from samples DONE - time: 0.047 seconds\n",
      " DONE - Total time: 22.341 seconds\n",
      "WARNING: covariance matrix not PD! -- used closest PD matrix, error = 3.3949058326912876e-11\n",
      "..Running optimization for unconstrained GP ... DONE - Total time: 0.111 seconds\n",
      "..Running calculation of K_w ... SKIP - (cached)\n",
      "..Running calculation of Cholesky factor for K_w ... SKIP - (cached)\n",
      "..Running preparation step 1 - dependence on (XS, X) ... DONE - time: 0.303 seconds\n",
      "..Running preparation step 2 - dependence on (XV, X) ... DONE - time: 0.007 seconds\n",
      "..Running preparation step 3 - dependence on (XS, XV, X) ... DONE - time: 0.048 seconds\n",
      "..sampling 500 times from truncated constraint distribution C~|C, Y DONE - time: 0.008 seconds\n",
      "..sampling 500 times from constrained GP f*|C, Y DONE - time: 20.330 seconds\n",
      "..computing statistics from samples DONE - time: 0.047 seconds\n",
      " DONE - Total time: 20.744 seconds\n",
      "WARNING: covariance matrix not PD! -- used closest PD matrix, error = 1.1362153893527266e-11\n",
      "..Running optimization for unconstrained GP ... DONE - Total time: 0.109 seconds\n",
      "..Running calculation of K_w ... SKIP - (cached)\n",
      "..Running calculation of Cholesky factor for K_w ... SKIP - (cached)\n",
      "..Running preparation step 1 - dependence on (XS, X) ... DONE - time: 0.278 seconds\n",
      "..Running preparation step 2 - dependence on (XV, X) ... DONE - time: 0.003 seconds\n",
      "..Running preparation step 3 - dependence on (XS, XV, X) ... DONE - time: 0.057 seconds\n",
      "..sampling 500 times from truncated constraint distribution C~|C, Y DONE - time: 0.027 seconds\n",
      "..sampling 500 times from constrained GP f*|C, Y DONE - time: 20.024 seconds\n",
      "..computing statistics from samples DONE - time: 0.046 seconds\n",
      " DONE - Total time: 20.437 seconds\n",
      "WARNING: covariance matrix not PD! -- used closest PD matrix, error = 1.1599849390492994e-11\n",
      "..Running optimization for unconstrained GP ... DONE - Total time: 0.108 seconds\n",
      "..Running calculation of K_w ... SKIP - (cached)\n",
      "..Running calculation of Cholesky factor for K_w ... SKIP - (cached)\n",
      "..Running preparation step 1 - dependence on (XS, X) ... DONE - time: 0.309 seconds\n",
      "..Running preparation step 2 - dependence on (XV, X) ... DONE - time: 0.004 seconds\n",
      "..Running preparation step 3 - dependence on (XS, XV, X) ... DONE - time: 0.073 seconds\n",
      "..sampling 500 times from truncated constraint distribution C~|C, Y DONE - time: 0.083 seconds\n",
      "..sampling 500 times from constrained GP f*|C, Y DONE - time: 20.533 seconds\n",
      "..computing statistics from samples DONE - time: 0.050 seconds\n",
      " DONE - Total time: 21.055 seconds\n",
      "WARNING: covariance matrix not PD! -- used closest PD matrix, error = 1.1472556574448206e-11\n",
      "..Running optimization for unconstrained GP ...WARNING -- NO CONVERGENCE IN OPTIMIZATION -- Total time: 0.767 seconds\n",
      "..Running calculation of K_w ... SKIP - (cached)\n",
      "..Running calculation of Cholesky factor for K_w ... SKIP - (cached)\n",
      "..Running preparation step 1 - dependence on (XS, X) ... DONE - time: 0.316 seconds\n",
      "..Running preparation step 2 - dependence on (XV, X) ... DONE - time: 0.002 seconds\n",
      "..Running preparation step 3 - dependence on (XS, XV, X) ... DONE - time: 0.053 seconds\n",
      "..sampling 500 times from truncated constraint distribution C~|C, Y DONE - time: 0.022 seconds\n",
      "..sampling 500 times from constrained GP f*|C, Y DONE - time: 16.237 seconds\n",
      "..computing statistics from samples DONE - time: 0.045 seconds\n",
      " DONE - Total time: 16.681 seconds\n",
      "WARNING: covariance matrix not PD! -- used closest PD matrix, error = 1.1656892109362265e-09\n",
      "..Running optimization for unconstrained GP ...WARNING -- NO CONVERGENCE IN OPTIMIZATION -- Total time: 0.687 seconds\n",
      "..Running calculation of K_w ... SKIP - (cached)\n",
      "..Running calculation of Cholesky factor for K_w ... SKIP - (cached)\n",
      "..Running preparation step 1 - dependence on (XS, X) ... DONE - time: 0.283 seconds\n",
      "..Running preparation step 2 - dependence on (XV, X) ... DONE - time: 0.004 seconds\n",
      "..Running preparation step 3 - dependence on (XS, XV, X) ... DONE - time: 0.055 seconds\n",
      "..sampling 500 times from truncated constraint distribution C~|C, Y DONE - time: 0.024 seconds\n",
      "..sampling 500 times from constrained GP f*|C, Y DONE - time: 16.225 seconds\n",
      "..computing statistics from samples DONE - time: 0.045 seconds\n",
      " DONE - Total time: 16.637 seconds\n",
      "WARNING: covariance matrix not PD! -- used closest PD matrix, error = 1.1656938222174727e-09\n",
      "..Running optimization for unconstrained GP ...WARNING -- NO CONVERGENCE IN OPTIMIZATION -- Total time: 0.695 seconds\n",
      "..Running calculation of K_w ... SKIP - (cached)\n",
      "..Running calculation of Cholesky factor for K_w ... SKIP - (cached)\n",
      "..Running preparation step 1 - dependence on (XS, X) ... DONE - time: 0.297 seconds\n",
      "..Running preparation step 2 - dependence on (XV, X) ... DONE - time: 0.004 seconds\n",
      "..Running preparation step 3 - dependence on (XS, XV, X) ... DONE - time: 0.072 seconds\n",
      "..sampling 500 times from truncated constraint distribution C~|C, Y DONE - time: 0.077 seconds\n",
      "..sampling 500 times from constrained GP f*|C, Y DONE - time: 16.261 seconds\n",
      "..computing statistics from samples DONE - time: 0.050 seconds\n",
      " DONE - Total time: 16.763 seconds\n",
      "WARNING: covariance matrix not PD! -- used closest PD matrix, error = 1.165721207910741e-09\n"
     ]
    }
   ],
   "source": [
    "df_result = pd.DataFrame({'n_train':[], 'n_Xv':[], 'R2':[]})\n",
    "\n",
    "for n_train in ([32, 64, 128]):\n",
    "    for n_Xv in ([5, 10, 20]):\n",
    "        # DATA\n",
    "        x_train, y_train, Xv, x_test, y_test = create_data(n_train=n_train, n_Xv=n_Xv)\n",
    "\n",
    "        # MODEL\n",
    "        ker = kernel_Matern52(variance = 1, lengthscale = [1]*x_train.shape[1])\n",
    "        model = GPmodel(kernel = ker, likelihood = 1, mean = 0)\n",
    "\n",
    "        model.X_training = x_train\n",
    "        model.Y_training = y_train\n",
    "\n",
    "        model.optimize(include_constraint = False, fix_likelihood = False)\n",
    "\n",
    "        # CONSTRAINTS\n",
    "        model.constr_deriv = [\n",
    "            Constraint(LB = constant_function(float('-Inf')), UB = constant_function(float('Inf'))),\n",
    "            Constraint(LB = constant_function(0), UB = constant_function(float('Inf'))),\n",
    "            Constraint(LB = constant_function(float('-Inf')), UB = constant_function(float('Inf'))),\n",
    "            Constraint(LB = constant_function(float('-Inf')), UB = constant_function(float('Inf')))\n",
    "        ]\n",
    "\n",
    "        model.constr_deriv[0].Xv = Xv\n",
    "        model.constr_deriv[1].Xv = Xv\n",
    "        model.constr_deriv[2].Xv = Xv\n",
    "        model.constr_deriv[3].Xv = Xv\n",
    "\n",
    "        model.constr_likelihood = 1E-6\n",
    "\n",
    "        # PREDICT\n",
    "        mean, _, _, _, _, _ = model.calc_posterior_constrained(x_test, num_samples = 500, save_samples = 50)\n",
    "        mean = np.array(mean).flatten()\n",
    "        df_result.loc[len(df_result)] = [n_train, n_Xv, r2_score(y_test, mean)]"
   ]
  },
  {
   "cell_type": "code",
   "execution_count": 6,
   "metadata": {},
   "outputs": [
    {
     "name": "stdout",
     "output_type": "stream",
     "text": [
      "   n_train  n_Xv        R2\n",
      "0     32.0   5.0 -7.811431\n",
      "1     32.0  10.0 -8.097641\n",
      "2     32.0  20.0 -7.810607\n",
      "3     64.0   5.0  0.655091\n",
      "4     64.0  10.0  0.637723\n",
      "5     64.0  20.0  0.646984\n",
      "6    128.0   5.0  0.991243\n",
      "7    128.0  10.0  0.990883\n",
      "8    128.0  20.0  0.990989\n"
     ]
    }
   ],
   "source": [
    "print(df_result)"
   ]
  }
 ],
 "metadata": {
  "kernelspec": {
   "display_name": "Python 3",
   "language": "python",
   "name": "python3"
  },
  "language_info": {
   "codemirror_mode": {
    "name": "ipython",
    "version": 3
   },
   "file_extension": ".py",
   "mimetype": "text/x-python",
   "name": "python",
   "nbconvert_exporter": "python",
   "pygments_lexer": "ipython3",
   "version": "3.10.5 (tags/v3.10.5:f377153, Jun  6 2022, 16:14:13) [MSC v.1929 64 bit (AMD64)]"
  },
  "vscode": {
   "interpreter": {
    "hash": "912d6611990680b3d240e982c9d50f3da4c776707cfd42695cf7d82c88d80956"
   }
  }
 },
 "nbformat": 4,
 "nbformat_minor": 2
}
