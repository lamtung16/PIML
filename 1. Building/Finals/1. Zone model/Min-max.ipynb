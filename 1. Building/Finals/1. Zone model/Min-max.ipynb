{
  "cells": [
    {
      "cell_type": "code",
      "execution_count": 1,
      "metadata": {
        "id": "jzH_LbEIGLWu"
      },
      "outputs": [],
      "source": [
        "# library\n",
        "import torch\n",
        "import numpy as np\n",
        "import pandas as pd\n",
        "from torchmetrics import R2Score\n",
        "\n",
        "r2score = R2Score()\n",
        "\n",
        "torch.manual_seed(1)\n",
        "np.random.seed(1)"
      ]
    },
    {
      "cell_type": "code",
      "execution_count": 2,
      "metadata": {
        "id": "Y3eaKBL2GhJI"
      },
      "outputs": [],
      "source": [
        "# Model\n",
        "class MonotonicLinear(torch.nn.Module):\n",
        "  def __init__(self, input_size, output_size):\n",
        "    super().__init__()\n",
        "    self.input_size  = input_size\n",
        "    self.output_size = output_size\n",
        "    self.weights = torch.nn.Parameter(torch.rand((output_size, input_size), dtype=torch.float32))\n",
        "\n",
        "  def forward(self, x):\n",
        "    z = torch.mm(x, torch.exp(self.weights.t()))\n",
        "    return z\n",
        "\n",
        "class Net(torch.nn.Module):\n",
        "  def __init__(self):\n",
        "    super(Net, self).__init__()\n",
        "    self.input11 = MonotonicLinear(1, 4)\n",
        "    self.input12 = torch.nn.Linear(3, 4)\n",
        "    self.max1    = torch.nn.MaxPool1d(4)\n",
        "\n",
        "    self.input21 = MonotonicLinear(1, 4)\n",
        "    self.input22 = torch.nn.Linear(3, 4)\n",
        "    self.max2    = torch.nn.MaxPool1d(4)\n",
        "\n",
        "    self.output = torch.nn.MaxPool1d(2)\n",
        "\n",
        "  def forward(self, x_m, x_u):\n",
        "    z1 = torch.add(self.input11(x_m), self.input12(x_u))\n",
        "    z1 = self.max1(z1)\n",
        "\n",
        "    z2 = torch.add(self.input21(x_m), self.input22(x_u))\n",
        "    z2 = self.max1(z2)\n",
        "\n",
        "    z = torch.concat((z1,z2), axis=1)\n",
        "    z = self.output(-z)\n",
        "\n",
        "    return -z"
      ]
    },
    {
      "cell_type": "code",
      "execution_count": 3,
      "metadata": {
        "id": "BtNtb3epPIzJ"
      },
      "outputs": [],
      "source": [
        "# Model evaluation\n",
        "def eval(model, testset):\n",
        "    with torch.no_grad():\n",
        "        pred_Y = model(testset.x_m_data, testset.x_u_data)\n",
        "    \n",
        "    r2 = r2score(pred_Y, testset.y_data)\n",
        "    return r2.item()"
      ]
    },
    {
      "cell_type": "code",
      "execution_count": 4,
      "metadata": {
        "id": "dTWtNEdVHCuw"
      },
      "outputs": [],
      "source": [
        "# Data class\n",
        "class Data(torch.utils.data.Dataset):\n",
        "  def __init__(self, src_file, start=None, end=None):\n",
        "    df = pd.read_csv(src_file)\n",
        "    Tsa_k1 = np.array(df['supply_discharge_temp']).reshape(-1,1)[start+1: end+1]\n",
        "    Tz_k   = np.array(df['room_temp']).reshape(-1,1)[start: end]\n",
        "    msa_k1 = np.array(df['airflow_current']).reshape(-1,1)[start+1: end+1]\n",
        "    To_k   = np.array(df['thermostat_outside_temp']).reshape(-1,1)[start: end]\n",
        "\n",
        "    tmp_x_u = np.concatenate((Tz_k, msa_k1, To_k), axis=1)\n",
        "    tmp_y   = np.array(df['room_temp']).reshape(-1,1)[start+1: end+1]\n",
        "\n",
        "    self.x_m_data = torch.tensor(Tsa_k1, dtype=torch.float32)\n",
        "    self.x_u_data = torch.tensor(tmp_x_u, dtype=torch.float32)\n",
        "    self.y_data   = torch.tensor(tmp_y, dtype=torch.float32)\n",
        "\n",
        "  def __len__(self):\n",
        "    return len(self.y_data)\n",
        "\n",
        "  def __getitem__(self, idx):\n",
        "    if torch.is_tensor(idx):\n",
        "      idx = idx.tolist()\n",
        "    inp_m  = self.x_m_data[idx]\n",
        "    inp_u  = self.x_u_data[idx]\n",
        "    outp   = self.y_data[idx]\n",
        "    sample = {'inp_m':inp_m, 'inp_u':inp_u, 'outp':outp}\n",
        "    return sample"
      ]
    },
    {
      "cell_type": "code",
      "execution_count": 5,
      "metadata": {},
      "outputs": [],
      "source": [
        "# Early stopping function\n",
        "def early_stop(list, min_epochs, patience):\n",
        "    if(len(list) > min_epochs):\n",
        "        if(np.max(list[-patience:]) < 1.00001*np.max(list[0: -patience])):\n",
        "            return 1\n",
        "    return 0"
      ]
    },
    {
      "cell_type": "code",
      "execution_count": 6,
      "metadata": {
        "colab": {
          "base_uri": "https://localhost:8080/"
        },
        "id": "gebr4CnRLFBd",
        "outputId": "d74e7cd7-8dab-49a9-babc-e77577dd73b7"
      },
      "outputs": [],
      "source": [
        "# train function\n",
        "def train(net, train_ds, test_ds, lr=0.001, min_epochs=200, max_epochs=100000, patience=100, smooth=0):\n",
        "    loss_func  = torch.nn.MSELoss()\n",
        "    optimizer  = torch.optim.Adam(net.parameters(), lr=lr)\n",
        "\n",
        "    R2_test    = np.array([])\n",
        "    train_ldr = torch.utils.data.DataLoader(train_ds, batch_size=train_ds.y_data.shape[0], shuffle=True)\n",
        "    for _ in range(0, max_epochs+1):\n",
        "        net.train()\n",
        "        for (_, batch) in enumerate(train_ldr):\n",
        "            X_m = batch['inp_m']\n",
        "            X_u = batch['inp_u']\n",
        "            Y   = batch['outp']\n",
        "\n",
        "            optimizer.zero_grad()\n",
        "            output = net(X_m, X_u)\n",
        "            loss_val = loss_func(output, Y) + smooth*loss_func(output, X_u[:,0].reshape(-1,1))\n",
        "            loss_val.backward()\n",
        "            optimizer.step()\n",
        "\n",
        "        net.eval()\n",
        "        R2_test = np.append(R2_test, eval(net, test_ds))\n",
        "        \n",
        "        if(early_stop(list = R2_test, min_epochs = min_epochs, patience = patience) == 1):\n",
        "            break\n",
        "    \n",
        "    return R2_test"
      ]
    },
    {
      "cell_type": "code",
      "execution_count": 7,
      "metadata": {},
      "outputs": [
        {
          "name": "stdout",
          "output_type": "stream",
          "text": [
            "    n_train  smooth      lr  best_epoch          R2\n",
            "0      32.0   0.000  0.0001      8299.0  -7816.9443\n",
            "1      32.0   0.000  0.0010     10373.0  -9285.7764\n",
            "2      32.0   0.000  0.0100        91.0  -3853.1614\n",
            "3      32.0   0.000  0.1000        27.0   -230.7146\n",
            "4      32.0   0.000  0.2000        35.0  -2660.9531\n",
            "5      32.0   0.000  0.5000        50.0  -6206.3892\n",
            "6      32.0   0.001  0.0001     19833.0 -16110.5635\n",
            "7      32.0   0.001  0.0010      9603.0  -5613.0923\n",
            "8      32.0   0.001  0.0100       177.0  -5206.0410\n",
            "9      32.0   0.001  0.1000     11133.0  -1900.9351\n",
            "10     32.0   0.001  0.2000      3526.0  -4701.7944\n",
            "11     32.0   0.001  0.5000      3296.0  -2927.5779\n",
            "12     32.0   0.010  0.0001     99994.0 -12991.5059\n",
            "13     32.0   0.010  0.0010       381.0 -11129.5557\n",
            "14     32.0   0.010  0.0100      5834.0  -5879.4609\n",
            "15     32.0   0.010  0.1000        39.0  -1068.8833\n",
            "16     32.0   0.010  0.2000        28.0  -6818.8262\n",
            "17     32.0   0.010  0.5000        16.0  -6842.7041\n",
            "18     64.0   0.000  0.0001     23852.0  -3091.0708\n",
            "19     64.0   0.000  0.0010       803.0  -2778.6406\n",
            "20     64.0   0.000  0.0100     32107.0  -4063.6587\n",
            "21     64.0   0.000  0.1000       155.0   -407.3951\n",
            "22     64.0   0.000  0.2000        27.0   -849.3906\n",
            "23     64.0   0.000  0.5000        50.0    -65.9180\n",
            "24     64.0   0.001  0.0001      9920.0  -4095.9097\n",
            "25     64.0   0.001  0.0010      4075.0  -3338.9065\n",
            "26     64.0   0.001  0.0100     36221.0  -2974.4258\n",
            "27     64.0   0.001  0.1000     50414.0     -0.1226\n",
            "28     64.0   0.001  0.2000        23.0   -221.7014\n",
            "29     64.0   0.001  0.5000     43113.0      0.9951\n",
            "30     64.0   0.010  0.0001     23772.0  -4728.9814\n",
            "31     64.0   0.010  0.0010       697.0  -5224.1377\n",
            "32     64.0   0.010  0.0100        40.0  -4786.9316\n",
            "33     64.0   0.010  0.1000        12.0   -467.5204\n",
            "34     64.0   0.010  0.2000        40.0   -772.7147\n",
            "35     64.0   0.010  0.5000     20749.0      0.9961\n",
            "36    128.0   0.000  0.0001     23153.0  -1180.6208\n",
            "37    128.0   0.000  0.0010     28960.0   -435.6765\n",
            "38    128.0   0.000  0.0100      7097.0   -844.8735\n",
            "39    128.0   0.000  0.1000      1607.0     -4.1298\n",
            "40    128.0   0.000  0.2000     14821.0      0.9967\n",
            "41    128.0   0.000  0.5000     21067.0      0.9947\n",
            "42    128.0   0.001  0.0001     99880.0    -10.5984\n",
            "43    128.0   0.001  0.0010     65667.0   -113.4047\n",
            "44    128.0   0.001  0.0100       830.0   -245.6896\n",
            "45    128.0   0.001  0.1000     17775.0      0.9963\n",
            "46    128.0   0.001  0.2000     16365.0      0.9966\n",
            "47    128.0   0.001  0.5000     24265.0      0.9948\n",
            "48    128.0   0.010  0.0001     22455.0   -312.2388\n",
            "49    128.0   0.010  0.0010     14915.0   -463.6322\n",
            "50    128.0   0.010  0.0100      5065.0   -839.7672\n",
            "51    128.0   0.010  0.1000     24342.0      0.9632\n",
            "52    128.0   0.010  0.2000     16263.0      0.9967\n",
            "53    128.0   0.010  0.5000     17363.0      0.9947\n"
          ]
        }
      ],
      "source": [
        "# main\n",
        "df_result = pd.DataFrame({'n_train':[], 'smooth':[], 'lr':[], 'best_epoch':[], 'R2':[]})\n",
        "n_end = 3000\n",
        "\n",
        "for _n_train in [32, 64, 128]:\n",
        "    for _smooth in [0, 0.001, 0.01]:\n",
        "        for _lr in [0.0001, 0.001, 0.01, 0.1, 0.2, 0.5]:\n",
        "\n",
        "            # Create network\n",
        "            device = torch.device(\"cpu\")\n",
        "            net = Net().to(device)\n",
        "\n",
        "            # Create Dataset and DataLoader objects\n",
        "            src_file = 'C:/Users/tln229/Downloads/Python/1. Building/data/HVAC_B90_106_exp_30m_20221130.csv'\n",
        "            n_train  = _n_train\n",
        "            train_ds = Data(src_file, start=0,       end=n_train)\n",
        "            test_ds  = Data(src_file, start=n_train, end=n_end)\n",
        "\n",
        "            # train\n",
        "            R2_test = train(net, train_ds, test_ds, lr=_lr, min_epochs=1000, max_epochs=100000, patience=500, smooth=_smooth)\n",
        "\n",
        "            # results\n",
        "            df_result.loc[len(df_result)] = [_n_train, _smooth, _lr, np.argmax(R2_test), np.max(R2_test)]\n",
        "\n",
        "with pd.option_context('display.max_rows', None,\n",
        "                       'display.max_columns', None,\n",
        "                       'display.precision', 4,\n",
        "                       ):\n",
        "    print(df_result)"
      ]
    }
  ],
  "metadata": {
    "colab": {
      "collapsed_sections": [],
      "name": "3. T_z .ipynb",
      "provenance": []
    },
    "kernelspec": {
      "display_name": "Python 3.10.5 64-bit",
      "language": "python",
      "name": "python3"
    },
    "language_info": {
      "codemirror_mode": {
        "name": "ipython",
        "version": 3
      },
      "file_extension": ".py",
      "mimetype": "text/x-python",
      "name": "python",
      "nbconvert_exporter": "python",
      "pygments_lexer": "ipython3",
      "version": "3.10.5"
    },
    "vscode": {
      "interpreter": {
        "hash": "912d6611990680b3d240e982c9d50f3da4c776707cfd42695cf7d82c88d80956"
      }
    }
  },
  "nbformat": 4,
  "nbformat_minor": 0
}
