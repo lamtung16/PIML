{
  "cells": [
    {
      "cell_type": "code",
      "execution_count": 1,
      "metadata": {
        "id": "jzH_LbEIGLWu"
      },
      "outputs": [],
      "source": [
        "# library\n",
        "import torch\n",
        "import numpy as np\n",
        "import pandas as pd\n",
        "from torchmetrics import R2Score\n",
        "\n",
        "r2score = R2Score()\n",
        "\n",
        "torch.manual_seed(1)\n",
        "np.random.seed(1)"
      ]
    },
    {
      "cell_type": "code",
      "execution_count": 2,
      "metadata": {
        "id": "Y3eaKBL2GhJI"
      },
      "outputs": [],
      "source": [
        "# Model\n",
        "class MonotonicLinear(torch.nn.Module):\n",
        "  def __init__(self, input_size, output_size):\n",
        "    super().__init__()\n",
        "    self.input_size  = input_size\n",
        "    self.output_size = output_size\n",
        "    self.weights = torch.nn.Parameter(torch.rand((output_size, input_size), dtype=torch.float32))\n",
        "\n",
        "  def forward(self, x):\n",
        "    z = torch.mm(x, torch.exp(self.weights.t()))\n",
        "    return z\n",
        "\n",
        "class Net(torch.nn.Module):\n",
        "  def __init__(self):\n",
        "    super(Net, self).__init__()\n",
        "    self.input11 = MonotonicLinear(1, 4)\n",
        "    self.input12 = torch.nn.Linear(3, 4)\n",
        "    self.max1    = torch.nn.MaxPool1d(4)\n",
        "\n",
        "    self.input21 = MonotonicLinear(1, 4)\n",
        "    self.input22 = torch.nn.Linear(3, 4)\n",
        "    self.max2    = torch.nn.MaxPool1d(4)\n",
        "\n",
        "    self.output = torch.nn.MaxPool1d(2)\n",
        "\n",
        "  def forward(self, x_m, x_u):\n",
        "    z1 = torch.add(self.input11(x_m), self.input12(x_u))\n",
        "    z1 = self.max1(z1)\n",
        "\n",
        "    z2 = torch.add(self.input21(x_m), self.input22(x_u))\n",
        "    z2 = self.max1(z2)\n",
        "\n",
        "    z = torch.concat((z1,z2), axis=1)\n",
        "    z = self.output(-z)\n",
        "\n",
        "    return -z"
      ]
    },
    {
      "cell_type": "code",
      "execution_count": 3,
      "metadata": {
        "id": "BtNtb3epPIzJ"
      },
      "outputs": [],
      "source": [
        "# Model evaluation\n",
        "def eval(model, testset):\n",
        "    with torch.no_grad():\n",
        "        pred_Y = model(testset.x_m_data, testset.x_u_data)\n",
        "    \n",
        "    r2 = r2score(pred_Y, testset.y_data)\n",
        "    return r2.item()"
      ]
    },
    {
      "cell_type": "code",
      "execution_count": 4,
      "metadata": {
        "id": "dTWtNEdVHCuw"
      },
      "outputs": [],
      "source": [
        "# Data class\n",
        "class Data(torch.utils.data.Dataset):\n",
        "  def __init__(self, src_file, start=None, end=None):\n",
        "    df = pd.read_csv(src_file)\n",
        "    Tsa_k1 = np.array(df['supply_discharge_temp']).reshape(-1,1)[start+1: end+1]\n",
        "    Tz_k   = np.array(df['room_temp']).reshape(-1,1)[start: end]\n",
        "    msa_k1 = np.array(df['airflow_current']).reshape(-1,1)[start+1: end+1]\n",
        "    To_k   = np.array(df['thermostat_outside_temp']).reshape(-1,1)[start: end]\n",
        "\n",
        "    tmp_x_u = np.concatenate((Tz_k, msa_k1, To_k), axis=1)\n",
        "    tmp_y   = np.array(df['room_temp']).reshape(-1,1)[start+1: end+1]\n",
        "\n",
        "    self.x_m_data = torch.tensor(Tsa_k1, dtype=torch.float32)\n",
        "    self.x_u_data = torch.tensor(tmp_x_u, dtype=torch.float32)\n",
        "    self.y_data   = torch.tensor(tmp_y, dtype=torch.float32)\n",
        "\n",
        "  def __len__(self):\n",
        "    return len(self.y_data)\n",
        "\n",
        "  def __getitem__(self, idx):\n",
        "    if torch.is_tensor(idx):\n",
        "      idx = idx.tolist()\n",
        "    inp_m  = self.x_m_data[idx]\n",
        "    inp_u  = self.x_u_data[idx]\n",
        "    outp   = self.y_data[idx]\n",
        "    sample = {'inp_m':inp_m, 'inp_u':inp_u, 'outp':outp}\n",
        "    return sample"
      ]
    },
    {
      "cell_type": "code",
      "execution_count": 5,
      "metadata": {},
      "outputs": [],
      "source": [
        "# Early stopping function\n",
        "def early_stop(list, min_epochs, patience):\n",
        "    if(len(list) > min_epochs):\n",
        "        if(np.max(list[-patience:]) < 1.00001*np.max(list[0: -patience])):\n",
        "            return 1\n",
        "    return 0"
      ]
    },
    {
      "cell_type": "code",
      "execution_count": 6,
      "metadata": {
        "colab": {
          "base_uri": "https://localhost:8080/"
        },
        "id": "gebr4CnRLFBd",
        "outputId": "d74e7cd7-8dab-49a9-babc-e77577dd73b7"
      },
      "outputs": [],
      "source": [
        "# train function\n",
        "def train(net, train_ds, test_ds, lr=0.001, min_epochs=200, max_epochs=100000, patience=100, smooth=0):\n",
        "    loss_func  = torch.nn.MSELoss()\n",
        "    optimizer  = torch.optim.Adam(net.parameters(), lr=lr)\n",
        "\n",
        "    R2_test    = np.array([])\n",
        "    train_ldr = torch.utils.data.DataLoader(train_ds, batch_size=train_ds.y_data.shape[0], shuffle=True)\n",
        "    for _ in range(0, max_epochs+1):\n",
        "        net.train()\n",
        "        for (_, batch) in enumerate(train_ldr):\n",
        "            X_m = batch['inp_m']\n",
        "            X_u = batch['inp_u']\n",
        "            Y   = batch['outp']\n",
        "\n",
        "            optimizer.zero_grad()\n",
        "            output = net(X_m, X_u)\n",
        "            loss_val = loss_func(output, Y) + smooth*loss_func(output, X_u[:,0].reshape(-1,1))\n",
        "            loss_val.backward()\n",
        "            optimizer.step()\n",
        "\n",
        "        net.eval()\n",
        "        R2_test = np.append(R2_test, eval(net, test_ds))\n",
        "        \n",
        "        if(early_stop(list = R2_test, min_epochs = min_epochs, patience = patience) == 1):\n",
        "            break\n",
        "    \n",
        "    return R2_test"
      ]
    },
    {
      "cell_type": "code",
      "execution_count": 7,
      "metadata": {},
      "outputs": [],
      "source": [
        "# main\n",
        "df_result = pd.DataFrame({'n_train':[], 'smooth':[], 'lr':[], 'best_epoch':[], 'R2':[]})\n",
        "n_end = 3000\n",
        "\n",
        "for _n_train in [32, 64, 128]:\n",
        "    for _smooth in [0, 0.001, 0.01]:\n",
        "        for _lr in [0.0001, 0.001, 0.01, 0.1, 0.2, 0.5]:\n",
        "\n",
        "            # Create network\n",
        "            device = torch.device(\"cpu\")\n",
        "            net = Net().to(device)\n",
        "\n",
        "            # Create Dataset and DataLoader objects\n",
        "            src_file = 'C:/Users/tln229/Downloads/Python/1. Building/data/HVAC_B90_106_exp_30m_20221130.csv'\n",
        "            n_train  = _n_train\n",
        "            train_ds = Data(src_file, start=0,       end=n_train)\n",
        "            test_ds  = Data(src_file, start=n_train, end=n_end)\n",
        "\n",
        "            # train\n",
        "            R2_test = train(net, train_ds, test_ds, lr=_lr, min_epochs=1000, max_epochs=100000, patience=500, smooth=_smooth)\n",
        "\n",
        "            # results\n",
        "            df_result.loc[len(df_result)] = [_n_train, _smooth, _lr, np.argmax(R2_test), np.max(R2_test)]\n",
        "\n",
        "with pd.option_context('display.max_rows', None,\n",
        "                       'display.max_columns', None,\n",
        "                       'display.precision', 4,\n",
        "                       ):\n",
        "    print(df_result)"
      ]
    }
  ],
  "metadata": {
    "colab": {
      "collapsed_sections": [],
      "name": "3. T_z .ipynb",
      "provenance": []
    },
    "kernelspec": {
      "display_name": "Python 3.10.5 64-bit",
      "language": "python",
      "name": "python3"
    },
    "language_info": {
      "codemirror_mode": {
        "name": "ipython",
        "version": 3
      },
      "file_extension": ".py",
      "mimetype": "text/x-python",
      "name": "python",
      "nbconvert_exporter": "python",
      "pygments_lexer": "ipython3",
      "version": "3.10.5"
    },
    "vscode": {
      "interpreter": {
        "hash": "912d6611990680b3d240e982c9d50f3da4c776707cfd42695cf7d82c88d80956"
      }
    }
  },
  "nbformat": 4,
  "nbformat_minor": 0
}
