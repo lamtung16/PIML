{
  "cells": [
    {
      "cell_type": "code",
      "execution_count": 1,
      "metadata": {
        "id": "jzH_LbEIGLWu"
      },
      "outputs": [],
      "source": [
        "# library\n",
        "import torch\n",
        "import numpy as np\n",
        "import pandas as pd\n",
        "from torchmetrics import R2Score\n",
        "\n",
        "r2score = R2Score()\n",
        "\n",
        "torch.manual_seed(1)\n",
        "np.random.seed(1)"
      ]
    },
    {
      "cell_type": "code",
      "execution_count": 2,
      "metadata": {
        "id": "Y3eaKBL2GhJI"
      },
      "outputs": [],
      "source": [
        "# Model\n",
        "class MonotonicLinear(torch.nn.Module):\n",
        "  def __init__(self, input_size, output_size):\n",
        "    super().__init__()\n",
        "    self.input_size  = input_size\n",
        "    self.output_size = output_size\n",
        "    self.weights = torch.nn.Parameter(torch.rand((output_size, input_size), dtype=torch.float32))\n",
        "\n",
        "  def forward(self, x):\n",
        "    z = torch.mm(x, torch.exp(self.weights.t()))\n",
        "    return z\n",
        "\n",
        "class Net(torch.nn.Module):\n",
        "  def __init__(self):\n",
        "    super(Net, self).__init__()\n",
        "    self.input11 = MonotonicLinear(1, 4)\n",
        "    self.input12 = torch.nn.Linear(2, 4)\n",
        "    self.max1    = torch.nn.MaxPool1d(4)\n",
        "\n",
        "    self.input21 = MonotonicLinear(1, 4)\n",
        "    self.input22 = torch.nn.Linear(2, 4)\n",
        "    self.max2    = torch.nn.MaxPool1d(4)\n",
        "\n",
        "    self.output = torch.nn.MaxPool1d(2)\n",
        "\n",
        "  def forward(self, x_m, x_u):\n",
        "    z1 = torch.add(self.input11(x_m), self.input12(x_u))\n",
        "    z1 = self.max1(z1)\n",
        "\n",
        "    z2 = torch.add(self.input21(x_m), self.input22(x_u))\n",
        "    z2 = self.max1(z2)\n",
        "\n",
        "    z = torch.concat((z1,z2), axis=1)\n",
        "    z = self.output(-z)\n",
        "\n",
        "    return -z"
      ]
    },
    {
      "cell_type": "code",
      "execution_count": 3,
      "metadata": {
        "id": "BtNtb3epPIzJ"
      },
      "outputs": [],
      "source": [
        "# Model evaluation\n",
        "def eval(model, testset):\n",
        "    with torch.no_grad():\n",
        "        pred_Y = model(testset.x_m_data, testset.x_u_data)\n",
        "    \n",
        "    r2 = r2score(pred_Y, testset.y_data)\n",
        "    return r2.item()"
      ]
    },
    {
      "cell_type": "code",
      "execution_count": 4,
      "metadata": {
        "id": "dTWtNEdVHCuw"
      },
      "outputs": [],
      "source": [
        "# Data class\n",
        "class Data(torch.utils.data.Dataset):\n",
        "  def __init__(self, src_file, start=None, end=None):\n",
        "    df = pd.read_csv(src_file)\n",
        "    Tsa_k1 = np.array(df['supply_discharge_temp']).reshape(-1,1)[start+1: end+1]\n",
        "    Tz_k   = np.array(df['room_temp']).reshape(-1,1)[start: end]\n",
        "    msa_k1 = np.array(df['airflow_current']).reshape(-1,1)[start+1: end+1]\n",
        "\n",
        "    tmp_x_u = np.concatenate((Tz_k, msa_k1), axis=1)\n",
        "    tmp_y   = np.array(df['room_temp']).reshape(-1,1)[start+1: end+1]\n",
        "\n",
        "    self.x_m_data = torch.tensor(Tsa_k1, dtype=torch.float32)\n",
        "    self.x_u_data = torch.tensor(tmp_x_u, dtype=torch.float32)\n",
        "    self.y_data   = torch.tensor(tmp_y, dtype=torch.float32)\n",
        "\n",
        "  def __len__(self):\n",
        "    return len(self.y_data)\n",
        "\n",
        "  def __getitem__(self, idx):\n",
        "    if torch.is_tensor(idx):\n",
        "      idx = idx.tolist()\n",
        "    inp_m  = self.x_m_data[idx]\n",
        "    inp_u  = self.x_u_data[idx]\n",
        "    outp   = self.y_data[idx]\n",
        "    sample = {'inp_m':inp_m, 'inp_u':inp_u, 'outp':outp}\n",
        "    return sample"
      ]
    },
    {
      "cell_type": "code",
      "execution_count": 5,
      "metadata": {},
      "outputs": [],
      "source": [
        "# Early stopping function\n",
        "def early_stop(list, min_epochs, patience):\n",
        "    if(len(list) > min_epochs):\n",
        "        if(np.max(list[-patience:]) < 1.00001*np.max(list[0: -patience])):\n",
        "            return 1\n",
        "    return 0"
      ]
    },
    {
      "cell_type": "code",
      "execution_count": 6,
      "metadata": {
        "colab": {
          "base_uri": "https://localhost:8080/"
        },
        "id": "gebr4CnRLFBd",
        "outputId": "d74e7cd7-8dab-49a9-babc-e77577dd73b7"
      },
      "outputs": [],
      "source": [
        "# train function\n",
        "def train(net, train_ds, test_ds, lr=0.001, min_epochs=200, max_epochs=100000, patience=100, smooth=0):\n",
        "    loss_func  = torch.nn.MSELoss()\n",
        "    optimizer  = torch.optim.Adam(net.parameters(), lr=lr)\n",
        "\n",
        "    R2_test    = np.array([])\n",
        "    train_ldr = torch.utils.data.DataLoader(train_ds, batch_size=train_ds.y_data.shape[0], shuffle=True)\n",
        "    for _ in range(0, max_epochs+1):\n",
        "        net.train()\n",
        "        for (_, batch) in enumerate(train_ldr):\n",
        "            X_m = batch['inp_m']\n",
        "            X_u = batch['inp_u']\n",
        "            Y   = batch['outp']\n",
        "\n",
        "            optimizer.zero_grad()\n",
        "            output = net(X_m, X_u)\n",
        "            loss_val = loss_func(output, Y) + smooth*loss_func(output, X_u[:,0].reshape(-1,1))\n",
        "            loss_val.backward()\n",
        "            optimizer.step()\n",
        "\n",
        "        net.eval()\n",
        "        R2_test = np.append(R2_test, eval(net, test_ds))\n",
        "        \n",
        "        if(early_stop(list = R2_test, min_epochs = min_epochs, patience = patience) == 1):\n",
        "            break\n",
        "    \n",
        "    return R2_test"
      ]
    },
    {
      "cell_type": "code",
      "execution_count": 7,
      "metadata": {},
      "outputs": [
        {
          "name": "stdout",
          "output_type": "stream",
          "text": [
            "    n_train  smooth      lr  best_epoch          R2\n",
            "0      16.0   0.000  0.0001         3.0 -34958.1523\n",
            "1      16.0   0.000  0.0010         3.0 -10384.9629\n",
            "2      16.0   0.000  0.0100         3.0 -22169.9590\n",
            "3      16.0   0.000  0.1000         3.0   -812.5502\n",
            "4      16.0   0.000  0.2000         1.0   -579.7729\n",
            "5      16.0   0.000  0.5000         1.0  -1344.0801\n",
            "6      16.0   0.001  0.0001         3.0 -50409.7852\n",
            "7      16.0   0.001  0.0010         3.0  -6091.3198\n",
            "8      16.0   0.001  0.0100         3.0 -34343.2891\n",
            "9      16.0   0.001  0.1000         1.0   -243.4563\n",
            "10     16.0   0.001  0.2000         3.0  -1299.3234\n",
            "11     16.0   0.001  0.5000         2.0  -1865.8385\n",
            "12     16.0   0.010  0.0001         3.0  -1968.1769\n",
            "13     16.0   0.010  0.0010         0.0   -162.3411\n",
            "14     16.0   0.010  0.0100         3.0 -44349.7852\n",
            "15     16.0   0.010  0.1000         0.0   -165.1587\n",
            "16     16.0   0.010  0.2000         3.0    -54.1379\n",
            "17     16.0   0.010  0.5000         3.0   -318.4189\n",
            "18     32.0   0.000  0.0001         3.0 -36672.4453\n",
            "19     32.0   0.000  0.0010         3.0 -67363.3047\n",
            "20     32.0   0.000  0.0100         3.0 -15641.8740\n",
            "21     32.0   0.000  0.1000         3.0 -12074.7812\n",
            "22     32.0   0.000  0.2000         2.0   -636.4982\n",
            "23     32.0   0.000  0.5000         1.0  -5293.8203\n",
            "24     32.0   0.001  0.0001         3.0  -1029.7723\n",
            "25     32.0   0.001  0.0010         3.0 -77027.3047\n",
            "26     32.0   0.001  0.0100         3.0 -38586.6914\n",
            "27     32.0   0.001  0.1000         0.0    -46.4108\n",
            "28     32.0   0.001  0.2000         2.0   -295.4688\n",
            "29     32.0   0.001  0.5000         0.0   -200.7199\n",
            "30     32.0   0.010  0.0001         3.0 -26232.1152\n",
            "31     32.0   0.010  0.0010         3.0 -55661.2930\n",
            "32     32.0   0.010  0.0100         3.0 -30036.2109\n",
            "33     32.0   0.010  0.1000         3.0  -6217.4644\n",
            "34     32.0   0.010  0.2000         2.0   -567.0795\n",
            "35     32.0   0.010  0.5000         1.0   -354.4787\n",
            "36     64.0   0.000  0.0001         3.0 -16630.6230\n",
            "37     64.0   0.000  0.0010         3.0 -61938.0703\n",
            "38     64.0   0.000  0.0100         3.0 -17694.6719\n",
            "39     64.0   0.000  0.1000         3.0   -547.8423\n",
            "40     64.0   0.000  0.2000         1.0    -82.6646\n",
            "41     64.0   0.000  0.5000         0.0    -84.7912\n",
            "42     64.0   0.001  0.0001         3.0 -52265.9961\n",
            "43     64.0   0.001  0.0010         3.0  -1881.8337\n",
            "44     64.0   0.001  0.0100         3.0  -9146.0000\n",
            "45     64.0   0.001  0.1000         2.0    -57.4746\n",
            "46     64.0   0.001  0.2000         2.0   -136.1049\n",
            "47     64.0   0.001  0.5000         1.0   -217.0363\n",
            "48     64.0   0.010  0.0001         3.0 -87675.2734\n",
            "49     64.0   0.010  0.0010         3.0 -47219.0000\n",
            "50     64.0   0.010  0.0100         3.0 -19160.0684\n",
            "51     64.0   0.010  0.1000         0.0   -170.8488\n",
            "52     64.0   0.010  0.2000         1.0    -48.5818\n",
            "53     64.0   0.010  0.5000         1.0  -1441.1981\n",
            "54    128.0   0.000  0.0001         3.0   -414.5053\n",
            "55    128.0   0.000  0.0010         3.0  -6630.1372\n",
            "56    128.0   0.000  0.0100         3.0    -89.4949\n",
            "57    128.0   0.000  0.1000         2.0   -345.0961\n",
            "58    128.0   0.000  0.2000         2.0   -136.0098\n",
            "59    128.0   0.000  0.5000         2.0   -218.7639\n",
            "60    128.0   0.001  0.0001         3.0  -2852.1726\n",
            "61    128.0   0.001  0.0010         3.0 -18736.1094\n",
            "62    128.0   0.001  0.0100         3.0 -48043.2969\n",
            "63    128.0   0.001  0.1000         0.0    -47.1891\n",
            "64    128.0   0.001  0.2000         1.0   -553.5563\n",
            "65    128.0   0.001  0.5000         1.0  -1539.5417\n",
            "66    128.0   0.010  0.0001         3.0  -3204.1562\n",
            "67    128.0   0.010  0.0010         3.0  -5031.6304\n",
            "68    128.0   0.010  0.0100         3.0  -2913.9646\n",
            "69    128.0   0.010  0.1000         0.0   -104.4501\n",
            "70    128.0   0.010  0.2000         1.0   -131.1028\n",
            "71    128.0   0.010  0.5000         1.0   -164.3387\n"
          ]
        }
      ],
      "source": [
        "# main\n",
        "df_result = pd.DataFrame({'n_train':[], 'smooth':[], 'lr':[], 'best_epoch':[], 'R2':[]})\n",
        "for _n_train in [16, 32, 64, 128]:\n",
        "    for _smooth in [0, 0.001, 0.01]:\n",
        "        for _lr in [0.0001, 0.001, 0.01, 0.1, 0.2, 0.5]:\n",
        "\n",
        "            # Create network\n",
        "            device = torch.device(\"cpu\")\n",
        "            net = Net().to(device)\n",
        "\n",
        "            # Create Dataset and DataLoader objects\n",
        "            src_file = 'C:/Users/tln229/Downloads/Python/1. Building/data/HVAC_B90_102_exp_10m_20210424.csv'\n",
        "            n_train  = _n_train\n",
        "            train_ds = Data(src_file, start=0,       end=n_train)\n",
        "            test_ds  = Data(src_file, start=n_train, end=1600)\n",
        "\n",
        "            # train\n",
        "            R2_test = train(net, train_ds, test_ds, lr=_lr, min_epochs=1000, max_epochs=100000, patience=500, smooth=_smooth)\n",
        "\n",
        "            # results\n",
        "            df_result.loc[len(df_result)] = [_n_train, _smooth, _lr, np.argmax(R2_test), np.max(R2_test)]\n",
        "\n",
        "with pd.option_context('display.max_rows', None,\n",
        "                       'display.max_columns', None,\n",
        "                       'display.precision', 4,\n",
        "                       ):\n",
        "    print(df_result)"
      ]
    }
  ],
  "metadata": {
    "colab": {
      "collapsed_sections": [],
      "name": "3. T_z .ipynb",
      "provenance": []
    },
    "kernelspec": {
      "display_name": "Python 3.10.5 64-bit",
      "language": "python",
      "name": "python3"
    },
    "language_info": {
      "codemirror_mode": {
        "name": "ipython",
        "version": 3
      },
      "file_extension": ".py",
      "mimetype": "text/x-python",
      "name": "python",
      "nbconvert_exporter": "python",
      "pygments_lexer": "ipython3",
      "version": "3.10.5 (tags/v3.10.5:f377153, Jun  6 2022, 16:14:13) [MSC v.1929 64 bit (AMD64)]"
    },
    "vscode": {
      "interpreter": {
        "hash": "912d6611990680b3d240e982c9d50f3da4c776707cfd42695cf7d82c88d80956"
      }
    }
  },
  "nbformat": 4,
  "nbformat_minor": 0
}
