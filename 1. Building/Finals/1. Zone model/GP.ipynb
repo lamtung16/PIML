{
 "cells": [
  {
   "cell_type": "code",
   "execution_count": 1,
   "metadata": {},
   "outputs": [],
   "source": [
    "import torch\n",
    "import gpytorch as gp\n",
    "import pandas as pd\n",
    "import numpy as np\n",
    "from sklearn.metrics import r2_score\n",
    "\n",
    "torch.manual_seed(1)\n",
    "np.random.seed(1)"
   ]
  },
  {
   "cell_type": "code",
   "execution_count": 2,
   "metadata": {},
   "outputs": [],
   "source": [
    "df = pd.read_csv('C:/Users/tln229/Downloads/Python/1. Building/data/HVAC_B90_102_exp_10m_20210424.csv')"
   ]
  },
  {
   "cell_type": "code",
   "execution_count": 3,
   "metadata": {},
   "outputs": [],
   "source": [
    "class MyGPModel(gp.models.ExactGP):\n",
    "    def __init__(self, train_x, train_y, likelihood):\n",
    "        super(MyGPModel, self).__init__(train_x, train_y, likelihood)\n",
    "        self.mean_module  = gp.means.ZeroMean()\n",
    "        self.covar_module = gp.kernels.ScaleKernel(gp.kernels.RBFKernel())\n",
    "\n",
    "    def forward(self, x):\n",
    "        mean_x  = self.mean_module(x)\n",
    "        covar_x = self.covar_module(x)\n",
    "        return gp.distributions.MultivariateNormal(mean_x, covar_x)"
   ]
  },
  {
   "cell_type": "code",
   "execution_count": 4,
   "metadata": {},
   "outputs": [
    {
     "name": "stdout",
     "output_type": "stream",
     "text": [
      "    n_train   n_Xv           R2\n",
      "0      16.0  0.001 -1283.294200\n",
      "1      16.0  0.010 -1281.563575\n",
      "2      16.0  0.020 -1279.662236\n",
      "3      16.0  0.050 -1274.122384\n",
      "4      32.0  0.001 -1239.187475\n",
      "5      32.0  0.010 -1236.259084\n",
      "6      32.0  0.020 -1232.990758\n",
      "7      32.0  0.050 -1223.108125\n",
      "8      64.0  0.001 -1095.488178\n",
      "9      64.0  0.010 -1089.327534\n",
      "10     64.0  0.020 -1082.416208\n",
      "11     64.0  0.050 -1061.279450\n",
      "12    128.0  0.001  -920.900529\n",
      "13    128.0  0.010  -912.886671\n",
      "14    128.0  0.020  -903.953134\n",
      "15    128.0  0.050  -877.014404\n"
     ]
    }
   ],
   "source": [
    "df_result = pd.DataFrame({'n_train':[], 'lr':[], 'R2':[]})\n",
    "for n_train in ([16, 32, 64, 128]):\n",
    "    for lr in ([0.001, 0.01, 0.02, 0.05]):\n",
    "\n",
    "        # TRAIN SET\n",
    "        Tz_k   = np.array(df['room_temp']).reshape(-1,1)[0: n_train]\n",
    "        Tz_k1  = np.array(df['room_temp'])[1: n_train+1]\n",
    "        Tsa_k1 = np.array(df['supply_discharge_temp']).reshape(-1,1)[1: n_train+1]\n",
    "        msa_k1 = np.array(df['airflow_current']).reshape(-1,1)[1: n_train+1]\n",
    "        z      = ((msa_k1-400)/600)*(Tsa_k1-Tz_k)\n",
    "\n",
    "        # train_x = np.concatenate((Tz_k, Tsa_k1, msa_k1), axis=1)\n",
    "        train_x = np.concatenate((Tz_k, Tsa_k1, z), axis=1)\n",
    "        train_x = torch.tensor(train_x, dtype=torch.float32)\n",
    "        train_y = torch.tensor(Tz_k1, dtype=torch.float32)\n",
    "\n",
    "        # TEST SET\n",
    "        Tz_k   = np.array(df['room_temp']).reshape(-1,1)[n_train:1600]\n",
    "        Tz_k1  = np.array(df['room_temp'])[n_train+1:1600+1]\n",
    "        Tsa_k1 = np.array(df['supply_discharge_temp']).reshape(-1,1)[n_train+1: 1600+1]\n",
    "        msa_k1 = np.array(df['airflow_current']).reshape(-1,1)[n_train+1:1600+1]\n",
    "        z      = ((msa_k1-400)/600)*(Tsa_k1-Tz_k)\n",
    "\n",
    "        # test_x = np.concatenate((Tz_k, Tsa_k1, msa_k1), axis=1)\n",
    "        test_x = np.concatenate((Tz_k, Tsa_k1, z), axis=1)\n",
    "        test_x = torch.tensor(test_x, dtype=torch.float32)\n",
    "        test_y = torch.tensor(Tz_k1, dtype=torch.float32)\n",
    "\n",
    "        # initialize likelihood and model\n",
    "        likelihood = gp.likelihoods.GaussianLikelihood()\n",
    "        model      = MyGPModel(train_x, train_y, likelihood)\n",
    "\n",
    "        # Training\n",
    "        training_iter = 200000    # number of training iteration\n",
    "\n",
    "        optimizer = torch.optim.Adam(model.parameters(), lr=lr)       # optimizer\n",
    "        mll = gp.mlls.ExactMarginalLogLikelihood(likelihood, model)   # marginal likelihood\n",
    "\n",
    "        R2_test = np.array([], dtype=np.float32)\n",
    "        for i in range(training_iter+1):\n",
    "            # TRAIN\n",
    "            model.train()                   # find the hyperparameters\n",
    "            likelihood.train()\n",
    "\n",
    "            optimizer.zero_grad()           # Zero gradients from previous iteration\n",
    "            output = model(train_x)         # Output from model\n",
    "            loss   = -mll(output, train_y)  # Calc loss and backprop gradients\n",
    "\n",
    "            loss.backward()\n",
    "            optimizer.step()\n",
    "            \n",
    "            # EVAL\n",
    "            model.eval()\n",
    "            likelihood.eval()\n",
    "\n",
    "            with torch.no_grad(), gp.settings.fast_pred_var():\n",
    "                pred_y = likelihood(model(test_x))\n",
    "\n",
    "            r2 = r2_score(test_y.numpy(), pred_y.mean.numpy())\n",
    "            R2_test = np.append(R2_test, r2)\n",
    "        \n",
    "        df_result.loc[len(df_result)] = [n_train, lr, np.max(R2_test)]\n",
    "\n",
    "with pd.option_context('display.max_rows', None,\n",
    "                       'display.max_columns', None,\n",
    "                       'display.precision', 4,\n",
    "                       ):\n",
    "    print(df_result)"
   ]
  }
 ],
 "metadata": {
  "kernelspec": {
   "display_name": "Python 3.10.5 64-bit",
   "language": "python",
   "name": "python3"
  },
  "language_info": {
   "codemirror_mode": {
    "name": "ipython",
    "version": 3
   },
   "file_extension": ".py",
   "mimetype": "text/x-python",
   "name": "python",
   "nbconvert_exporter": "python",
   "pygments_lexer": "ipython3",
   "version": "3.10.5 (tags/v3.10.5:f377153, Jun  6 2022, 16:14:13) [MSC v.1929 64 bit (AMD64)]"
  },
  "orig_nbformat": 4,
  "vscode": {
   "interpreter": {
    "hash": "912d6611990680b3d240e982c9d50f3da4c776707cfd42695cf7d82c88d80956"
   }
  }
 },
 "nbformat": 4,
 "nbformat_minor": 2
}
