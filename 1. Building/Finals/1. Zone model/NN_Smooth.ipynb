{
  "cells": [
    {
      "cell_type": "code",
      "execution_count": 1,
      "metadata": {
        "id": "jzH_LbEIGLWu"
      },
      "outputs": [],
      "source": [
        "# library\n",
        "import torch\n",
        "import numpy as np\n",
        "import pandas as pd\n",
        "from torchmetrics import R2Score\n",
        "\n",
        "r2score = R2Score()\n",
        "\n",
        "torch.manual_seed(1)\n",
        "np.random.seed(1)"
      ]
    },
    {
      "cell_type": "code",
      "execution_count": 2,
      "metadata": {
        "id": "Y3eaKBL2GhJI"
      },
      "outputs": [],
      "source": [
        "# Model\n",
        "class Net(torch.nn.Module):\n",
        "  def __init__(self, h1, h2):\n",
        "    super(Net, self).__init__()\n",
        "    self.input   = torch.nn.Linear(3, h1)\n",
        "    self.hidden1 = torch.nn.Linear(h1, h2)\n",
        "    self.output  = torch.nn.Linear(h2, 1)\n",
        "\n",
        "  def forward(self, x):\n",
        "    z = torch.selu(self.input(x))\n",
        "    z = torch.selu(self.hidden1(z))\n",
        "    z = torch.relu(self.output(z))\n",
        "    return z"
      ]
    },
    {
      "cell_type": "code",
      "execution_count": 3,
      "metadata": {
        "id": "BtNtb3epPIzJ"
      },
      "outputs": [],
      "source": [
        "# Model evaluation\n",
        "def eval(model, testset):\n",
        "    with torch.no_grad():\n",
        "        pred_Y = model(testset.x_data)\n",
        "    \n",
        "    r2 = r2score(pred_Y, testset.y_data)\n",
        "    return r2.item()"
      ]
    },
    {
      "cell_type": "code",
      "execution_count": 4,
      "metadata": {
        "id": "dTWtNEdVHCuw"
      },
      "outputs": [],
      "source": [
        "# Data class\n",
        "class Data(torch.utils.data.Dataset):\n",
        "  def __init__(self, src_file, start=None, end=None):\n",
        "    df = pd.read_csv(src_file)\n",
        "    Tz_k   = np.array(df['room_temp']).reshape(-1,1)[start: end]\n",
        "    Tsa_k1 = np.array(df['supply_discharge_temp']).reshape(-1,1)[start+1: end+1]\n",
        "    msa_k1 = np.array(df['airflow_current']).reshape(-1,1)[start+1: end+1]\n",
        "\n",
        "    tmp_x = np.concatenate((Tz_k, Tsa_k1, msa_k1), axis=1)\n",
        "    tmp_y = np.array(df['room_temp']).reshape(-1,1)[start+1: end+1]\n",
        "\n",
        "    self.x_data = torch.tensor(tmp_x, dtype=torch.float32)\n",
        "    self.y_data = torch.tensor(tmp_y, dtype=torch.float32)\n",
        "\n",
        "  def __len__(self):\n",
        "    return len(self.x_data)\n",
        "\n",
        "  def __getitem__(self, idx):\n",
        "    if torch.is_tensor(idx):\n",
        "      idx = idx.tolist()\n",
        "    inp  = self.x_data[idx]\n",
        "    outp = self.y_data[idx]\n",
        "    sample = {'inp':inp, 'outp':outp}\n",
        "    return sample"
      ]
    },
    {
      "cell_type": "code",
      "execution_count": 5,
      "metadata": {},
      "outputs": [],
      "source": [
        "# Early stopping function\n",
        "def early_stop(list, min_epochs, patience):\n",
        "    if(len(list) > min_epochs):\n",
        "        if(np.max(list[-patience:]) < 1.00001*np.max(list[0: -patience])):\n",
        "            return 1\n",
        "    return 0"
      ]
    },
    {
      "cell_type": "code",
      "execution_count": 6,
      "metadata": {
        "colab": {
          "base_uri": "https://localhost:8080/"
        },
        "id": "gebr4CnRLFBd",
        "outputId": "d74e7cd7-8dab-49a9-babc-e77577dd73b7"
      },
      "outputs": [],
      "source": [
        "# train function\n",
        "def train(net, train_ds, test_ds, lr=0.001, min_epochs=200, max_epochs=100000, patience=100, smooth=0):\n",
        "    loss_func  = torch.nn.MSELoss()\n",
        "    optimizer  = torch.optim.Adam(net.parameters(), lr=lr)\n",
        "\n",
        "    R2_test = np.array([])\n",
        "    train_ldr = torch.utils.data.DataLoader(train_ds, batch_size=train_ds.y_data.shape[0], shuffle=True)\n",
        "    for _ in range(0, max_epochs+1):\n",
        "        net.train()\n",
        "        for (_, batch) in enumerate(train_ldr):\n",
        "            X = batch['inp']\n",
        "            Y = batch['outp']\n",
        "\n",
        "            optimizer.zero_grad()\n",
        "            output = net(X)\n",
        "            loss_val = loss_func(output, Y) + smooth*loss_func(output, X[:,0].reshape(-1,1))\n",
        "            loss_val.backward()\n",
        "            optimizer.step()\n",
        "\n",
        "        net.eval()\n",
        "        R2_test = np.append(R2_test, eval(net, test_ds))\n",
        "        \n",
        "        if(early_stop(list = R2_test, min_epochs = min_epochs, patience = patience) == 1):\n",
        "            break\n",
        "    \n",
        "    return R2_test"
      ]
    },
    {
      "cell_type": "code",
      "execution_count": 7,
      "metadata": {},
      "outputs": [
        {
          "name": "stdout",
          "output_type": "stream",
          "text": [
            "n train =  16 \t smooth = 0.0000 \t layer size =  3 \t lr = 0.0001 \t best_epoch =  1231 \t best_R2 = -119.48586\n",
            "n train =  16 \t smooth = 0.0000 \t layer size =  3 \t lr = 0.0010 \t best_epoch =     0 \t best_R2 = -1524.05518\n",
            "n train =  16 \t smooth = 0.0000 \t layer size =  3 \t lr = 0.0100 \t best_epoch =     5 \t best_R2 = -162.53250\n",
            "n train =  16 \t smooth = 0.0000 \t layer size =  4 \t lr = 0.0001 \t best_epoch =  1153 \t best_R2 = -134.11555\n",
            "n train =  16 \t smooth = 0.0000 \t layer size =  4 \t lr = 0.0010 \t best_epoch =   153 \t best_R2 = -108.58710\n",
            "n train =  16 \t smooth = 0.0000 \t layer size =  4 \t lr = 0.0100 \t best_epoch = 20468 \t best_R2 = -1.05276\n",
            "n train =  16 \t smooth = 0.0000 \t layer size = 16 \t lr = 0.0001 \t best_epoch =     0 \t best_R2 = -1524.05518\n",
            "n train =  16 \t smooth = 0.0000 \t layer size = 16 \t lr = 0.0010 \t best_epoch =     0 \t best_R2 = -1524.05518\n",
            "n train =  16 \t smooth = 0.0000 \t layer size = 16 \t lr = 0.0100 \t best_epoch =     0 \t best_R2 = -1524.05518\n",
            "n train =  16 \t smooth = 0.0010 \t layer size =  3 \t lr = 0.0001 \t best_epoch =     0 \t best_R2 = -1524.05518\n",
            "n train =  16 \t smooth = 0.0010 \t layer size =  3 \t lr = 0.0010 \t best_epoch =     0 \t best_R2 = -154.49593\n",
            "n train =  16 \t smooth = 0.0010 \t layer size =  3 \t lr = 0.0100 \t best_epoch =     0 \t best_R2 = -1524.05518\n",
            "n train =  16 \t smooth = 0.0010 \t layer size =  4 \t lr = 0.0001 \t best_epoch =     0 \t best_R2 = -1524.05518\n",
            "n train =  16 \t smooth = 0.0010 \t layer size =  4 \t lr = 0.0010 \t best_epoch =    65 \t best_R2 = -113.69289\n",
            "n train =  16 \t smooth = 0.0010 \t layer size =  4 \t lr = 0.0100 \t best_epoch =     0 \t best_R2 = -1524.05518\n",
            "n train =  16 \t smooth = 0.0010 \t layer size = 16 \t lr = 0.0001 \t best_epoch =   110 \t best_R2 = -111.06771\n",
            "n train =  16 \t smooth = 0.0010 \t layer size = 16 \t lr = 0.0010 \t best_epoch =    10 \t best_R2 = -135.24022\n",
            "n train =  16 \t smooth = 0.0010 \t layer size = 16 \t lr = 0.0100 \t best_epoch =     0 \t best_R2 = -1524.05518\n",
            "n train =  16 \t smooth = 0.0100 \t layer size =  3 \t lr = 0.0001 \t best_epoch =     0 \t best_R2 = -1524.05518\n",
            "n train =  16 \t smooth = 0.0100 \t layer size =  3 \t lr = 0.0010 \t best_epoch =     0 \t best_R2 = -1524.05518\n",
            "n train =  16 \t smooth = 0.0100 \t layer size =  3 \t lr = 0.0100 \t best_epoch =   260 \t best_R2 = -1.01144\n",
            "n train =  16 \t smooth = 0.0100 \t layer size =  4 \t lr = 0.0001 \t best_epoch =     0 \t best_R2 = -1524.05518\n",
            "n train =  16 \t smooth = 0.0100 \t layer size =  4 \t lr = 0.0010 \t best_epoch =   129 \t best_R2 = -25.98211\n",
            "n train =  16 \t smooth = 0.0100 \t layer size =  4 \t lr = 0.0100 \t best_epoch =     7 \t best_R2 = -109.08452\n",
            "n train =  16 \t smooth = 0.0100 \t layer size = 16 \t lr = 0.0001 \t best_epoch =     0 \t best_R2 = -1524.05518\n",
            "n train =  16 \t smooth = 0.0100 \t layer size = 16 \t lr = 0.0010 \t best_epoch =     0 \t best_R2 = -1524.05518\n",
            "n train =  16 \t smooth = 0.0100 \t layer size = 16 \t lr = 0.0100 \t best_epoch =     3 \t best_R2 = -112.56059\n",
            "n train =  32 \t smooth = 0.0000 \t layer size =  3 \t lr = 0.0001 \t best_epoch =     0 \t best_R2 = -1533.69470\n",
            "n train =  32 \t smooth = 0.0000 \t layer size =  3 \t lr = 0.0010 \t best_epoch =     0 \t best_R2 = -1533.69470\n",
            "n train =  32 \t smooth = 0.0000 \t layer size =  3 \t lr = 0.0100 \t best_epoch =   467 \t best_R2 = -8.26386\n",
            "n train =  32 \t smooth = 0.0000 \t layer size =  4 \t lr = 0.0001 \t best_epoch =     0 \t best_R2 = -1533.69470\n",
            "n train =  32 \t smooth = 0.0000 \t layer size =  4 \t lr = 0.0010 \t best_epoch =   249 \t best_R2 = -109.78182\n",
            "n train =  32 \t smooth = 0.0000 \t layer size =  4 \t lr = 0.0100 \t best_epoch =    13 \t best_R2 = -124.12406\n",
            "n train =  32 \t smooth = 0.0000 \t layer size = 16 \t lr = 0.0001 \t best_epoch =    93 \t best_R2 = -130.53947\n",
            "n train =  32 \t smooth = 0.0000 \t layer size = 16 \t lr = 0.0010 \t best_epoch =  1352 \t best_R2 = -4.53917\n",
            "n train =  32 \t smooth = 0.0000 \t layer size = 16 \t lr = 0.0100 \t best_epoch =     0 \t best_R2 = -1533.69470\n",
            "n train =  32 \t smooth = 0.0010 \t layer size =  3 \t lr = 0.0001 \t best_epoch =  7059 \t best_R2 = -3.35540\n",
            "n train =  32 \t smooth = 0.0010 \t layer size =  3 \t lr = 0.0010 \t best_epoch =   105 \t best_R2 = -84.25571\n",
            "n train =  32 \t smooth = 0.0010 \t layer size =  3 \t lr = 0.0100 \t best_epoch = 20982 \t best_R2 = -1.33178\n",
            "n train =  32 \t smooth = 0.0010 \t layer size =  4 \t lr = 0.0001 \t best_epoch =   227 \t best_R2 = -151.82632\n",
            "n train =  32 \t smooth = 0.0010 \t layer size =  4 \t lr = 0.0010 \t best_epoch =    44 \t best_R2 = -150.79424\n",
            "n train =  32 \t smooth = 0.0010 \t layer size =  4 \t lr = 0.0100 \t best_epoch =     0 \t best_R2 = -1533.69470\n",
            "n train =  32 \t smooth = 0.0010 \t layer size = 16 \t lr = 0.0001 \t best_epoch =     0 \t best_R2 = -1533.69470\n",
            "n train =  32 \t smooth = 0.0010 \t layer size = 16 \t lr = 0.0010 \t best_epoch =  2280 \t best_R2 = 0.33982\n",
            "n train =  32 \t smooth = 0.0010 \t layer size = 16 \t lr = 0.0100 \t best_epoch =   768 \t best_R2 = 0.09830\n",
            "n train =  32 \t smooth = 0.0100 \t layer size =  3 \t lr = 0.0001 \t best_epoch =  1206 \t best_R2 = -115.55991\n",
            "n train =  32 \t smooth = 0.0100 \t layer size =  3 \t lr = 0.0010 \t best_epoch =    46 \t best_R2 = -121.31609\n",
            "n train =  32 \t smooth = 0.0100 \t layer size =  3 \t lr = 0.0100 \t best_epoch =  4872 \t best_R2 = 0.98288\n",
            "n train =  32 \t smooth = 0.0100 \t layer size =  4 \t lr = 0.0001 \t best_epoch =     0 \t best_R2 = -178.58447\n",
            "n train =  32 \t smooth = 0.0100 \t layer size =  4 \t lr = 0.0010 \t best_epoch =     0 \t best_R2 = -1533.69470\n",
            "n train =  32 \t smooth = 0.0100 \t layer size =  4 \t lr = 0.0100 \t best_epoch =   385 \t best_R2 = 0.97620\n",
            "n train =  32 \t smooth = 0.0100 \t layer size = 16 \t lr = 0.0001 \t best_epoch =     0 \t best_R2 = -1533.69470\n",
            "n train =  32 \t smooth = 0.0100 \t layer size = 16 \t lr = 0.0010 \t best_epoch =     0 \t best_R2 = -1533.69470\n",
            "n train =  32 \t smooth = 0.0100 \t layer size = 16 \t lr = 0.0100 \t best_epoch =     0 \t best_R2 = -1533.69470\n",
            "n train =  64 \t smooth = 0.0000 \t layer size =  3 \t lr = 0.0001 \t best_epoch = 49191 \t best_R2 = -0.36695\n",
            "n train =  64 \t smooth = 0.0000 \t layer size =  3 \t lr = 0.0010 \t best_epoch =     0 \t best_R2 = -1507.49683\n",
            "n train =  64 \t smooth = 0.0000 \t layer size =  3 \t lr = 0.0100 \t best_epoch =     0 \t best_R2 = -1507.49683\n",
            "n train =  64 \t smooth = 0.0000 \t layer size =  4 \t lr = 0.0001 \t best_epoch = 14865 \t best_R2 = 0.99833\n",
            "n train =  64 \t smooth = 0.0000 \t layer size =  4 \t lr = 0.0010 \t best_epoch =  6885 \t best_R2 = 0.98847\n",
            "n train =  64 \t smooth = 0.0000 \t layer size =  4 \t lr = 0.0100 \t best_epoch =   799 \t best_R2 = 0.99754\n",
            "n train =  64 \t smooth = 0.0000 \t layer size = 16 \t lr = 0.0001 \t best_epoch =  8786 \t best_R2 = 0.99059\n",
            "n train =  64 \t smooth = 0.0000 \t layer size = 16 \t lr = 0.0010 \t best_epoch =  1340 \t best_R2 = 0.99621\n",
            "n train =  64 \t smooth = 0.0000 \t layer size = 16 \t lr = 0.0100 \t best_epoch =     0 \t best_R2 = -1507.49683\n",
            "n train =  64 \t smooth = 0.0010 \t layer size =  3 \t lr = 0.0001 \t best_epoch = 10773 \t best_R2 = -2.26332\n",
            "n train =  64 \t smooth = 0.0010 \t layer size =  3 \t lr = 0.0010 \t best_epoch =     0 \t best_R2 = -1507.49683\n",
            "n train =  64 \t smooth = 0.0010 \t layer size =  3 \t lr = 0.0100 \t best_epoch =   609 \t best_R2 = 0.99834\n",
            "n train =  64 \t smooth = 0.0010 \t layer size =  4 \t lr = 0.0001 \t best_epoch = 14157 \t best_R2 = 0.99752\n",
            "n train =  64 \t smooth = 0.0010 \t layer size =  4 \t lr = 0.0010 \t best_epoch =     0 \t best_R2 = -1507.49683\n",
            "n train =  64 \t smooth = 0.0010 \t layer size =  4 \t lr = 0.0100 \t best_epoch =   982 \t best_R2 = 0.99430\n",
            "n train =  64 \t smooth = 0.0010 \t layer size = 16 \t lr = 0.0001 \t best_epoch =     0 \t best_R2 = -1507.49683\n",
            "n train =  64 \t smooth = 0.0010 \t layer size = 16 \t lr = 0.0010 \t best_epoch =  6166 \t best_R2 = 0.93420\n",
            "n train =  64 \t smooth = 0.0010 \t layer size = 16 \t lr = 0.0100 \t best_epoch =   980 \t best_R2 = 0.98993\n",
            "n train =  64 \t smooth = 0.0100 \t layer size =  3 \t lr = 0.0001 \t best_epoch = 15679 \t best_R2 = 0.95543\n",
            "n train =  64 \t smooth = 0.0100 \t layer size =  3 \t lr = 0.0010 \t best_epoch =  5244 \t best_R2 = 0.99786\n",
            "n train =  64 \t smooth = 0.0100 \t layer size =  3 \t lr = 0.0100 \t best_epoch =   234 \t best_R2 = -0.08853\n",
            "n train =  64 \t smooth = 0.0100 \t layer size =  4 \t lr = 0.0001 \t best_epoch = 13379 \t best_R2 = 0.97709\n",
            "n train =  64 \t smooth = 0.0100 \t layer size =  4 \t lr = 0.0010 \t best_epoch =  5624 \t best_R2 = 0.99289\n",
            "n train =  64 \t smooth = 0.0100 \t layer size =  4 \t lr = 0.0100 \t best_epoch =   213 \t best_R2 = -0.25331\n",
            "n train =  64 \t smooth = 0.0100 \t layer size = 16 \t lr = 0.0001 \t best_epoch = 11250 \t best_R2 = 0.97652\n",
            "n train =  64 \t smooth = 0.0100 \t layer size = 16 \t lr = 0.0010 \t best_epoch =     0 \t best_R2 = -1507.49683\n",
            "n train =  64 \t smooth = 0.0100 \t layer size = 16 \t lr = 0.0100 \t best_epoch =  2777 \t best_R2 = 0.93730\n",
            "n train = 128 \t smooth = 0.0000 \t layer size =  3 \t lr = 0.0001 \t best_epoch =     0 \t best_R2 = -1514.83618\n",
            "n train = 128 \t smooth = 0.0000 \t layer size =  3 \t lr = 0.0010 \t best_epoch =     0 \t best_R2 = -1514.83618\n",
            "n train = 128 \t smooth = 0.0000 \t layer size =  3 \t lr = 0.0100 \t best_epoch =  2562 \t best_R2 = -0.00013\n",
            "n train = 128 \t smooth = 0.0000 \t layer size =  4 \t lr = 0.0001 \t best_epoch = 22035 \t best_R2 = 0.98946\n",
            "n train = 128 \t smooth = 0.0000 \t layer size =  4 \t lr = 0.0010 \t best_epoch =     0 \t best_R2 = -1514.83618\n",
            "n train = 128 \t smooth = 0.0000 \t layer size =  4 \t lr = 0.0100 \t best_epoch =     0 \t best_R2 = -1514.83618\n",
            "n train = 128 \t smooth = 0.0000 \t layer size = 16 \t lr = 0.0001 \t best_epoch =     0 \t best_R2 = -1514.83618\n",
            "n train = 128 \t smooth = 0.0000 \t layer size = 16 \t lr = 0.0010 \t best_epoch =  4274 \t best_R2 = 0.98971\n",
            "n train = 128 \t smooth = 0.0000 \t layer size = 16 \t lr = 0.0100 \t best_epoch =   767 \t best_R2 = 0.98832\n",
            "n train = 128 \t smooth = 0.0010 \t layer size =  3 \t lr = 0.0001 \t best_epoch = 22620 \t best_R2 = -0.00013\n",
            "n train = 128 \t smooth = 0.0010 \t layer size =  3 \t lr = 0.0010 \t best_epoch =     0 \t best_R2 = -1514.83618\n",
            "n train = 128 \t smooth = 0.0010 \t layer size =  3 \t lr = 0.0100 \t best_epoch =     0 \t best_R2 = -1514.83618\n",
            "n train = 128 \t smooth = 0.0010 \t layer size =  4 \t lr = 0.0001 \t best_epoch =  1507 \t best_R2 = -87.21183\n",
            "n train = 128 \t smooth = 0.0010 \t layer size =  4 \t lr = 0.0010 \t best_epoch =  6716 \t best_R2 = 0.99042\n",
            "n train = 128 \t smooth = 0.0010 \t layer size =  4 \t lr = 0.0100 \t best_epoch =  1061 \t best_R2 = 0.98996\n",
            "n train = 128 \t smooth = 0.0010 \t layer size = 16 \t lr = 0.0001 \t best_epoch =     0 \t best_R2 = -1514.83618\n",
            "n train = 128 \t smooth = 0.0010 \t layer size = 16 \t lr = 0.0010 \t best_epoch =  3737 \t best_R2 = 0.97961\n",
            "n train = 128 \t smooth = 0.0010 \t layer size = 16 \t lr = 0.0100 \t best_epoch =     0 \t best_R2 = -1514.83618\n",
            "n train = 128 \t smooth = 0.0100 \t layer size =  3 \t lr = 0.0001 \t best_epoch =     0 \t best_R2 = -1514.83618\n",
            "n train = 128 \t smooth = 0.0100 \t layer size =  3 \t lr = 0.0010 \t best_epoch =     0 \t best_R2 = -1514.83618\n",
            "n train = 128 \t smooth = 0.0100 \t layer size =  3 \t lr = 0.0100 \t best_epoch =  1126 \t best_R2 = 0.99004\n",
            "n train = 128 \t smooth = 0.0100 \t layer size =  4 \t lr = 0.0001 \t best_epoch = 50000 \t best_R2 = -297.52933\n",
            "n train = 128 \t smooth = 0.0100 \t layer size =  4 \t lr = 0.0010 \t best_epoch =     0 \t best_R2 = -1514.83618\n",
            "n train = 128 \t smooth = 0.0100 \t layer size =  4 \t lr = 0.0100 \t best_epoch =     0 \t best_R2 = -1514.83618\n",
            "n train = 128 \t smooth = 0.0100 \t layer size = 16 \t lr = 0.0001 \t best_epoch =  9875 \t best_R2 = 0.96607\n",
            "n train = 128 \t smooth = 0.0100 \t layer size = 16 \t lr = 0.0010 \t best_epoch =     0 \t best_R2 = -1514.83618\n",
            "n train = 128 \t smooth = 0.0100 \t layer size = 16 \t lr = 0.0100 \t best_epoch =     0 \t best_R2 = -1514.83618\n"
          ]
        }
      ],
      "source": [
        "# main\n",
        "for _n_train in [16, 32, 64, 128]:\n",
        "    for _smooth in [0, 0.001, 0.01]:\n",
        "        for h in [3, 4, 16]:\n",
        "            for _lr in [0.0001, 0.001, 0.01]:\n",
        "\n",
        "                # Create network\n",
        "                device = torch.device(\"cpu\")\n",
        "                net = Net(h, h).to(device)\n",
        "\n",
        "                # Create Dataset and DataLoader objects\n",
        "                src_file = 'C:/Users/tln229/Downloads/Python/1. Building/data/HVAC_B90_102_exp_10m_20210424.csv'\n",
        "                n_train  = _n_train\n",
        "                train_ds = Data(src_file, start=0,       end=n_train)\n",
        "                test_ds  = Data(src_file, start=n_train, end=1600)\n",
        "\n",
        "                # train\n",
        "                R2_test = train(net, train_ds, test_ds, lr=_lr, min_epochs=300, max_epochs=50000, patience=200, smooth=_smooth)\n",
        "\n",
        "                # results\n",
        "                print('n train = %3d \\t smooth = %6.4f \\t layer size = %2d \\t lr = %6.4f \\t best_epoch = %5d \\t best_R2 = %7.5f'\n",
        "                    % (_n_train, _smooth, h, _lr, np.argmax(R2_test), np.max(R2_test)))"
      ]
    }
  ],
  "metadata": {
    "colab": {
      "collapsed_sections": [],
      "name": "3. T_z .ipynb",
      "provenance": []
    },
    "kernelspec": {
      "display_name": "Python 3.10.5 64-bit",
      "language": "python",
      "name": "python3"
    },
    "language_info": {
      "codemirror_mode": {
        "name": "ipython",
        "version": 3
      },
      "file_extension": ".py",
      "mimetype": "text/x-python",
      "name": "python",
      "nbconvert_exporter": "python",
      "pygments_lexer": "ipython3",
      "version": "3.10.5"
    },
    "vscode": {
      "interpreter": {
        "hash": "912d6611990680b3d240e982c9d50f3da4c776707cfd42695cf7d82c88d80956"
      }
    }
  },
  "nbformat": 4,
  "nbformat_minor": 0
}
