{
  "cells": [
    {
      "cell_type": "code",
      "execution_count": 1,
      "metadata": {
        "id": "jzH_LbEIGLWu"
      },
      "outputs": [],
      "source": [
        "# library\n",
        "import torch\n",
        "import numpy as np\n",
        "import pandas as pd\n",
        "from torchmetrics import R2Score\n",
        "\n",
        "r2score = R2Score()\n",
        "\n",
        "torch.manual_seed(1)\n",
        "np.random.seed(1)"
      ]
    },
    {
      "cell_type": "code",
      "execution_count": 2,
      "metadata": {
        "id": "Y3eaKBL2GhJI"
      },
      "outputs": [],
      "source": [
        "# Model\n",
        "class Net(torch.nn.Module):\n",
        "  def __init__(self, h1, h2):\n",
        "    super(Net, self).__init__()\n",
        "    self.input   = torch.nn.Linear(4, h1)\n",
        "    self.hidden1 = torch.nn.Linear(h1, h2)\n",
        "    self.output  = torch.nn.Linear(h2, 1)\n",
        "\n",
        "  def forward(self, x):\n",
        "    z = torch.selu(self.input(x))\n",
        "    z = torch.selu(self.hidden1(z))\n",
        "    z = torch.relu(self.output(z))\n",
        "    return z"
      ]
    },
    {
      "cell_type": "code",
      "execution_count": 3,
      "metadata": {
        "id": "BtNtb3epPIzJ"
      },
      "outputs": [],
      "source": [
        "# Model evaluation\n",
        "def eval(model, testset):\n",
        "    with torch.no_grad():\n",
        "        pred_Y = model(testset.x_data)\n",
        "    \n",
        "    r2 = r2score(pred_Y, testset.y_data)\n",
        "    return r2.item()"
      ]
    },
    {
      "cell_type": "code",
      "execution_count": 4,
      "metadata": {
        "id": "dTWtNEdVHCuw"
      },
      "outputs": [],
      "source": [
        "# Data class\n",
        "class Data(torch.utils.data.Dataset):\n",
        "  def __init__(self, src_file, start=None, end=None):\n",
        "    df = pd.read_csv(src_file)\n",
        "    Tz_k   = np.array(df['room_temp']).reshape(-1,1)[start: end]\n",
        "    To_k   = np.array(df['thermostat_outside_temp']).reshape(-1,1)[start: end]\n",
        "    Tsa_k1 = np.array(df['supply_discharge_temp']).reshape(-1,1)[start+1: end+1]\n",
        "    msa_k1 = np.array(df['airflow_current']).reshape(-1,1)[start+1: end+1]\n",
        "\n",
        "    tmp_x = np.concatenate((Tz_k, Tsa_k1, msa_k1, To_k), axis=1)\n",
        "    tmp_y = np.array(df['room_temp']).reshape(-1,1)[start+1: end+1]\n",
        "\n",
        "    self.x_data = torch.tensor(tmp_x, dtype=torch.float32)\n",
        "    self.y_data = torch.tensor(tmp_y, dtype=torch.float32)\n",
        "\n",
        "  def __len__(self):\n",
        "    return len(self.x_data)\n",
        "\n",
        "  def __getitem__(self, idx):\n",
        "    if torch.is_tensor(idx):\n",
        "      idx = idx.tolist()\n",
        "    inp  = self.x_data[idx]\n",
        "    outp = self.y_data[idx]\n",
        "    sample = {'inp':inp, 'outp':outp}\n",
        "    return sample"
      ]
    },
    {
      "cell_type": "code",
      "execution_count": 5,
      "metadata": {},
      "outputs": [],
      "source": [
        "# Early stopping function\n",
        "def early_stop(list, min_epochs, patience):\n",
        "    if(len(list) > min_epochs):\n",
        "        if(np.max(list[-patience:]) < 1.00001*np.max(list[0: -patience])):\n",
        "            return 1\n",
        "    return 0"
      ]
    },
    {
      "cell_type": "code",
      "execution_count": 6,
      "metadata": {
        "colab": {
          "base_uri": "https://localhost:8080/"
        },
        "id": "gebr4CnRLFBd",
        "outputId": "d74e7cd7-8dab-49a9-babc-e77577dd73b7"
      },
      "outputs": [],
      "source": [
        "# train function\n",
        "def train(net, train_ds, test_ds, lr=0.001, min_epochs=200, max_epochs=100000, patience=100, smooth=0):\n",
        "    loss_func  = torch.nn.MSELoss()\n",
        "    optimizer  = torch.optim.Adam(net.parameters(), lr=lr)\n",
        "\n",
        "    R2_test = np.array([])\n",
        "    train_ldr = torch.utils.data.DataLoader(train_ds, batch_size=train_ds.y_data.shape[0], shuffle=True)\n",
        "    for _ in range(0, max_epochs+1):\n",
        "        net.train()\n",
        "        for (_, batch) in enumerate(train_ldr):\n",
        "            X = batch['inp']\n",
        "            Y = batch['outp']\n",
        "\n",
        "            optimizer.zero_grad()\n",
        "            output = net(X)\n",
        "            loss_val = loss_func(output, Y) + smooth*loss_func(output, X[:,0].reshape(-1,1))\n",
        "            loss_val.backward()\n",
        "            optimizer.step()\n",
        "\n",
        "        net.eval()\n",
        "        R2_test = np.append(R2_test, eval(net, test_ds))\n",
        "        \n",
        "        if(early_stop(list = R2_test, min_epochs = min_epochs, patience = patience) == 1):\n",
        "            break\n",
        "    \n",
        "    return R2_test"
      ]
    },
    {
      "cell_type": "code",
      "execution_count": 7,
      "metadata": {},
      "outputs": [
        {
          "name": "stdout",
          "output_type": "stream",
          "text": [
            "    n_train  smooth  size      lr  best_epoch         R2\n",
            "0      32.0   0.000   3.0  0.0001     50000.0  -166.2358\n",
            "1      32.0   0.000   3.0  0.0010     30303.0    -1.3908\n",
            "2      32.0   0.000   3.0  0.0100        26.0  -705.1038\n",
            "3      32.0   0.000   4.0  0.0001         0.0 -3502.1887\n",
            "4      32.0   0.000   4.0  0.0010      9003.0 -2190.3589\n",
            "5      32.0   0.000   4.0  0.0100        33.0  -893.6959\n",
            "6      32.0   0.000  16.0  0.0001         0.0 -3414.8950\n",
            "7      32.0   0.000  16.0  0.0010        59.0 -1534.2089\n",
            "8      32.0   0.000  16.0  0.0100         0.0 -3532.0686\n",
            "9      32.0   0.001   3.0  0.0001         0.0 -3532.0686\n",
            "10     32.0   0.001   3.0  0.0010       138.0 -1401.3529\n",
            "11     32.0   0.001   3.0  0.0100         0.0 -3532.0686\n",
            "12     32.0   0.001   4.0  0.0001         0.0 -3532.0686\n",
            "13     32.0   0.001   4.0  0.0010         0.0 -1778.8580\n",
            "14     32.0   0.001   4.0  0.0100        31.0 -1213.1057\n",
            "15     32.0   0.001  16.0  0.0001     49860.0  -103.1757\n",
            "16     32.0   0.001  16.0  0.0010         0.0 -3532.0686\n",
            "17     32.0   0.001  16.0  0.0100         4.0 -1479.8877\n",
            "18     32.0   0.010   3.0  0.0001         0.0 -3532.0686\n",
            "19     32.0   0.010   3.0  0.0010         0.0 -3532.0686\n",
            "20     32.0   0.010   3.0  0.0100         0.0 -3201.3650\n",
            "21     32.0   0.010   4.0  0.0001         0.0 -3388.6750\n",
            "22     32.0   0.010   4.0  0.0010        30.0 -1892.5278\n",
            "23     32.0   0.010   4.0  0.0100         0.0 -3532.0095\n",
            "24     32.0   0.010  16.0  0.0001     16437.0  -937.0048\n",
            "25     32.0   0.010  16.0  0.0010        57.0 -2279.6567\n",
            "26     32.0   0.010  16.0  0.0100         4.0 -1811.1891\n",
            "27     64.0   0.000   3.0  0.0001     15649.0   -36.2064\n",
            "28     64.0   0.000   3.0  0.0010         0.0 -3555.2620\n",
            "29     64.0   0.000   3.0  0.0100       347.0   -16.7998\n",
            "30     64.0   0.000   4.0  0.0001      3106.0   -38.7856\n",
            "31     64.0   0.000   4.0  0.0010      2348.0  -102.0476\n",
            "32     64.0   0.000   4.0  0.0100        24.0   -54.2974\n",
            "33     64.0   0.000  16.0  0.0001      1816.0   -68.9839\n",
            "34     64.0   0.000  16.0  0.0010       100.0   -34.2485\n",
            "35     64.0   0.000  16.0  0.0100         0.0 -3555.2620\n",
            "36     64.0   0.001   3.0  0.0001      4178.0  -579.1687\n",
            "37     64.0   0.001   3.0  0.0010      2195.0   -19.5612\n",
            "38     64.0   0.001   3.0  0.0100        85.0   -81.6246\n",
            "39     64.0   0.001   4.0  0.0001         0.0 -3555.2620\n",
            "40     64.0   0.001   4.0  0.0010       279.0   -34.3900\n",
            "41     64.0   0.001   4.0  0.0100         0.0 -3541.8232\n",
            "42     64.0   0.001  16.0  0.0001         0.0 -3555.2620\n",
            "43     64.0   0.001  16.0  0.0010       161.0   -48.9774\n",
            "44     64.0   0.001  16.0  0.0100        54.0   -43.5013\n",
            "45     64.0   0.010   3.0  0.0001      4408.0   -22.9672\n",
            "46     64.0   0.010   3.0  0.0010       987.0   -26.4389\n",
            "47     64.0   0.010   3.0  0.0100     13601.0  -506.4058\n",
            "48     64.0   0.010   4.0  0.0001      3963.0   -37.8533\n",
            "49     64.0   0.010   4.0  0.0010         0.0 -3555.2234\n",
            "50     64.0   0.010   4.0  0.0100         0.0 -3555.2620\n",
            "51     64.0   0.010  16.0  0.0001      1470.0   -58.9828\n",
            "52     64.0   0.010  16.0  0.0010       144.0   -22.7914\n",
            "53     64.0   0.010  16.0  0.0100         0.0 -3555.2620\n",
            "54    128.0   0.000   3.0  0.0001      3686.0   -75.6136\n",
            "55    128.0   0.000   3.0  0.0010       150.0   -15.9183\n",
            "56    128.0   0.000   3.0  0.0100       452.0    -4.6431\n",
            "57    128.0   0.000   4.0  0.0001         0.0 -3647.1611\n",
            "58    128.0   0.000   4.0  0.0010       254.0   -17.7924\n",
            "59    128.0   0.000   4.0  0.0100        30.0   -28.8704\n",
            "60    128.0   0.000  16.0  0.0001      7337.0    -3.5579\n",
            "61    128.0   0.000  16.0  0.0010       140.0   -22.3253\n",
            "62    128.0   0.000  16.0  0.0100        14.0   -27.9539\n",
            "63    128.0   0.001   3.0  0.0001         0.0 -3647.1611\n",
            "64    128.0   0.001   3.0  0.0010       538.0   -36.5167\n",
            "65    128.0   0.001   3.0  0.0100       706.0    -1.5969\n",
            "66    128.0   0.001   4.0  0.0001      2494.0   -90.7105\n",
            "67    128.0   0.001   4.0  0.0010       374.0   -22.4089\n",
            "68    128.0   0.001   4.0  0.0100        98.0   -19.6581\n",
            "69    128.0   0.001  16.0  0.0001      1526.0  -109.6650\n",
            "70    128.0   0.001  16.0  0.0010         0.0 -3647.1611\n",
            "71    128.0   0.001  16.0  0.0100      1152.0    -5.4507\n",
            "72    128.0   0.010   3.0  0.0001     50000.0 -1052.5208\n",
            "73    128.0   0.010   3.0  0.0010     22095.0    -1.7212\n",
            "74    128.0   0.010   3.0  0.0100         0.0 -3647.1611\n",
            "75    128.0   0.010   4.0  0.0001      4116.0   -44.8527\n",
            "76    128.0   0.010   4.0  0.0010         0.0 -3647.1611\n",
            "77    128.0   0.010   4.0  0.0100        68.0   -22.6267\n",
            "78    128.0   0.010  16.0  0.0001       778.0   -40.2461\n",
            "79    128.0   0.010  16.0  0.0010         0.0 -3647.1611\n",
            "80    128.0   0.010  16.0  0.0100         0.0 -3647.1611\n"
          ]
        }
      ],
      "source": [
        "# main\n",
        "df_result = pd.DataFrame({'n_train':[], 'smooth':[], 'size':[], 'lr':[], 'best_epoch':[], 'R2':[]})\n",
        "n_end = 3000\n",
        "\n",
        "for _n_train in [32, 64, 128]:\n",
        "    for _smooth in [0, 0.001, 0.01]:\n",
        "        for h in [3, 4, 16]:\n",
        "            for _lr in [0.0001, 0.001, 0.01]:\n",
        "\n",
        "                # Create network\n",
        "                device = torch.device(\"cpu\")\n",
        "                net = Net(h, h).to(device)\n",
        "\n",
        "                # Create Dataset and DataLoader objects\n",
        "                src_file = 'C:/Users/tln229/Downloads/Python/1. Building/data/HVAC_B90_106_exp_30m_20221130.csv'\n",
        "                n_train  = _n_train\n",
        "                train_ds = Data(src_file, start=0,       end=n_train)\n",
        "                test_ds  = Data(src_file, start=n_train, end=n_end)\n",
        "\n",
        "                # train\n",
        "                R2_test = train(net, train_ds, test_ds, lr=_lr, min_epochs=300, max_epochs=50000, patience=200, smooth=_smooth)\n",
        "\n",
        "                # results\n",
        "                df_result.loc[len(df_result)] = [_n_train, _smooth, h, _lr, np.argmax(R2_test), np.max(R2_test)]\n",
        "\n",
        "with pd.option_context('display.max_rows', None,\n",
        "                       'display.max_columns', None,\n",
        "                       'display.precision', 4,\n",
        "                       ):\n",
        "    print(df_result)"
      ]
    }
  ],
  "metadata": {
    "colab": {
      "collapsed_sections": [],
      "name": "3. T_z .ipynb",
      "provenance": []
    },
    "kernelspec": {
      "display_name": "Python 3.10.5 64-bit",
      "language": "python",
      "name": "python3"
    },
    "language_info": {
      "codemirror_mode": {
        "name": "ipython",
        "version": 3
      },
      "file_extension": ".py",
      "mimetype": "text/x-python",
      "name": "python",
      "nbconvert_exporter": "python",
      "pygments_lexer": "ipython3",
      "version": "3.10.5 (tags/v3.10.5:f377153, Jun  6 2022, 16:14:13) [MSC v.1929 64 bit (AMD64)]"
    },
    "vscode": {
      "interpreter": {
        "hash": "912d6611990680b3d240e982c9d50f3da4c776707cfd42695cf7d82c88d80956"
      }
    }
  },
  "nbformat": 4,
  "nbformat_minor": 0
}
