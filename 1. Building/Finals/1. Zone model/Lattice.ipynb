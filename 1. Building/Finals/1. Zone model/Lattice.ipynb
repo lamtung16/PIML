{
  "cells": [
    {
      "cell_type": "code",
      "execution_count": 1,
      "metadata": {
        "id": "pYcTCRwIJASl"
      },
      "outputs": [],
      "source": [
        "import tensorflow as tf\n",
        "import tensorflow_addons as tfa\n",
        "import tensorflow_lattice as tfl\n",
        "import numpy as np\n",
        "import pandas as pd\n",
        "\n",
        "np.random.seed(1)"
      ]
    },
    {
      "cell_type": "code",
      "execution_count": 2,
      "metadata": {},
      "outputs": [],
      "source": [
        "# DATA\n",
        "df = pd.read_csv('C:/Users/tln229/Downloads/Python/1. Building/data/HVAC_B90_106_exp_30m_20221130.csv')"
      ]
    },
    {
      "cell_type": "code",
      "execution_count": 3,
      "metadata": {},
      "outputs": [],
      "source": [
        "df_result = pd.DataFrame({'n_train':[], 'y_max':[], 'grid_size':[], 'lr':[], 'R2':[]})\n",
        "n_end = 3000\n",
        "\n",
        "for n_train in ([32, 64, 128]):\n",
        "    for y_max in ([2, 5, 10, 20]):\n",
        "        for grid_size in ([3, 10, 20, 50]):\n",
        "            for lr in ([0.001, 0.01, 0.1, 0.2]):\n",
        "                \n",
        "                # DATA\n",
        "                # trainning set\n",
        "                Tz_k   = np.array(df['room_temp']).reshape(-1,1)[0: n_train]\n",
        "                To_k   = np.array(df['thermostat_outside_temp']).reshape(-1,1)[0: n_train]\n",
        "                Tsa_k1 = np.array(df['supply_discharge_temp']).reshape(-1,1)[1: n_train+1]\n",
        "                msa_k1 = np.array(df['airflow_current']).reshape(-1,1)[1: n_train+1]\n",
        "                Tz_k1  = np.array(df['room_temp']).reshape(-1,1)[1: n_train+1]\n",
        "\n",
        "                X = np.concatenate((Tz_k, Tsa_k1, msa_k1, To_k), axis=1)\n",
        "                Y = np.copy(Tz_k1)\n",
        "\n",
        "                # test set\n",
        "                Tz_k_t   = np.array(df['room_temp']).reshape(-1,1)[n_train: n_end]\n",
        "                To_k_t   = np.array(df['thermostat_outside_temp']).reshape(-1,1)[n_train: n_end]\n",
        "                Tsa_k1_t = np.array(df['supply_discharge_temp']).reshape(-1,1)[n_train+1: n_end+1]\n",
        "                msa_k1_t = np.array(df['airflow_current']).reshape(-1,1)[n_train+1: n_end+1]\n",
        "                Tz_k1_t  = np.array(df['room_temp']).reshape(-1,1)[n_train+1: n_end+1]\n",
        "\n",
        "                X_t = np.concatenate((Tz_k_t, Tsa_k1_t, msa_k1_t, To_k_t), axis=1)\n",
        "                Y_t = np.copy(Tz_k1_t)\n",
        "\n",
        "                # MODEL\n",
        "                # combined calibrator\n",
        "                combined_calibrators = tfl.layers.ParallelCombination()\n",
        "\n",
        "                calibrator_x1 = tfl.layers.PWLCalibration(input_keypoints=np.linspace(65,  85,   grid_size), output_min=0, output_max=y_max)\n",
        "                calibrator_x2 = tfl.layers.PWLCalibration(input_keypoints=np.linspace(50,  100,  grid_size), output_min=0, output_max=y_max, monotonicity='increasing')\n",
        "                calibrator_x3 = tfl.layers.PWLCalibration(input_keypoints=np.linspace(390, 1010, grid_size), output_min=0, output_max=y_max)\n",
        "                calibrator_x4 = tfl.layers.PWLCalibration(input_keypoints=np.linspace(35, 51, grid_size), output_min=0, output_max=y_max)\n",
        "\n",
        "                combined_calibrators.append(calibrator_x1)\n",
        "                combined_calibrators.append(calibrator_x2)\n",
        "                combined_calibrators.append(calibrator_x3)\n",
        "                combined_calibrators.append(calibrator_x4)\n",
        "\n",
        "                # Lattice\n",
        "                lattice = tfl.layers.Lattice(\n",
        "                    lattice_sizes = [y_max+1, y_max+1, y_max+1, y_max+1],\n",
        "                    monotonicities = ['increasing', 'increasing', 'increasing', 'increasing'],\n",
        "                    output_min = 65,\n",
        "                    output_max = 85)\n",
        "                \n",
        "                # model\n",
        "                inps  = tf.keras.Input(shape=(4,))\n",
        "                calib = combined_calibrators(inps)\n",
        "                outs  = lattice(calib)\n",
        "\n",
        "                model = tf.keras.Model(inputs=inps, outputs=outs)\n",
        "                model.compile(\n",
        "                    loss = tf.keras.losses.mean_squared_error,\n",
        "                    optimizer = tf.keras.optimizers.Adam(learning_rate=lr),\n",
        "                    metrics = [tfa.metrics.RSquare()])\n",
        "                \n",
        "                # TRAIN\n",
        "                callback = tf.keras.callbacks.EarlyStopping(monitor='val_loss', patience=500)\n",
        "\n",
        "                hist = model.fit(\n",
        "                    x = X,\n",
        "                    y = Y,\n",
        "                    batch_size = Y.shape[0],\n",
        "                    epochs = 20000,\n",
        "                    shuffle = False,\n",
        "                    validation_data=(X_t, Y_t),\n",
        "                    callbacks=[callback],\n",
        "                    verbose = 0)\n",
        "                \n",
        "                a = np.argmax(hist.history['val_r_square'])\n",
        "                df_result.loc[len(df_result)] = [n_train, y_max, grid_size, lr, hist.history['val_r_square'][a]]\n",
        "\n",
        "with pd.option_context('display.max_rows', None,\n",
        "                       'display.max_columns', None,\n",
        "                       'display.precision', 4,\n",
        "                       ):\n",
        "    print(df_result)"
      ]
    }
  ],
  "metadata": {
    "colab": {
      "provenance": []
    },
    "kernelspec": {
      "display_name": "Python 3.10.5 64-bit",
      "language": "python",
      "name": "python3"
    },
    "language_info": {
      "codemirror_mode": {
        "name": "ipython",
        "version": 3
      },
      "file_extension": ".py",
      "mimetype": "text/x-python",
      "name": "python",
      "nbconvert_exporter": "python",
      "pygments_lexer": "ipython3",
      "version": "3.10.5"
    },
    "vscode": {
      "interpreter": {
        "hash": "912d6611990680b3d240e982c9d50f3da4c776707cfd42695cf7d82c88d80956"
      }
    }
  },
  "nbformat": 4,
  "nbformat_minor": 0
}
