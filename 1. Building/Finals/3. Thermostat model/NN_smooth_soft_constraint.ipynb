{
  "cells": [
    {
      "cell_type": "code",
      "execution_count": 1,
      "metadata": {
        "id": "4jzKgPZ5D81V"
      },
      "outputs": [],
      "source": [
        "# library\n",
        "import torch\n",
        "import numpy as np\n",
        "import matplotlib.pyplot as plt\n",
        "import pandas as pd\n",
        "from sklearn.metrics import r2_score\n",
        "\n",
        "torch.manual_seed(1)\n",
        "np.random.seed(1)\n",
        "torch.set_printoptions(precision=3)"
      ]
    },
    {
      "cell_type": "code",
      "execution_count": 2,
      "metadata": {
        "id": "HAEV0sGeEEAE"
      },
      "outputs": [],
      "source": [
        "# Model\n",
        "class Net(torch.nn.Module):\n",
        "    def __init__(self, s):\n",
        "        super(Net, self).__init__()\n",
        "        self.input   = torch.nn.Linear(3, s)\n",
        "        self.output  = torch.nn.Linear(s, 1)\n",
        "\n",
        "    def forward(self, x):\n",
        "        z = torch.tanh(self.input(x))\n",
        "        z = self.output(z)\n",
        "        return z"
      ]
    },
    {
      "cell_type": "code",
      "execution_count": 3,
      "metadata": {
        "id": "8x017P0OEFVH"
      },
      "outputs": [],
      "source": [
        "# Model error\n",
        "def eval(model, testset, p):\n",
        "    with torch.no_grad():\n",
        "        pred_Y = model(testset.x_data)\n",
        "    \n",
        "    # R^2 qrh\n",
        "    r2_qrh = r2_score(testset.y_data, pred_Y)\n",
        "\n",
        "    # R^2 msa\n",
        "    pred_msa = pred_Y*p[0] + p[1]\n",
        "    r2_msa = r2_score(testset.msa_data, pred_msa)\n",
        "    \n",
        "    return r2_qrh, r2_msa"
      ]
    },
    {
      "cell_type": "code",
      "execution_count": 4,
      "metadata": {
        "id": "GjhVDtdREKfV"
      },
      "outputs": [],
      "source": [
        "# Data\n",
        "class Data(torch.utils.data.Dataset):\n",
        "  def __init__(self, src_file, start=None, end=None):\n",
        "    df = pd.read_csv(src_file)\n",
        "    clg_sp       = np.array(df['clg_sp_current']).reshape(-1,1)[start: end]\n",
        "    htg_sp       = np.array(df['htg_sp_current']).reshape(-1,1)[start: end]\n",
        "    htg_clg_mode = 1*np.array(df['htg_clg_mode']).reshape(-1,1)[start: end]\n",
        "\n",
        "    sp_k   = htg_sp*htg_clg_mode + clg_sp*(1-htg_clg_mode)\n",
        "    Tz_k   = np.array(df['thermostat_room_temp']).reshape(-1,1)[start: end]\n",
        "    qrh_k  = np.array(df['htg_valve_command']).reshape(-1,1)[start: end]\n",
        "    qrh_k1 = np.array(df['htg_valve_command']).reshape(-1,1)[start+1: end+1]\n",
        "    msa_k1 = np.array(df['airflow_desired']).reshape(-1,1)[start+1: end+1]\n",
        "    tmp_x  = np.concatenate((sp_k, Tz_k, qrh_k), axis=1)\n",
        "    \n",
        "    self.x_data   = torch.tensor(tmp_x,  dtype=torch.float32)\n",
        "    self.y_data   = torch.tensor(qrh_k1, dtype=torch.float32)\n",
        "    self.msa_data = torch.tensor(msa_k1, dtype=torch.float32)\n",
        "\n",
        "  def __len__(self):\n",
        "    return len(self.x_data)\n",
        "\n",
        "  def __getitem__(self, idx):\n",
        "    if torch.is_tensor(idx):\n",
        "      idx = idx.tolist()\n",
        "    inp  = self.x_data[idx]\n",
        "    outp = self.y_data[idx]\n",
        "    msa  = self.msa_data[idx]\n",
        "    sample = {'inp':inp, 'outp':outp, 'msa':msa}\n",
        "    return sample"
      ]
    },
    {
      "cell_type": "code",
      "execution_count": 5,
      "metadata": {},
      "outputs": [],
      "source": [
        "# Early stopping\n",
        "def early_stop(list, min_epochs, patience):\n",
        "    if(len(list) > min_epochs):\n",
        "        if(np.max(list[-patience:]) < 1.0001*np.max(list[0: -patience])):\n",
        "            return 1\n",
        "    return 0"
      ]
    },
    {
      "cell_type": "code",
      "execution_count": 6,
      "metadata": {
        "colab": {
          "base_uri": "https://localhost:8080/"
        },
        "id": "VNRSA74gELy0",
        "outputId": "81e6dec5-e0ee-448f-c67b-22411ed38c4e"
      },
      "outputs": [],
      "source": [
        "# train function\n",
        "def train(net, p, train_ds, test_ds, lr=0.001, min_epochs=200, max_epochs=100000, patience=100, smooth=0, soft=0):\n",
        "    \n",
        "    loss_func  = torch.nn.MSELoss()\n",
        "    optimizer  = torch.optim.Adam(net.parameters(), lr=lr)\n",
        "\n",
        "    train_ldr = torch.utils.data.DataLoader(train_ds, batch_size=256, shuffle=True)\n",
        "    R2_qrh = np.array([])\n",
        "    R2_msa = np.array([])\n",
        "    for _ in range(0, max_epochs+1):\n",
        "        net.train()\n",
        "        loss  = 0\n",
        "        count = 0\n",
        "        for (_, batch) in enumerate(train_ldr):\n",
        "            X    = batch['inp']\n",
        "            Y    = batch['outp']\n",
        "\n",
        "            optimizer.zero_grad()\n",
        "            output = net(X)                    # compute the output of the Network\n",
        "            loss_val = loss_func(output, Y) + smooth*loss_func(output, X[:,2].reshape(-1,1)) + soft*torch.sum(torch.square(torch.relu(0-output))) + soft*torch.sum(torch.square(torch.relu(output-100)))\n",
        "            loss += loss_val.item()            # accumulate\n",
        "            loss_val.backward()                # gradients\n",
        "            optimizer.step()                   # update paramters\n",
        "            count += 1\n",
        "\n",
        "        net.eval()\n",
        "        R2_qrh = np.append(R2_qrh, eval(net, test_ds, p)[0].item())\n",
        "        R2_msa = np.append(R2_msa, eval(net, test_ds, p)[1].item())\n",
        "        \n",
        "        if(early_stop(list = R2_qrh, min_epochs = min_epochs, patience = patience) == 1):\n",
        "            break\n",
        "    \n",
        "    return R2_qrh, R2_msa"
      ]
    },
    {
      "cell_type": "code",
      "execution_count": 7,
      "metadata": {},
      "outputs": [],
      "source": [
        "# main\n",
        "\n",
        "for n_train in [32, 64, 128]:\n",
        "    for _smooth in [0, 0.001, 0.01]:\n",
        "        for _soft in [0, 1e3]:\n",
        "            for h in [16, 32, 64]:\n",
        "                for _lr in [0.0001, 0.001, 0.01, 0.1]:\n",
        "\n",
        "                    # Read data\n",
        "                    df = pd.read_csv('C:/Users/tln229/Downloads/Python/1. Building/data/HVAC_B90_102_exp_10m_20210424.csv')\n",
        "                    qrh = np.array(df['htg_valve_position']).reshape(-1,1)\n",
        "                    msa = np.array(df['airflow_current']).reshape(-1,1)\n",
        "\n",
        "                    # LEAST SQUARE\n",
        "                    ones = np.ones(msa.shape)\n",
        "                    A = np.concatenate((qrh, ones), axis=1)\n",
        "                    b = np.copy(msa)\n",
        "                    p = np.linalg.lstsq(A, b, rcond=None)[0]\n",
        "\n",
        "                    # Create network\n",
        "                    device = torch.device(\"cpu\")\n",
        "                    net = Net(h).to(device)\n",
        "\n",
        "                    # Create Dataset and DataLoader objects\n",
        "                    src_file = 'C:/Users/tln229/Downloads/Python/1. Building/data/HVAC_B90_102_exp_10m_20210424.csv'\n",
        "                    train_ds = Data(src_file, start=0, end=n_train)\n",
        "                    test_ds  = Data(src_file, start=n_train, end=1600)\n",
        "\n",
        "                    # train\n",
        "                    R2_qrh, R2_msa = train(net, p, train_ds, test_ds, lr=_lr, min_epochs=500, max_epochs=100000, patience=300, smooth=_smooth, soft=_soft)\n",
        "\n",
        "                    # results\n",
        "                    print('n train = %3d \\t smooth = %6.4f \\t layer size = %2d \\t lr = %6.4f \\t best_epoch = %5d \\t best_R2_qrh = %7.5f \\t best_R2_msa = %7.5f'\n",
        "                        % (n_train, _smooth, h, _lr, np.argmax(R2_qrh), np.max(R2_qrh), np.max(R2_msa)))"
      ]
    }
  ],
  "metadata": {
    "colab": {
      "collapsed_sections": [],
      "provenance": []
    },
    "kernelspec": {
      "display_name": "Python 3.10.5 64-bit",
      "language": "python",
      "name": "python3"
    },
    "language_info": {
      "codemirror_mode": {
        "name": "ipython",
        "version": 3
      },
      "file_extension": ".py",
      "mimetype": "text/x-python",
      "name": "python",
      "nbconvert_exporter": "python",
      "pygments_lexer": "ipython3",
      "version": "3.10.5"
    },
    "vscode": {
      "interpreter": {
        "hash": "912d6611990680b3d240e982c9d50f3da4c776707cfd42695cf7d82c88d80956"
      }
    }
  },
  "nbformat": 4,
  "nbformat_minor": 0
}
