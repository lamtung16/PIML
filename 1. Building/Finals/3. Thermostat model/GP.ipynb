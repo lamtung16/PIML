{
 "cells": [
  {
   "cell_type": "code",
   "execution_count": 1,
   "metadata": {},
   "outputs": [],
   "source": [
    "import torch\n",
    "import gpytorch as gp\n",
    "import pandas as pd\n",
    "import numpy as np\n",
    "from sklearn.metrics import r2_score\n",
    "\n",
    "torch.manual_seed(1)\n",
    "np.random.seed(1)"
   ]
  },
  {
   "cell_type": "code",
   "execution_count": 2,
   "metadata": {},
   "outputs": [],
   "source": [
    "df = pd.read_csv('C:/Users/tln229/Downloads/Python/1. Building/data/HVAC_B90_102_exp_10m_20210424.csv')"
   ]
  },
  {
   "cell_type": "code",
   "execution_count": 3,
   "metadata": {},
   "outputs": [],
   "source": [
    "class MyGPModel(gp.models.ExactGP):\n",
    "    def __init__(self, train_x, train_y, likelihood):\n",
    "        super(MyGPModel, self).__init__(train_x, train_y, likelihood)\n",
    "        self.mean_module  = gp.means.ZeroMean()\n",
    "        self.covar_module = gp.kernels.ScaleKernel(gp.kernels.RBFKernel())\n",
    "\n",
    "    def forward(self, x):\n",
    "        mean_x  = self.mean_module(x)\n",
    "        covar_x = self.covar_module(x)\n",
    "        return gp.distributions.MultivariateNormal(mean_x, covar_x)"
   ]
  },
  {
   "cell_type": "code",
   "execution_count": 4,
   "metadata": {},
   "outputs": [
    {
     "ename": "RuntimeError",
     "evalue": "Can only multiply by scalars",
     "output_type": "error",
     "traceback": [
      "\u001b[1;31m---------------------------------------------------------------------------\u001b[0m",
      "\u001b[1;31mRuntimeError\u001b[0m                              Traceback (most recent call last)",
      "\u001b[1;32mc:\\Users\\tln229\\Downloads\\Python\\1. Building\\Finals\\3. Thermostat model\\GP.ipynb Cell 4\u001b[0m in \u001b[0;36m<cell line: 1>\u001b[1;34m()\u001b[0m\n\u001b[0;32m     <a href='vscode-notebook-cell:/c%3A/Users/tln229/Downloads/Python/1.%20Building/Finals/3.%20Thermostat%20model/GP.ipynb#W3sZmlsZQ%3D%3D?line=74'>75</a>\u001b[0m     b \u001b[39m=\u001b[39m np\u001b[39m.\u001b[39mcopy(msa)\n\u001b[0;32m     <a href='vscode-notebook-cell:/c%3A/Users/tln229/Downloads/Python/1.%20Building/Finals/3.%20Thermostat%20model/GP.ipynb#W3sZmlsZQ%3D%3D?line=75'>76</a>\u001b[0m     p \u001b[39m=\u001b[39m np\u001b[39m.\u001b[39mlinalg\u001b[39m.\u001b[39mlstsq(A, b, rcond\u001b[39m=\u001b[39m\u001b[39mNone\u001b[39;00m)[\u001b[39m0\u001b[39m]\n\u001b[1;32m---> <a href='vscode-notebook-cell:/c%3A/Users/tln229/Downloads/Python/1.%20Building/Finals/3.%20Thermostat%20model/GP.ipynb#W3sZmlsZQ%3D%3D?line=76'>77</a>\u001b[0m     pred_msa \u001b[39m=\u001b[39m pred_y\u001b[39m*\u001b[39;49mp[\u001b[39m0\u001b[39;49m] \u001b[39m+\u001b[39m p[\u001b[39m1\u001b[39m]\n\u001b[0;32m     <a href='vscode-notebook-cell:/c%3A/Users/tln229/Downloads/Python/1.%20Building/Finals/3.%20Thermostat%20model/GP.ipynb#W3sZmlsZQ%3D%3D?line=77'>78</a>\u001b[0m     r2_msa \u001b[39m=\u001b[39m r2_score(test_y2\u001b[39m.\u001b[39mnumpy(), pred_msa)\n\u001b[0;32m     <a href='vscode-notebook-cell:/c%3A/Users/tln229/Downloads/Python/1.%20Building/Finals/3.%20Thermostat%20model/GP.ipynb#W3sZmlsZQ%3D%3D?line=79'>80</a>\u001b[0m \u001b[39m# print(np.argmax(R2_test))\u001b[39;00m\n",
      "File \u001b[1;32mc:\\Users\\tln229\\AppData\\Local\\Programs\\Python\\Python310\\lib\\site-packages\\gpytorch\\distributions\\multivariate_normal.py:286\u001b[0m, in \u001b[0;36mMultivariateNormal.__mul__\u001b[1;34m(self, other)\u001b[0m\n\u001b[0;32m    284\u001b[0m \u001b[39mdef\u001b[39;00m \u001b[39m__mul__\u001b[39m(\u001b[39mself\u001b[39m, other):\n\u001b[0;32m    285\u001b[0m     \u001b[39mif\u001b[39;00m \u001b[39mnot\u001b[39;00m (\u001b[39misinstance\u001b[39m(other, \u001b[39mint\u001b[39m) \u001b[39mor\u001b[39;00m \u001b[39misinstance\u001b[39m(other, \u001b[39mfloat\u001b[39m)):\n\u001b[1;32m--> 286\u001b[0m         \u001b[39mraise\u001b[39;00m \u001b[39mRuntimeError\u001b[39;00m(\u001b[39m\"\u001b[39m\u001b[39mCan only multiply by scalars\u001b[39m\u001b[39m\"\u001b[39m)\n\u001b[0;32m    287\u001b[0m     \u001b[39mif\u001b[39;00m other \u001b[39m==\u001b[39m \u001b[39m1\u001b[39m:\n\u001b[0;32m    288\u001b[0m         \u001b[39mreturn\u001b[39;00m \u001b[39mself\u001b[39m\n",
      "\u001b[1;31mRuntimeError\u001b[0m: Can only multiply by scalars"
     ]
    }
   ],
   "source": [
    "for n_train in ([32, 64, 128]):\n",
    "    for lr in ([0.001, 0.01, 0.02, 0.05]):\n",
    "\n",
    "        # TRAIN SET\n",
    "        clg_sp       = np.array(df['clg_sp_current']).reshape(-1,1)[0: n_train]\n",
    "        htg_sp       = np.array(df['htg_sp_current']).reshape(-1,1)[0: n_train]\n",
    "        htg_clg_mode = 1*np.array(df['htg_clg_mode']).reshape(-1,1)[0: n_train]\n",
    "\n",
    "        sp_k   = htg_sp*htg_clg_mode + clg_sp*(1-htg_clg_mode)\n",
    "        Tz_k   = np.array(df['thermostat_room_temp']).reshape(-1,1)[0: n_train]\n",
    "        qrh_k  = np.array(df['htg_valve_command']).reshape(-1,1)[0: n_train]\n",
    "        qrh_k1 = np.array(df['htg_valve_command'])[0+1: n_train+1]\n",
    "\n",
    "        train_x  = np.concatenate((sp_k, Tz_k, qrh_k), axis=1)\n",
    "        train_x = torch.tensor(train_x, dtype=torch.float32)\n",
    "        train_y = torch.tensor(qrh_k1, dtype=torch.float32)\n",
    "\n",
    "        # TEST SET\n",
    "        clg_sp       = np.array(df['clg_sp_current']).reshape(-1,1)[n_train: 1600]\n",
    "        htg_sp       = np.array(df['htg_sp_current']).reshape(-1,1)[n_train: 1600]\n",
    "        htg_clg_mode = 1*np.array(df['htg_clg_mode']).reshape(-1,1)[n_train: 1600]\n",
    "\n",
    "        sp_k   = htg_sp*htg_clg_mode + clg_sp*(1-htg_clg_mode)\n",
    "        Tz_k   = np.array(df['thermostat_room_temp']).reshape(-1,1)[n_train: 1600]\n",
    "        qrh_k  = np.array(df['htg_valve_command']).reshape(-1,1)[n_train: 1600]\n",
    "        qrh_k1 = np.array(df['htg_valve_command'])[n_train+1: 1600+1]\n",
    "        msa_k1 = np.array(df['airflow_desired'])[n_train+1: 1600+1]\n",
    "\n",
    "        test_x  = np.concatenate((sp_k, Tz_k, qrh_k), axis=1)\n",
    "        test_x  = torch.tensor(test_x, dtype=torch.float32)\n",
    "        test_y  = torch.tensor(qrh_k1, dtype=torch.float32)\n",
    "        test_y2 = torch.tensor(msa_k1, dtype=torch.float32)\n",
    "\n",
    "        # initialize likelihood and model\n",
    "        likelihood = gp.likelihoods.GaussianLikelihood()\n",
    "        model      = MyGPModel(train_x, train_y, likelihood)\n",
    "\n",
    "        # Training\n",
    "        training_iter = 200000    # number of training iteration\n",
    "\n",
    "        optimizer = torch.optim.Adam(model.parameters(), lr=lr)       # optimizer\n",
    "        mll = gp.mlls.ExactMarginalLogLikelihood(likelihood, model)   # marginal likelihood\n",
    "\n",
    "        R2_qrh = np.array([], dtype=np.float32)\n",
    "        R2_msa = np.array([], dtype=np.float32)\n",
    "        for i in range(training_iter+1):\n",
    "            # TRAIN\n",
    "            model.train()                   # find the hyperparameters\n",
    "            likelihood.train()\n",
    "\n",
    "            optimizer.zero_grad()           # Zero gradients from previous iteration\n",
    "            output = model(train_x)         # Output from model\n",
    "            loss   = -mll(output, train_y)  # Calc loss and backprop gradients\n",
    "\n",
    "            loss.backward()\n",
    "            optimizer.step()\n",
    "            \n",
    "            # EVAL\n",
    "            model.eval()\n",
    "            likelihood.eval()\n",
    "\n",
    "            with torch.no_grad(), gp.settings.fast_pred_var():\n",
    "                pred_y = likelihood(model(test_x))\n",
    "\n",
    "            # r2 qrh\n",
    "            r2 = r2_score(test_y.numpy(), pred_y.mean.numpy())\n",
    "            R2_qrh = np.append(R2_qrh, r2)\n",
    "            \n",
    "            # r2 msa\n",
    "            qrh = np.array(df['htg_valve_position']).reshape(-1,1)\n",
    "            msa = np.array(df['airflow_current']).reshape(-1,1)\n",
    "\n",
    "                # LEAST SQUARE\n",
    "            ones = np.ones(msa.shape)\n",
    "            A = np.concatenate((qrh, ones), axis=1)\n",
    "            b = np.copy(msa)\n",
    "            p = np.linalg.lstsq(A, b, rcond=None)[0]\n",
    "            pred_msa = pred_y.mean.numpy()*p[0] + p[1]\n",
    "            r2_msa = r2_score(test_y2.numpy(), pred_msa)\n",
    "            R2_msa = np.append(R2_msa, r2_msa)\n",
    "        \n",
    "        # print(np.argmax(R2_test))\n",
    "        print('n:%4d \\t lr:%5.3f \\t r2_qrh:%8.4f \\t r2_msa:%8.4f' % (n_train, lr, np.max(R2_qrh), np.max(R2_msa)))"
   ]
  }
 ],
 "metadata": {
  "kernelspec": {
   "display_name": "Python 3.10.5 64-bit",
   "language": "python",
   "name": "python3"
  },
  "language_info": {
   "codemirror_mode": {
    "name": "ipython",
    "version": 3
   },
   "file_extension": ".py",
   "mimetype": "text/x-python",
   "name": "python",
   "nbconvert_exporter": "python",
   "pygments_lexer": "ipython3",
   "version": "3.10.5"
  },
  "orig_nbformat": 4,
  "vscode": {
   "interpreter": {
    "hash": "912d6611990680b3d240e982c9d50f3da4c776707cfd42695cf7d82c88d80956"
   }
  }
 },
 "nbformat": 4,
 "nbformat_minor": 2
}
