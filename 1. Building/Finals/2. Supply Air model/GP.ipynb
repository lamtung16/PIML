{
 "cells": [
  {
   "cell_type": "code",
   "execution_count": 1,
   "metadata": {},
   "outputs": [],
   "source": [
    "import torch\n",
    "import gpytorch as gp\n",
    "import pandas as pd\n",
    "import numpy as np\n",
    "from sklearn.metrics import r2_score\n",
    "\n",
    "torch.manual_seed(1)\n",
    "np.random.seed(1)"
   ]
  },
  {
   "cell_type": "code",
   "execution_count": 2,
   "metadata": {},
   "outputs": [],
   "source": [
    "df = pd.read_csv('C:/Users/tln229/Downloads/Python/1. Building/data/HVAC_B90_102_exp_10m_20210424.csv')"
   ]
  },
  {
   "cell_type": "code",
   "execution_count": 3,
   "metadata": {},
   "outputs": [],
   "source": [
    "class MyGPModel(gp.models.ExactGP):\n",
    "    def __init__(self, train_x, train_y, likelihood):\n",
    "        super(MyGPModel, self).__init__(train_x, train_y, likelihood)\n",
    "        self.mean_module  = gp.means.ZeroMean()\n",
    "        self.covar_module = gp.kernels.ScaleKernel(gp.kernels.RBFKernel())\n",
    "\n",
    "    def forward(self, x):\n",
    "        mean_x  = self.mean_module(x)\n",
    "        covar_x = self.covar_module(x)\n",
    "        return gp.distributions.MultivariateNormal(mean_x, covar_x)"
   ]
  },
  {
   "cell_type": "code",
   "execution_count": 4,
   "metadata": {},
   "outputs": [
    {
     "name": "stdout",
     "output_type": "stream",
     "text": [
      "    n_train     lr       R2\n",
      "0      32.0  0.001 -35.3983\n",
      "1      32.0  0.010 -35.3841\n",
      "2      32.0  0.020 -35.3685\n",
      "3      32.0  0.050 -35.3211\n",
      "4      64.0  0.001 -32.3290\n",
      "5      64.0  0.010 -32.2586\n",
      "6      64.0  0.020 -32.1800\n",
      "7      64.0  0.050 -31.9408\n",
      "8     128.0  0.001 -29.2749\n",
      "9     128.0  0.010 -29.1934\n",
      "10    128.0  0.020 -29.1014\n",
      "11    128.0  0.050 -28.8250\n"
     ]
    }
   ],
   "source": [
    "df_result = pd.DataFrame({'n_train':[], 'lr':[], 'R2':[]})\n",
    "\n",
    "for n_train in ([32, 64, 128]):\n",
    "    for lr in ([0.001, 0.01, 0.02, 0.05]):\n",
    "\n",
    "        # TRAIN SET\n",
    "        Tca_k1   = np.array(df['ahu_supply_temp']).reshape(-1,1)[1: n_train+1]\n",
    "        Tsa_k    = np.array(df['supply_discharge_temp']).reshape(-1,1)[0: n_train]\n",
    "        Tsa_k1   = np.array(df['supply_discharge_temp']).reshape(-1,1)[1: n_train+1]\n",
    "        Tsa_k2   = np.array(df['supply_discharge_temp'])[2: n_train+2]\n",
    "        valve_k2 = np.array(df['htg_valve_position']).reshape(-1,1)[2: n_train+2]\n",
    "\n",
    "        train_x = np.concatenate((Tca_k1, Tsa_k, Tsa_k1, valve_k2), axis=1)\n",
    "        train_x = torch.tensor(train_x, dtype=torch.float32)\n",
    "        train_y = torch.tensor(Tsa_k2, dtype=torch.float32)\n",
    "\n",
    "        # TEST SET\n",
    "        Tca_k1   = np.array(df['ahu_supply_temp']).reshape(-1,1)[n_train+1: 1600+1]\n",
    "        Tsa_k    = np.array(df['supply_discharge_temp']).reshape(-1,1)[n_train: 1600]\n",
    "        Tsa_k1   = np.array(df['supply_discharge_temp']).reshape(-1,1)[n_train+1: 1600+1]\n",
    "        Tsa_k2   = np.array(df['supply_discharge_temp'])[n_train+2: 1600+2]\n",
    "        valve_k2 = np.array(df['htg_valve_position']).reshape(-1,1)[n_train+2: 1600+2]\n",
    "\n",
    "        test_x = np.concatenate((Tca_k1, Tsa_k, Tsa_k1, valve_k2), axis=1)\n",
    "        test_x = torch.tensor(test_x, dtype=torch.float32)\n",
    "        test_y = torch.tensor(Tsa_k2, dtype=torch.float32)\n",
    "\n",
    "        # initialize likelihood and model\n",
    "        likelihood = gp.likelihoods.GaussianLikelihood()\n",
    "        model      = MyGPModel(train_x, train_y, likelihood)\n",
    "\n",
    "        # Training\n",
    "        training_iter = 100000    # number of training iteration\n",
    "\n",
    "        optimizer = torch.optim.Adam(model.parameters(), lr=lr)       # optimizer\n",
    "        mll = gp.mlls.ExactMarginalLogLikelihood(likelihood, model)   # marginal likelihood\n",
    "\n",
    "        R2_test = np.array([], dtype=np.float32)\n",
    "        for i in range(training_iter+1):\n",
    "            # TRAIN\n",
    "            model.train()                   # find the hyperparameters\n",
    "            likelihood.train()\n",
    "\n",
    "            optimizer.zero_grad()           # Zero gradients from previous iteration\n",
    "            output = model(train_x)         # Output from model\n",
    "            loss   = -mll(output, train_y)  # Calc loss and backprop gradients\n",
    "\n",
    "            loss.backward()\n",
    "            optimizer.step()\n",
    "            \n",
    "            # EVAL\n",
    "            model.eval()\n",
    "            likelihood.eval()\n",
    "\n",
    "            with torch.no_grad(), gp.settings.fast_pred_var():\n",
    "                pred_y = likelihood(model(test_x))\n",
    "\n",
    "            r2 = r2_score(test_y.numpy(), pred_y.mean.numpy())\n",
    "            R2_test = np.append(R2_test, r2)\n",
    "        \n",
    "        df_result.loc[len(df_result)] = [n_train, lr, np.max(R2_test)]\n",
    "\n",
    "with pd.option_context('display.max_rows', None,\n",
    "                       'display.max_columns', None,\n",
    "                       'display.precision', 4,\n",
    "                       ):\n",
    "    print(df_result)"
   ]
  }
 ],
 "metadata": {
  "kernelspec": {
   "display_name": "Python 3.10.5 64-bit",
   "language": "python",
   "name": "python3"
  },
  "language_info": {
   "codemirror_mode": {
    "name": "ipython",
    "version": 3
   },
   "file_extension": ".py",
   "mimetype": "text/x-python",
   "name": "python",
   "nbconvert_exporter": "python",
   "pygments_lexer": "ipython3",
   "version": "3.10.5"
  },
  "orig_nbformat": 4,
  "vscode": {
   "interpreter": {
    "hash": "912d6611990680b3d240e982c9d50f3da4c776707cfd42695cf7d82c88d80956"
   }
  }
 },
 "nbformat": 4,
 "nbformat_minor": 2
}
