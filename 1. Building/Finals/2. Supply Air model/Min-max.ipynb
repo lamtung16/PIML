{
  "cells": [
    {
      "cell_type": "code",
      "execution_count": 1,
      "metadata": {
        "id": "jzH_LbEIGLWu"
      },
      "outputs": [],
      "source": [
        "# library\n",
        "import torch\n",
        "import numpy as np\n",
        "import pandas as pd\n",
        "from torchmetrics import R2Score\n",
        "\n",
        "r2score = R2Score()\n",
        "\n",
        "torch.manual_seed(1)\n",
        "np.random.seed(1)"
      ]
    },
    {
      "cell_type": "code",
      "execution_count": 2,
      "metadata": {
        "id": "Y3eaKBL2GhJI"
      },
      "outputs": [],
      "source": [
        "# Model\n",
        "class MonotonicLinear(torch.nn.Module):\n",
        "  def __init__(self, input_size, output_size):\n",
        "    super().__init__()\n",
        "    self.input_size  = input_size\n",
        "    self.output_size = output_size\n",
        "    self.weights = torch.nn.Parameter(torch.rand((output_size, input_size), dtype=torch.float32))\n",
        "\n",
        "  def forward(self, x):\n",
        "    z = torch.mm(x, torch.exp(self.weights.t()))\n",
        "    return z\n",
        "\n",
        "class Net(torch.nn.Module):\n",
        "  def __init__(self):\n",
        "    super(Net, self).__init__()\n",
        "    self.input1  = MonotonicLinear(2, 32)\n",
        "    self.hidden1 = MonotonicLinear(32, 1)\n",
        "    self.input2  = torch.nn.Linear(2, 32)\n",
        "    self.hidden2 = torch.nn.Linear(32, 1)\n",
        "\n",
        "  def forward(self, x_m, x_u):\n",
        "    z1 = torch.tanh(self.input1(x_m))\n",
        "    z1 = self.hidden1(z1)\n",
        "\n",
        "    z2 = torch.tanh(self.input2(x_u))\n",
        "    z2 = self.hidden2(z2)\n",
        "\n",
        "    z = torch.add(z1, z2)\n",
        "    return z\n",
        "\n",
        "# Create network\n",
        "device = torch.device(\"cpu\")\n",
        "net = Net().to(device)"
      ]
    },
    {
      "cell_type": "code",
      "execution_count": 3,
      "metadata": {
        "id": "BtNtb3epPIzJ"
      },
      "outputs": [],
      "source": [
        "# Model evaluation\n",
        "def eval(model, testset):\n",
        "    with torch.no_grad():\n",
        "        pred_Y = model(testset.x_m_data, testset.x_u_data)\n",
        "    \n",
        "    r2 = r2score(pred_Y, testset.y_data)\n",
        "    return r2.item()"
      ]
    },
    {
      "cell_type": "code",
      "execution_count": 4,
      "metadata": {
        "id": "dTWtNEdVHCuw"
      },
      "outputs": [],
      "source": [
        "# Data class\n",
        "class Data(torch.utils.data.Dataset):\n",
        "  def __init__(self, src_file, start=None, end=None):\n",
        "    df = pd.read_csv(src_file)\n",
        "    Tca_k1   = np.array(df['ahu_supply_temp']).reshape(-1,1)[start+1: end+1]\n",
        "    Tsa_k    = np.array(df['supply_discharge_temp']).reshape(-1,1)[start: end]\n",
        "    Tsa_k1   = np.array(df['supply_discharge_temp']).reshape(-1,1)[start+1: end+1]\n",
        "    valve_k2 = np.array(df['htg_valve_position']).reshape(-1,1)[start+2: end+2]\n",
        "\n",
        "    tmp_x_m = np.concatenate((Tca_k1, valve_k2), axis=1)\n",
        "    tmp_x_u = np.concatenate((Tsa_k, Tsa_k1), axis=1)\n",
        "    tmp_y   = np.array(df['supply_discharge_temp']).reshape(-1,1)[start+2: end+2]\n",
        "\n",
        "    self.x_m_data = torch.tensor(tmp_x_m, dtype=torch.float32)\n",
        "    self.x_u_data = torch.tensor(tmp_x_u, dtype=torch.float32)\n",
        "    self.y_data = torch.tensor(tmp_y, dtype=torch.float32)\n",
        "\n",
        "  def __len__(self):\n",
        "    return len(self.y_data)\n",
        "\n",
        "  def __getitem__(self, idx):\n",
        "    if torch.is_tensor(idx):\n",
        "      idx = idx.tolist()\n",
        "    inp_m  = self.x_m_data[idx]\n",
        "    inp_u  = self.x_u_data[idx]\n",
        "    outp   = self.y_data[idx]\n",
        "    sample = {'inp_m':inp_m,'inp_u':inp_u, 'outp':outp}\n",
        "    return sample"
      ]
    },
    {
      "cell_type": "code",
      "execution_count": 5,
      "metadata": {},
      "outputs": [],
      "source": [
        "# Early stopping function\n",
        "def early_stop(list, min_epochs, patience):\n",
        "    if(len(list) > min_epochs):\n",
        "        if(np.max(list[-patience:]) < 1.00001*np.max(list[0: -patience])):\n",
        "            return 1\n",
        "    return 0"
      ]
    },
    {
      "cell_type": "code",
      "execution_count": 6,
      "metadata": {
        "colab": {
          "base_uri": "https://localhost:8080/"
        },
        "id": "gebr4CnRLFBd",
        "outputId": "d74e7cd7-8dab-49a9-babc-e77577dd73b7"
      },
      "outputs": [],
      "source": [
        "# train function\n",
        "def train(net, train_ds, test_ds, lr=0.001, min_epochs=200, max_epochs=100000, patience=100, smooth=0):\n",
        "    loss_func  = torch.nn.MSELoss()\n",
        "    optimizer  = torch.optim.Adam(net.parameters(), lr=lr)\n",
        "\n",
        "    R2_test    = np.array([])\n",
        "    train_ldr = torch.utils.data.DataLoader(train_ds, batch_size=train_ds.y_data.shape[0], shuffle=True)\n",
        "    for _ in range(0, max_epochs+1):\n",
        "        net.train()\n",
        "        for (_, batch) in enumerate(train_ldr):\n",
        "            X_m = batch['inp_m']\n",
        "            X_u = batch['inp_u']\n",
        "            Y   = batch['outp']\n",
        "\n",
        "            optimizer.zero_grad()\n",
        "            output = net(X_m, X_u)\n",
        "            loss_val = loss_func(output, Y) + smooth*loss_func(output, X_u[:, 1].reshape(-1,1))\n",
        "            loss_val.backward()\n",
        "            optimizer.step()\n",
        "\n",
        "        net.eval()\n",
        "        R2_test = np.append(R2_test, eval(net, test_ds))\n",
        "        \n",
        "        if(early_stop(list = R2_test, min_epochs = min_epochs, patience = patience) == 1):\n",
        "            break\n",
        "    \n",
        "    return R2_test"
      ]
    },
    {
      "cell_type": "code",
      "execution_count": 7,
      "metadata": {},
      "outputs": [
        {
          "name": "stdout",
          "output_type": "stream",
          "text": [
            "n train =  32 \t smooth = 0.0000 \t lr = 0.0001 \t best_epoch =  4615 \t best_R2 = -0.42982\n",
            "n train =  32 \t smooth = 0.0000 \t lr = 0.0010 \t best_epoch =  8764 \t best_R2 = 0.95200\n",
            "n train =  32 \t smooth = 0.0000 \t lr = 0.0100 \t best_epoch =    34 \t best_R2 = -0.18451\n",
            "n train =  32 \t smooth = 0.0000 \t lr = 0.1000 \t best_epoch =     2 \t best_R2 = -0.00000\n",
            "n train =  32 \t smooth = 0.0000 \t lr = 0.2000 \t best_epoch =    11 \t best_R2 = -0.00814\n",
            "n train =  32 \t smooth = 0.0010 \t lr = 0.0001 \t best_epoch =  3816 \t best_R2 = -0.41829\n",
            "n train =  32 \t smooth = 0.0010 \t lr = 0.0010 \t best_epoch = 15630 \t best_R2 = 0.94116\n",
            "n train =  32 \t smooth = 0.0010 \t lr = 0.0100 \t best_epoch =  1563 \t best_R2 = 0.83123\n",
            "n train =  32 \t smooth = 0.0010 \t lr = 0.1000 \t best_epoch =     3 \t best_R2 = -0.00025\n",
            "n train =  32 \t smooth = 0.0010 \t lr = 0.2000 \t best_epoch =     1 \t best_R2 = -0.00731\n",
            "n train =  32 \t smooth = 0.0100 \t lr = 0.0001 \t best_epoch =  7814 \t best_R2 = -0.39441\n",
            "n train =  32 \t smooth = 0.0100 \t lr = 0.0010 \t best_epoch = 14065 \t best_R2 = 0.95288\n",
            "n train =  32 \t smooth = 0.0100 \t lr = 0.0100 \t best_epoch =    20 \t best_R2 = -0.17047\n",
            "n train =  32 \t smooth = 0.0100 \t lr = 0.1000 \t best_epoch =     4 \t best_R2 = -0.00025\n",
            "n train =  32 \t smooth = 0.0100 \t lr = 0.2000 \t best_epoch =    11 \t best_R2 = -0.00899\n",
            "n train =  64 \t smooth = 0.0000 \t lr = 0.0001 \t best_epoch = 41820 \t best_R2 = 0.98077\n",
            "n train =  64 \t smooth = 0.0000 \t lr = 0.0010 \t best_epoch =  7901 \t best_R2 = 0.98021\n",
            "n train =  64 \t smooth = 0.0000 \t lr = 0.0100 \t best_epoch =    25 \t best_R2 = -0.00005\n",
            "n train =  64 \t smooth = 0.0000 \t lr = 0.1000 \t best_epoch =    49 \t best_R2 = -0.00001\n",
            "n train =  64 \t smooth = 0.0000 \t lr = 0.2000 \t best_epoch =    33 \t best_R2 = -0.00001\n",
            "n train =  64 \t smooth = 0.0010 \t lr = 0.0001 \t best_epoch = 36920 \t best_R2 = 0.98255\n",
            "n train =  64 \t smooth = 0.0010 \t lr = 0.0010 \t best_epoch =  6568 \t best_R2 = 0.98087\n",
            "n train =  64 \t smooth = 0.0010 \t lr = 0.0100 \t best_epoch =    30 \t best_R2 = -0.00023\n",
            "n train =  64 \t smooth = 0.0010 \t lr = 0.1000 \t best_epoch =    46 \t best_R2 = -0.00003\n",
            "n train =  64 \t smooth = 0.0010 \t lr = 0.2000 \t best_epoch =    44 \t best_R2 = -0.00018\n",
            "n train =  64 \t smooth = 0.0100 \t lr = 0.0001 \t best_epoch = 37979 \t best_R2 = 0.98146\n",
            "n train =  64 \t smooth = 0.0100 \t lr = 0.0010 \t best_epoch =  8119 \t best_R2 = 0.98109\n",
            "n train =  64 \t smooth = 0.0100 \t lr = 0.0100 \t best_epoch =    27 \t best_R2 = -0.00023\n",
            "n train =  64 \t smooth = 0.0100 \t lr = 0.1000 \t best_epoch =    46 \t best_R2 = -0.00001\n",
            "n train =  64 \t smooth = 0.0100 \t lr = 0.2000 \t best_epoch =    34 \t best_R2 = -0.00005\n",
            "n train = 128 \t smooth = 0.0000 \t lr = 0.0001 \t best_epoch =  3040 \t best_R2 = 0.02292\n",
            "n train = 128 \t smooth = 0.0000 \t lr = 0.0010 \t best_epoch =   297 \t best_R2 = 0.00570\n",
            "n train = 128 \t smooth = 0.0000 \t lr = 0.0100 \t best_epoch =    30 \t best_R2 = -0.00003\n",
            "n train = 128 \t smooth = 0.0000 \t lr = 0.1000 \t best_epoch =    10 \t best_R2 = -0.00168\n",
            "n train = 128 \t smooth = 0.0000 \t lr = 0.2000 \t best_epoch =     0 \t best_R2 = -0.00038\n",
            "n train = 128 \t smooth = 0.0010 \t lr = 0.0001 \t best_epoch =  2905 \t best_R2 = 0.00853\n",
            "n train = 128 \t smooth = 0.0010 \t lr = 0.0010 \t best_epoch =  8224 \t best_R2 = 0.98158\n",
            "n train = 128 \t smooth = 0.0010 \t lr = 0.0100 \t best_epoch =    30 \t best_R2 = -0.00003\n",
            "n train = 128 \t smooth = 0.0010 \t lr = 0.1000 \t best_epoch =    10 \t best_R2 = -0.00007\n",
            "n train = 128 \t smooth = 0.0010 \t lr = 0.2000 \t best_epoch =    19 \t best_R2 = -0.00144\n",
            "n train = 128 \t smooth = 0.0100 \t lr = 0.0001 \t best_epoch =  3079 \t best_R2 = 0.01017\n",
            "n train = 128 \t smooth = 0.0100 \t lr = 0.0010 \t best_epoch =   203 \t best_R2 = -0.00012\n",
            "n train = 128 \t smooth = 0.0100 \t lr = 0.0100 \t best_epoch =    22 \t best_R2 = -0.00059\n",
            "n train = 128 \t smooth = 0.0100 \t lr = 0.1000 \t best_epoch =     9 \t best_R2 = -0.00071\n",
            "n train = 128 \t smooth = 0.0100 \t lr = 0.2000 \t best_epoch =    19 \t best_R2 = -0.00001\n"
          ]
        }
      ],
      "source": [
        "# main\n",
        "for _n_train in [32, 64, 128]:\n",
        "    for _smooth in [0, 0.001, 0.01]:\n",
        "        for _lr in [0.0001, 0.001, 0.01, 0.1, 0.2]:\n",
        "\n",
        "            # Create network\n",
        "            device = torch.device(\"cpu\")\n",
        "            net = Net().to(device)\n",
        "\n",
        "            # Create Dataset and DataLoader objects\n",
        "            src_file = 'C:/Users/tln229/Downloads/Python/1. Building/data/HVAC_B90_102_exp_10m_20210424.csv'\n",
        "            n_train  = _n_train\n",
        "            train_ds = Data(src_file, start=0,       end=n_train)\n",
        "            test_ds  = Data(src_file, start=n_train, end=1600)\n",
        "\n",
        "            # train\n",
        "            R2_test = train(net, train_ds, test_ds, lr=_lr, min_epochs=1000, max_epochs=50000, patience=500, smooth=_smooth)\n",
        "\n",
        "            # results\n",
        "            print('n train = %3d \\t smooth = %6.4f \\t lr = %6.4f \\t best_epoch = %5d \\t best_R2 = %7.5f'\n",
        "                % (_n_train, _smooth, _lr, np.argmax(R2_test), np.max(R2_test)))"
      ]
    }
  ],
  "metadata": {
    "colab": {
      "collapsed_sections": [],
      "name": "3. T_z .ipynb",
      "provenance": []
    },
    "kernelspec": {
      "display_name": "Python 3.10.5 64-bit",
      "language": "python",
      "name": "python3"
    },
    "language_info": {
      "codemirror_mode": {
        "name": "ipython",
        "version": 3
      },
      "file_extension": ".py",
      "mimetype": "text/x-python",
      "name": "python",
      "nbconvert_exporter": "python",
      "pygments_lexer": "ipython3",
      "version": "3.10.5"
    },
    "vscode": {
      "interpreter": {
        "hash": "912d6611990680b3d240e982c9d50f3da4c776707cfd42695cf7d82c88d80956"
      }
    }
  },
  "nbformat": 4,
  "nbformat_minor": 0
}
