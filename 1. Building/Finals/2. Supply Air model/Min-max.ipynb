{
  "cells": [
    {
      "cell_type": "code",
      "execution_count": 1,
      "metadata": {
        "id": "jzH_LbEIGLWu"
      },
      "outputs": [],
      "source": [
        "# library\n",
        "import torch\n",
        "import numpy as np\n",
        "import pandas as pd\n",
        "from torchmetrics import R2Score\n",
        "\n",
        "r2score = R2Score()\n",
        "\n",
        "torch.manual_seed(1)\n",
        "np.random.seed(1)"
      ]
    },
    {
      "cell_type": "code",
      "execution_count": 2,
      "metadata": {
        "id": "Y3eaKBL2GhJI"
      },
      "outputs": [],
      "source": [
        "# Model\n",
        "class MonotonicLinear(torch.nn.Module):\n",
        "  def __init__(self, input_size, output_size):\n",
        "    super().__init__()\n",
        "    self.input_size  = input_size\n",
        "    self.output_size = output_size\n",
        "    self.weights = torch.nn.Parameter(torch.rand((output_size, input_size), dtype=torch.float32))\n",
        "\n",
        "  def forward(self, x):\n",
        "    z = torch.mm(x, torch.exp(self.weights.t()))\n",
        "    return z\n",
        "\n",
        "class Net(torch.nn.Module):\n",
        "  def __init__(self):\n",
        "    super(Net, self).__init__()\n",
        "    self.input1  = MonotonicLinear(2, 32)\n",
        "    self.hidden1 = MonotonicLinear(32, 1)\n",
        "    self.input2  = torch.nn.Linear(2, 32)\n",
        "    self.hidden2 = torch.nn.Linear(32, 1)\n",
        "\n",
        "  def forward(self, x_m, x_u):\n",
        "    z1 = torch.tanh(self.input1(x_m))\n",
        "    z1 = self.hidden1(z1)\n",
        "\n",
        "    z2 = torch.tanh(self.input2(x_u))\n",
        "    z2 = self.hidden2(z2)\n",
        "\n",
        "    z = torch.add(z1, z2)\n",
        "    return z\n",
        "\n",
        "# Create network\n",
        "device = torch.device(\"cpu\")\n",
        "net = Net().to(device)"
      ]
    },
    {
      "cell_type": "code",
      "execution_count": 3,
      "metadata": {
        "id": "BtNtb3epPIzJ"
      },
      "outputs": [],
      "source": [
        "# Model evaluation\n",
        "def eval(model, testset):\n",
        "    with torch.no_grad():\n",
        "        pred_Y = model(testset.x_m_data, testset.x_u_data)\n",
        "    \n",
        "    r2 = r2score(pred_Y, testset.y_data)\n",
        "    return r2.item()"
      ]
    },
    {
      "cell_type": "code",
      "execution_count": 4,
      "metadata": {
        "id": "dTWtNEdVHCuw"
      },
      "outputs": [],
      "source": [
        "# Data class\n",
        "class Data(torch.utils.data.Dataset):\n",
        "  def __init__(self, src_file, start=None, end=None):\n",
        "    df = pd.read_csv(src_file)\n",
        "    Tca_k1   = np.array(df['ahu_supply_temp']).reshape(-1,1)[start+1: end+1]\n",
        "    Tsa_k    = np.array(df['supply_discharge_temp']).reshape(-1,1)[start: end]\n",
        "    Tsa_k1   = np.array(df['supply_discharge_temp']).reshape(-1,1)[start+1: end+1]\n",
        "    valve_k2 = np.array(df['htg_valve_position']).reshape(-1,1)[start+2: end+2]\n",
        "\n",
        "    tmp_x_m = np.concatenate((Tca_k1, valve_k2), axis=1)\n",
        "    tmp_x_u = np.concatenate((Tsa_k, Tsa_k1), axis=1)\n",
        "    tmp_y   = np.array(df['supply_discharge_temp']).reshape(-1,1)[start+2: end+2]\n",
        "\n",
        "    self.x_m_data = torch.tensor(tmp_x_m, dtype=torch.float32)\n",
        "    self.x_u_data = torch.tensor(tmp_x_u, dtype=torch.float32)\n",
        "    self.y_data = torch.tensor(tmp_y, dtype=torch.float32)\n",
        "\n",
        "  def __len__(self):\n",
        "    return len(self.y_data)\n",
        "\n",
        "  def __getitem__(self, idx):\n",
        "    if torch.is_tensor(idx):\n",
        "      idx = idx.tolist()\n",
        "    inp_m  = self.x_m_data[idx]\n",
        "    inp_u  = self.x_u_data[idx]\n",
        "    outp   = self.y_data[idx]\n",
        "    sample = {'inp_m':inp_m,'inp_u':inp_u, 'outp':outp}\n",
        "    return sample"
      ]
    },
    {
      "cell_type": "code",
      "execution_count": 5,
      "metadata": {},
      "outputs": [],
      "source": [
        "# Early stopping function\n",
        "def early_stop(list, min_epochs, patience):\n",
        "    if(len(list) > min_epochs):\n",
        "        if(np.max(list[-patience:]) < 1.00001*np.max(list[0: -patience])):\n",
        "            return 1\n",
        "    return 0"
      ]
    },
    {
      "cell_type": "code",
      "execution_count": 6,
      "metadata": {
        "colab": {
          "base_uri": "https://localhost:8080/"
        },
        "id": "gebr4CnRLFBd",
        "outputId": "d74e7cd7-8dab-49a9-babc-e77577dd73b7"
      },
      "outputs": [],
      "source": [
        "# train function\n",
        "def train(net, train_ds, test_ds, lr=0.001, min_epochs=200, max_epochs=100000, patience=100, smooth=0):\n",
        "    loss_func  = torch.nn.MSELoss()\n",
        "    optimizer  = torch.optim.Adam(net.parameters(), lr=lr)\n",
        "\n",
        "    R2_test    = np.array([])\n",
        "    train_ldr = torch.utils.data.DataLoader(train_ds, batch_size=train_ds.y_data.shape[0], shuffle=True)\n",
        "    for _ in range(0, max_epochs+1):\n",
        "        net.train()\n",
        "        for (_, batch) in enumerate(train_ldr):\n",
        "            X_m = batch['inp_m']\n",
        "            X_u = batch['inp_u']\n",
        "            Y   = batch['outp']\n",
        "\n",
        "            optimizer.zero_grad()\n",
        "            output = net(X_m, X_u)\n",
        "            loss_val = loss_func(output, Y) + smooth*loss_func(output, X_u[:, 1].reshape(-1,1))\n",
        "            loss_val.backward()\n",
        "            optimizer.step()\n",
        "\n",
        "        net.eval()\n",
        "        R2_test = np.append(R2_test, eval(net, test_ds))\n",
        "        \n",
        "        if(early_stop(list = R2_test, min_epochs = min_epochs, patience = patience) == 1):\n",
        "            break\n",
        "    \n",
        "    return R2_test"
      ]
    },
    {
      "cell_type": "code",
      "execution_count": 7,
      "metadata": {},
      "outputs": [
        {
          "name": "stdout",
          "output_type": "stream",
          "text": [
            "    n_train  smooth      lr  best_epoch      R2\n",
            "0      32.0   0.000  0.0001         3.0 -3.7290\n",
            "1      32.0   0.000  0.0010         3.0 -3.4033\n",
            "2      32.0   0.000  0.0100         3.0 -2.2904\n",
            "3      32.0   0.000  0.1000         2.0 -0.0011\n",
            "4      32.0   0.000  0.2000         1.0 -0.0053\n",
            "5      32.0   0.001  0.0001         3.0 -2.9477\n",
            "6      32.0   0.001  0.0010         3.0 -3.2028\n",
            "7      32.0   0.001  0.0100         3.0 -1.3672\n",
            "8      32.0   0.001  0.1000         2.0 -0.0002\n",
            "9      32.0   0.001  0.2000         1.0 -0.0990\n",
            "10     32.0   0.010  0.0001         3.0 -2.3540\n",
            "11     32.0   0.010  0.0010         3.0 -4.9475\n",
            "12     32.0   0.010  0.0100         3.0 -1.4024\n",
            "13     32.0   0.010  0.1000         2.0 -0.0003\n",
            "14     32.0   0.010  0.2000         2.0 -0.0069\n",
            "15     64.0   0.000  0.0001         3.0 -2.4436\n",
            "16     64.0   0.000  0.0010         3.0 -3.8482\n",
            "17     64.0   0.000  0.0100         3.0 -2.3364\n",
            "18     64.0   0.000  0.1000         1.0 -0.0051\n",
            "19     64.0   0.000  0.2000         0.0 -0.1840\n",
            "20     64.0   0.001  0.0001         3.0 -2.4582\n",
            "21     64.0   0.001  0.0010         3.0 -4.2705\n",
            "22     64.0   0.001  0.0100         3.0 -1.8177\n",
            "23     64.0   0.001  0.1000         1.0 -0.0001\n",
            "24     64.0   0.001  0.2000         0.0 -0.0529\n",
            "25     64.0   0.010  0.0001         3.0 -2.7352\n",
            "26     64.0   0.010  0.0010         3.0 -1.1969\n",
            "27     64.0   0.010  0.0100         3.0 -4.2721\n",
            "28     64.0   0.010  0.1000         1.0 -0.0783\n",
            "29     64.0   0.010  0.2000         0.0 -0.0090\n",
            "30    128.0   0.000  0.0001         3.0 -2.5923\n",
            "31    128.0   0.000  0.0010         3.0 -2.4139\n",
            "32    128.0   0.000  0.0100         3.0 -1.4804\n",
            "33    128.0   0.000  0.1000         1.0 -0.0004\n",
            "34    128.0   0.000  0.2000         0.0 -0.0516\n",
            "35    128.0   0.001  0.0001         3.0 -3.2365\n",
            "36    128.0   0.001  0.0010         3.0 -2.2292\n",
            "37    128.0   0.001  0.0100         3.0 -2.1157\n",
            "38    128.0   0.001  0.1000         1.0 -0.0826\n",
            "39    128.0   0.001  0.2000         0.0 -0.2168\n",
            "40    128.0   0.010  0.0001         3.0 -1.0534\n",
            "41    128.0   0.010  0.0010         3.0 -2.0401\n",
            "42    128.0   0.010  0.0100         3.0 -1.7456\n",
            "43    128.0   0.010  0.1000         1.0 -0.1076\n",
            "44    128.0   0.010  0.2000         0.0 -0.2406\n"
          ]
        }
      ],
      "source": [
        "# main\n",
        "df_result = pd.DataFrame({'n_train':[], 'smooth':[], 'lr':[], 'best_epoch':[], 'R2':[]})\n",
        "for _n_train in [32, 64, 128]:\n",
        "    for _smooth in [0, 0.001, 0.01]:\n",
        "        for _lr in [0.0001, 0.001, 0.01, 0.1, 0.2]:\n",
        "\n",
        "            # Create network\n",
        "            device = torch.device(\"cpu\")\n",
        "            net = Net().to(device)\n",
        "\n",
        "            # Create Dataset and DataLoader objects\n",
        "            src_file = 'C:/Users/tln229/Downloads/Python/1. Building/data/HVAC_B90_102_exp_10m_20210424.csv'\n",
        "            n_train  = _n_train\n",
        "            train_ds = Data(src_file, start=0,       end=n_train)\n",
        "            test_ds  = Data(src_file, start=n_train, end=1600)\n",
        "\n",
        "            # train\n",
        "            R2_test = train(net, train_ds, test_ds, lr=_lr, min_epochs=1000, max_epochs=50000, patience=500, smooth=_smooth)\n",
        "\n",
        "            # results\n",
        "            # print('n train = %3d \\t smooth = %6.4f \\t lr = %6.4f \\t best_epoch = %5d \\t best_R2 = %7.5f'\n",
        "            #     % (_n_train, _smooth, _lr, np.argmax(R2_test), np.max(R2_test)))\n",
        "            df_result.loc[len(df_result)] = [_n_train, _smooth, _lr, np.argmax(R2_test), np.max(R2_test)]\n",
        "\n",
        "with pd.option_context('display.max_rows', None,\n",
        "                       'display.max_columns', None,\n",
        "                       'display.precision', 4,\n",
        "                       ):\n",
        "    print(df_result)"
      ]
    }
  ],
  "metadata": {
    "colab": {
      "collapsed_sections": [],
      "name": "3. T_z .ipynb",
      "provenance": []
    },
    "kernelspec": {
      "display_name": "Python 3.10.5 64-bit",
      "language": "python",
      "name": "python3"
    },
    "language_info": {
      "codemirror_mode": {
        "name": "ipython",
        "version": 3
      },
      "file_extension": ".py",
      "mimetype": "text/x-python",
      "name": "python",
      "nbconvert_exporter": "python",
      "pygments_lexer": "ipython3",
      "version": "3.10.5"
    },
    "vscode": {
      "interpreter": {
        "hash": "912d6611990680b3d240e982c9d50f3da4c776707cfd42695cf7d82c88d80956"
      }
    }
  },
  "nbformat": 4,
  "nbformat_minor": 0
}
