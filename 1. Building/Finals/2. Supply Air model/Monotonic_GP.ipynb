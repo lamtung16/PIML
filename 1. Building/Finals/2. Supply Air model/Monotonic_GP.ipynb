{
 "cells": [
  {
   "cell_type": "code",
   "execution_count": 1,
   "metadata": {},
   "outputs": [
    {
     "name": "stderr",
     "output_type": "stream",
     "text": [
      "Unable to determine R home: [WinError 2] The system cannot find the file specified\n",
      "R[write to console]: Loading required package: mvtnorm\n",
      "\n"
     ]
    },
    {
     "name": "stdout",
     "output_type": "stream",
     "text": [
      "Loading constrained GP module from C:\\Users\\tln229\\Downloads\\Python\\1. Building\\Finals\\2. Supply Air model\n",
      "Loading R wrapper...\n"
     ]
    },
    {
     "name": "stderr",
     "output_type": "stream",
     "text": [
      "R[write to console]: Loading required package: Matrix\n",
      "\n",
      "R[write to console]: Loading required package: stats4\n",
      "\n",
      "R[write to console]: Loading required package: gmm\n",
      "\n",
      "R[write to console]: Loading required package: sandwich\n",
      "\n",
      "R[write to console]: \n",
      "Attaching package: 'TruncatedNormal'\n",
      "\n",
      "\n",
      "R[write to console]: The following objects are masked from 'package:tmvtnorm':\n",
      "\n",
      "    dtmvnorm, dtmvt, ptmvnorm, ptmvt, rtmvnorm, rtmvt\n",
      "\n",
      "\n",
      "R[write to console]: The following objects are masked from 'package:mvtnorm':\n",
      "\n",
      "    pmvnorm, pmvt\n",
      "\n",
      "\n"
     ]
    },
    {
     "name": "stdout",
     "output_type": "stream",
     "text": [
      "Running R from rpy2: R version 4.2.2 (2022-10-31 ucrt)\n"
     ]
    }
   ],
   "source": [
    "import sys\n",
    "import numpy as np\n",
    "import pandas as pd\n",
    "from sklearn.metrics import r2_score\n",
    "\n",
    "### Custom files ###\n",
    "dir_gp_constr = 'C:\\\\Users\\\\tln229\\\\Downloads\\\\Python Tests\\\\Constrained GP_2\\\\GP_2\\\\gp_constr\\\\'\n",
    "sys.path.append(dir_gp_constr)\n",
    "\n",
    "# Import\n",
    "from GPConstr.model import GPmodel, Constraint\n",
    "from GPConstr.kern import kernel_Matern52"
   ]
  },
  {
   "cell_type": "code",
   "execution_count": 2,
   "metadata": {},
   "outputs": [],
   "source": [
    "def get_diagnostics_df(x_test, y_test, mean, var):\n",
    "    \"\"\" Put test data in a dataframe\"\"\"\n",
    "    df = pd.DataFrame(x_test)\n",
    "    df.columns = ['x' + str(i+1) for i in range(x_test.shape[1])]\n",
    "    df['y_true'] = y_test\n",
    "    df['y_mean'] = mean\n",
    "    df['y_var'] = var\n",
    "    return df"
   ]
  },
  {
   "cell_type": "code",
   "execution_count": 3,
   "metadata": {},
   "outputs": [],
   "source": [
    "def constant_function(val):\n",
    "    def fun(x):\n",
    "        return np.array([val]*x.shape[0])\n",
    "    return fun"
   ]
  },
  {
   "cell_type": "code",
   "execution_count": 4,
   "metadata": {},
   "outputs": [],
   "source": [
    "# ---------- DATA ----------\n",
    "def create_data(n_train, n_Xv):\n",
    "    df = pd.read_csv('C:/Users/tln229/Downloads/Python/1. Building/data/HVAC_B90_102_exp_10m_20210424.csv')\n",
    "\n",
    "    # TRAIN SET\n",
    "    Tca_k1   = np.array(df['ahu_supply_temp']).reshape(-1,1)[1: n_train+1]\n",
    "    Tsa_k    = np.array(df['supply_discharge_temp']).reshape(-1,1)[0: n_train]\n",
    "    Tsa_k1   = np.array(df['supply_discharge_temp']).reshape(-1,1)[1: n_train+1]\n",
    "    valve_k2 = np.array(df['htg_valve_position']).reshape(-1,1)[2: n_train+2]\n",
    "\n",
    "    x_train = np.concatenate((Tca_k1, Tsa_k, Tsa_k1, valve_k2), axis=1)\n",
    "    y_train = np.array(df['supply_discharge_temp'])[2: n_train+2]\n",
    "\n",
    "    # Xv\n",
    "    x1v = np.linspace(53, 57, n_Xv).reshape(-1, 1)\n",
    "    x2v = np.linspace(56, 96, n_Xv).reshape(-1, 1)\n",
    "    x3v = np.linspace(56, 96, n_Xv).reshape(-1, 1)\n",
    "    x4v = np.linspace(0, 100, n_Xv).reshape(-1, 1)\n",
    "    Xv  = np.concatenate((x1v, x2v, x3v, x4v), axis = 1)\n",
    "\n",
    "    # TEST SET\n",
    "    Tca_k1_t   = np.array(df['ahu_supply_temp']).reshape(-1,1)[n_train+1: 1600+1]\n",
    "    Tsa_k_t    = np.array(df['supply_discharge_temp']).reshape(-1,1)[n_train: 1600]\n",
    "    Tsa_k1_t   = np.array(df['supply_discharge_temp']).reshape(-1,1)[n_train+1: 1600+1]\n",
    "    valve_k2_t = np.array(df['htg_valve_position']).reshape(-1,1)[n_train+2: 1600+2]\n",
    "\n",
    "    x_test = np.concatenate((Tca_k1_t, Tsa_k_t, Tsa_k1_t, valve_k2_t), axis=1)\n",
    "    y_test = np.array(df['supply_discharge_temp'])[n_train+2: 1600+2]\n",
    "\n",
    "    return x_train, y_train, Xv, x_test, y_test"
   ]
  },
  {
   "cell_type": "code",
   "execution_count": 5,
   "metadata": {},
   "outputs": [
    {
     "name": "stdout",
     "output_type": "stream",
     "text": [
      "..Running optimization for unconstrained GP ... DONE - Total time: 0.071 seconds\n",
      "..Running calculation of K_w ... SKIP - (cached)\n",
      "..Running calculation of Cholesky factor for K_w ... SKIP - (cached)\n",
      "..Running preparation step 1 - dependence on (XS, X) ... DONE - time: 0.070 seconds\n",
      "..Running preparation step 2 - dependence on (XV, X) ... DONE - time: 0.001 seconds\n",
      "..Running preparation step 3 - dependence on (XS, XV, X) ... DONE - time: 0.016 seconds\n",
      "..sampling 5000 times from truncated constraint distribution C~|C, Y DONE - time: 0.060 seconds\n",
      "..sampling 5000 times from constrained GP f*|C, Y DONE - time: 3.681 seconds\n",
      "..computing statistics from samples DONE - time: 0.203 seconds\n",
      " DONE - Total time: 4.032 seconds\n",
      "WARNING: covariance matrix not PD! -- used closest PD matrix, error = 1.5582549139914192e-11\n",
      "..Running optimization for unconstrained GP ... DONE - Total time: 0.076 seconds\n",
      "..Running calculation of K_w ... SKIP - (cached)\n",
      "..Running calculation of Cholesky factor for K_w ... SKIP - (cached)\n",
      "..Running preparation step 1 - dependence on (XS, X) ... DONE - time: 0.075 seconds\n",
      "..Running preparation step 2 - dependence on (XV, X) ... DONE - time: 0.002 seconds\n",
      "..Running preparation step 3 - dependence on (XS, XV, X) ... DONE - time: 0.019 seconds\n",
      "..sampling 5000 times from truncated constraint distribution C~|C, Y DONE - time: 0.128 seconds\n",
      "..sampling 5000 times from constrained GP f*|C, Y DONE - time: 3.823 seconds\n",
      "..computing statistics from samples DONE - time: 0.200 seconds\n",
      " DONE - Total time: 4.248 seconds\n",
      "WARNING: covariance matrix not PD! -- used closest PD matrix, error = 1.5578913159508545e-11\n",
      "..Running optimization for unconstrained GP ... DONE - Total time: 0.067 seconds\n",
      "..Running calculation of K_w ... SKIP - (cached)\n",
      "..Running calculation of Cholesky factor for K_w ... SKIP - (cached)\n",
      "..Running preparation step 1 - dependence on (XS, X) ... DONE - time: 0.074 seconds\n",
      "..Running preparation step 2 - dependence on (XV, X) ... DONE - time: 0.003 seconds\n",
      "..Running preparation step 3 - dependence on (XS, XV, X) ... DONE - time: 0.027 seconds\n",
      "..sampling 5000 times from truncated constraint distribution C~|C, Y DONE - time: 0.307 seconds\n",
      "..sampling 5000 times from constrained GP f*|C, Y DONE - time: 3.718 seconds\n",
      "..computing statistics from samples DONE - time: 0.207 seconds\n",
      " DONE - Total time: 4.337 seconds\n",
      "WARNING: covariance matrix not PD! -- used closest PD matrix, error = 1.558089074427116e-11\n",
      "..Running optimization for unconstrained GP ... DONE - Total time: 0.143 seconds\n",
      "..Running calculation of K_w ... SKIP - (cached)\n",
      "..Running calculation of Cholesky factor for K_w ... SKIP - (cached)\n",
      "..Running preparation step 1 - dependence on (XS, X) ... DONE - time: 0.075 seconds\n",
      "..Running preparation step 2 - dependence on (XV, X) ... DONE - time: 0.002 seconds\n",
      "..Running preparation step 3 - dependence on (XS, XV, X) ... DONE - time: 0.018 seconds\n",
      "..sampling 5000 times from truncated constraint distribution C~|C, Y DONE - time: 0.052 seconds\n",
      "..sampling 5000 times from constrained GP f*|C, Y DONE - time: 4.053 seconds\n",
      "..computing statistics from samples DONE - time: 0.194 seconds\n",
      " DONE - Total time: 4.395 seconds\n",
      "WARNING: covariance matrix not PD! -- used closest PD matrix, error = 3.9964725973007376e-11\n",
      "..Running optimization for unconstrained GP ... DONE - Total time: 0.138 seconds\n",
      "..Running calculation of K_w ... SKIP - (cached)\n",
      "..Running calculation of Cholesky factor for K_w ... SKIP - (cached)\n",
      "..Running preparation step 1 - dependence on (XS, X) ... DONE - time: 0.076 seconds\n",
      "..Running preparation step 2 - dependence on (XV, X) ... DONE - time: 0.003 seconds\n",
      "..Running preparation step 3 - dependence on (XS, XV, X) ... DONE - time: 0.021 seconds\n",
      "..sampling 5000 times from truncated constraint distribution C~|C, Y DONE - time: 0.126 seconds\n",
      "..sampling 5000 times from constrained GP f*|C, Y DONE - time: 4.036 seconds\n",
      "..computing statistics from samples DONE - time: 0.201 seconds\n",
      " DONE - Total time: 4.463 seconds\n",
      "WARNING: covariance matrix not PD! -- used closest PD matrix, error = 3.996646069648335e-11\n",
      "..Running optimization for unconstrained GP ... DONE - Total time: 0.144 seconds\n",
      "..Running calculation of K_w ... SKIP - (cached)\n",
      "..Running calculation of Cholesky factor for K_w ... SKIP - (cached)\n",
      "..Running preparation step 1 - dependence on (XS, X) ... DONE - time: 0.077 seconds\n",
      "..Running preparation step 2 - dependence on (XV, X) ... DONE - time: 0.003 seconds\n",
      "..Running preparation step 3 - dependence on (XS, XV, X) ... DONE - time: 0.029 seconds\n",
      "..sampling 5000 times from truncated constraint distribution C~|C, Y DONE - time: 0.299 seconds\n",
      "..sampling 5000 times from constrained GP f*|C, Y DONE - time: 4.785 seconds\n",
      "..computing statistics from samples DONE - time: 0.192 seconds\n",
      " DONE - Total time: 5.386 seconds\n",
      "WARNING: covariance matrix not PD! -- used closest PD matrix, error = 3.999616610128598e-11\n",
      "..Running optimization for unconstrained GP ... DONE - Total time: 0.456 seconds\n",
      "..Running calculation of K_w ... SKIP - (cached)\n",
      "..Running calculation of Cholesky factor for K_w ... SKIP - (cached)\n",
      "..Running preparation step 1 - dependence on (XS, X) ... DONE - time: 0.079 seconds\n",
      "..Running preparation step 2 - dependence on (XV, X) ... DONE - time: 0.002 seconds\n",
      "..Running preparation step 3 - dependence on (XS, XV, X) ... DONE - time: 0.015 seconds\n",
      "..sampling 5000 times from truncated constraint distribution C~|C, Y DONE - time: 0.061 seconds\n",
      "..sampling 5000 times from constrained GP f*|C, Y DONE - time: 3.513 seconds\n",
      "..computing statistics from samples DONE - time: 0.192 seconds\n",
      " DONE - Total time: 3.863 seconds\n",
      "WARNING: covariance matrix not PD! -- used closest PD matrix, error = 5.259465085671877e-11\n",
      "..Running optimization for unconstrained GP ... DONE - Total time: 0.450 seconds\n",
      "..Running calculation of K_w ... SKIP - (cached)\n",
      "..Running calculation of Cholesky factor for K_w ... SKIP - (cached)\n",
      "..Running preparation step 1 - dependence on (XS, X) ... DONE - time: 0.072 seconds\n",
      "..Running preparation step 2 - dependence on (XV, X) ... DONE - time: 0.002 seconds\n",
      "..Running preparation step 3 - dependence on (XS, XV, X) ... DONE - time: 0.019 seconds\n",
      "..sampling 5000 times from truncated constraint distribution C~|C, Y DONE - time: 0.101 seconds\n",
      "..sampling 5000 times from constrained GP f*|C, Y DONE - time: 3.781 seconds\n",
      "..computing statistics from samples DONE - time: 0.189 seconds\n",
      " DONE - Total time: 4.163 seconds\n",
      "WARNING: covariance matrix not PD! -- used closest PD matrix, error = 5.259002608393182e-11\n",
      "..Running optimization for unconstrained GP ... DONE - Total time: 0.484 seconds\n",
      "..Running calculation of K_w ... SKIP - (cached)\n",
      "..Running calculation of Cholesky factor for K_w ... SKIP - (cached)\n",
      "..Running preparation step 1 - dependence on (XS, X) ... DONE - time: 0.074 seconds\n",
      "..Running preparation step 2 - dependence on (XV, X) ... DONE - time: 0.004 seconds\n",
      "..Running preparation step 3 - dependence on (XS, XV, X) ... DONE - time: 0.025 seconds\n",
      "..sampling 5000 times from truncated constraint distribution C~|C, Y DONE - time: 0.433 seconds\n",
      "..sampling 5000 times from constrained GP f*|C, Y DONE - time: 3.253 seconds\n",
      "..computing statistics from samples DONE - time: 0.191 seconds\n",
      " DONE - Total time: 3.982 seconds\n",
      "WARNING: covariance matrix not PD! -- used closest PD matrix, error = 5.258712215683303e-11\n"
     ]
    }
   ],
   "source": [
    "df_result = pd.DataFrame({'n_train':[], 'n_Xv':[], 'R2':[]})\n",
    "\n",
    "for n_train in ([32, 64, 128]):\n",
    "    for n_Xv in ([5, 10, 20]):\n",
    "        # DATA\n",
    "        x_train, y_train, Xv, x_test, y_test = create_data(n_train=n_train, n_Xv=n_Xv)\n",
    "\n",
    "        # MODEL\n",
    "        ker = kernel_Matern52(variance = 1, lengthscale = [1]*x_train.shape[1])\n",
    "        model = GPmodel(kernel = ker, likelihood = 1, mean = 0)\n",
    "\n",
    "        model.X_training = x_train\n",
    "        model.Y_training = y_train\n",
    "\n",
    "        model.optimize(include_constraint = False, fix_likelihood = False)\n",
    "\n",
    "        # CONSTRAINTS\n",
    "        model.constr_deriv = [\n",
    "            Constraint(LB = constant_function(0), UB = constant_function(float('Inf'))),\n",
    "            Constraint(LB = constant_function(float('-Inf')), UB = constant_function(float('Inf'))),\n",
    "            Constraint(LB = constant_function(float('-Inf')), UB = constant_function(float('Inf'))),\n",
    "            Constraint(LB = constant_function(0), UB = constant_function(float('Inf')))\n",
    "        ]\n",
    "\n",
    "        model.constr_deriv[0].Xv = Xv\n",
    "        model.constr_deriv[1].Xv = Xv\n",
    "        model.constr_deriv[2].Xv = Xv\n",
    "        model.constr_deriv[3].Xv = Xv\n",
    "\n",
    "        model.constr_likelihood = 1E-6\n",
    "\n",
    "        # PREDICT\n",
    "        mean, _, _, _, _, _ = model.calc_posterior_constrained(x_test, num_samples = 5000, save_samples = 500)\n",
    "        mean = np.array(mean).flatten()\n",
    "        df_result.loc[len(df_result)] = [n_train, n_Xv, r2_score(y_test, mean)]"
   ]
  },
  {
   "cell_type": "code",
   "execution_count": 6,
   "metadata": {},
   "outputs": [
    {
     "name": "stdout",
     "output_type": "stream",
     "text": [
      "   n_train  n_Xv        R2\n",
      "0     32.0   5.0  0.754234\n",
      "1     32.0  10.0  0.754656\n",
      "2     32.0  20.0  0.752235\n",
      "3     64.0   5.0  0.988724\n",
      "4     64.0  10.0  0.988669\n",
      "5     64.0  20.0  0.988561\n",
      "6    128.0   5.0  0.989679\n",
      "7    128.0  10.0  0.989655\n",
      "8    128.0  20.0  0.989645\n"
     ]
    }
   ],
   "source": [
    "print(df_result)"
   ]
  }
 ],
 "metadata": {
  "kernelspec": {
   "display_name": "Python 3",
   "language": "python",
   "name": "python3"
  },
  "language_info": {
   "codemirror_mode": {
    "name": "ipython",
    "version": 3
   },
   "file_extension": ".py",
   "mimetype": "text/x-python",
   "name": "python",
   "nbconvert_exporter": "python",
   "pygments_lexer": "ipython3",
   "version": "3.10.5 (tags/v3.10.5:f377153, Jun  6 2022, 16:14:13) [MSC v.1929 64 bit (AMD64)]"
  },
  "vscode": {
   "interpreter": {
    "hash": "912d6611990680b3d240e982c9d50f3da4c776707cfd42695cf7d82c88d80956"
   }
  }
 },
 "nbformat": 4,
 "nbformat_minor": 2
}
