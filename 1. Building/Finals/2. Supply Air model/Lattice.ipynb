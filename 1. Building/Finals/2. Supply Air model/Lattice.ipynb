{
  "cells": [
    {
      "cell_type": "code",
      "execution_count": 1,
      "metadata": {
        "id": "pYcTCRwIJASl"
      },
      "outputs": [],
      "source": [
        "import tensorflow as tf\n",
        "import tensorflow_addons as tfa\n",
        "import tensorflow_lattice as tfl\n",
        "import numpy as np\n",
        "import pandas as pd\n",
        "\n",
        "np.random.seed(1)"
      ]
    },
    {
      "cell_type": "code",
      "execution_count": 2,
      "metadata": {},
      "outputs": [],
      "source": [
        "# DATA\n",
        "df = pd.read_csv('C:/Users/tln229/Downloads/Python/1. Building/data/HVAC_B90_102_exp_10m_20210424.csv')"
      ]
    },
    {
      "cell_type": "code",
      "execution_count": 3,
      "metadata": {},
      "outputs": [
        {
          "name": "stdout",
          "output_type": "stream",
          "text": [
            "n: 32  \t  y_max: 2  \t  grid_size:  3  \t  lr:0.0010  \t  r2: 0.8916\n",
            "n: 32  \t  y_max: 2  \t  grid_size:  3  \t  lr:0.0100  \t  r2: 0.8976\n",
            "n: 32  \t  y_max: 2  \t  grid_size:  3  \t  lr:0.1000  \t  r2: 0.9001\n",
            "n: 32  \t  y_max: 2  \t  grid_size:  3  \t  lr:0.2000  \t  r2: 0.9016\n",
            "n: 32  \t  y_max: 2  \t  grid_size: 10  \t  lr:0.0010  \t  r2: 0.9211\n",
            "n: 32  \t  y_max: 2  \t  grid_size: 10  \t  lr:0.0100  \t  r2: 0.9217\n",
            "n: 32  \t  y_max: 2  \t  grid_size: 10  \t  lr:0.1000  \t  r2: 0.8881\n",
            "n: 32  \t  y_max: 2  \t  grid_size: 10  \t  lr:0.2000  \t  r2: 0.9062\n",
            "n: 32  \t  y_max: 2  \t  grid_size: 20  \t  lr:0.0010  \t  r2: 0.9284\n",
            "n: 32  \t  y_max: 2  \t  grid_size: 20  \t  lr:0.0100  \t  r2: 0.9298\n",
            "n: 32  \t  y_max: 2  \t  grid_size: 20  \t  lr:0.1000  \t  r2: 0.8776\n",
            "n: 32  \t  y_max: 2  \t  grid_size: 20  \t  lr:0.2000  \t  r2: 0.8604\n",
            "n: 32  \t  y_max: 2  \t  grid_size: 50  \t  lr:0.0010  \t  r2: 0.9313\n",
            "n: 32  \t  y_max: 2  \t  grid_size: 50  \t  lr:0.0100  \t  r2: 0.9272\n",
            "n: 32  \t  y_max: 2  \t  grid_size: 50  \t  lr:0.1000  \t  r2: 0.7488\n",
            "n: 32  \t  y_max: 2  \t  grid_size: 50  \t  lr:0.2000  \t  r2: 0.7500\n"
          ]
        }
      ],
      "source": [
        "for n_train in ([32, 64, 128]):\n",
        "    for y_max in ([2, 5, 10, 20]):\n",
        "        for grid_size in ([3, 10, 20, 50]):\n",
        "            for lr in ([0.001, 0.01, 0.1, 0.2]):\n",
        "                \n",
        "                # DATA\n",
        "                # trainning set\n",
        "                Tca_k1   = np.array(df['ahu_supply_temp']).reshape(-1,1)[1: n_train+1]\n",
        "                Tsa_k    = np.array(df['supply_discharge_temp']).reshape(-1,1)[0: n_train]\n",
        "                Tsa_k1   = np.array(df['supply_discharge_temp']).reshape(-1,1)[1: n_train+1]\n",
        "                valve_k2 = np.array(df['htg_valve_position']).reshape(-1,1)[2: n_train+2]\n",
        "\n",
        "                X = np.concatenate((Tca_k1, Tsa_k, Tsa_k1, valve_k2), axis=1)\n",
        "                Y = np.array(df['supply_discharge_temp']).reshape(-1,1)[2: n_train+2]\n",
        "\n",
        "                # test set\n",
        "                Tca_k1   = np.array(df['ahu_supply_temp']).reshape(-1,1)[n_train+1: 1600+1]\n",
        "                Tsa_k    = np.array(df['supply_discharge_temp']).reshape(-1,1)[n_train: 1600]\n",
        "                Tsa_k1   = np.array(df['supply_discharge_temp']).reshape(-1,1)[n_train+1: 1600+1]\n",
        "                valve_k2 = np.array(df['htg_valve_position']).reshape(-1,1)[n_train+2: 1600+2]\n",
        "\n",
        "                X_t = np.concatenate((Tca_k1, Tsa_k, Tsa_k1, valve_k2), axis=1)\n",
        "                Y_t = np.array(df['supply_discharge_temp']).reshape(-1,1)[n_train+2: 1600+2]\n",
        "\n",
        "                # MODEL\n",
        "                # combined calibrator\n",
        "                combined_calibrators = tfl.layers.ParallelCombination()\n",
        "\n",
        "                calibrator_x1 = tfl.layers.PWLCalibration(input_keypoints=np.linspace(53, 57, grid_size), output_min=0, output_max=y_max, monotonicity='increasing')\n",
        "                calibrator_x2 = tfl.layers.PWLCalibration(input_keypoints=np.linspace(55, 96, grid_size), output_min=0, output_max=y_max)\n",
        "                calibrator_x3 = tfl.layers.PWLCalibration(input_keypoints=np.linspace(55, 96, grid_size), output_min=0, output_max=y_max)\n",
        "                calibrator_x4 = tfl.layers.PWLCalibration(input_keypoints=np.linspace(0, 100, grid_size), output_min=0, output_max=y_max, monotonicity='increasing')\n",
        "\n",
        "                combined_calibrators.append(calibrator_x1)\n",
        "                combined_calibrators.append(calibrator_x2)\n",
        "                combined_calibrators.append(calibrator_x3)\n",
        "                combined_calibrators.append(calibrator_x4)\n",
        "\n",
        "                # Lattice\n",
        "                lattice = tfl.layers.Lattice(\n",
        "                    lattice_sizes = [y_max+1, y_max+1, y_max+1, y_max+1],\n",
        "                    monotonicities = ['increasing', 'increasing', 'increasing', 'increasing'],\n",
        "                    output_min = 55,\n",
        "                    output_max = 96)\n",
        "                \n",
        "                # model\n",
        "                inps  = tf.keras.Input(shape=(4,))\n",
        "                calib = combined_calibrators(inps)\n",
        "                outs  = lattice(calib)\n",
        "\n",
        "                model = tf.keras.Model(inputs=inps, outputs=outs)\n",
        "                model.compile(\n",
        "                    loss = tf.keras.losses.mean_squared_error,\n",
        "                    optimizer = tf.keras.optimizers.Adam(learning_rate=lr),\n",
        "                    metrics = [tfa.metrics.RSquare()])\n",
        "                \n",
        "                # TRAIN\n",
        "                callback = tf.keras.callbacks.EarlyStopping(monitor='val_loss', patience=500)\n",
        "\n",
        "                hist = model.fit(\n",
        "                    x = X,\n",
        "                    y = Y,\n",
        "                    batch_size = Y.shape[0],\n",
        "                    epochs = 200000,\n",
        "                    shuffle = False,\n",
        "                    validation_data=(X_t, Y_t),\n",
        "                    callbacks=[callback],\n",
        "                    verbose = 0)\n",
        "                \n",
        "                a = np.argmax(hist.history['val_r_square'])\n",
        "                print('n:%3d  \\t  y_max:%2d  \\t  grid_size:%3d  \\t  lr:%6.4f  \\t  r2:%7.4f' % (n_train, y_max, grid_size, lr, hist.history['val_r_square'][a]))"
      ]
    }
  ],
  "metadata": {
    "colab": {
      "provenance": []
    },
    "kernelspec": {
      "display_name": "Python 3.10.5 64-bit",
      "language": "python",
      "name": "python3"
    },
    "language_info": {
      "codemirror_mode": {
        "name": "ipython",
        "version": 3
      },
      "file_extension": ".py",
      "mimetype": "text/x-python",
      "name": "python",
      "nbconvert_exporter": "python",
      "pygments_lexer": "ipython3",
      "version": "3.10.5"
    },
    "vscode": {
      "interpreter": {
        "hash": "912d6611990680b3d240e982c9d50f3da4c776707cfd42695cf7d82c88d80956"
      }
    }
  },
  "nbformat": 4,
  "nbformat_minor": 0
}
