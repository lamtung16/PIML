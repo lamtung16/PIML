{
  "cells": [
    {
      "cell_type": "code",
      "execution_count": 1,
      "metadata": {
        "id": "jzH_LbEIGLWu"
      },
      "outputs": [],
      "source": [
        "# library\n",
        "import torch\n",
        "import numpy as np\n",
        "import pandas as pd\n",
        "from torchmetrics import R2Score\n",
        "\n",
        "r2score = R2Score()\n",
        "\n",
        "torch.manual_seed(1)\n",
        "np.random.seed(1)"
      ]
    },
    {
      "cell_type": "code",
      "execution_count": 2,
      "metadata": {
        "id": "Y3eaKBL2GhJI"
      },
      "outputs": [],
      "source": [
        "# Model\n",
        "class Net(torch.nn.Module):\n",
        "  def __init__(self, s):\n",
        "    super(Net, self).__init__()\n",
        "    self.input   = torch.nn.Linear(4, s)\n",
        "    self.output  = torch.nn.Linear(s, 1)\n",
        "\n",
        "  def forward(self, x):\n",
        "    z = torch.tanh(self.input(x))\n",
        "    z = self.output(z)\n",
        "    return z"
      ]
    },
    {
      "cell_type": "code",
      "execution_count": 3,
      "metadata": {
        "id": "BtNtb3epPIzJ"
      },
      "outputs": [],
      "source": [
        "# Model evaluation\n",
        "def eval(model, testset):\n",
        "    with torch.no_grad():\n",
        "        pred_Y = model(testset.x_data)\n",
        "    \n",
        "    r2 = r2score(pred_Y, testset.y_data)\n",
        "    return r2.item()"
      ]
    },
    {
      "cell_type": "code",
      "execution_count": 4,
      "metadata": {
        "id": "dTWtNEdVHCuw"
      },
      "outputs": [],
      "source": [
        "# Data class\n",
        "class Data(torch.utils.data.Dataset):\n",
        "  def __init__(self, src_file, start=None, end=None):\n",
        "    df = pd.read_csv(src_file)\n",
        "    Tca_k1   = np.array(df['ahu_supply_temp']).reshape(-1,1)[start+1: end+1]\n",
        "    Tsa_k    = np.array(df['supply_discharge_temp']).reshape(-1,1)[start: end]\n",
        "    Tsa_k1   = np.array(df['supply_discharge_temp']).reshape(-1,1)[start+1: end+1]\n",
        "    valve_k2 = np.array(df['htg_valve_position']).reshape(-1,1)[start+2: end+2]\n",
        "\n",
        "    tmp_x = np.concatenate((Tca_k1, Tsa_k, Tsa_k1, valve_k2), axis=1)\n",
        "    tmp_y = np.array(df['supply_discharge_temp']).reshape(-1,1)[start+2: end+2]\n",
        "\n",
        "    self.x_data = torch.tensor(tmp_x, dtype=torch.float32)\n",
        "    self.y_data = torch.tensor(tmp_y, dtype=torch.float32)\n",
        "\n",
        "  def __len__(self):\n",
        "    return len(self.x_data)\n",
        "\n",
        "  def __getitem__(self, idx):\n",
        "    if torch.is_tensor(idx):\n",
        "      idx = idx.tolist()\n",
        "    inp  = self.x_data[idx]\n",
        "    outp = self.y_data[idx]\n",
        "    sample = {'inp':inp, 'outp':outp}\n",
        "    return sample"
      ]
    },
    {
      "cell_type": "code",
      "execution_count": 5,
      "metadata": {},
      "outputs": [],
      "source": [
        "# Early stopping function\n",
        "def early_stop(list, min_epochs, patience):\n",
        "    if(len(list) > min_epochs):\n",
        "        if(np.max(list[-patience:]) < 1.00001*np.max(list[0: -patience])):\n",
        "            return 1\n",
        "    return 0"
      ]
    },
    {
      "cell_type": "code",
      "execution_count": 6,
      "metadata": {
        "colab": {
          "base_uri": "https://localhost:8080/"
        },
        "id": "gebr4CnRLFBd",
        "outputId": "d74e7cd7-8dab-49a9-babc-e77577dd73b7"
      },
      "outputs": [],
      "source": [
        "# train function\n",
        "def train(net, train_ds, test_ds, lr=0.001, min_epochs=200, max_epochs=100000, patience=100, smooth=0):\n",
        "    loss_func  = torch.nn.MSELoss()\n",
        "    optimizer  = torch.optim.Adam(net.parameters(), lr=lr)\n",
        "\n",
        "    R2_test = np.array([])\n",
        "    train_ldr = torch.utils.data.DataLoader(train_ds, batch_size=train_ds.y_data.shape[0], shuffle=True)\n",
        "    for _ in range(0, max_epochs+1):\n",
        "        net.train()\n",
        "        for (_, batch) in enumerate(train_ldr):\n",
        "            X = batch['inp']\n",
        "            Y = batch['outp']\n",
        "\n",
        "            optimizer.zero_grad()\n",
        "            output = net(X)\n",
        "            loss_val = loss_func(output, Y) + smooth*loss_func(output, X[:, 2].reshape(-1,1))\n",
        "            loss_val.backward()\n",
        "            optimizer.step()\n",
        "\n",
        "        net.eval()\n",
        "        R2_test = np.append(R2_test, eval(net, test_ds))\n",
        "        \n",
        "        if(early_stop(list = R2_test, min_epochs = min_epochs, patience = patience) == 1):\n",
        "            break\n",
        "    \n",
        "    return R2_test"
      ]
    },
    {
      "cell_type": "code",
      "execution_count": 7,
      "metadata": {},
      "outputs": [
        {
          "name": "stdout",
          "output_type": "stream",
          "text": [
            "n train =  32 \t smooth = 0.0000 \t layer size = 16 \t lr = 0.0001 \t best_epoch = 64820 \t best_R2 = -0.40170\n",
            "n train =  32 \t smooth = 0.0000 \t layer size = 16 \t lr = 0.0010 \t best_epoch =  7350 \t best_R2 = -0.05737\n",
            "n train =  32 \t smooth = 0.0000 \t layer size = 16 \t lr = 0.0100 \t best_epoch = 17877 \t best_R2 = -0.39858\n",
            "n train =  32 \t smooth = 0.0000 \t layer size = 16 \t lr = 0.1000 \t best_epoch =    77 \t best_R2 = -0.26306\n",
            "n train =  32 \t smooth = 0.0000 \t layer size = 32 \t lr = 0.0001 \t best_epoch = 42366 \t best_R2 = 0.91003\n",
            "n train =  32 \t smooth = 0.0000 \t layer size = 32 \t lr = 0.0010 \t best_epoch =  8956 \t best_R2 = 0.68940\n",
            "n train =  32 \t smooth = 0.0000 \t layer size = 32 \t lr = 0.0100 \t best_epoch =  2721 \t best_R2 = 0.65613\n",
            "n train =  32 \t smooth = 0.0000 \t layer size = 32 \t lr = 0.1000 \t best_epoch =    34 \t best_R2 = -0.00001\n",
            "n train =  32 \t smooth = 0.0000 \t layer size = 64 \t lr = 0.0001 \t best_epoch = 23582 \t best_R2 = 0.76518\n",
            "n train =  32 \t smooth = 0.0000 \t layer size = 64 \t lr = 0.0010 \t best_epoch =  6342 \t best_R2 = 0.75470\n",
            "n train =  32 \t smooth = 0.0000 \t layer size = 64 \t lr = 0.0100 \t best_epoch =  1932 \t best_R2 = 0.68914\n",
            "n train =  32 \t smooth = 0.0000 \t layer size = 64 \t lr = 0.1000 \t best_epoch =    28 \t best_R2 = -0.00093\n",
            "n train =  32 \t smooth = 0.0010 \t layer size = 16 \t lr = 0.0001 \t best_epoch = 66050 \t best_R2 = -0.80735\n",
            "n train =  32 \t smooth = 0.0010 \t layer size = 16 \t lr = 0.0010 \t best_epoch = 50205 \t best_R2 = 0.93379\n",
            "n train =  32 \t smooth = 0.0010 \t layer size = 16 \t lr = 0.0100 \t best_epoch = 17874 \t best_R2 = -0.39835\n",
            "n train =  32 \t smooth = 0.0010 \t layer size = 16 \t lr = 0.1000 \t best_epoch =    76 \t best_R2 = -1.17142\n",
            "n train =  32 \t smooth = 0.0010 \t layer size = 32 \t lr = 0.0001 \t best_epoch = 22027 \t best_R2 = -1.64517\n",
            "n train =  32 \t smooth = 0.0010 \t layer size = 32 \t lr = 0.0010 \t best_epoch =  8961 \t best_R2 = 0.87007\n",
            "n train =  32 \t smooth = 0.0010 \t layer size = 32 \t lr = 0.0100 \t best_epoch = 15512 \t best_R2 = -0.54067\n",
            "n train =  32 \t smooth = 0.0010 \t layer size = 32 \t lr = 0.1000 \t best_epoch =    37 \t best_R2 = -0.08835\n",
            "n train =  32 \t smooth = 0.0010 \t layer size = 64 \t lr = 0.0001 \t best_epoch = 26699 \t best_R2 = 0.81749\n",
            "n train =  32 \t smooth = 0.0010 \t layer size = 64 \t lr = 0.0010 \t best_epoch =  3757 \t best_R2 = 0.85462\n",
            "n train =  32 \t smooth = 0.0010 \t layer size = 64 \t lr = 0.0100 \t best_epoch =  1348 \t best_R2 = 0.82728\n",
            "n train =  32 \t smooth = 0.0010 \t layer size = 64 \t lr = 0.1000 \t best_epoch =    28 \t best_R2 = -0.04349\n",
            "n train =  32 \t smooth = 0.0100 \t layer size = 16 \t lr = 0.0001 \t best_epoch = 64720 \t best_R2 = -0.82690\n",
            "n train =  32 \t smooth = 0.0100 \t layer size = 16 \t lr = 0.0010 \t best_epoch = 11732 \t best_R2 = 0.79469\n",
            "n train =  32 \t smooth = 0.0100 \t layer size = 16 \t lr = 0.0100 \t best_epoch = 17858 \t best_R2 = -0.59875\n",
            "n train =  32 \t smooth = 0.0100 \t layer size = 16 \t lr = 0.1000 \t best_epoch =    73 \t best_R2 = -0.24881\n",
            "n train =  32 \t smooth = 0.0100 \t layer size = 32 \t lr = 0.0001 \t best_epoch = 30969 \t best_R2 = 0.72931\n",
            "n train =  32 \t smooth = 0.0100 \t layer size = 32 \t lr = 0.0010 \t best_epoch =  5562 \t best_R2 = 0.74988\n",
            "n train =  32 \t smooth = 0.0100 \t layer size = 32 \t lr = 0.0100 \t best_epoch = 15983 \t best_R2 = -0.39626\n",
            "n train =  32 \t smooth = 0.0100 \t layer size = 32 \t lr = 0.1000 \t best_epoch =    39 \t best_R2 = -0.02912\n",
            "n train =  32 \t smooth = 0.0100 \t layer size = 64 \t lr = 0.0001 \t best_epoch = 24790 \t best_R2 = 0.67890\n",
            "n train =  32 \t smooth = 0.0100 \t layer size = 64 \t lr = 0.0010 \t best_epoch =  6049 \t best_R2 = 0.83666\n",
            "n train =  32 \t smooth = 0.0100 \t layer size = 64 \t lr = 0.0100 \t best_epoch =   376 \t best_R2 = -0.43860\n",
            "n train =  32 \t smooth = 0.0100 \t layer size = 64 \t lr = 0.1000 \t best_epoch =    28 \t best_R2 = -0.00070\n",
            "n train =  64 \t smooth = 0.0000 \t layer size = 16 \t lr = 0.0001 \t best_epoch = 47568 \t best_R2 = -0.00113\n",
            "n train =  64 \t smooth = 0.0000 \t layer size = 16 \t lr = 0.0010 \t best_epoch = 10745 \t best_R2 = 0.87615\n",
            "n train =  64 \t smooth = 0.0000 \t layer size = 16 \t lr = 0.0100 \t best_epoch =   962 \t best_R2 = -0.00000\n",
            "n train =  64 \t smooth = 0.0000 \t layer size = 16 \t lr = 0.1000 \t best_epoch =    66 \t best_R2 = -0.00004\n",
            "n train =  64 \t smooth = 0.0000 \t layer size = 32 \t lr = 0.0001 \t best_epoch = 30839 \t best_R2 = 0.92069\n",
            "n train =  64 \t smooth = 0.0000 \t layer size = 32 \t lr = 0.0010 \t best_epoch =  5719 \t best_R2 = 0.85885\n",
            "n train =  64 \t smooth = 0.0000 \t layer size = 32 \t lr = 0.0100 \t best_epoch =   497 \t best_R2 = -0.00001\n",
            "n train =  64 \t smooth = 0.0000 \t layer size = 32 \t lr = 0.1000 \t best_epoch =    77 \t best_R2 = -0.00001\n",
            "n train =  64 \t smooth = 0.0000 \t layer size = 64 \t lr = 0.0001 \t best_epoch = 20178 \t best_R2 = 0.93023\n",
            "n train =  64 \t smooth = 0.0000 \t layer size = 64 \t lr = 0.0010 \t best_epoch =  5600 \t best_R2 = 0.91221\n",
            "n train =  64 \t smooth = 0.0000 \t layer size = 64 \t lr = 0.0100 \t best_epoch =   233 \t best_R2 = -0.00000\n",
            "n train =  64 \t smooth = 0.0000 \t layer size = 64 \t lr = 0.1000 \t best_epoch =    54 \t best_R2 = -0.00047\n",
            "n train =  64 \t smooth = 0.0010 \t layer size = 16 \t lr = 0.0001 \t best_epoch = 52101 \t best_R2 = 0.56387\n",
            "n train =  64 \t smooth = 0.0010 \t layer size = 16 \t lr = 0.0010 \t best_epoch =  7434 \t best_R2 = 0.82668\n",
            "n train =  64 \t smooth = 0.0010 \t layer size = 16 \t lr = 0.0100 \t best_epoch =   960 \t best_R2 = -0.00000\n",
            "n train =  64 \t smooth = 0.0010 \t layer size = 16 \t lr = 0.1000 \t best_epoch =    67 \t best_R2 = -0.00010\n",
            "n train =  64 \t smooth = 0.0010 \t layer size = 32 \t lr = 0.0001 \t best_epoch = 29112 \t best_R2 = 0.89663\n",
            "n train =  64 \t smooth = 0.0010 \t layer size = 32 \t lr = 0.0010 \t best_epoch =  4908 \t best_R2 = 0.84254\n",
            "n train =  64 \t smooth = 0.0010 \t layer size = 32 \t lr = 0.0100 \t best_epoch =   481 \t best_R2 = -0.00000\n",
            "n train =  64 \t smooth = 0.0010 \t layer size = 32 \t lr = 0.1000 \t best_epoch =    71 \t best_R2 = -0.00000\n",
            "n train =  64 \t smooth = 0.0010 \t layer size = 64 \t lr = 0.0001 \t best_epoch = 20156 \t best_R2 = 0.89573\n",
            "n train =  64 \t smooth = 0.0010 \t layer size = 64 \t lr = 0.0010 \t best_epoch =  2855 \t best_R2 = 0.82734\n",
            "n train =  64 \t smooth = 0.0010 \t layer size = 64 \t lr = 0.0100 \t best_epoch =   234 \t best_R2 = -0.00000\n",
            "n train =  64 \t smooth = 0.0010 \t layer size = 64 \t lr = 0.1000 \t best_epoch =    54 \t best_R2 = -0.00001\n",
            "n train =  64 \t smooth = 0.0100 \t layer size = 16 \t lr = 0.0001 \t best_epoch = 48038 \t best_R2 = -0.00000\n",
            "n train =  64 \t smooth = 0.0100 \t layer size = 16 \t lr = 0.0010 \t best_epoch =  8918 \t best_R2 = 0.76890\n",
            "n train =  64 \t smooth = 0.0100 \t layer size = 16 \t lr = 0.0100 \t best_epoch =   960 \t best_R2 = -0.00000\n",
            "n train =  64 \t smooth = 0.0100 \t layer size = 16 \t lr = 0.1000 \t best_epoch =    66 \t best_R2 = -0.00009\n",
            "n train =  64 \t smooth = 0.0100 \t layer size = 32 \t lr = 0.0001 \t best_epoch = 31391 \t best_R2 = 0.94266\n",
            "n train =  64 \t smooth = 0.0100 \t layer size = 32 \t lr = 0.0010 \t best_epoch =  5497 \t best_R2 = 0.81044\n",
            "n train =  64 \t smooth = 0.0100 \t layer size = 32 \t lr = 0.0100 \t best_epoch =  2180 \t best_R2 = 0.73342\n",
            "n train =  64 \t smooth = 0.0100 \t layer size = 32 \t lr = 0.1000 \t best_epoch =    70 \t best_R2 = -0.00000\n",
            "n train =  64 \t smooth = 0.0100 \t layer size = 64 \t lr = 0.0001 \t best_epoch = 19925 \t best_R2 = 0.93789\n",
            "n train =  64 \t smooth = 0.0100 \t layer size = 64 \t lr = 0.0010 \t best_epoch =  5327 \t best_R2 = 0.92096\n",
            "n train =  64 \t smooth = 0.0100 \t layer size = 64 \t lr = 0.0100 \t best_epoch =  2558 \t best_R2 = 0.85294\n",
            "n train =  64 \t smooth = 0.0100 \t layer size = 64 \t lr = 0.1000 \t best_epoch =    54 \t best_R2 = -0.00020\n",
            "n train = 128 \t smooth = 0.0000 \t layer size = 16 \t lr = 0.0001 \t best_epoch = 46464 \t best_R2 = 0.00000\n",
            "n train = 128 \t smooth = 0.0000 \t layer size = 16 \t lr = 0.0010 \t best_epoch = 15585 \t best_R2 = 0.81674\n",
            "n train = 128 \t smooth = 0.0000 \t layer size = 16 \t lr = 0.0100 \t best_epoch =   808 \t best_R2 = 0.00000\n",
            "n train = 128 \t smooth = 0.0000 \t layer size = 16 \t lr = 0.1000 \t best_epoch =    61 \t best_R2 = -0.00001\n",
            "n train = 128 \t smooth = 0.0000 \t layer size = 32 \t lr = 0.0001 \t best_epoch = 28960 \t best_R2 = 0.88818\n",
            "n train = 128 \t smooth = 0.0000 \t layer size = 32 \t lr = 0.0010 \t best_epoch =  4502 \t best_R2 = 0.82736\n",
            "n train = 128 \t smooth = 0.0000 \t layer size = 32 \t lr = 0.0100 \t best_epoch =   414 \t best_R2 = 0.00000\n",
            "n train = 128 \t smooth = 0.0000 \t layer size = 32 \t lr = 0.1000 \t best_epoch =    27 \t best_R2 = -0.00252\n",
            "n train = 128 \t smooth = 0.0000 \t layer size = 64 \t lr = 0.0001 \t best_epoch = 19067 \t best_R2 = 0.92413\n",
            "n train = 128 \t smooth = 0.0000 \t layer size = 64 \t lr = 0.0010 \t best_epoch =  4558 \t best_R2 = 0.89648\n",
            "n train = 128 \t smooth = 0.0000 \t layer size = 64 \t lr = 0.0100 \t best_epoch =  3112 \t best_R2 = 0.73515\n",
            "n train = 128 \t smooth = 0.0000 \t layer size = 64 \t lr = 0.1000 \t best_epoch =    50 \t best_R2 = 0.00000\n",
            "n train = 128 \t smooth = 0.0010 \t layer size = 16 \t lr = 0.0001 \t best_epoch = 46510 \t best_R2 = 0.00000\n",
            "n train = 128 \t smooth = 0.0010 \t layer size = 16 \t lr = 0.0010 \t best_epoch =  7675 \t best_R2 = 0.78115\n",
            "n train = 128 \t smooth = 0.0010 \t layer size = 16 \t lr = 0.0100 \t best_epoch =   805 \t best_R2 = 0.00000\n",
            "n train = 128 \t smooth = 0.0010 \t layer size = 16 \t lr = 0.1000 \t best_epoch =    62 \t best_R2 = 0.00000\n",
            "n train = 128 \t smooth = 0.0010 \t layer size = 32 \t lr = 0.0001 \t best_epoch = 28373 \t best_R2 = 0.86695\n",
            "n train = 128 \t smooth = 0.0010 \t layer size = 32 \t lr = 0.0010 \t best_epoch =  6051 \t best_R2 = 0.82344\n",
            "n train = 128 \t smooth = 0.0010 \t layer size = 32 \t lr = 0.0100 \t best_epoch =   408 \t best_R2 = 0.00000\n",
            "n train = 128 \t smooth = 0.0010 \t layer size = 32 \t lr = 0.1000 \t best_epoch =    27 \t best_R2 = -0.00002\n",
            "n train = 128 \t smooth = 0.0010 \t layer size = 64 \t lr = 0.0001 \t best_epoch = 18464 \t best_R2 = 0.84211\n",
            "n train = 128 \t smooth = 0.0010 \t layer size = 64 \t lr = 0.0010 \t best_epoch =  2453 \t best_R2 = 0.69269\n",
            "n train = 128 \t smooth = 0.0010 \t layer size = 64 \t lr = 0.0100 \t best_epoch =  3165 \t best_R2 = 0.86268\n",
            "n train = 128 \t smooth = 0.0010 \t layer size = 64 \t lr = 0.1000 \t best_epoch =    50 \t best_R2 = -0.00036\n",
            "n train = 128 \t smooth = 0.0100 \t layer size = 16 \t lr = 0.0001 \t best_epoch = 46910 \t best_R2 = 0.00000\n",
            "n train = 128 \t smooth = 0.0100 \t layer size = 16 \t lr = 0.0010 \t best_epoch = 10506 \t best_R2 = 0.89870\n",
            "n train = 128 \t smooth = 0.0100 \t layer size = 16 \t lr = 0.0100 \t best_epoch =   813 \t best_R2 = 0.00000\n",
            "n train = 128 \t smooth = 0.0100 \t layer size = 16 \t lr = 0.1000 \t best_epoch =    63 \t best_R2 = -0.00017\n",
            "n train = 128 \t smooth = 0.0100 \t layer size = 32 \t lr = 0.0001 \t best_epoch = 27590 \t best_R2 = 0.77987\n",
            "n train = 128 \t smooth = 0.0100 \t layer size = 32 \t lr = 0.0010 \t best_epoch =  5870 \t best_R2 = 0.91124\n",
            "n train = 128 \t smooth = 0.0100 \t layer size = 32 \t lr = 0.0100 \t best_epoch =   411 \t best_R2 = 0.00000\n",
            "n train = 128 \t smooth = 0.0100 \t layer size = 32 \t lr = 0.1000 \t best_epoch =    27 \t best_R2 = -0.00160\n",
            "n train = 128 \t smooth = 0.0100 \t layer size = 64 \t lr = 0.0001 \t best_epoch = 19261 \t best_R2 = 0.92784\n",
            "n train = 128 \t smooth = 0.0100 \t layer size = 64 \t lr = 0.0010 \t best_epoch =  6849 \t best_R2 = 0.87286\n",
            "n train = 128 \t smooth = 0.0100 \t layer size = 64 \t lr = 0.0100 \t best_epoch =   196 \t best_R2 = -0.00001\n",
            "n train = 128 \t smooth = 0.0100 \t layer size = 64 \t lr = 0.1000 \t best_epoch =    40 \t best_R2 = -0.00003\n"
          ]
        }
      ],
      "source": [
        "# main\n",
        "for _n_train in [32, 64, 128]:\n",
        "    for _smooth in [0, 0.001, 0.01]:\n",
        "        for h in [16, 32, 64]:\n",
        "            for _lr in [0.0001, 0.001, 0.01, 0.1]:\n",
        "\n",
        "                # Create network\n",
        "                device = torch.device(\"cpu\")\n",
        "                net = Net(h).to(device)\n",
        "\n",
        "                # Create Dataset and DataLoader objects\n",
        "                src_file = 'C:/Users/tln229/Downloads/Python/1. Building/data/HVAC_B90_102_exp_10m_20210424.csv'\n",
        "                n_train  = _n_train\n",
        "                train_ds = Data(src_file, start=0,       end=n_train)\n",
        "                test_ds  = Data(src_file, start=n_train, end=1600)\n",
        "\n",
        "                # train\n",
        "                R2_test = train(net, train_ds, test_ds, lr=_lr, min_epochs=1000, max_epochs=100000, patience=500, smooth=_smooth)\n",
        "\n",
        "                # results\n",
        "                print('n train = %3d \\t smooth = %6.4f \\t layer size = %2d \\t lr = %6.4f \\t best_epoch = %5d \\t best_R2 = %7.5f'\n",
        "                    % (_n_train, _smooth, h, _lr, np.argmax(R2_test), np.max(R2_test)))"
      ]
    }
  ],
  "metadata": {
    "colab": {
      "collapsed_sections": [],
      "name": "3. T_z .ipynb",
      "provenance": []
    },
    "kernelspec": {
      "display_name": "Python 3.10.5 64-bit",
      "language": "python",
      "name": "python3"
    },
    "language_info": {
      "codemirror_mode": {
        "name": "ipython",
        "version": 3
      },
      "file_extension": ".py",
      "mimetype": "text/x-python",
      "name": "python",
      "nbconvert_exporter": "python",
      "pygments_lexer": "ipython3",
      "version": "3.10.5"
    },
    "vscode": {
      "interpreter": {
        "hash": "912d6611990680b3d240e982c9d50f3da4c776707cfd42695cf7d82c88d80956"
      }
    }
  },
  "nbformat": 4,
  "nbformat_minor": 0
}
