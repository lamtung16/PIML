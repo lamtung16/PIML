{
 "cells": [
  {
   "cell_type": "code",
   "execution_count": 40,
   "metadata": {},
   "outputs": [],
   "source": [
    "import torch\n",
    "import pandas as pd\n",
    "import numpy as np\n",
    "from sklearn.metrics import r2_score\n",
    "import matplotlib.pyplot as plt"
   ]
  },
  {
   "cell_type": "code",
   "execution_count": 41,
   "metadata": {},
   "outputs": [],
   "source": [
    "# Tz\n",
    "class MonotonicLinear(torch.nn.Module):\n",
    "  def __init__(self, input_size, output_size):\n",
    "    super().__init__()\n",
    "    self.input_size  = input_size\n",
    "    self.output_size = output_size\n",
    "    self.weights = torch.nn.Parameter(torch.rand((output_size, input_size), dtype=torch.float32))\n",
    "\n",
    "  def forward(self, x):\n",
    "    z = torch.mm(x, torch.exp(self.weights.t()))\n",
    "    return z\n",
    "\n",
    "class Net(torch.nn.Module):\n",
    "  def __init__(self):\n",
    "    super(Net, self).__init__()\n",
    "    self.input1 = MonotonicLinear(1, 3)\n",
    "    self.input2 = torch.nn.Linear(2, 3)\n",
    "    self.output = torch.nn.MaxPool1d(3)\n",
    "\n",
    "  def forward(self, x_m, x_u):\n",
    "    z1 = self.input1(x_m)\n",
    "    z2 = self.input2(x_u)\n",
    "    z = torch.add(z1, z2)\n",
    "    z = self.output(z)\n",
    "    return z\n",
    "\n",
    "Tz = Net()\n",
    "Tz = torch.load('C:/Users/tln229/Downloads/Python/Building/0. Saved models/Tz.pt')"
   ]
  },
  {
   "cell_type": "code",
   "execution_count": 42,
   "metadata": {},
   "outputs": [],
   "source": [
    "# Thermostat\n",
    "class Net(torch.nn.Module):\n",
    "    def __init__(self):\n",
    "        super(Net, self).__init__()\n",
    "        self.input   = torch.nn.Linear(3, 32)\n",
    "        self.output  = torch.nn.Linear(32, 1)\n",
    "\n",
    "    def forward(self, x):\n",
    "        z = torch.tanh(self.input(x))\n",
    "        z = self.output(z)\n",
    "        z = torch.relu(100 - torch.relu(z))\n",
    "        return z\n",
    "\n",
    "Thermostat = Net()\n",
    "Thermostat = torch.load('C:/Users/tln229/Downloads/Python/Building/0. Saved models/Thermostat.pt')"
   ]
  },
  {
   "cell_type": "code",
   "execution_count": 43,
   "metadata": {},
   "outputs": [],
   "source": [
    "# Tsa\n",
    "class Net(torch.nn.Module):\n",
    "  def __init__(self):\n",
    "    super(Net, self).__init__()\n",
    "    self.input1  = MonotonicLinear(2, 32)\n",
    "    self.hidden1 = MonotonicLinear(32, 1)\n",
    "    self.input2  = torch.nn.Linear(2, 32)\n",
    "    self.hidden2 = torch.nn.Linear(32, 1)\n",
    "\n",
    "  def forward(self, x_m, x_u):\n",
    "    z1 = torch.tanh(self.input1(x_m))\n",
    "    z1 = self.hidden1(z1)\n",
    "\n",
    "    z2 = torch.tanh(self.input2(x_u))\n",
    "    z2 = self.hidden2(z2)\n",
    "\n",
    "    z = torch.add(z1, z2)\n",
    "    return z\n",
    "\n",
    "Tsa = Net()\n",
    "Tsa = torch.load('C:/Users/tln229/Downloads/Python/Building/0. Saved models/Tsa.pt')"
   ]
  },
  {
   "cell_type": "code",
   "execution_count": 44,
   "metadata": {},
   "outputs": [],
   "source": [
    "# msa\n",
    "class Net(torch.nn.Module):\n",
    "  def __init__(self):\n",
    "    super(Net, self).__init__()\n",
    "    self.input   = torch.nn.Linear(4, 32)\n",
    "    self.output  = torch.nn.Linear(32, 1)\n",
    "\n",
    "  def forward(self, x):\n",
    "    z = torch.selu(self.input(x))\n",
    "    z = self.output(z)\n",
    "    return z\n",
    "\n",
    "msa = Net()\n",
    "msa = torch.load('C:/Users/tln229/Downloads/Python/Building/0. Saved models/msa.pt')"
   ]
  },
  {
   "cell_type": "code",
   "execution_count": 45,
   "metadata": {},
   "outputs": [],
   "source": [
    "# qrh\n",
    "class Net(torch.nn.Module):\n",
    "  def __init__(self):\n",
    "    super(Net, self).__init__()\n",
    "    self.input   = torch.nn.Linear(4, 32)\n",
    "    self.output  = torch.nn.Linear(32, 1)\n",
    "\n",
    "  def forward(self, x):\n",
    "    z = torch.selu(self.input(x))\n",
    "    z = self.output(z)\n",
    "    return z\n",
    "\n",
    "qrh = Net()\n",
    "qrh = torch.load('C:/Users/tln229/Downloads/Python/Building/0. Saved models/qrh.pt')"
   ]
  },
  {
   "cell_type": "code",
   "execution_count": 46,
   "metadata": {},
   "outputs": [],
   "source": [
    "# Read data\n",
    "df = pd.read_csv('C:/Users/tln229/Downloads/Python/Building/data/HVAC_B90_102_exp_10m_20210424.csv')\n",
    "\n",
    "# LEAST SQUARE\n",
    "ones = np.ones(np.array(df['airflow_desired']).reshape(-1,1).shape)\n",
    "A = np.concatenate((np.array(df['htg_valve_command']).reshape(-1,1), ones), axis=1)\n",
    "b = np.copy(np.array(df['airflow_desired']).reshape(-1,1))\n",
    "p = np.linalg.lstsq(A, b, rcond=None)[0]\n",
    "\n",
    "def LQ(q):\n",
    "    return q*p[0] + p[1]"
   ]
  },
  {
   "cell_type": "code",
   "execution_count": 47,
   "metadata": {},
   "outputs": [],
   "source": [
    "start = 64\n",
    "end   = 1600\n",
    "\n",
    "msa_0 = np.array(df['airflow_current']).reshape(-1,1)[start: end]\n",
    "msa_1 = np.array(df['airflow_current']).reshape(-1,1)[start+1: end+1]\n",
    "msa_2 = np.array(df['airflow_current']).reshape(-1,1)[start+2: end+2]\n",
    "mc_3  = np.array(df['airflow_desired']).reshape(-1,1)[start+3: end+3]\n",
    "\n",
    "qrh_0 = np.array(df['htg_valve_position']).reshape(-1,1)[start: end]\n",
    "qrh_1 = np.array(df['htg_valve_position']).reshape(-1,1)[start+1: end+1]\n",
    "qrh_2 = np.array(df['htg_valve_position']).reshape(-1,1)[start+2: end+2]\n",
    "qc_3  = np.array(df['htg_valve_command']).reshape(-1,1)[start+3: end+3]\n",
    "\n",
    "Tca_2 = np.array(df['ahu_supply_temp']).reshape(-1,1)[start+2: end+2]\n",
    "\n",
    "Tsa_1 = np.array(df['supply_discharge_temp']).reshape(-1,1)[start+1: end+1]\n",
    "Tsa_2 = np.array(df['supply_discharge_temp']).reshape(-1,1)[start+2: end+2]\n",
    "\n",
    "Tz_2  = np.array(df['room_temp']).reshape(-1,1)[start+2: end+2]\n",
    "Tz_3  = np.array(df['room_temp']).reshape(-1,1)[start+3: end+3]\n",
    "\n",
    "clg_sp       = np.array(df['clg_sp_current']).reshape(-1,1)[start+3: end+3]\n",
    "htg_sp       = np.array(df['htg_sp_current']).reshape(-1,1)[start+3: end+3]\n",
    "htg_clg_mode = 1*np.array(df['htg_clg_mode']).reshape(-1,1)[start+3: end+3]\n",
    "Tsp_3        = htg_sp*htg_clg_mode + clg_sp*(1-htg_clg_mode)"
   ]
  },
  {
   "cell_type": "code",
   "execution_count": 48,
   "metadata": {},
   "outputs": [],
   "source": [
    "def NormalizeData(data, min, max):\n",
    "    return 100*(data-min)/(max-min)\n",
    "\n",
    "def DeNormalizeData(scaled_data, min, max):\n",
    "    return min + scaled_data*(max-min)/100"
   ]
  },
  {
   "cell_type": "code",
   "execution_count": 49,
   "metadata": {},
   "outputs": [],
   "source": [
    "msa0 = msa_0[0].reshape(-1,1)\n",
    "msa1 = msa_1[0].reshape(-1,1)\n",
    "msa2 = msa_2[0].reshape(-1,1)\n",
    "mc3  =  mc_3[0].reshape(-1,1)\n",
    "qrh0 = qrh_0[0].reshape(-1,1)\n",
    "qrh1 = qrh_1[0].reshape(-1,1)\n",
    "qrh2 = qrh_2[0].reshape(-1,1)\n",
    "qc3  =  qc_3[0].reshape(-1,1)\n",
    "Tsa1 = Tsa_1[0].reshape(-1,1)\n",
    "Tsa2 = Tsa_2[0].reshape(-1,1)\n",
    "Tca2 = Tca_2[0].reshape(-1,1)\n",
    "Tz2  =  Tz_2[0].reshape(-1,1)\n",
    "Tsp3 = Tsp_3[0].reshape(-1,1)\n",
    "\n",
    "# horizon length\n",
    "n = 1500\n",
    "T = np.array([])\n",
    "for i in range(n):\n",
    "    with torch.no_grad():\n",
    "        # COMPUTE\n",
    "        x = np.concatenate((mc3, msa0, msa1, msa2), axis=1)\n",
    "        x = NormalizeData(x, 400, 1000)\n",
    "        x = torch.tensor(x, dtype=torch.float32)\n",
    "        msa3 = msa(x)\n",
    "        msa3 = torch.relu(msa3) - torch.relu(msa3 - 100)\n",
    "        msa3 = DeNormalizeData(msa3, 400, 1000)\n",
    "\n",
    "        x = np.concatenate((qc3, qrh0, qrh1, qrh2), axis=1)\n",
    "        x = torch.tensor(x, dtype=torch.float32)\n",
    "        qrh3 = qrh(x)\n",
    "        qrh3 = torch.relu(qrh3) - torch.relu(qrh3 - 100)\n",
    "\n",
    "        x1 = np.concatenate((Tca2, qrh3), axis=1)\n",
    "        x1 = torch.tensor(x1, dtype=torch.float32)\n",
    "        x2 = np.concatenate((Tsa1, Tsa2), axis=1)\n",
    "        x2 = torch.tensor(x2, dtype=torch.float32)\n",
    "        Tsa3 = Tsa(x1, x2)\n",
    "\n",
    "        x1 = torch.tensor(np.copy(Tsa3), dtype=torch.float32)\n",
    "        x2 = np.concatenate((Tz2, msa3), axis=1)\n",
    "        x2 = torch.tensor(x2, dtype=torch.float32)\n",
    "        Tz3 = Tz(x1, x2)\n",
    "\n",
    "        x = np.concatenate((Tsp3, Tz3, qc3), axis=1)\n",
    "        x = torch.tensor(x, dtype=torch.float32)\n",
    "        qc4 = Thermostat(x)\n",
    "\n",
    "        mc4 = LQ(qc4)\n",
    "\n",
    "        # UPDATE\n",
    "        mc3  = np.copy(mc4).reshape(-1,1)\n",
    "        msa0 = np.copy(msa1).reshape(-1,1)\n",
    "        msa1 = np.copy(msa2).reshape(-1,1)\n",
    "        msa2 = np.copy(msa3).reshape(-1,1)\n",
    "\n",
    "        qc3  = np.copy(qc4).reshape(-1,1)\n",
    "        qrh0 = np.copy(qrh1).reshape(-1,1)\n",
    "        qrh1 = np.copy(qrh2).reshape(-1,1)\n",
    "        qrh2 = np.copy(qrh3).reshape(-1,1)\n",
    "\n",
    "        Tca2 = Tca_2[i+1].reshape(-1,1)\n",
    "        Tsa1 = np.copy(Tsa2).reshape(-1,1)\n",
    "        Tsa2 = np.copy(Tsa3).reshape(-1,1)\n",
    "\n",
    "        Tz2 = np.copy(Tz3).reshape(-1,1)\n",
    "\n",
    "        Tsp3 = Tsp_3[i+1].reshape(-1,1)\n",
    "\n",
    "        # save Tz\n",
    "        T = np.append(T, Tz3)"
   ]
  },
  {
   "cell_type": "code",
   "execution_count": 50,
   "metadata": {},
   "outputs": [
    {
     "data": {
      "text/plain": [
       "5.155017357381185"
      ]
     },
     "execution_count": 50,
     "metadata": {},
     "output_type": "execute_result"
    }
   ],
   "source": [
    "np.mean(np.abs(T - Tz_3[0:n,0]))"
   ]
  },
  {
   "cell_type": "code",
   "execution_count": 51,
   "metadata": {},
   "outputs": [
    {
     "data": {
      "text/plain": [
       "-7.741880855535685"
      ]
     },
     "execution_count": 51,
     "metadata": {},
     "output_type": "execute_result"
    }
   ],
   "source": [
    "r2_score(Tz_3[0:n,0], T)"
   ]
  },
  {
   "cell_type": "code",
   "execution_count": 52,
   "metadata": {},
   "outputs": [
    {
     "data": {
      "image/png": "[encoded data removed]",
      "text/plain": [
       "<Figure size 432x288 with 1 Axes>"
      ]
     },
     "metadata": {
      "needs_background": "light"
     },
     "output_type": "display_data"
    }
   ],
   "source": [
    "plt.plot(T)\n",
    "plt.plot(Tz_3[0:n,0])\n",
    "plt.show()"
   ]
  }
 ],
 "metadata": {
  "kernelspec": {
   "display_name": "Python 3.10.5 64-bit",
   "language": "python",
   "name": "python3"
  },
  "language_info": {
   "codemirror_mode": {
    "name": "ipython",
    "version": 3
   },
   "file_extension": ".py",
   "mimetype": "text/x-python",
   "name": "python",
   "nbconvert_exporter": "python",
   "pygments_lexer": "ipython3",
   "version": "3.10.5"
  },
  "orig_nbformat": 4,
  "vscode": {
   "interpreter": {
    "hash": "912d6611990680b3d240e982c9d50f3da4c776707cfd42695cf7d82c88d80956"
   }
  }
 },
 "nbformat": 4,
 "nbformat_minor": 2
}
