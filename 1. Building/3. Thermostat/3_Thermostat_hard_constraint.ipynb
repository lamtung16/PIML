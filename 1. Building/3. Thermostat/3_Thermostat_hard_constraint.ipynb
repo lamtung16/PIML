{
  "cells": [
    {
      "cell_type": "code",
      "execution_count": 1,
      "metadata": {
        "id": "4jzKgPZ5D81V"
      },
      "outputs": [],
      "source": [
        "# library\n",
        "import torch\n",
        "import numpy as np\n",
        "import matplotlib.pyplot as plt\n",
        "import pandas as pd\n",
        "from sklearn.metrics import r2_score\n",
        "\n",
        "torch.manual_seed(1)\n",
        "np.random.seed(1)\n",
        "torch.set_printoptions(precision=3)"
      ]
    },
    {
      "cell_type": "code",
      "execution_count": 2,
      "metadata": {
        "id": "HAEV0sGeEEAE"
      },
      "outputs": [],
      "source": [
        "# Model\n",
        "class Net(torch.nn.Module):\n",
        "    def __init__(self):\n",
        "        super(Net, self).__init__()\n",
        "        self.input   = torch.nn.Linear(3, 32)\n",
        "        self.output  = torch.nn.Linear(32, 1)\n",
        "\n",
        "    def forward(self, x):\n",
        "        z = torch.tanh(self.input(x))\n",
        "        z = self.output(z)\n",
        "        z = torch.relu(100 - torch.relu(z))\n",
        "        return z"
      ]
    },
    {
      "cell_type": "code",
      "execution_count": 3,
      "metadata": {},
      "outputs": [],
      "source": [
        "# Read data\n",
        "df = pd.read_csv('C:/Users/tln229/Downloads/Python/Building/data/HVAC_B90_102_exp_10m_20210424.csv')\n",
        "qrh = np.array(df['htg_valve_command']).reshape(-1,1)\n",
        "msa = np.array(df['airflow_desired']).reshape(-1,1)\n",
        "\n",
        "# LEAST SQUARE\n",
        "ones = np.ones(msa.shape)\n",
        "A = np.concatenate((qrh, ones), axis=1)\n",
        "b = np.copy(msa)\n",
        "p = np.linalg.lstsq(A, b, rcond=None)[0]"
      ]
    },
    {
      "cell_type": "code",
      "execution_count": 4,
      "metadata": {
        "id": "8x017P0OEFVH"
      },
      "outputs": [],
      "source": [
        "# Model error\n",
        "def eval(model, testset):\n",
        "    with torch.no_grad():\n",
        "        pred_Y = model(testset.x_data)\n",
        "    \n",
        "    # R^2 qrh\n",
        "    r2_qrh = r2_score(testset.y_data, pred_Y)\n",
        "\n",
        "    # R^2 msa\n",
        "    pred_msa = pred_Y*p[0] + p[1]\n",
        "    r2_msa = r2_score(testset.msa_data, pred_msa)\n",
        "    \n",
        "    # RMSE\n",
        "    rmse = torch.sqrt(torch.mean(torch.square(pred_Y - testset.y_data)))\n",
        "    return r2_qrh, r2_msa, rmse"
      ]
    },
    {
      "cell_type": "code",
      "execution_count": 5,
      "metadata": {
        "id": "VnK2UB1AEIof"
      },
      "outputs": [],
      "source": [
        "# Create network\n",
        "device = torch.device(\"cpu\")\n",
        "net = Net().to(device)"
      ]
    },
    {
      "cell_type": "code",
      "execution_count": 6,
      "metadata": {
        "id": "GjhVDtdREKfV"
      },
      "outputs": [],
      "source": [
        "# Data\n",
        "class Data(torch.utils.data.Dataset):\n",
        "  def __init__(self, src_file, start=None, end=None):\n",
        "    df = pd.read_csv(src_file)\n",
        "    clg_sp       = np.array(df['clg_sp_current']).reshape(-1,1)[start: end]\n",
        "    htg_sp       = np.array(df['htg_sp_current']).reshape(-1,1)[start: end]\n",
        "    htg_clg_mode = 1*np.array(df['htg_clg_mode']).reshape(-1,1)[start: end]\n",
        "\n",
        "    sp_k   = htg_sp*htg_clg_mode + clg_sp*(1-htg_clg_mode)\n",
        "    Tz_k   = np.array(df['thermostat_room_temp']).reshape(-1,1)[start: end]\n",
        "    qrh_k  = np.array(df['htg_valve_command']).reshape(-1,1)[start: end]\n",
        "    qrh_k1 = np.array(df['htg_valve_command']).reshape(-1,1)[start+1: end+1]\n",
        "    msa_k1 = np.array(df['airflow_desired']).reshape(-1,1)[start+1: end+1]\n",
        "    tmp_x  = np.concatenate((sp_k, Tz_k, qrh_k), axis=1)\n",
        "    \n",
        "    self.x_data   = torch.tensor(tmp_x,  dtype=torch.float32)\n",
        "    self.y_data   = torch.tensor(qrh_k1, dtype=torch.float32)\n",
        "    self.msa_data = torch.tensor(msa_k1, dtype=torch.float32)\n",
        "\n",
        "  def __len__(self):\n",
        "    return len(self.x_data)\n",
        "\n",
        "  def __getitem__(self, idx):\n",
        "    if torch.is_tensor(idx):\n",
        "      idx = idx.tolist()\n",
        "    inp  = self.x_data[idx]\n",
        "    outp = self.y_data[idx]\n",
        "    msa  = self.msa_data[idx]\n",
        "    sample = {'inp':inp, 'outp':outp, 'msa':msa}\n",
        "    return sample\n",
        "\n",
        "# Create Dataset and DataLoader objects\n",
        "src_file = 'C:/Users/tln229/Downloads/Python/Building/data/HVAC_B90_102_exp_10m_20210424.csv'\n",
        "n_train  = 64\n",
        "train_ds = Data(src_file, start=0, end=n_train)\n",
        "test_ds  = Data(src_file, start=n_train, end=1600)"
      ]
    },
    {
      "cell_type": "code",
      "execution_count": 7,
      "metadata": {
        "colab": {
          "base_uri": "https://localhost:8080/"
        },
        "id": "VNRSA74gELy0",
        "outputId": "81e6dec5-e0ee-448f-c67b-22411ed38c4e"
      },
      "outputs": [
        {
          "name": "stdout",
          "output_type": "stream",
          "text": [
            "epoch =     0 \t loss =    4163.059 \t RMSE =  67.649 \t R2_qrh = -2.23732 \t R2_msa = -2.23643\n",
            "epoch =  1000 \t loss =     487.170 \t RMSE =  25.157 \t R2_qrh = 0.55231 \t R2_msa = 0.55209\n",
            "epoch =  2000 \t loss =     230.469 \t RMSE =  17.449 \t R2_qrh = 0.78463 \t R2_msa = 0.78426\n",
            "epoch =  3000 \t loss =     130.558 \t RMSE =  13.456 \t R2_qrh = 0.87192 \t R2_msa = 0.87148\n",
            "epoch =  4000 \t loss =      94.001 \t RMSE =  10.777 \t R2_qrh = 0.91784 \t R2_msa = 0.91747\n",
            "epoch =  5000 \t loss =      74.429 \t RMSE =   9.082 \t R2_qrh = 0.94165 \t R2_msa = 0.94131\n",
            "epoch =  6000 \t loss =      66.570 \t RMSE =   8.486 \t R2_qrh = 0.94906 \t R2_msa = 0.94873\n",
            "epoch =  7000 \t loss =      62.150 \t RMSE =   8.385 \t R2_qrh = 0.95027 \t R2_msa = 0.94994\n",
            "epoch =  8000 \t loss =      58.970 \t RMSE =   8.201 \t R2_qrh = 0.95243 \t R2_msa = 0.95208\n",
            "epoch =  9000 \t loss =      55.691 \t RMSE =   7.729 \t R2_qrh = 0.95774 \t R2_msa = 0.95736\n",
            "epoch = 10000 \t loss =      52.699 \t RMSE =   7.268 \t R2_qrh = 0.96264 \t R2_msa = 0.96221\n",
            "epoch = 11000 \t loss =      52.882 \t RMSE =   6.999 \t R2_qrh = 0.96535 \t R2_msa = 0.96496\n",
            "epoch = 12000 \t loss =      50.707 \t RMSE =   6.915 \t R2_qrh = 0.96617 \t R2_msa = 0.96580\n",
            "epoch = 13000 \t loss =      50.317 \t RMSE =   6.994 \t R2_qrh = 0.96540 \t R2_msa = 0.96502\n",
            "epoch = 14000 \t loss =      50.210 \t RMSE =   7.180 \t R2_qrh = 0.96353 \t R2_msa = 0.96316\n",
            "epoch = 15000 \t loss =      50.079 \t RMSE =   7.189 \t R2_qrh = 0.96344 \t R2_msa = 0.96307\n",
            "epoch = 16000 \t loss =      50.155 \t RMSE =   7.198 \t R2_qrh = 0.96335 \t R2_msa = 0.96298\n",
            "epoch = 17000 \t loss =      49.862 \t RMSE =   7.438 \t R2_qrh = 0.96087 \t R2_msa = 0.96049\n",
            "epoch = 18000 \t loss =      50.126 \t RMSE =   7.236 \t R2_qrh = 0.96296 \t R2_msa = 0.96259\n",
            "epoch = 19000 \t loss =      51.822 \t RMSE =   7.206 \t R2_qrh = 0.96327 \t R2_msa = 0.96290\n",
            "epoch = 20000 \t loss =      49.612 \t RMSE =   7.379 \t R2_qrh = 0.96148 \t R2_msa = 0.96111\n",
            "epoch = 21000 \t loss =      50.571 \t RMSE =   7.505 \t R2_qrh = 0.96016 \t R2_msa = 0.95979\n",
            "epoch = 22000 \t loss =      49.555 \t RMSE =   7.324 \t R2_qrh = 0.96206 \t R2_msa = 0.96169\n",
            "epoch = 23000 \t loss =      49.552 \t RMSE =   7.321 \t R2_qrh = 0.96209 \t R2_msa = 0.96172\n",
            "epoch = 24000 \t loss =      49.507 \t RMSE =   7.353 \t R2_qrh = 0.96176 \t R2_msa = 0.96139\n",
            "epoch = 25000 \t loss =      49.452 \t RMSE =   7.487 \t R2_qrh = 0.96034 \t R2_msa = 0.95997\n",
            "epoch = 26000 \t loss =      49.675 \t RMSE =   7.597 \t R2_qrh = 0.95917 \t R2_msa = 0.95880\n",
            "epoch = 27000 \t loss =      50.863 \t RMSE =   7.585 \t R2_qrh = 0.95930 \t R2_msa = 0.95893\n",
            "epoch = 28000 \t loss =      49.386 \t RMSE =   7.447 \t R2_qrh = 0.96077 \t R2_msa = 0.96040\n",
            "epoch = 29000 \t loss =      49.695 \t RMSE =   7.577 \t R2_qrh = 0.95939 \t R2_msa = 0.95901\n",
            "epoch = 30000 \t loss =      49.410 \t RMSE =   7.471 \t R2_qrh = 0.96051 \t R2_msa = 0.96015\n"
          ]
        }
      ],
      "source": [
        "# train model\n",
        "max_epochs = 30793\n",
        "loss_func  = torch.nn.MSELoss()\n",
        "optimizer  = torch.optim.Adam(net.parameters(), lr=0.005)\n",
        "\n",
        "train_ldr = torch.utils.data.DataLoader(train_ds, batch_size=256, shuffle=True)\n",
        "R2_qrh = np.array([])\n",
        "R2_msa = np.array([])\n",
        "for epoch in range(0, max_epochs+1):\n",
        "    net.train()\n",
        "    loss  = 0\n",
        "    count = 0\n",
        "    for (_, batch) in enumerate(train_ldr):\n",
        "        X    = batch['inp']\n",
        "        Y    = batch['outp']\n",
        "\n",
        "        optimizer.zero_grad()\n",
        "        output = net(X)                    # compute the output of the Network\n",
        "        loss_val = loss_func(output, Y)\n",
        "        loss += loss_val.item()            # accumulate\n",
        "        loss_val.backward()                # gradients\n",
        "        optimizer.step()                   # update paramters\n",
        "        count += 1\n",
        "\n",
        "    net.eval()\n",
        "    R2_qrh = np.append(R2_qrh, eval(net, test_ds)[0].item())\n",
        "    R2_msa = np.append(R2_msa, eval(net, test_ds)[1].item())\n",
        "    if(epoch%1000==0):\n",
        "        print(\"epoch = %5d \\t loss = %11.3f \\t RMSE = %7.3f \\t R2_qrh = %7.5f \\t R2_msa = %7.5f\" % \n",
        "              (epoch, loss/count, eval(net, test_ds)[2].item(), eval(net, test_ds)[0].item(), eval(net, test_ds)[1].item()))"
      ]
    },
    {
      "cell_type": "code",
      "execution_count": 8,
      "metadata": {
        "id": "F9mc2rEbEQPF"
      },
      "outputs": [],
      "source": [
        "def plot(dataset, size):\n",
        "    with torch.no_grad():\n",
        "        pred_Y = net(dataset.x_data)\n",
        "\n",
        "    plt.figure(figsize=size)\n",
        "    plt.plot(dataset.y_data, 'b-',  label=r'$q_{rh}$ measured')\n",
        "    plt.plot(pred_Y,         'r--', label=r'$q_{rh}$ predicted')\n",
        "    plt.legend()\n",
        "    plt.show()"
      ]
    },
    {
      "cell_type": "code",
      "execution_count": 9,
      "metadata": {
        "colab": {
          "base_uri": "https://localhost:8080/",
          "height": 192
        },
        "id": "aqPdyWs4ER_b",
        "outputId": "f05b86e4-70fa-400d-ee24-3fb58b6d8c0d"
      },
      "outputs": [
        {
          "name": "stdout",
          "output_type": "stream",
          "text": [
            "RMSE: 0.9527391532954709\n",
            "R2:   0.9527180583018359\n"
          ]
        },
        {
          "data": {
            "image/png": "[encoded data removed]",
            "text/plain": [
              "<Figure size 1080x144 with 1 Axes>"
            ]
          },
          "metadata": {
            "needs_background": "light"
          },
          "output_type": "display_data"
        }
      ],
      "source": [
        "net.eval()\n",
        "print(\"RMSE:\", eval(net, train_ds)[1].item())\n",
        "print(\"R2:  \", eval(net, train_ds)[0].item())\n",
        "plot(train_ds, (15, 2))"
      ]
    },
    {
      "cell_type": "code",
      "execution_count": 10,
      "metadata": {
        "colab": {
          "base_uri": "https://localhost:8080/",
          "height": 192
        },
        "id": "07GoBgEVETTM",
        "outputId": "f6a72d4b-a9a6-419a-c634-f1437e99c0e4"
      },
      "outputs": [
        {
          "name": "stdout",
          "output_type": "stream",
          "text": [
            "RMSE: 0.9692116054666987\n",
            "R2:   0.9696069750507912\n"
          ]
        },
        {
          "data": {
            "image/png": "[encoded data removed]",
            "text/plain": [
              "<Figure size 648x144 with 1 Axes>"
            ]
          },
          "metadata": {
            "needs_background": "light"
          },
          "output_type": "display_data"
        }
      ],
      "source": [
        "net.eval()\n",
        "print(\"RMSE:\", eval(net, test_ds)[1].item())\n",
        "print(\"R2:  \", eval(net, test_ds)[0].item())\n",
        "plot(test_ds, (9, 2))"
      ]
    },
    {
      "cell_type": "code",
      "execution_count": 11,
      "metadata": {
        "colab": {
          "base_uri": "https://localhost:8080/"
        },
        "id": "s64W0UthEU0S",
        "outputId": "828549d4-adeb-4f11-fdba-42d6bc5c3ca6"
      },
      "outputs": [
        {
          "name": "stdout",
          "output_type": "stream",
          "text": [
            "30793\n",
            "0.9696069750507912\n",
            "0.9692116054666987\n"
          ]
        }
      ],
      "source": [
        "print(np.argmax(R2_msa + R2_qrh))\n",
        "z = np.argmax(R2_msa + R2_qrh)\n",
        "print(R2_qrh[z])\n",
        "print(R2_msa[z])"
      ]
    },
    {
      "cell_type": "code",
      "execution_count": 12,
      "metadata": {},
      "outputs": [],
      "source": [
        "PATH = 'C:/Users/tln229/Downloads/Python/Building/0. Saved models/Thermostat.pt'\n",
        "torch.save(net, PATH)"
      ]
    }
  ],
  "metadata": {
    "colab": {
      "collapsed_sections": [],
      "provenance": []
    },
    "kernelspec": {
      "display_name": "Python 3.10.5 64-bit",
      "language": "python",
      "name": "python3"
    },
    "language_info": {
      "codemirror_mode": {
        "name": "ipython",
        "version": 3
      },
      "file_extension": ".py",
      "mimetype": "text/x-python",
      "name": "python",
      "nbconvert_exporter": "python",
      "pygments_lexer": "ipython3",
      "version": "3.10.5"
    },
    "vscode": {
      "interpreter": {
        "hash": "912d6611990680b3d240e982c9d50f3da4c776707cfd42695cf7d82c88d80956"
      }
    }
  },
  "nbformat": 4,
  "nbformat_minor": 0
}
