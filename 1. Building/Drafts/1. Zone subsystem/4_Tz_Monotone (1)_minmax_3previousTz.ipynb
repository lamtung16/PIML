{
 "cells": [
  {
   "cell_type": "code",
   "execution_count": 11,
   "metadata": {},
   "outputs": [],
   "source": [
    "# library\n",
    "import torch\n",
    "import numpy as np\n",
    "import matplotlib.pyplot as plt\n",
    "import pandas as pd\n",
    "from sklearn.metrics import r2_score\n",
    "\n",
    "torch.manual_seed(1)\n",
    "np.random.seed(1)\n",
    "torch.set_printoptions(precision=3)"
   ]
  },
  {
   "cell_type": "code",
   "execution_count": 12,
   "metadata": {},
   "outputs": [],
   "source": [
    "class MonotonicLinear(torch.nn.Module):\n",
    "  def __init__(self, input_size, output_size):\n",
    "    super().__init__()\n",
    "    self.input_size  = input_size\n",
    "    self.output_size = output_size\n",
    "    self.weights = torch.nn.Parameter(torch.rand((output_size, input_size), dtype=torch.float32))\n",
    "\n",
    "  def forward(self, x):\n",
    "    z = torch.mm(x, torch.exp(self.weights.t()))\n",
    "    return z"
   ]
  },
  {
   "cell_type": "code",
   "execution_count": 13,
   "metadata": {},
   "outputs": [],
   "source": [
    "class Net(torch.nn.Module):\n",
    "  def __init__(self):\n",
    "    super(Net, self).__init__()\n",
    "    self.input1 = MonotonicLinear(1, 3)\n",
    "    self.input2 = torch.nn.Linear(4, 3)\n",
    "    self.output = torch.nn.MaxPool1d(3)\n",
    "\n",
    "  def forward(self, x_m, x_u):\n",
    "    z1 = self.input1(x_m)\n",
    "    z2 = self.input2(x_u)\n",
    "    z = torch.add(z1, z2)\n",
    "    z = self.output(z)\n",
    "    return z\n",
    "\n",
    "# Create network\n",
    "device = torch.device(\"cpu\")\n",
    "net = Net().to(device)"
   ]
  },
  {
   "cell_type": "code",
   "execution_count": 14,
   "metadata": {},
   "outputs": [],
   "source": [
    "# Model error\n",
    "def eval(model, testset):\n",
    "    with torch.no_grad():\n",
    "        pred_Y = model(testset.x_m_data, testset.x_u_data)\n",
    "    \n",
    "    # R^2\n",
    "    SSR = torch.sum(torch.square(pred_Y - testset.y_data))\n",
    "    SST = torch.sum(torch.square(pred_Y - torch.mean(testset.y_data)))\n",
    "    r2 = 1 - SSR/SST\n",
    "\n",
    "    # RMSE\n",
    "    rmse = torch.sqrt(torch.mean(torch.square(pred_Y - testset.y_data)))\n",
    "    return r2, rmse"
   ]
  },
  {
   "cell_type": "code",
   "execution_count": 15,
   "metadata": {},
   "outputs": [],
   "source": [
    "# Create network\n",
    "device = torch.device(\"cpu\")\n",
    "net = Net().to(device)"
   ]
  },
  {
   "cell_type": "code",
   "execution_count": 16,
   "metadata": {},
   "outputs": [],
   "source": [
    "# Data\n",
    "class Data(torch.utils.data.Dataset):\n",
    "  def __init__(self, src_file, start=None, end=None):\n",
    "    df = pd.read_csv(src_file)\n",
    "    Tsa_k3 = np.array(df['supply_discharge_temp']).reshape(-1,1)[start+3: end+3]\n",
    "    Tz_k   = np.array(df['room_temp']).reshape(-1,1)[start: end]\n",
    "    Tz_k1  = np.array(df['room_temp']).reshape(-1,1)[start+1: end+1]\n",
    "    Tz_k2  = np.array(df['room_temp']).reshape(-1,1)[start+2: end+2]\n",
    "    msa_k3 = np.array(df['airflow_current']).reshape(-1,1)[start+3: end+3]\n",
    "\n",
    "    tmp_x_u = np.concatenate((Tz_k, Tz_k1, Tz_k2, msa_k3), axis=1)\n",
    "    tmp_y   = np.array(df['room_temp']).reshape(-1,1)[start+3: end+3]\n",
    "\n",
    "    self.x_m_data = torch.tensor(Tsa_k3, dtype=torch.float32)\n",
    "    self.x_u_data = torch.tensor(tmp_x_u, dtype=torch.float32)\n",
    "    self.y_data   = torch.tensor(tmp_y, dtype=torch.float32)\n",
    "\n",
    "  def __len__(self):\n",
    "    return len(self.y_data)\n",
    "\n",
    "  def __getitem__(self, idx):\n",
    "    if torch.is_tensor(idx):\n",
    "      idx = idx.tolist()\n",
    "    inp_m  = self.x_m_data[idx]\n",
    "    inp_u  = self.x_u_data[idx]\n",
    "    outp   = self.y_data[idx]\n",
    "    sample = {'inp_m':inp_m, 'inp_u':inp_u, 'outp':outp}\n",
    "    return sample\n",
    "\n",
    "# Create Dataset and DataLoader objects\n",
    "src_file = 'C:/Users/tln229/Downloads/Python/Building/data/HVAC_B90_102_exp_10m_20210424.csv'\n",
    "n_train  = 64\n",
    "train_ds = Data(src_file, start=0,       end=n_train)\n",
    "test_ds  = Data(src_file, start=n_train, end=1600)"
   ]
  },
  {
   "cell_type": "code",
   "execution_count": 17,
   "metadata": {},
   "outputs": [],
   "source": [
    "def early_stop(r2, patience):\n",
    "    if(len(r2) > 10000):\n",
    "        if(np.max(r2[-patience:]) < np.max(r2[0: -patience])):\n",
    "            return 1\n",
    "    return 0"
   ]
  },
  {
   "cell_type": "code",
   "execution_count": 18,
   "metadata": {},
   "outputs": [],
   "source": [
    "def r2(y_true, y_pred):\n",
    "    SSR = np.sum(np.square(y_pred - y_true))\n",
    "    SST = np.sum(np.square(y_pred - np.mean(y_true)))\n",
    "    r2 = 1 - SSR/SST\n",
    "    return r2"
   ]
  },
  {
   "cell_type": "code",
   "execution_count": 19,
   "metadata": {},
   "outputs": [],
   "source": [
    "def R2_f():\n",
    "    df = pd.read_csv('C:/Users/tln229/Downloads/Python/Building/data/HVAC_B90_102_exp_10m_20210424.csv')\n",
    "\n",
    "    start = 64\n",
    "    end   = 1600\n",
    "\n",
    "    msa_3 = np.array(df['airflow_current']).reshape(-1,1)[start+3: end+3]\n",
    "    Tsa_3 = np.array(df['supply_discharge_temp']).reshape(-1,1)[start+3: end+3]\n",
    "    Tz_0  = np.array(df['room_temp']).reshape(-1,1)[start: end]\n",
    "    Tz_1  = np.array(df['room_temp']).reshape(-1,1)[start+1: end+1]\n",
    "    Tz_2  = np.array(df['room_temp']).reshape(-1,1)[start+2: end+2]\n",
    "    Tz_3  = np.array(df['room_temp']).reshape(-1,1)[start+3: end+3]\n",
    "\n",
    "    Tz0  =  Tz_0[0].reshape(-1,1)\n",
    "    Tz1  =  Tz_1[0].reshape(-1,1)\n",
    "    Tz2  =  Tz_2[0].reshape(-1,1)\n",
    "\n",
    "    # horizon length\n",
    "    n = 10\n",
    "    T = np.array([])\n",
    "    for i in range(n):\n",
    "        x1 = torch.tensor(np.copy(Tsa_3[i]).reshape(-1,1), dtype=torch.float32)\n",
    "        x2 = np.concatenate((Tz0, Tz1, Tz2, msa_3[i].reshape(-1,1)), axis=1)\n",
    "        x2 = torch.tensor(x2, dtype=torch.float32)\n",
    "        \n",
    "        with torch.no_grad():\n",
    "            # COMPUTE\n",
    "            Tz3 = net(x1, x2)\n",
    "\n",
    "            # UPDATE\n",
    "            Tz0 = np.copy(Tz1).reshape(-1,1)\n",
    "            Tz1 = np.copy(Tz2).reshape(-1,1)\n",
    "            Tz2 = np.copy(Tz3).reshape(-1,1)\n",
    "\n",
    "            # save Tz\n",
    "            T = np.append(T, Tz3)\n",
    "\n",
    "    return r2(Tz_3[0:n], T)"
   ]
  },
  {
   "cell_type": "code",
   "execution_count": 20,
   "metadata": {},
   "outputs": [
    {
     "name": "stdout",
     "output_type": "stream",
     "text": [
      "epoch =     0 \t loss =  112474.047 \t RMSE =  308.428 \t R2 =  0.00245 \t Max_R2 =  0.00245 \t R2_full =    -9.00 \t max_R2_full =    -9.00\n",
      "epoch =  1000 \t loss =       9.251 \t RMSE =    2.755 \t R2 =  0.04059 \t Max_R2 =  0.13352 \t R2_full =    -9.00 \t max_R2_full =    -9.00\n",
      "epoch =  2000 \t loss =       2.694 \t RMSE =    1.476 \t R2 =  0.46444 \t Max_R2 =  0.46444 \t R2_full =    -9.01 \t max_R2_full =    -9.00\n",
      "epoch =  3000 \t loss =       1.170 \t RMSE =    0.965 \t R2 =  0.73096 \t Max_R2 =  0.73096 \t R2_full =    -9.02 \t max_R2_full =    -9.00\n",
      "epoch =  4000 \t loss =       0.603 \t RMSE =    0.677 \t R2 =  0.86740 \t Max_R2 =  0.86740 \t R2_full =    -9.07 \t max_R2_full =    -9.00\n",
      "epoch =  5000 \t loss =       0.353 \t RMSE =    0.517 \t R2 =  0.92420 \t Max_R2 =  0.92727 \t R2_full =    -9.34 \t max_R2_full =    -9.00\n",
      "epoch =  6000 \t loss =       0.182 \t RMSE =    0.378 \t R2 =  0.95864 \t Max_R2 =  0.95864 \t R2_full =    -9.21 \t max_R2_full =    -9.00\n",
      "epoch =  7000 \t loss =       0.106 \t RMSE =    0.293 \t R2 =  0.97544 \t Max_R2 =  0.97544 \t R2_full =    -9.45 \t max_R2_full =    -9.00\n",
      "epoch =  8000 \t loss =       0.817 \t RMSE =    1.110 \t R2 =  0.68610 \t Max_R2 =  0.98443 \t R2_full =    -9.01 \t max_R2_full =    -9.00\n",
      "epoch =  9000 \t loss =       0.040 \t RMSE =    0.199 \t R2 =  0.98907 \t Max_R2 =  0.98937 \t R2_full =   -14.85 \t max_R2_full =    -9.00\n",
      "epoch = 10000 \t loss =       0.772 \t RMSE =    1.061 \t R2 =  0.71449 \t Max_R2 =  0.99214 \t R2_full =    -9.01 \t max_R2_full =    -9.00\n",
      "epoch = 11000 \t loss =       0.019 \t RMSE =    0.163 \t R2 =  0.99275 \t Max_R2 =  0.99355 \t R2_full =   -15.62 \t max_R2_full =    -9.00\n",
      "epoch = 12000 \t loss =       0.015 \t RMSE =    0.157 \t R2 =  0.99336 \t Max_R2 =  0.99428 \t R2_full =   -12.21 \t max_R2_full =    -9.00\n",
      "epoch = 13000 \t loss =       0.604 \t RMSE =    0.405 \t R2 =  0.95377 \t Max_R2 =  0.99474 \t R2_full =    -9.07 \t max_R2_full =    -9.00\n",
      "epoch = 14000 \t loss =       0.011 \t RMSE =    0.153 \t R2 =  0.99371 \t Max_R2 =  0.99494 \t R2_full =   -10.52 \t max_R2_full =    -9.00\n",
      "epoch = 15000 \t loss =       0.011 \t RMSE =    0.153 \t R2 =  0.99374 \t Max_R2 =  0.99504 \t R2_full =   -10.26 \t max_R2_full =    -9.00\n",
      "epoch = 16000 \t loss =       1.026 \t RMSE =    0.935 \t R2 =  0.77478 \t Max_R2 =  0.99510 \t R2_full =    -9.01 \t max_R2_full =    -9.00\n"
     ]
    }
   ],
   "source": [
    "# train model\n",
    "max_epochs = 100000\n",
    "loss_func  = torch.nn.MSELoss()\n",
    "optimizer  = torch.optim.Adam(net.parameters(), lr=0.02)\n",
    "\n",
    "R2_train   = np.array([])\n",
    "RMSE_train = np.array([])\n",
    "R2_test    = np.array([])\n",
    "RMSE_test  = np.array([])\n",
    "R2_full    = np.array([])\n",
    "\n",
    "train_ldr = torch.utils.data.DataLoader(train_ds, batch_size=512, shuffle=True)\n",
    "for epoch in range(0, max_epochs+1):\n",
    "    net.train()\n",
    "    loss  = 0\n",
    "    count = 0\n",
    "    for (_, batch) in enumerate(train_ldr):\n",
    "        X_m = batch['inp_m']\n",
    "        X_u = batch['inp_u']\n",
    "        Y   = batch['outp']\n",
    "\n",
    "        optimizer.zero_grad()\n",
    "        output = net(X_m, X_u)             # compute the output of the Network\n",
    "        loss_val = loss_func(output, Y)    # loss function\n",
    "        loss += loss_val.item()            # accumulate\n",
    "        loss_val.backward()                # gradients\n",
    "        optimizer.step()                   # update paramters\n",
    "        count += 1\n",
    "\n",
    "    net.eval()\n",
    "    R2_train   = np.append(R2_train, eval(net, train_ds)[0].item())\n",
    "    RMSE_train = np.append(RMSE_train, eval(net, train_ds)[1].item())\n",
    "    R2_test    = np.append(R2_test, eval(net, test_ds)[0].item())\n",
    "    RMSE_test  = np.append(RMSE_test, eval(net, test_ds)[1].item())\n",
    "    R2_full  = np.append(R2_full, R2_f())\n",
    "\n",
    "    if(epoch%1000==0):\n",
    "        print(\n",
    "            \"epoch = %5d \\t loss = %11.3f \\t RMSE = %8.3f \\t R2 = %8.5f \\t Max_R2 = %8.5f \\t R2_full = %8.2f \\t max_R2_full = %8.2f\" % \n",
    "        (epoch, loss/count, eval(net, test_ds)[1].item(), eval(net, test_ds)[0].item(), np.max(R2_test), R2_f(), np.max(R2_full))\n",
    "        )\n",
    "\n",
    "    # if(epoch%1000==0):\n",
    "    #     print(\n",
    "    #     \"epoch = %5d \\t loss = %11.3f \\t RMSE = %8.3f \\t R2 = %8.5f \\t Max_R2 = %8.5f\" % \n",
    "    # (epoch, loss/count, eval(net, test_ds)[1].item(), eval(net, test_ds)[0].item(), np.max(R2_test))\n",
    "    # )\n",
    "    \n",
    "    if(early_stop(R2_test, 500) == 1):\n",
    "        break"
   ]
  },
  {
   "cell_type": "code",
   "execution_count": 21,
   "metadata": {},
   "outputs": [],
   "source": [
    "def plot(dataset, size):\n",
    "  with torch.no_grad():\n",
    "      pred_Y = net(dataset.x_m_data, dataset.x_u_data)\n",
    "\n",
    "  plt.figure(figsize=size)\n",
    "  plt.plot(dataset.y_data, 'b--', label=r'$T$ measured')\n",
    "  plt.plot(pred_Y,         'r--', label=r'$T$ predicted')\n",
    "  plt.ylabel(r'T($^oC$)')\n",
    "  plt.legend()\n",
    "  plt.show()"
   ]
  },
  {
   "cell_type": "code",
   "execution_count": 22,
   "metadata": {},
   "outputs": [
    {
     "name": "stdout",
     "output_type": "stream",
     "text": [
      "RMSE: 0.1008489727973938\n",
      "R2:   0.9932725429534912\n"
     ]
    },
    {
     "data": {
      "image/png": "[encoded data removed]",
      "text/plain": [
       "<Figure size 720x144 with 1 Axes>"
      ]
     },
     "metadata": {
      "needs_background": "light"
     },
     "output_type": "display_data"
    }
   ],
   "source": [
    "net.eval()\n",
    "print(\"RMSE:\", eval(net, train_ds)[1].item())\n",
    "print(\"R2:  \", eval(net, train_ds)[0].item())\n",
    "plot(train_ds, (10, 2))"
   ]
  },
  {
   "cell_type": "code",
   "execution_count": 23,
   "metadata": {},
   "outputs": [
    {
     "name": "stdout",
     "output_type": "stream",
     "text": [
      "RMSE: 0.153349369764328\n",
      "R2:   0.9937487244606018\n"
     ]
    },
    {
     "data": {
      "image/png": "[encoded data removed]",
      "text/plain": [
       "<Figure size 720x144 with 1 Axes>"
      ]
     },
     "metadata": {
      "needs_background": "light"
     },
     "output_type": "display_data"
    }
   ],
   "source": [
    "net.eval()\n",
    "print(\"RMSE:\", eval(net, test_ds)[1].item())\n",
    "print(\"R2:  \",   eval(net, test_ds)[0].item())\n",
    "plot(test_ds, (10, 2))"
   ]
  },
  {
   "cell_type": "code",
   "execution_count": 24,
   "metadata": {},
   "outputs": [
    {
     "name": "stdout",
     "output_type": "stream",
     "text": [
      "15965\n",
      "0.9950951933860779\n"
     ]
    }
   ],
   "source": [
    "print(np.argmax(R2_test))\n",
    "print(np.max(R2_test))"
   ]
  },
  {
   "cell_type": "code",
   "execution_count": 25,
   "metadata": {},
   "outputs": [],
   "source": [
    "# PATH = 'C:/Users/tln229/Downloads/Python/Building/0. Saved models/Tz_3_previous_Tz.pt'\n",
    "# torch.save(net, PATH)"
   ]
  }
 ],
 "metadata": {
  "kernelspec": {
   "display_name": "Python 3.10.5 64-bit",
   "language": "python",
   "name": "python3"
  },
  "language_info": {
   "codemirror_mode": {
    "name": "ipython",
    "version": 3
   },
   "file_extension": ".py",
   "mimetype": "text/x-python",
   "name": "python",
   "nbconvert_exporter": "python",
   "pygments_lexer": "ipython3",
   "version": "3.10.5"
  },
  "orig_nbformat": 4,
  "vscode": {
   "interpreter": {
    "hash": "912d6611990680b3d240e982c9d50f3da4c776707cfd42695cf7d82c88d80956"
   }
  }
 },
 "nbformat": 4,
 "nbformat_minor": 2
}
