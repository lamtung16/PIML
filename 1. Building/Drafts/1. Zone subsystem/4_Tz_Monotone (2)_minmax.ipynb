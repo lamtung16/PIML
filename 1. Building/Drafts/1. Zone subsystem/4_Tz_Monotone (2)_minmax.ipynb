{
 "cells": [
  {
   "cell_type": "code",
   "execution_count": 1,
   "metadata": {},
   "outputs": [],
   "source": [
    "# library\n",
    "import torch\n",
    "import numpy as np\n",
    "import matplotlib.pyplot as plt\n",
    "import pandas as pd\n",
    "\n",
    "torch.manual_seed(1)\n",
    "np.random.seed(1)\n",
    "torch.set_printoptions(precision=3)"
   ]
  },
  {
   "cell_type": "code",
   "execution_count": 2,
   "metadata": {},
   "outputs": [],
   "source": [
    "class MonotonicLinear(torch.nn.Module):\n",
    "  def __init__(self, input_size, output_size):\n",
    "    super().__init__()\n",
    "    self.input_size  = input_size\n",
    "    self.output_size = output_size\n",
    "    self.weights = torch.nn.Parameter(torch.rand((output_size, input_size), dtype=torch.float32))\n",
    "\n",
    "  def forward(self, x):\n",
    "    z = torch.mm(x, torch.exp(self.weights.t()))\n",
    "    return z"
   ]
  },
  {
   "cell_type": "code",
   "execution_count": 3,
   "metadata": {},
   "outputs": [],
   "source": [
    "class Net(torch.nn.Module):\n",
    "  def __init__(self):\n",
    "    super(Net, self).__init__()\n",
    "    self.input11 = MonotonicLinear(1, 4)\n",
    "    self.input12 = torch.nn.Linear(2, 4)\n",
    "    self.max1    = torch.nn.MaxPool1d(4)\n",
    "\n",
    "    self.input21 = MonotonicLinear(1, 4)\n",
    "    self.input22 = torch.nn.Linear(2, 4)\n",
    "    self.max2    = torch.nn.MaxPool1d(4)\n",
    "\n",
    "    self.output = torch.nn.MaxPool1d(2)\n",
    "\n",
    "  def forward(self, x_m, x_u):\n",
    "    z1 = torch.add(self.input11(x_m), self.input12(x_u))\n",
    "    z1 = self.max1(z1)\n",
    "\n",
    "    z2 = torch.add(self.input21(x_m), self.input22(x_u))\n",
    "    z2 = self.max1(z2)\n",
    "\n",
    "    z = torch.concat((z1,z2), axis=1)\n",
    "    z = self.output(-z)\n",
    "\n",
    "    return -z\n",
    "\n",
    "# Create network\n",
    "device = torch.device(\"cpu\")\n",
    "net = Net().to(device)"
   ]
  },
  {
   "cell_type": "code",
   "execution_count": 4,
   "metadata": {},
   "outputs": [],
   "source": [
    "# Model error\n",
    "def eval(model, testset):\n",
    "    with torch.no_grad():\n",
    "        pred_Y = model(testset.x_m_data, testset.x_u_data)\n",
    "    \n",
    "    # R^2\n",
    "    SSR = torch.sum(torch.square(pred_Y - testset.y_data))\n",
    "    SST = torch.sum(torch.square(pred_Y - torch.mean(testset.y_data)))\n",
    "    r2 = 1 - SSR/SST\n",
    "\n",
    "    # RMSE\n",
    "    rmse = torch.sqrt(torch.mean(torch.square(pred_Y - testset.y_data)))\n",
    "    return r2, rmse"
   ]
  },
  {
   "cell_type": "code",
   "execution_count": 5,
   "metadata": {},
   "outputs": [],
   "source": [
    "# Create network\n",
    "device = torch.device(\"cpu\")\n",
    "net = Net().to(device)"
   ]
  },
  {
   "cell_type": "code",
   "execution_count": 6,
   "metadata": {},
   "outputs": [],
   "source": [
    "# Data\n",
    "class Data(torch.utils.data.Dataset):\n",
    "  def __init__(self, src_file, start=None, end=None):\n",
    "    df = pd.read_csv(src_file)\n",
    "    Tsa_k1 = np.array(df['supply_discharge_temp']).reshape(-1,1)[start+1: end+1]\n",
    "    Tz_k   = np.array(df['room_temp']).reshape(-1,1)[start: end]\n",
    "    msa_k1 = np.array(df['airflow_current']).reshape(-1,1)[start+1: end+1]\n",
    "\n",
    "    tmp_x_u = np.concatenate((Tz_k, msa_k1), axis=1)\n",
    "    tmp_y   = np.array(df['room_temp']).reshape(-1,1)[start+1: end+1]\n",
    "\n",
    "    self.x_m_data = torch.tensor(Tsa_k1, dtype=torch.float32)\n",
    "    self.x_u_data = torch.tensor(tmp_x_u, dtype=torch.float32)\n",
    "    self.y_data   = torch.tensor(tmp_y, dtype=torch.float32)\n",
    "\n",
    "  def __len__(self):\n",
    "    return len(self.y_data)\n",
    "\n",
    "  def __getitem__(self, idx):\n",
    "    if torch.is_tensor(idx):\n",
    "      idx = idx.tolist()\n",
    "    inp_m  = self.x_m_data[idx]\n",
    "    inp_u  = self.x_u_data[idx]\n",
    "    outp   = self.y_data[idx]\n",
    "    sample = {'inp_m':inp_m, 'inp_u':inp_u, 'outp':outp}\n",
    "    return sample\n",
    "\n",
    "# Create Dataset and DataLoader objects\n",
    "src_file = 'C:/Users/tln229/Downloads/Python/Building/data/HVAC_B90_102_exp_10m_20210424.csv'\n",
    "n_train  = 16\n",
    "train_ds = Data(src_file, start=0,       end=n_train)\n",
    "test_ds  = Data(src_file, start=n_train, end=1600)"
   ]
  },
  {
   "cell_type": "code",
   "execution_count": 7,
   "metadata": {},
   "outputs": [
    {
     "name": "stdout",
     "output_type": "stream",
     "text": [
      "epoch =     0 \t loss =    3133.318 \t RMSE =   78.215 \t R2 =  0.00331\n",
      "epoch =  1000 \t loss =       0.322 \t RMSE =   11.810 \t R2 = -0.15746\n",
      "epoch =  2000 \t loss =       0.304 \t RMSE =   11.702 \t R2 = -0.14703\n",
      "epoch =  3000 \t loss =       0.278 \t RMSE =   11.598 \t R2 = -0.12731\n",
      "epoch =  4000 \t loss =       0.242 \t RMSE =   11.633 \t R2 = -0.09475\n",
      "epoch =  5000 \t loss =       0.204 \t RMSE =   12.013 \t R2 = -0.05182\n",
      "epoch =  6000 \t loss =       0.169 \t RMSE =   12.850 \t R2 = -0.01166\n",
      "epoch =  7000 \t loss =       0.146 \t RMSE =   13.836 \t R2 =  0.01449\n",
      "epoch =  8000 \t loss =       0.131 \t RMSE =   14.350 \t R2 =  0.02665\n",
      "epoch =  9000 \t loss =       0.116 \t RMSE =   13.944 \t R2 =  0.03172\n",
      "epoch = 10000 \t loss =       0.101 \t RMSE =   13.241 \t R2 =  0.03286\n",
      "epoch = 11000 \t loss =       0.088 \t RMSE =   12.519 \t R2 =  0.03263\n",
      "epoch = 12000 \t loss =       0.076 \t RMSE =   11.949 \t R2 =  0.03188\n",
      "epoch = 13000 \t loss =       0.066 \t RMSE =   11.422 \t R2 =  0.03017\n",
      "epoch = 14000 \t loss =       0.059 \t RMSE =   10.971 \t R2 =  0.02788\n",
      "epoch = 15000 \t loss =       0.052 \t RMSE =   10.582 \t R2 =  0.02508\n",
      "epoch = 16000 \t loss =       0.046 \t RMSE =   10.254 \t R2 =  0.02197\n",
      "epoch = 17000 \t loss =       0.041 \t RMSE =    9.976 \t R2 =  0.01862\n",
      "epoch = 18000 \t loss =       0.037 \t RMSE =    9.740 \t R2 =  0.01509\n",
      "epoch = 19000 \t loss =       0.034 \t RMSE =    9.536 \t R2 =  0.01147\n",
      "epoch = 20000 \t loss =       0.031 \t RMSE =    9.370 \t R2 =  0.00802\n",
      "epoch = 21000 \t loss =       0.028 \t RMSE =    9.215 \t R2 =  0.00413\n",
      "epoch = 22000 \t loss =       0.026 \t RMSE =    9.088 \t R2 =  0.00047\n",
      "epoch = 23000 \t loss =       0.024 \t RMSE =    8.979 \t R2 = -0.00311\n",
      "epoch = 24000 \t loss =       0.022 \t RMSE =    8.883 \t R2 = -0.00661\n",
      "epoch = 25000 \t loss =       0.021 \t RMSE =    8.800 \t R2 = -0.00995\n",
      "epoch = 26000 \t loss =       0.019 \t RMSE =    8.726 \t R2 = -0.01319\n",
      "epoch = 27000 \t loss =       0.018 \t RMSE =    8.661 \t R2 = -0.01627\n",
      "epoch = 28000 \t loss =       0.017 \t RMSE =    8.603 \t R2 = -0.01924\n",
      "epoch = 29000 \t loss =       0.016 \t RMSE =    8.553 \t R2 = -0.02207\n",
      "epoch = 30000 \t loss =       0.015 \t RMSE =    8.507 \t R2 = -0.02479\n",
      "epoch = 31000 \t loss =       0.014 \t RMSE =    8.463 \t R2 = -0.02761\n",
      "epoch = 32000 \t loss =       0.014 \t RMSE =    8.430 \t R2 = -0.02973\n",
      "epoch = 33000 \t loss =       0.013 \t RMSE =    8.397 \t R2 = -0.03210\n",
      "epoch = 34000 \t loss =       0.012 \t RMSE =    8.367 \t R2 = -0.03435\n",
      "epoch = 35000 \t loss =       0.012 \t RMSE =    8.342 \t R2 = -0.03627\n",
      "epoch = 36000 \t loss =       0.021 \t RMSE =    8.358 \t R2 = -0.03429\n",
      "epoch = 37000 \t loss =       0.011 \t RMSE =    8.293 \t R2 = -0.04038\n",
      "epoch = 38000 \t loss =       0.010 \t RMSE =    8.273 \t R2 = -0.04216\n",
      "epoch = 39000 \t loss =       0.013 \t RMSE =    8.234 \t R2 = -0.04636\n",
      "epoch = 40000 \t loss =       0.010 \t RMSE =    8.238 \t R2 = -0.04546\n",
      "epoch = 41000 \t loss =       0.009 \t RMSE =    8.222 \t R2 = -0.04707\n",
      "epoch = 42000 \t loss =       0.009 \t RMSE =    2.554 \t R2 =  0.41681\n",
      "epoch = 43000 \t loss =       0.009 \t RMSE =    2.505 \t R2 =  0.42540\n",
      "epoch = 44000 \t loss =       0.009 \t RMSE =    2.431 \t R2 =  0.43888\n",
      "epoch = 45000 \t loss =       0.008 \t RMSE =    2.380 \t R2 =  0.44899\n",
      "epoch = 46000 \t loss =       0.008 \t RMSE =    2.310 \t R2 =  0.46262\n",
      "epoch = 47000 \t loss =       0.008 \t RMSE =    2.255 \t R2 =  0.47396\n",
      "epoch = 48000 \t loss =       0.008 \t RMSE =    2.190 \t R2 =  0.48733\n",
      "epoch = 49000 \t loss =       0.007 \t RMSE =    2.138 \t R2 =  0.49870\n",
      "epoch = 50000 \t loss =       0.007 \t RMSE =    2.108 \t R2 =  0.50619\n",
      "epoch = 51000 \t loss =       0.008 \t RMSE =    2.064 \t R2 =  0.51626\n",
      "epoch = 52000 \t loss =       0.007 \t RMSE =    1.982 \t R2 =  0.53398\n",
      "epoch = 53000 \t loss =       0.007 \t RMSE =    1.944 \t R2 =  0.54339\n",
      "epoch = 54000 \t loss =       0.007 \t RMSE =    1.900 \t R2 =  0.55403\n",
      "epoch = 55000 \t loss =       0.006 \t RMSE =    1.859 \t R2 =  0.56426\n",
      "epoch = 56000 \t loss =       0.008 \t RMSE =    1.845 \t R2 =  0.56888\n",
      "epoch = 57000 \t loss =       0.006 \t RMSE =    1.782 \t R2 =  0.58390\n",
      "epoch = 58000 \t loss =       0.006 \t RMSE =    1.770 \t R2 =  0.58807\n",
      "epoch = 59000 \t loss =       0.006 \t RMSE =    1.708 \t R2 =  0.60327\n",
      "epoch = 60000 \t loss =       0.006 \t RMSE =    1.658 \t R2 =  0.61631\n",
      "epoch = 61000 \t loss =       0.006 \t RMSE =    1.642 \t R2 =  0.62135\n",
      "epoch = 62000 \t loss =       0.006 \t RMSE =    1.610 \t R2 =  0.63002\n",
      "epoch = 63000 \t loss =       0.006 \t RMSE =    1.500 \t R2 =  0.65825\n",
      "epoch = 64000 \t loss =       0.006 \t RMSE =    1.552 \t R2 =  0.64642\n",
      "epoch = 65000 \t loss =       0.006 \t RMSE =    1.511 \t R2 =  0.65741\n",
      "epoch = 66000 \t loss =       0.005 \t RMSE =    1.495 \t R2 =  0.66253\n",
      "epoch = 67000 \t loss =       0.005 \t RMSE =    1.460 \t R2 =  0.67234\n",
      "epoch = 68000 \t loss =       0.005 \t RMSE =    1.443 \t R2 =  0.67745\n",
      "epoch = 69000 \t loss =       0.013 \t RMSE =    1.376 \t R2 =  0.69580\n",
      "epoch = 70000 \t loss =       0.005 \t RMSE =    1.402 \t R2 =  0.68983\n",
      "epoch = 71000 \t loss =       0.005 \t RMSE =    1.373 \t R2 =  0.69815\n",
      "epoch = 72000 \t loss =       0.005 \t RMSE =    1.351 \t R2 =  0.70475\n",
      "epoch = 73000 \t loss =       0.007 \t RMSE =    1.358 \t R2 =  0.70341\n",
      "epoch = 74000 \t loss =       0.005 \t RMSE =    1.309 \t R2 =  0.71724\n",
      "epoch = 75000 \t loss =       0.005 \t RMSE =    1.287 \t R2 =  0.72357\n",
      "epoch = 76000 \t loss =       0.005 \t RMSE =    1.269 \t R2 =  0.72905\n",
      "epoch = 77000 \t loss =       0.005 \t RMSE =    1.260 \t R2 =  0.73216\n",
      "epoch = 78000 \t loss =       0.005 \t RMSE =    1.233 \t R2 =  0.74017\n",
      "epoch = 79000 \t loss =       0.005 \t RMSE =    1.208 \t R2 =  0.74748\n",
      "epoch = 80000 \t loss =       0.005 \t RMSE =    1.200 \t R2 =  0.75020\n",
      "epoch = 81000 \t loss =       0.005 \t RMSE =    1.180 \t R2 =  0.75605\n",
      "epoch = 82000 \t loss =       0.005 \t RMSE =    1.148 \t R2 =  0.76529\n",
      "epoch = 83000 \t loss =       0.005 \t RMSE =    1.148 \t R2 =  0.76566\n",
      "epoch = 84000 \t loss =       0.005 \t RMSE =    1.136 \t R2 =  0.76964\n",
      "epoch = 85000 \t loss =       0.004 \t RMSE =    1.120 \t R2 =  0.77435\n",
      "epoch = 86000 \t loss =       0.004 \t RMSE =    1.108 \t R2 =  0.77815\n",
      "epoch = 87000 \t loss =       0.004 \t RMSE =    1.090 \t R2 =  0.78329\n",
      "epoch = 88000 \t loss =       0.004 \t RMSE =    1.076 \t R2 =  0.78749\n",
      "epoch = 89000 \t loss =       0.004 \t RMSE =    1.063 \t R2 =  0.79168\n",
      "epoch = 90000 \t loss =       0.006 \t RMSE =    0.983 \t R2 =  0.81391\n",
      "epoch = 91000 \t loss =       0.004 \t RMSE =    1.047 \t R2 =  0.79654\n",
      "epoch = 92000 \t loss =       0.004 \t RMSE =    1.024 \t R2 =  0.80315\n",
      "epoch = 93000 \t loss =       0.004 \t RMSE =    1.015 \t R2 =  0.80597\n",
      "epoch = 94000 \t loss =       0.004 \t RMSE =    1.001 \t R2 =  0.81024\n",
      "epoch = 95000 \t loss =       0.004 \t RMSE =    0.984 \t R2 =  0.81513\n",
      "epoch = 96000 \t loss =       0.004 \t RMSE =    0.978 \t R2 =  0.81696\n",
      "epoch = 97000 \t loss =       0.004 \t RMSE =    0.971 \t R2 =  0.81933\n",
      "epoch = 98000 \t loss =       0.004 \t RMSE =    0.958 \t R2 =  0.82318\n",
      "epoch = 99000 \t loss =       0.004 \t RMSE =    0.947 \t R2 =  0.82620\n",
      "epoch = 100000 \t loss =       0.004 \t RMSE =    0.937 \t R2 =  0.82914\n"
     ]
    }
   ],
   "source": [
    "# train model\n",
    "max_epochs = 100000\n",
    "loss_func  = torch.nn.MSELoss()\n",
    "optimizer  = torch.optim.Adam(net.parameters(), lr=0.002)\n",
    "\n",
    "R2_train   = np.array([])\n",
    "RMSE_train = np.array([])\n",
    "R2_test    = np.array([])\n",
    "RMSE_test  = np.array([])\n",
    "\n",
    "train_ldr = torch.utils.data.DataLoader(train_ds, batch_size=128, shuffle=True)\n",
    "for epoch in range(0, max_epochs+1):\n",
    "    net.train()\n",
    "    loss  = 0\n",
    "    count = 0\n",
    "    for (_, batch) in enumerate(train_ldr):\n",
    "        X_m = batch['inp_m']\n",
    "        X_u = batch['inp_u']\n",
    "        Y   = batch['outp']\n",
    "\n",
    "        optimizer.zero_grad()\n",
    "        output = net(X_m, X_u)             # compute the output of the Network\n",
    "        loss_val = loss_func(output, Y)    # loss function\n",
    "        loss += loss_val.item()            # accumulate\n",
    "        loss_val.backward()                # gradients\n",
    "        optimizer.step()                   # update paramters\n",
    "        count += 1\n",
    "\n",
    "    net.eval()\n",
    "    R2_train   = np.append(R2_train, eval(net, train_ds)[0].item())\n",
    "    RMSE_train = np.append(RMSE_train, eval(net, train_ds)[1].item())\n",
    "    R2_test    = np.append(R2_test, eval(net, test_ds)[0].item())\n",
    "    RMSE_test  = np.append(RMSE_test, eval(net, test_ds)[1].item())\n",
    "\n",
    "\n",
    "    if(epoch%1000==0):\n",
    "        print(\"epoch = %5d \\t loss = %11.3f \\t RMSE = %8.3f \\t R2 = %8.5f\" % (epoch, loss/count, eval(net, test_ds)[1].item(), eval(net, test_ds)[0].item()))"
   ]
  },
  {
   "cell_type": "code",
   "execution_count": 8,
   "metadata": {},
   "outputs": [],
   "source": [
    "def plot(dataset, size):\n",
    "  with torch.no_grad():\n",
    "      pred_Y = net(dataset.x_m_data, dataset.x_u_data)\n",
    "\n",
    "  plt.figure(figsize=size)\n",
    "  plt.plot(dataset.y_data, 'b--', label=r'$T$ measured')\n",
    "  plt.plot(pred_Y,         'r--', label=r'$T$ predicted')\n",
    "  plt.ylabel(r'T($^oC$)')\n",
    "  plt.legend()\n",
    "  plt.show()"
   ]
  },
  {
   "cell_type": "code",
   "execution_count": 9,
   "metadata": {},
   "outputs": [
    {
     "name": "stdout",
     "output_type": "stream",
     "text": [
      "RMSE: 0.06384073942899704\n",
      "R2:   0.9483765363693237\n"
     ]
    },
    {
     "data": {
      "image/png": "[encoded data removed]",
      "text/plain": [
       "<Figure size 720x144 with 1 Axes>"
      ]
     },
     "metadata": {
      "needs_background": "light"
     },
     "output_type": "display_data"
    }
   ],
   "source": [
    "net.eval()\n",
    "print(\"RMSE:\", eval(net, train_ds)[1].item())\n",
    "print(\"R2:  \", eval(net, train_ds)[0].item())\n",
    "plot(train_ds, (10, 2))"
   ]
  },
  {
   "cell_type": "code",
   "execution_count": 10,
   "metadata": {},
   "outputs": [
    {
     "name": "stdout",
     "output_type": "stream",
     "text": [
      "RMSE: 0.9374067187309265\n",
      "R2:   0.8291449546813965\n"
     ]
    },
    {
     "data": {
      "image/png": "[encoded data removed]",
      "text/plain": [
       "<Figure size 720x144 with 1 Axes>"
      ]
     },
     "metadata": {
      "needs_background": "light"
     },
     "output_type": "display_data"
    }
   ],
   "source": [
    "net.eval()\n",
    "print(\"RMSE:\", eval(net, test_ds)[1].item())\n",
    "print(\"R2:  \",   eval(net, test_ds)[0].item())\n",
    "plot(test_ds, (10, 2))"
   ]
  },
  {
   "cell_type": "code",
   "execution_count": 11,
   "metadata": {},
   "outputs": [
    {
     "name": "stdout",
     "output_type": "stream",
     "text": [
      "99858\n",
      "0.8751328587532043\n"
     ]
    }
   ],
   "source": [
    "print(np.argmax(R2_test))\n",
    "print(np.max(R2_test))"
   ]
  }
 ],
 "metadata": {
  "kernelspec": {
   "display_name": "Python 3.10.5 64-bit",
   "language": "python",
   "name": "python3"
  },
  "language_info": {
   "codemirror_mode": {
    "name": "ipython",
    "version": 3
   },
   "file_extension": ".py",
   "mimetype": "text/x-python",
   "name": "python",
   "nbconvert_exporter": "python",
   "pygments_lexer": "ipython3",
   "version": "3.10.5"
  },
  "orig_nbformat": 4,
  "vscode": {
   "interpreter": {
    "hash": "912d6611990680b3d240e982c9d50f3da4c776707cfd42695cf7d82c88d80956"
   }
  }
 },
 "nbformat": 4,
 "nbformat_minor": 2
}
