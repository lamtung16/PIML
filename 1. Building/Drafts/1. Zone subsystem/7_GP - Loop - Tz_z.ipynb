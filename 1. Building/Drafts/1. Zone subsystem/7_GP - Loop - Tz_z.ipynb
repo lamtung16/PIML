{
 "cells": [
  {
   "cell_type": "code",
   "execution_count": 1,
   "metadata": {},
   "outputs": [],
   "source": [
    "import torch\n",
    "import gpytorch as gp\n",
    "import pandas as pd\n",
    "import numpy as np\n",
    "from sklearn.metrics import r2_score\n",
    "\n",
    "torch.manual_seed(1)\n",
    "np.random.seed(1)"
   ]
  },
  {
   "cell_type": "code",
   "execution_count": 2,
   "metadata": {},
   "outputs": [],
   "source": [
    "df = pd.read_csv('C:/Users/tln229/Downloads/Python/Building/data/HVAC_B90_102_exp_10m_20210424.csv')"
   ]
  },
  {
   "cell_type": "code",
   "execution_count": 3,
   "metadata": {},
   "outputs": [],
   "source": [
    "class MyGPModel(gp.models.ExactGP):\n",
    "    def __init__(self, train_x, train_y, likelihood):\n",
    "        super(MyGPModel, self).__init__(train_x, train_y, likelihood)\n",
    "        self.mean_module  = gp.means.ZeroMean()                                 # Means\n",
    "        self.covar_module = gp.kernels.ScaleKernel(gp.kernels.RBFKernel())      # Covariance\n",
    "\n",
    "    def forward(self, x):\n",
    "        mean_x  = self.mean_module(x)\n",
    "        covar_x = self.covar_module(x)\n",
    "        return gp.distributions.MultivariateNormal(mean_x, covar_x)"
   ]
  },
  {
   "cell_type": "code",
   "execution_count": 4,
   "metadata": {},
   "outputs": [
    {
     "name": "stdout",
     "output_type": "stream",
     "text": [
      "n:  16 - lr:0.001 - r2:-64.1062\n",
      "n:  32 - lr:0.001 - r2:  0.8966\n",
      "n:  64 - lr:0.001 - r2:  0.9956\n",
      "n: 128 - lr:0.001 - r2:  0.9979\n",
      "n:  16 - lr:0.010 - r2: -0.3415\n",
      "n:  32 - lr:0.010 - r2:  0.9905\n",
      "n:  64 - lr:0.010 - r2:  0.9983\n",
      "n: 128 - lr:0.010 - r2:  0.9981\n",
      "n:  16 - lr:0.020 - r2:  0.2049\n",
      "n:  32 - lr:0.020 - r2:  0.9952\n",
      "n:  64 - lr:0.020 - r2:  0.9984\n",
      "n: 128 - lr:0.020 - r2:  0.9981\n",
      "n:  16 - lr:0.050 - r2:  0.2636\n",
      "n:  32 - lr:0.050 - r2:  0.9979\n",
      "n:  64 - lr:0.050 - r2:  0.9984\n",
      "n: 128 - lr:0.050 - r2:  0.9981\n"
     ]
    }
   ],
   "source": [
    "for lr in ([0.001, 0.01, 0.02, 0.05]):\n",
    "    lr = lr\n",
    "    for n in ([16, 32, 64, 128]):\n",
    "        n_train = n\n",
    "\n",
    "        # TRAIN SET\n",
    "        Tz_k   = np.array(df['room_temp']).reshape(-1,1)[0: n_train]\n",
    "        Tz_k1  = np.array(df['room_temp'])[1: n_train+1]\n",
    "        Tsa_k1 = np.array(df['supply_discharge_temp']).reshape(-1,1)[1: n_train+1]\n",
    "        msa_k1 = np.array(df['airflow_current']).reshape(-1,1)[1: n_train+1]\n",
    "        z      = ((msa_k1-400)/600)*(Tsa_k1-Tz_k)\n",
    "\n",
    "        # train_x = np.concatenate((Tz_k, Tsa_k1, msa_k1), axis=1)\n",
    "        train_x = np.concatenate((Tz_k, z), axis=1)\n",
    "        train_x = torch.tensor(train_x, dtype=torch.float32)\n",
    "        train_y = torch.tensor(Tz_k1, dtype=torch.float32)\n",
    "\n",
    "        # TEST SET\n",
    "        Tz_k   = np.array(df['room_temp']).reshape(-1,1)[n_train:1600]\n",
    "        Tz_k1  = np.array(df['room_temp'])[n_train+1:1600+1]\n",
    "        Tsa_k1 = np.array(df['supply_discharge_temp']).reshape(-1,1)[n_train+1: 1600+1]\n",
    "        msa_k1 = np.array(df['airflow_current']).reshape(-1,1)[n_train+1:1600+1]\n",
    "        z      = ((msa_k1-400)/600)*(Tsa_k1-Tz_k)\n",
    "\n",
    "        # test_x = np.concatenate((Tz_k, Tsa_k1, msa_k1), axis=1)\n",
    "        test_x = np.concatenate((Tz_k, z), axis=1)\n",
    "        test_x = torch.tensor(test_x, dtype=torch.float32)\n",
    "        test_y = torch.tensor(Tz_k1, dtype=torch.float32)\n",
    "\n",
    "        # initialize likelihood and model\n",
    "        likelihood = gp.likelihoods.GaussianLikelihood()\n",
    "        model      = MyGPModel(train_x, train_y, likelihood)\n",
    "\n",
    "        # Training\n",
    "        training_iter = 200000    # number of training iteration\n",
    "\n",
    "        optimizer = torch.optim.Adam(model.parameters(), lr=lr)       # optimizer\n",
    "        mll = gp.mlls.ExactMarginalLogLikelihood(likelihood, model)   # marginal likelihood\n",
    "\n",
    "        R2_test = np.array([], dtype=np.float32)\n",
    "        for i in range(training_iter+1):\n",
    "            # TRAIN\n",
    "            model.train()                   # find the hyperparameters\n",
    "            likelihood.train()\n",
    "\n",
    "            optimizer.zero_grad()           # Zero gradients from previous iteration\n",
    "            output = model(train_x)         # Output from model\n",
    "            loss   = -mll(output, train_y)  # Calc loss and backprop gradients\n",
    "\n",
    "            loss.backward()\n",
    "            optimizer.step()\n",
    "            \n",
    "            # EVAL\n",
    "            model.eval()\n",
    "            likelihood.eval()\n",
    "\n",
    "            with torch.no_grad(), gp.settings.fast_pred_var():\n",
    "                pred_y = likelihood(model(test_x))\n",
    "\n",
    "            r2 = r2_score(test_y.numpy(), pred_y.mean.numpy())\n",
    "            R2_test = np.append(R2_test, r2)\n",
    "        \n",
    "        # print(np.argmax(R2_test))\n",
    "        print('n:%4d - lr:%5.3f - r2:%8.4f' % (n, lr, np.max(R2_test)))"
   ]
  },
  {
   "cell_type": "code",
   "execution_count": 5,
   "metadata": {},
   "outputs": [],
   "source": [
    "# n:  16 - lr:0.001 - r2:-670.9519\n",
    "# n:  32 - lr:0.001 - r2:-23.7125\n",
    "# n:  64 - lr:0.001 - r2:  0.6472\n",
    "# n: 128 - lr:0.001 - r2:  0.9696\n",
    "# n:  16 - lr:0.010 - r2:-612.6224\n",
    "# n:  32 - lr:0.010 - r2: -0.7237\n",
    "# n:  64 - lr:0.010 - r2:  0.9781\n",
    "# n: 128 - lr:0.010 - r2:  0.9944\n",
    "# n:  16 - lr:0.020 - r2:-570.2186\n",
    "# n:  32 - lr:0.020 - r2:  0.6285\n",
    "# n:  64 - lr:0.020 - r2:  0.9851\n",
    "# n: 128 - lr:0.020 - r2:  0.9954"
   ]
  }
 ],
 "metadata": {
  "kernelspec": {
   "display_name": "Python 3.10.5 64-bit",
   "language": "python",
   "name": "python3"
  },
  "language_info": {
   "codemirror_mode": {
    "name": "ipython",
    "version": 3
   },
   "file_extension": ".py",
   "mimetype": "text/x-python",
   "name": "python",
   "nbconvert_exporter": "python",
   "pygments_lexer": "ipython3",
   "version": "3.10.5"
  },
  "orig_nbformat": 4,
  "vscode": {
   "interpreter": {
    "hash": "912d6611990680b3d240e982c9d50f3da4c776707cfd42695cf7d82c88d80956"
   }
  }
 },
 "nbformat": 4,
 "nbformat_minor": 2
}
