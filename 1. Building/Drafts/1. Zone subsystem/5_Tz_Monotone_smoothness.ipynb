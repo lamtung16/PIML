{
 "cells": [
  {
   "cell_type": "code",
   "execution_count": 1,
   "metadata": {},
   "outputs": [],
   "source": [
    "# library\n",
    "import torch\n",
    "import numpy as np\n",
    "import matplotlib.pyplot as plt\n",
    "import pandas as pd\n",
    "\n",
    "torch.manual_seed(1)\n",
    "np.random.seed(1)\n",
    "torch.set_printoptions(precision=3)"
   ]
  },
  {
   "cell_type": "code",
   "execution_count": 2,
   "metadata": {},
   "outputs": [],
   "source": [
    "class MonotonicLinear(torch.nn.Module):\n",
    "  def __init__(self, input_size, output_size):\n",
    "    super().__init__()\n",
    "    self.input_size  = input_size\n",
    "    self.output_size = output_size\n",
    "    self.weights = torch.nn.Parameter(torch.rand((output_size, input_size), dtype=torch.float32))\n",
    "\n",
    "  def forward(self, x):\n",
    "    z = torch.mm(x, torch.exp(self.weights.t()))\n",
    "    return z"
   ]
  },
  {
   "cell_type": "code",
   "execution_count": 3,
   "metadata": {},
   "outputs": [],
   "source": [
    "class Net(torch.nn.Module):\n",
    "  def __init__(self):\n",
    "    super(Net, self).__init__()\n",
    "    self.input11 = MonotonicLinear(1, 4)\n",
    "    self.input12 = torch.nn.Linear(2, 4)\n",
    "    self.max1    = torch.nn.MaxPool1d(4)\n",
    "\n",
    "    self.input21 = MonotonicLinear(1, 4)\n",
    "    self.input22 = torch.nn.Linear(2, 4)\n",
    "    self.max2    = torch.nn.MaxPool1d(4)\n",
    "\n",
    "    self.output = torch.nn.MaxPool1d(2)\n",
    "\n",
    "  def forward(self, x_m, x_u):\n",
    "    z1 = torch.add(self.input11(x_m), self.input12(x_u))\n",
    "    z1 = self.max1(z1)\n",
    "\n",
    "    z2 = torch.add(self.input21(x_m), self.input22(x_u))\n",
    "    z2 = self.max1(z2)\n",
    "\n",
    "    z = torch.concat((z1,z2), axis=1)\n",
    "    z = self.output(-z)\n",
    "\n",
    "    return -z\n",
    "\n",
    "# Create network\n",
    "device = torch.device(\"cpu\")\n",
    "net = Net().to(device)"
   ]
  },
  {
   "cell_type": "code",
   "execution_count": 4,
   "metadata": {},
   "outputs": [],
   "source": [
    "# Model error\n",
    "def eval(model, testset):\n",
    "    with torch.no_grad():\n",
    "        pred_Y = model(testset.x_m_data, testset.x_u_data)\n",
    "    \n",
    "    # R^2\n",
    "    SSR = torch.sum(torch.square(pred_Y - testset.y_data))\n",
    "    SST = torch.sum(torch.square(pred_Y - torch.mean(testset.y_data)))\n",
    "    r2 = 1 - SSR/SST\n",
    "\n",
    "    # RMSE\n",
    "    rmse = torch.sqrt(torch.mean(torch.square(pred_Y - testset.y_data)))\n",
    "    return r2, rmse"
   ]
  },
  {
   "cell_type": "code",
   "execution_count": 5,
   "metadata": {},
   "outputs": [],
   "source": [
    "# Create network\n",
    "device = torch.device(\"cpu\")\n",
    "net = Net().to(device)"
   ]
  },
  {
   "cell_type": "code",
   "execution_count": 6,
   "metadata": {},
   "outputs": [],
   "source": [
    "# Data\n",
    "class Data(torch.utils.data.Dataset):\n",
    "  def __init__(self, src_file, start=None, end=None):\n",
    "    df = pd.read_csv(src_file)\n",
    "    Tsa_k1 = np.array(df['supply_discharge_temp']).reshape(-1,1)[start+1: end+1]\n",
    "    Tz_k   = np.array(df['room_temp']).reshape(-1,1)[start: end]\n",
    "    msa_k1 = np.array(df['airflow_current']).reshape(-1,1)[start+1: end+1]\n",
    "\n",
    "    tmp_x_u = np.concatenate((Tz_k, msa_k1), axis=1)\n",
    "    tmp_y   = np.array(df['room_temp']).reshape(-1,1)[start+1: end+1]\n",
    "\n",
    "    self.x_m_data = torch.tensor(Tsa_k1, dtype=torch.float32)\n",
    "    self.x_u_data = torch.tensor(tmp_x_u, dtype=torch.float32)\n",
    "    self.y_data   = torch.tensor(tmp_y, dtype=torch.float32)\n",
    "\n",
    "  def __len__(self):\n",
    "    return len(self.y_data)\n",
    "\n",
    "  def __getitem__(self, idx):\n",
    "    if torch.is_tensor(idx):\n",
    "      idx = idx.tolist()\n",
    "    inp_m  = self.x_m_data[idx]\n",
    "    inp_u  = self.x_u_data[idx]\n",
    "    outp   = self.y_data[idx]\n",
    "    sample = {'inp_m':inp_m, 'inp_u':inp_u, 'outp':outp}\n",
    "    return sample\n",
    "\n",
    "# Create Dataset and DataLoader objects\n",
    "src_file = 'C:/Users/tln229/Downloads/Python/Building/data/HVAC_B90_102_exp_10m_20210424.csv'\n",
    "n_train  = 32\n",
    "train_ds = Data(src_file, start=0,       end=n_train)\n",
    "test_ds  = Data(src_file, start=n_train, end=1600)"
   ]
  },
  {
   "cell_type": "code",
   "execution_count": 7,
   "metadata": {},
   "outputs": [
    {
     "name": "stdout",
     "output_type": "stream",
     "text": [
      "epoch =     0 \t loss =    4987.432 \t RMSE =   78.192 \t R2 =  0.00335\n",
      "epoch =  1000 \t loss =      13.459 \t RMSE =   18.360 \t R2 = -0.14448\n",
      "epoch =  2000 \t loss =       6.887 \t RMSE =   18.212 \t R2 = -0.14856\n",
      "epoch =  3000 \t loss =       4.508 \t RMSE =   17.613 \t R2 = -0.15515\n",
      "epoch =  4000 \t loss =       3.431 \t RMSE =   17.745 \t R2 = -0.15420\n",
      "epoch =  5000 \t loss =       3.125 \t RMSE =   16.564 \t R2 = -0.16639\n",
      "epoch =  6000 \t loss =       2.793 \t RMSE =   15.343 \t R2 = -0.18060\n",
      "epoch =  7000 \t loss =       2.372 \t RMSE =   13.786 \t R2 = -0.20251\n",
      "epoch =  8000 \t loss =       1.893 \t RMSE =   11.963 \t R2 = -0.23587\n",
      "epoch =  9000 \t loss =       1.412 \t RMSE =   10.034 \t R2 = -0.28528\n",
      "epoch = 10000 \t loss =       0.996 \t RMSE =    8.429 \t R2 = -0.34513\n",
      "epoch = 11000 \t loss =       0.671 \t RMSE =    7.064 \t R2 = -0.41896\n",
      "epoch = 12000 \t loss =       0.441 \t RMSE =    5.933 \t R2 = -0.50643\n",
      "epoch = 13000 \t loss =       0.289 \t RMSE =    5.060 \t R2 = -0.59890\n",
      "epoch = 14000 \t loss =       0.200 \t RMSE =    4.601 \t R2 = -0.65714\n",
      "epoch = 15000 \t loss =       0.138 \t RMSE =    4.108 \t R2 = -0.72757\n",
      "epoch = 16000 \t loss =       0.102 \t RMSE =    3.698 \t R2 = -0.79061\n",
      "epoch = 17000 \t loss =       0.076 \t RMSE =    3.350 \t R2 = -0.84140\n",
      "epoch = 18000 \t loss =       0.061 \t RMSE =    3.062 \t R2 = -0.87751\n",
      "epoch = 19000 \t loss =       0.128 \t RMSE =    3.552 \t R2 = -0.73424\n",
      "epoch = 20000 \t loss =       0.089 \t RMSE =    2.897 \t R2 = -0.79807\n",
      "epoch = 21000 \t loss =       0.060 \t RMSE =    2.308 \t R2 = -0.74301\n",
      "epoch = 22000 \t loss =       0.041 \t RMSE =    1.833 \t R2 = -0.48512\n",
      "epoch = 23000 \t loss =       0.030 \t RMSE =    1.485 \t R2 = -0.12088\n",
      "epoch = 24000 \t loss =       0.022 \t RMSE =    1.224 \t R2 =  0.21395\n",
      "epoch = 25000 \t loss =       0.018 \t RMSE =    1.004 \t R2 =  0.47975\n",
      "epoch = 26000 \t loss =       0.014 \t RMSE =    0.867 \t R2 =  0.63268\n",
      "epoch = 27000 \t loss =       0.012 \t RMSE =    0.749 \t R2 =  0.73964\n",
      "epoch = 28000 \t loss =       0.010 \t RMSE =    0.642 \t R2 =  0.81835\n",
      "epoch = 29000 \t loss =       0.009 \t RMSE =    0.560 \t R2 =  0.86797\n",
      "epoch = 30000 \t loss =       0.008 \t RMSE =    0.492 \t R2 =  0.90221\n",
      "epoch = 31000 \t loss =       0.008 \t RMSE =    0.435 \t R2 =  0.92622\n",
      "epoch = 32000 \t loss =       0.013 \t RMSE =    0.334 \t R2 =  0.95851\n",
      "epoch = 33000 \t loss =       0.007 \t RMSE =    0.343 \t R2 =  0.95689\n",
      "epoch = 34000 \t loss =       0.006 \t RMSE =    0.318 \t R2 =  0.96372\n",
      "epoch = 35000 \t loss =       0.006 \t RMSE =    0.278 \t R2 =  0.97283\n",
      "epoch = 36000 \t loss =       0.006 \t RMSE =    0.252 \t R2 =  0.97807\n",
      "epoch = 37000 \t loss =       0.022 \t RMSE =    0.199 \t R2 =  0.98720\n",
      "epoch = 38000 \t loss =       0.005 \t RMSE =    0.216 \t R2 =  0.98448\n",
      "epoch = 39000 \t loss =       0.005 \t RMSE =    0.187 \t R2 =  0.98859\n",
      "epoch = 40000 \t loss =       0.005 \t RMSE =    0.174 \t R2 =  0.99023\n",
      "epoch = 41000 \t loss =       0.005 \t RMSE =    0.149 \t R2 =  0.99298\n",
      "epoch = 42000 \t loss =       0.005 \t RMSE =    0.148 \t R2 =  0.99308\n",
      "epoch = 43000 \t loss =       0.005 \t RMSE =    0.137 \t R2 =  0.99411\n",
      "epoch = 44000 \t loss =       0.012 \t RMSE =    0.126 \t R2 =  0.99517\n",
      "epoch = 45000 \t loss =       0.004 \t RMSE =    0.119 \t R2 =  0.99562\n",
      "epoch = 46000 \t loss =       0.004 \t RMSE =    0.113 \t R2 =  0.99607\n",
      "epoch = 47000 \t loss =       0.004 \t RMSE =    0.108 \t R2 =  0.99647\n",
      "epoch = 48000 \t loss =       0.005 \t RMSE =    0.106 \t R2 =  0.99662\n",
      "epoch = 49000 \t loss =       0.004 \t RMSE =    0.099 \t R2 =  0.99703\n",
      "epoch = 50000 \t loss =       0.004 \t RMSE =    0.097 \t R2 =  0.99722\n",
      "epoch = 51000 \t loss =       0.004 \t RMSE =    0.094 \t R2 =  0.99736\n",
      "epoch = 52000 \t loss =       0.004 \t RMSE =    0.093 \t R2 =  0.99746\n",
      "epoch = 53000 \t loss =       0.006 \t RMSE =    0.093 \t R2 =  0.99744\n",
      "epoch = 54000 \t loss =       0.004 \t RMSE =    0.090 \t R2 =  0.99761\n",
      "epoch = 55000 \t loss =       0.004 \t RMSE =    0.091 \t R2 =  0.99757\n",
      "epoch = 56000 \t loss =       0.004 \t RMSE =    0.091 \t R2 =  0.99758\n",
      "epoch = 57000 \t loss =       0.005 \t RMSE =    0.117 \t R2 =  0.99607\n",
      "epoch = 58000 \t loss =       0.004 \t RMSE =    0.097 \t R2 =  0.99730\n",
      "epoch = 59000 \t loss =       0.004 \t RMSE =    0.093 \t R2 =  0.99751\n",
      "epoch = 60000 \t loss =       0.004 \t RMSE =    0.094 \t R2 =  0.99747\n",
      "epoch = 61000 \t loss =       0.004 \t RMSE =    0.096 \t R2 =  0.99738\n",
      "epoch = 62000 \t loss =       0.004 \t RMSE =    0.096 \t R2 =  0.99735\n",
      "epoch = 63000 \t loss =       0.004 \t RMSE =    0.101 \t R2 =  0.99710\n",
      "epoch = 64000 \t loss =       0.005 \t RMSE =    0.098 \t R2 =  0.99730\n",
      "epoch = 65000 \t loss =       0.004 \t RMSE =    0.101 \t R2 =  0.99713\n",
      "epoch = 66000 \t loss =       0.004 \t RMSE =    0.106 \t R2 =  0.99682\n",
      "epoch = 67000 \t loss =       0.004 \t RMSE =    0.103 \t R2 =  0.99700\n",
      "epoch = 68000 \t loss =       0.004 \t RMSE =    0.105 \t R2 =  0.99691\n",
      "epoch = 69000 \t loss =       0.006 \t RMSE =    0.088 \t R2 =  0.99779\n",
      "epoch = 70000 \t loss =       0.004 \t RMSE =    0.108 \t R2 =  0.99676\n",
      "epoch = 71000 \t loss =       0.004 \t RMSE =    0.108 \t R2 =  0.99672\n",
      "epoch = 72000 \t loss =       0.004 \t RMSE =    0.110 \t R2 =  0.99660\n",
      "epoch = 73000 \t loss =       0.004 \t RMSE =    0.112 \t R2 =  0.99653\n",
      "epoch = 74000 \t loss =       0.004 \t RMSE =    0.113 \t R2 =  0.99648\n",
      "epoch = 75000 \t loss =       0.004 \t RMSE =    0.113 \t R2 =  0.99645\n",
      "epoch = 76000 \t loss =       0.004 \t RMSE =    0.116 \t R2 =  0.99629\n",
      "epoch = 77000 \t loss =       0.004 \t RMSE =    0.107 \t R2 =  0.99683\n",
      "epoch = 78000 \t loss =       0.004 \t RMSE =    0.130 \t R2 =  0.99538\n",
      "epoch = 79000 \t loss =       0.004 \t RMSE =    0.119 \t R2 =  0.99611\n",
      "epoch = 80000 \t loss =       0.005 \t RMSE =    0.093 \t R2 =  0.99757\n",
      "epoch = 81000 \t loss =       0.004 \t RMSE =    0.121 \t R2 =  0.99598\n",
      "epoch = 82000 \t loss =       0.004 \t RMSE =    0.131 \t R2 =  0.99529\n",
      "epoch = 83000 \t loss =       0.004 \t RMSE =    0.123 \t R2 =  0.99585\n",
      "epoch = 84000 \t loss =       0.004 \t RMSE =    0.124 \t R2 =  0.99578\n",
      "epoch = 85000 \t loss =       0.004 \t RMSE =    0.102 \t R2 =  0.99710\n",
      "epoch = 86000 \t loss =       0.004 \t RMSE =    0.126 \t R2 =  0.99564\n",
      "epoch = 87000 \t loss =       0.004 \t RMSE =    0.118 \t R2 =  0.99615\n",
      "epoch = 88000 \t loss =       0.009 \t RMSE =    0.124 \t R2 =  0.99579\n",
      "epoch = 89000 \t loss =       0.004 \t RMSE =    0.124 \t R2 =  0.99580\n",
      "epoch = 90000 \t loss =       0.004 \t RMSE =    0.129 \t R2 =  0.99543\n",
      "epoch = 91000 \t loss =       0.004 \t RMSE =    0.130 \t R2 =  0.99537\n",
      "epoch = 92000 \t loss =       0.004 \t RMSE =    0.132 \t R2 =  0.99528\n",
      "epoch = 93000 \t loss =       0.004 \t RMSE =    0.134 \t R2 =  0.99510\n",
      "epoch = 94000 \t loss =       0.004 \t RMSE =    0.146 \t R2 =  0.99427\n",
      "epoch = 95000 \t loss =       0.004 \t RMSE =    0.137 \t R2 =  0.99493\n",
      "epoch = 96000 \t loss =       0.004 \t RMSE =    0.133 \t R2 =  0.99520\n",
      "epoch = 97000 \t loss =       0.004 \t RMSE =    0.134 \t R2 =  0.99511\n",
      "epoch = 98000 \t loss =       0.014 \t RMSE =    0.101 \t R2 =  0.99720\n",
      "epoch = 99000 \t loss =       0.004 \t RMSE =    0.115 \t R2 =  0.99636\n",
      "epoch = 100000 \t loss =       0.004 \t RMSE =    0.136 \t R2 =  0.99496\n",
      "epoch = 101000 \t loss =       0.004 \t RMSE =    0.125 \t R2 =  0.99573\n",
      "epoch = 102000 \t loss =       0.004 \t RMSE =    0.137 \t R2 =  0.99490\n",
      "epoch = 103000 \t loss =       0.004 \t RMSE =    0.138 \t R2 =  0.99488\n",
      "epoch = 104000 \t loss =       0.004 \t RMSE =    0.139 \t R2 =  0.99478\n",
      "epoch = 105000 \t loss =       0.004 \t RMSE =    0.139 \t R2 =  0.99478\n",
      "epoch = 106000 \t loss =       0.004 \t RMSE =    0.139 \t R2 =  0.99481\n",
      "epoch = 107000 \t loss =       0.004 \t RMSE =    0.140 \t R2 =  0.99468\n",
      "epoch = 108000 \t loss =       0.004 \t RMSE =    0.141 \t R2 =  0.99463\n",
      "epoch = 109000 \t loss =       0.004 \t RMSE =    0.141 \t R2 =  0.99467\n",
      "epoch = 110000 \t loss =       0.004 \t RMSE =    0.152 \t R2 =  0.99379\n",
      "epoch = 111000 \t loss =       0.004 \t RMSE =    0.142 \t R2 =  0.99460\n",
      "epoch = 112000 \t loss =       0.004 \t RMSE =    0.142 \t R2 =  0.99457\n",
      "epoch = 113000 \t loss =       0.007 \t RMSE =    0.107 \t R2 =  0.99685\n",
      "epoch = 114000 \t loss =       0.004 \t RMSE =    0.149 \t R2 =  0.99407\n",
      "epoch = 115000 \t loss =       0.004 \t RMSE =    0.144 \t R2 =  0.99444\n",
      "epoch = 116000 \t loss =       0.004 \t RMSE =    0.145 \t R2 =  0.99438\n",
      "epoch = 117000 \t loss =       0.004 \t RMSE =    0.150 \t R2 =  0.99395\n",
      "epoch = 118000 \t loss =       0.004 \t RMSE =    0.145 \t R2 =  0.99437\n",
      "epoch = 119000 \t loss =       0.004 \t RMSE =    0.145 \t R2 =  0.99438\n",
      "epoch = 120000 \t loss =       0.004 \t RMSE =    0.147 \t R2 =  0.99417\n"
     ]
    }
   ],
   "source": [
    "# train model\n",
    "max_epochs = 120000\n",
    "loss_func  = torch.nn.MSELoss()\n",
    "optimizer  = torch.optim.Adam(net.parameters(), lr=0.002)\n",
    "\n",
    "R2_train   = np.array([])\n",
    "RMSE_train = np.array([])\n",
    "R2_test    = np.array([])\n",
    "RMSE_test  = np.array([])\n",
    "\n",
    "train_ldr = torch.utils.data.DataLoader(train_ds, batch_size=128, shuffle=True)\n",
    "for epoch in range(0, max_epochs+1):\n",
    "    net.train()\n",
    "    loss  = 0\n",
    "    count = 0\n",
    "    for (_, batch) in enumerate(train_ldr):\n",
    "        X_m = batch['inp_m']\n",
    "        X_u = batch['inp_u']\n",
    "        Y   = batch['outp']\n",
    "\n",
    "        optimizer.zero_grad()\n",
    "        output = net(X_m, X_u)             # compute the output of the Network\n",
    "        loss_val = loss_func(output, Y) + 0.01*loss_func(output, X_u[:,0].reshape(-1,1))   # loss function\n",
    "        loss += loss_val.item()            # accumulate\n",
    "        loss_val.backward()                # gradients\n",
    "        optimizer.step()                   # update paramters\n",
    "        count += 1\n",
    "\n",
    "    net.eval()\n",
    "    R2_train   = np.append(R2_train, eval(net, train_ds)[0].item())\n",
    "    RMSE_train = np.append(RMSE_train, eval(net, train_ds)[1].item())\n",
    "    R2_test    = np.append(R2_test, eval(net, test_ds)[0].item())\n",
    "    RMSE_test  = np.append(RMSE_test, eval(net, test_ds)[1].item())\n",
    "\n",
    "\n",
    "    if(epoch%1000==0):\n",
    "        print(\"epoch = %5d \\t loss = %11.3f \\t RMSE = %8.3f \\t R2 = %8.5f\" % (epoch, loss/count, eval(net, test_ds)[1].item(), eval(net, test_ds)[0].item()))"
   ]
  },
  {
   "cell_type": "code",
   "execution_count": 8,
   "metadata": {},
   "outputs": [],
   "source": [
    "def plot(dataset, size):\n",
    "  with torch.no_grad():\n",
    "      pred_Y = net(dataset.x_m_data, dataset.x_u_data)\n",
    "\n",
    "  plt.figure(figsize=size)\n",
    "  plt.plot(dataset.y_data, 'b--', label=r'$T$ measured')\n",
    "  plt.plot(pred_Y,         'r--', label=r'$T$ predicted')\n",
    "  plt.ylabel(r'T($^oC$)')\n",
    "  plt.legend()\n",
    "  plt.show()"
   ]
  },
  {
   "cell_type": "code",
   "execution_count": 9,
   "metadata": {},
   "outputs": [
    {
     "name": "stdout",
     "output_type": "stream",
     "text": [
      "RMSE: 0.059809017926454544\n",
      "R2:   0.9674637913703918\n"
     ]
    },
    {
     "data": {
      "image/png": "[encoded data removed]",
      "text/plain": [
       "<Figure size 720x144 with 1 Axes>"
      ]
     },
     "metadata": {
      "needs_background": "light"
     },
     "output_type": "display_data"
    }
   ],
   "source": [
    "net.eval()\n",
    "print(\"RMSE:\", eval(net, train_ds)[1].item())\n",
    "print(\"R2:  \", eval(net, train_ds)[0].item())\n",
    "plot(train_ds, (10, 2))"
   ]
  },
  {
   "cell_type": "code",
   "execution_count": 10,
   "metadata": {},
   "outputs": [
    {
     "name": "stdout",
     "output_type": "stream",
     "text": [
      "RMSE: 0.14739485085010529\n",
      "R2:   0.9941712021827698\n"
     ]
    },
    {
     "data": {
      "image/png": "[encoded data removed]",
      "text/plain": [
       "<Figure size 720x144 with 1 Axes>"
      ]
     },
     "metadata": {
      "needs_background": "light"
     },
     "output_type": "display_data"
    }
   ],
   "source": [
    "net.eval()\n",
    "print(\"RMSE:\", eval(net, test_ds)[1].item())\n",
    "print(\"R2:  \",   eval(net, test_ds)[0].item())\n",
    "plot(test_ds, (10, 2))"
   ]
  },
  {
   "cell_type": "code",
   "execution_count": 11,
   "metadata": {},
   "outputs": [
    {
     "name": "stdout",
     "output_type": "stream",
     "text": [
      "62748\n",
      "0.9978976249694824\n"
     ]
    }
   ],
   "source": [
    "print(np.argmax(R2_test))\n",
    "print(np.max(R2_test))"
   ]
  }
 ],
 "metadata": {
  "kernelspec": {
   "display_name": "Python 3.10.5 64-bit",
   "language": "python",
   "name": "python3"
  },
  "language_info": {
   "codemirror_mode": {
    "name": "ipython",
    "version": 3
   },
   "file_extension": ".py",
   "mimetype": "text/x-python",
   "name": "python",
   "nbconvert_exporter": "python",
   "pygments_lexer": "ipython3",
   "version": "3.10.5"
  },
  "orig_nbformat": 4,
  "vscode": {
   "interpreter": {
    "hash": "912d6611990680b3d240e982c9d50f3da4c776707cfd42695cf7d82c88d80956"
   }
  }
 },
 "nbformat": 4,
 "nbformat_minor": 2
}
