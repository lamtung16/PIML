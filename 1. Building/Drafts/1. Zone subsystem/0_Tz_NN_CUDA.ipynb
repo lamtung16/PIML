{
  "cells": [
    {
      "cell_type": "code",
      "execution_count": 1,
      "metadata": {
        "id": "jzH_LbEIGLWu"
      },
      "outputs": [],
      "source": [
        "# library\n",
        "import torch\n",
        "import numpy as np\n",
        "import matplotlib.pyplot as plt\n",
        "import pandas as pd\n",
        "\n",
        "torch.manual_seed(1)\n",
        "np.random.seed(1)\n",
        "torch.set_printoptions(precision=3)"
      ]
    },
    {
      "cell_type": "code",
      "execution_count": 2,
      "metadata": {
        "id": "Y3eaKBL2GhJI"
      },
      "outputs": [],
      "source": [
        "# Model\n",
        "class Net(torch.nn.Module):\n",
        "  def __init__(self):\n",
        "    super(Net, self).__init__()\n",
        "    self.input   = torch.nn.Linear(3, 3)\n",
        "    self.hidden1 = torch.nn.Linear(3, 3)\n",
        "    self.output  = torch.nn.Linear(3, 1)\n",
        "\n",
        "  def forward(self, x):\n",
        "    z = torch.selu(self.input(x))\n",
        "    z = torch.selu(self.hidden1(z))\n",
        "    z = torch.relu(self.output(z))\n",
        "    return z"
      ]
    },
    {
      "cell_type": "code",
      "execution_count": 3,
      "metadata": {
        "id": "BtNtb3epPIzJ"
      },
      "outputs": [],
      "source": [
        "# Model error\n",
        "def eval(model, testset):\n",
        "    with torch.no_grad():\n",
        "        pred_Y = model(testset.x_data.cuda())\n",
        "    \n",
        "    # R^2\n",
        "    SSR = torch.sum(torch.square(pred_Y - testset.y_data.cuda()))\n",
        "    SST = torch.sum(torch.square(pred_Y - torch.mean(testset.y_data.cuda())))\n",
        "    r2 = 1 - SSR/SST\n",
        "\n",
        "    # RMSE\n",
        "    rmse = torch.sqrt(torch.mean(torch.square(pred_Y - testset.y_data.cuda())))\n",
        "    return r2, rmse"
      ]
    },
    {
      "cell_type": "code",
      "execution_count": 4,
      "metadata": {
        "id": "siG1H-hjHA1g"
      },
      "outputs": [],
      "source": [
        "# Create network\n",
        "device = torch.device(\"cuda\")\n",
        "net = Net().to(device)"
      ]
    },
    {
      "cell_type": "code",
      "execution_count": 5,
      "metadata": {
        "id": "dTWtNEdVHCuw"
      },
      "outputs": [],
      "source": [
        "# Data\n",
        "class Data(torch.utils.data.Dataset):\n",
        "  def __init__(self, src_file, start=None, end=None):\n",
        "    df = pd.read_csv(src_file)\n",
        "    Tz_k   = np.array(df['room_temp']).reshape(-1,1)[start: end]\n",
        "    Tsa_k1 = np.array(df['supply_discharge_temp']).reshape(-1,1)[start+1: end+1]\n",
        "    msa_k1 = np.array(df['airflow_current']).reshape(-1,1)[start+1: end+1]\n",
        "\n",
        "    tmp_x = np.concatenate((Tz_k, Tsa_k1, msa_k1), axis=1)\n",
        "    tmp_y = np.array(df['room_temp']).reshape(-1,1)[start+1: end+1]\n",
        "\n",
        "    self.x_data = torch.tensor(tmp_x, dtype=torch.float32)\n",
        "    self.y_data = torch.tensor(tmp_y, dtype=torch.float32)\n",
        "\n",
        "  def __len__(self):\n",
        "    return len(self.x_data)\n",
        "\n",
        "  def __getitem__(self, idx):\n",
        "    if torch.is_tensor(idx):\n",
        "      idx = idx.tolist()\n",
        "    inp  = self.x_data[idx]\n",
        "    outp = self.y_data[idx]\n",
        "    sample = {'inp':inp, 'outp':outp}\n",
        "    return sample\n",
        "\n",
        "# Create Dataset and DataLoader objects\n",
        "src_file = 'C:/Users/tln229/Downloads/Python/Building/data/HVAC_B90_102_exp_10m_20210424.csv'\n",
        "train_ds = Data(src_file, start=0,   end=800)\n",
        "test_ds  = Data(src_file, start=800, end=1600)"
      ]
    },
    {
      "cell_type": "code",
      "execution_count": 6,
      "metadata": {
        "colab": {
          "base_uri": "https://localhost:8080/"
        },
        "id": "gebr4CnRLFBd",
        "outputId": "d74e7cd7-8dab-49a9-babc-e77577dd73b7"
      },
      "outputs": [
        {
          "name": "stdout",
          "output_type": "stream",
          "text": [
            "epoch =     0 \t loss = 3904.675 \t RMSE = 61.448 \t R2 = 0.00194\n",
            "epoch =   500 \t loss =  273.329 \t RMSE = 20.748 \t R2 = 0.11569\n",
            "epoch =  1000 \t loss =  107.988 \t RMSE = 13.049 \t R2 = 0.17428\n",
            "epoch =  1500 \t loss =    0.482 \t RMSE =  0.783 \t R2 = 0.79643\n",
            "epoch =  2000 \t loss =    0.107 \t RMSE =  0.387 \t R2 = 0.94865\n",
            "epoch =  2500 \t loss =    0.012 \t RMSE =  0.158 \t R2 = 0.99183\n",
            "epoch =  3000 \t loss =    0.008 \t RMSE =  0.119 \t R2 = 0.99543\n",
            "epoch =  3500 \t loss =    0.008 \t RMSE =  0.119 \t R2 = 0.99542\n",
            "epoch =  4000 \t loss =    0.008 \t RMSE =  0.119 \t R2 = 0.99545\n",
            "epoch =  4500 \t loss =    0.008 \t RMSE =  0.108 \t R2 = 0.99630\n",
            "epoch =  5000 \t loss =    0.008 \t RMSE =  0.112 \t R2 = 0.99600\n",
            "epoch =  5500 \t loss =    0.008 \t RMSE =  0.125 \t R2 = 0.99495\n",
            "epoch =  6000 \t loss =    0.008 \t RMSE =  0.140 \t R2 = 0.99365\n",
            "epoch =  6500 \t loss =    0.009 \t RMSE =  0.117 \t R2 = 0.99560\n",
            "epoch =  7000 \t loss =    0.009 \t RMSE =  0.100 \t R2 = 0.99684\n",
            "epoch =  7500 \t loss =    0.013 \t RMSE =  0.097 \t R2 = 0.99702\n",
            "epoch =  8000 \t loss =    0.007 \t RMSE =  0.120 \t R2 = 0.99544\n",
            "epoch =  8500 \t loss =    0.007 \t RMSE =  0.097 \t R2 = 0.99701\n",
            "epoch =  9000 \t loss =    0.008 \t RMSE =  0.132 \t R2 = 0.99445\n",
            "epoch =  9500 \t loss =    0.007 \t RMSE =  0.131 \t R2 = 0.99451\n",
            "epoch = 10000 \t loss =    0.007 \t RMSE =  0.087 \t R2 = 0.99765\n",
            "epoch = 10500 \t loss =    0.007 \t RMSE =  0.086 \t R2 = 0.99770\n",
            "epoch = 11000 \t loss =    0.007 \t RMSE =  0.086 \t R2 = 0.99766\n",
            "epoch = 11500 \t loss =    0.008 \t RMSE =  0.085 \t R2 = 0.99774\n",
            "epoch = 12000 \t loss =    0.006 \t RMSE =  0.092 \t R2 = 0.99734\n",
            "epoch = 12500 \t loss =    0.007 \t RMSE =  0.088 \t R2 = 0.99755\n",
            "epoch = 13000 \t loss =    0.007 \t RMSE =  0.131 \t R2 = 0.99456\n",
            "epoch = 13500 \t loss =    0.006 \t RMSE =  0.091 \t R2 = 0.99741\n",
            "epoch = 14000 \t loss =    0.006 \t RMSE =  0.088 \t R2 = 0.99760\n",
            "epoch = 14500 \t loss =    0.006 \t RMSE =  0.096 \t R2 = 0.99714\n",
            "epoch = 15000 \t loss =    0.006 \t RMSE =  0.104 \t R2 = 0.99660\n",
            "epoch = 15500 \t loss =    0.009 \t RMSE =  0.106 \t R2 = 0.99652\n",
            "epoch = 16000 \t loss =    0.006 \t RMSE =  0.101 \t R2 = 0.99681\n",
            "epoch = 16500 \t loss =    0.005 \t RMSE =  0.096 \t R2 = 0.99714\n",
            "epoch = 17000 \t loss =    0.005 \t RMSE =  0.080 \t R2 = 0.99803\n",
            "epoch = 17500 \t loss =    0.006 \t RMSE =  0.093 \t R2 = 0.99729\n",
            "epoch = 18000 \t loss =    0.006 \t RMSE =  0.079 \t R2 = 0.99807\n",
            "epoch = 18500 \t loss =    0.005 \t RMSE =  0.077 \t R2 = 0.99817\n",
            "epoch = 19000 \t loss =    0.005 \t RMSE =  0.095 \t R2 = 0.99720\n",
            "epoch = 19500 \t loss =    0.005 \t RMSE =  0.097 \t R2 = 0.99706\n",
            "epoch = 20000 \t loss =    0.005 \t RMSE =  0.098 \t R2 = 0.99704\n",
            "epoch = 20500 \t loss =    0.005 \t RMSE =  0.103 \t R2 = 0.99669\n",
            "epoch = 21000 \t loss =    0.009 \t RMSE =  0.085 \t R2 = 0.99779\n",
            "epoch = 21500 \t loss =    0.005 \t RMSE =  0.077 \t R2 = 0.99816\n",
            "epoch = 22000 \t loss =    0.006 \t RMSE =  0.131 \t R2 = 0.99463\n",
            "epoch = 22500 \t loss =    0.006 \t RMSE =  0.093 \t R2 = 0.99732\n",
            "epoch = 23000 \t loss =    0.006 \t RMSE =  0.120 \t R2 = 0.99552\n",
            "epoch = 23500 \t loss =    0.005 \t RMSE =  0.081 \t R2 = 0.99799\n",
            "epoch = 24000 \t loss =    0.005 \t RMSE =  0.075 \t R2 = 0.99827\n",
            "epoch = 24500 \t loss =    0.005 \t RMSE =  0.091 \t R2 = 0.99742\n",
            "epoch = 25000 \t loss =    0.005 \t RMSE =  0.095 \t R2 = 0.99721\n",
            "epoch = 25500 \t loss =    0.005 \t RMSE =  0.077 \t R2 = 0.99819\n",
            "epoch = 26000 \t loss =    0.005 \t RMSE =  0.080 \t R2 = 0.99804\n",
            "epoch = 26500 \t loss =    0.006 \t RMSE =  0.081 \t R2 = 0.99797\n",
            "epoch = 27000 \t loss =    0.005 \t RMSE =  0.078 \t R2 = 0.99816\n",
            "epoch = 27500 \t loss =    0.005 \t RMSE =  0.074 \t R2 = 0.99830\n",
            "epoch = 28000 \t loss =    0.005 \t RMSE =  0.094 \t R2 = 0.99726\n",
            "epoch = 28500 \t loss =    0.006 \t RMSE =  0.093 \t R2 = 0.99739\n",
            "epoch = 29000 \t loss =    0.005 \t RMSE =  0.099 \t R2 = 0.99699\n",
            "epoch = 29500 \t loss =    0.005 \t RMSE =  0.096 \t R2 = 0.99722\n"
          ]
        }
      ],
      "source": [
        "# train model\n",
        "max_epochs = 29860\n",
        "loss_func  = torch.nn.MSELoss()\n",
        "optimizer  = torch.optim.Adam(net.parameters(), lr=0.001)\n",
        "\n",
        "R2_train   = np.array([])\n",
        "RMSE_train = np.array([])\n",
        "R2_test    = np.array([])\n",
        "RMSE_test  = np.array([])\n",
        "\n",
        "train_ldr = torch.utils.data.DataLoader(train_ds, batch_size=512, shuffle=True)\n",
        "for epoch in range(0, max_epochs+1):\n",
        "    net.train()\n",
        "    loss  = 0\n",
        "    count = 0\n",
        "    for (_, batch) in enumerate(train_ldr):\n",
        "        X = batch['inp']\n",
        "        Y = batch['outp']\n",
        "\n",
        "        optimizer.zero_grad()\n",
        "        output = net(X.cuda())                    # compute the output of the Network\n",
        "        loss_val = loss_func(output, Y.cuda())    # loss function\n",
        "        loss += loss_val.item()            # accumulate\n",
        "        loss_val.backward()                # gradients\n",
        "        optimizer.step()                   # update paramters\n",
        "        count += 1\n",
        "\n",
        "    net.eval()\n",
        "    R2_train   = np.append(R2_train, eval(net, train_ds)[0].item())\n",
        "    RMSE_train = np.append(RMSE_train, eval(net, train_ds)[1].item())\n",
        "    R2_test    = np.append(R2_test, eval(net, test_ds)[0].item())\n",
        "    RMSE_test  = np.append(RMSE_test, eval(net, test_ds)[1].item())\n",
        "\n",
        "\n",
        "    if(epoch%500==0):\n",
        "        print(\"epoch = %5d \\t loss = %8.3f \\t RMSE = %6.3f \\t R2 = %7.5f\" % (epoch, loss/count, eval(net, test_ds)[1].item(), eval(net, test_ds)[0].item()))"
      ]
    },
    {
      "cell_type": "code",
      "execution_count": 7,
      "metadata": {},
      "outputs": [
        {
          "data": {
            "image/png": "[encoded data removed]",
            "text/plain": [
              "<Figure size 432x288 with 1 Axes>"
            ]
          },
          "metadata": {
            "needs_background": "light"
          },
          "output_type": "display_data"
        }
      ],
      "source": [
        "plt.plot(R2_train, R2_test)\n",
        "plt.xlabel('R2 Train')\n",
        "plt.ylabel('R2 Test')\n",
        "plt.show()"
      ]
    },
    {
      "cell_type": "code",
      "execution_count": 8,
      "metadata": {
        "id": "ywolwJ3MOYN7"
      },
      "outputs": [],
      "source": [
        "def plot(dataset, size):\n",
        "  with torch.no_grad():\n",
        "      pred_Y = net(dataset.x_data.cuda())\n",
        "\n",
        "  plt.figure(figsize=size)\n",
        "  plt.plot(dataset.y_data, 'b--', label=r'$T$ measured')\n",
        "  plt.plot(pred_Y.cpu().numpy(),         'r--', label=r'$T$ predicted')\n",
        "  plt.ylabel(r'T($^oC$)')\n",
        "  plt.legend()\n",
        "  plt.show()"
      ]
    },
    {
      "cell_type": "code",
      "execution_count": 9,
      "metadata": {
        "colab": {
          "base_uri": "https://localhost:8080/"
        },
        "id": "IWo3Dbz3On1L",
        "outputId": "4cb78c88-5942-45c3-c26a-57ff265388db"
      },
      "outputs": [
        {
          "name": "stdout",
          "output_type": "stream",
          "text": [
            "RMSE: 0.07195943593978882\n",
            "R2:   0.9975461959838867\n"
          ]
        },
        {
          "data": {
            "image/png": "[encoded data removed]",
            "text/plain": [
              "<Figure size 720x144 with 1 Axes>"
            ]
          },
          "metadata": {
            "needs_background": "light"
          },
          "output_type": "display_data"
        }
      ],
      "source": [
        "net.eval()\n",
        "print(\"RMSE:\", eval(net, train_ds)[1].item())\n",
        "print(\"R2:  \", eval(net, train_ds)[0].item())\n",
        "plot(train_ds, (10, 2))"
      ]
    },
    {
      "cell_type": "code",
      "execution_count": 10,
      "metadata": {
        "colab": {
          "base_uri": "https://localhost:8080/",
          "height": 192
        },
        "id": "Ag9YVcqXOpNE",
        "outputId": "df1687ca-583a-4bc6-c968-f825e140a566"
      },
      "outputs": [
        {
          "name": "stdout",
          "output_type": "stream",
          "text": [
            "RMSE: 0.0741388276219368\n",
            "R2:   0.9983174800872803\n"
          ]
        },
        {
          "data": {
            "image/png": "[encoded data removed]",
            "text/plain": [
              "<Figure size 720x144 with 1 Axes>"
            ]
          },
          "metadata": {
            "needs_background": "light"
          },
          "output_type": "display_data"
        }
      ],
      "source": [
        "net.eval()\n",
        "print(\"RMSE:\", eval(net, test_ds)[1].item())\n",
        "print(\"R2:  \",   eval(net, test_ds)[0].item())\n",
        "plot(test_ds, (10, 2))"
      ]
    }
  ],
  "metadata": {
    "colab": {
      "collapsed_sections": [],
      "name": "3. T_z .ipynb",
      "provenance": []
    },
    "kernelspec": {
      "display_name": "Python 3.10.5 64-bit",
      "language": "python",
      "name": "python3"
    },
    "language_info": {
      "codemirror_mode": {
        "name": "ipython",
        "version": 3
      },
      "file_extension": ".py",
      "mimetype": "text/x-python",
      "name": "python",
      "nbconvert_exporter": "python",
      "pygments_lexer": "ipython3",
      "version": "3.10.5"
    },
    "vscode": {
      "interpreter": {
        "hash": "912d6611990680b3d240e982c9d50f3da4c776707cfd42695cf7d82c88d80956"
      }
    }
  },
  "nbformat": 4,
  "nbformat_minor": 0
}
