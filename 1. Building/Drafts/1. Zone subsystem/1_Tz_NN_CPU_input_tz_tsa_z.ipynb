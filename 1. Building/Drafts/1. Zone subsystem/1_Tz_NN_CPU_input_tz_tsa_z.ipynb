{
  "cells": [
    {
      "cell_type": "code",
      "execution_count": 37,
      "metadata": {
        "id": "jzH_LbEIGLWu"
      },
      "outputs": [],
      "source": [
        "# library\n",
        "import torch\n",
        "import numpy as np\n",
        "import matplotlib.pyplot as plt\n",
        "import pandas as pd\n",
        "\n",
        "torch.manual_seed(1)\n",
        "np.random.seed(1)\n",
        "torch.set_printoptions(precision=3)"
      ]
    },
    {
      "cell_type": "code",
      "execution_count": 38,
      "metadata": {
        "id": "Y3eaKBL2GhJI"
      },
      "outputs": [],
      "source": [
        "# Model\n",
        "class Net(torch.nn.Module):\n",
        "  def __init__(self):\n",
        "    super(Net, self).__init__()\n",
        "    self.input   = torch.nn.Linear(3, 3)\n",
        "    self.hidden1 = torch.nn.Linear(3, 3)\n",
        "    self.output  = torch.nn.Linear(3, 1)\n",
        "\n",
        "  def forward(self, x):\n",
        "    z = torch.selu(self.input(x))\n",
        "    z = torch.selu(self.hidden1(z))\n",
        "    z = torch.relu(self.output(z))\n",
        "    return z"
      ]
    },
    {
      "cell_type": "code",
      "execution_count": 39,
      "metadata": {
        "id": "BtNtb3epPIzJ"
      },
      "outputs": [],
      "source": [
        "# Model error\n",
        "def eval(model, testset):\n",
        "    with torch.no_grad():\n",
        "        pred_Y = model(testset.x_data)\n",
        "    \n",
        "    # R^2\n",
        "    SSR = torch.sum(torch.square(pred_Y - testset.y_data))\n",
        "    SST = torch.sum(torch.square(pred_Y - torch.mean(testset.y_data)))\n",
        "    r2 = 1 - SSR/SST\n",
        "\n",
        "    # RMSE\n",
        "    rmse = torch.sqrt(torch.mean(torch.square(pred_Y - testset.y_data)))\n",
        "    return r2, rmse"
      ]
    },
    {
      "cell_type": "code",
      "execution_count": 40,
      "metadata": {
        "id": "siG1H-hjHA1g"
      },
      "outputs": [],
      "source": [
        "# Create network\n",
        "device = torch.device(\"cpu\")\n",
        "net = Net().to(device)"
      ]
    },
    {
      "cell_type": "code",
      "execution_count": 41,
      "metadata": {
        "id": "dTWtNEdVHCuw"
      },
      "outputs": [],
      "source": [
        "# Data\n",
        "class Data(torch.utils.data.Dataset):\n",
        "  def __init__(self, src_file, start=None, end=None):\n",
        "    df = pd.read_csv(src_file)\n",
        "    Tz_k   = np.array(df['room_temp']).reshape(-1,1)[start: end]\n",
        "    Tsa_k1 = np.array(df['supply_discharge_temp']).reshape(-1,1)[start+1: end+1]\n",
        "    msa_k1 = np.array(df['airflow_current']).reshape(-1,1)[start+1: end+1]\n",
        "\n",
        "    tmp_x = np.concatenate((Tz_k, Tsa_k1, ((msa_k1-400)/600)*(Tsa_k1-Tz_k)), axis=1)\n",
        "    tmp_y = np.array(df['room_temp']).reshape(-1,1)[start+1: end+1]\n",
        "\n",
        "    self.x_data = torch.tensor(tmp_x, dtype=torch.float32)\n",
        "    self.y_data = torch.tensor(tmp_y, dtype=torch.float32)\n",
        "\n",
        "  def __len__(self):\n",
        "    return len(self.x_data)\n",
        "\n",
        "  def __getitem__(self, idx):\n",
        "    if torch.is_tensor(idx):\n",
        "      idx = idx.tolist()\n",
        "    inp  = self.x_data[idx]\n",
        "    outp = self.y_data[idx]\n",
        "    sample = {'inp':inp, 'outp':outp}\n",
        "    return sample\n",
        "\n",
        "# Create Dataset and DataLoader objects\n",
        "src_file = 'C:/Users/tln229/Downloads/Python/Building/data/HVAC_B90_102_exp_10m_20210424.csv'\n",
        "n_train = 128\n",
        "train_ds = Data(src_file, start=0,       end=n_train)\n",
        "test_ds  = Data(src_file, start=n_train, end=1600)"
      ]
    },
    {
      "cell_type": "code",
      "execution_count": 42,
      "metadata": {
        "colab": {
          "base_uri": "https://localhost:8080/"
        },
        "id": "gebr4CnRLFBd",
        "outputId": "d74e7cd7-8dab-49a9-babc-e77577dd73b7"
      },
      "outputs": [
        {
          "name": "stdout",
          "output_type": "stream",
          "text": [
            "epoch =     0 \t loss = 5211.388 \t RMSE = 71.655 \t R2 = -0.00072\n",
            "epoch =  1000 \t loss =    3.378 \t RMSE =  2.511 \t R2 = 0.54191\n",
            "epoch =  2000 \t loss =    0.627 \t RMSE =  1.089 \t R2 = 0.81398\n",
            "epoch =  3000 \t loss =    0.028 \t RMSE =  0.220 \t R2 = 0.98696\n",
            "epoch =  4000 \t loss =    0.012 \t RMSE =  0.120 \t R2 = 0.99580\n",
            "epoch =  5000 \t loss =    0.007 \t RMSE =  0.085 \t R2 = 0.99788\n",
            "epoch =  6000 \t loss =    0.006 \t RMSE =  0.084 \t R2 = 0.99795\n",
            "epoch =  7000 \t loss =    0.006 \t RMSE =  0.084 \t R2 = 0.99791\n",
            "epoch =  8000 \t loss =    0.006 \t RMSE =  0.084 \t R2 = 0.99793\n",
            "epoch =  9000 \t loss =    0.006 \t RMSE =  0.083 \t R2 = 0.99795\n",
            "epoch = 10000 \t loss =    0.006 \t RMSE =  0.083 \t R2 = 0.99795\n",
            "epoch = 11000 \t loss =    0.006 \t RMSE =  0.083 \t R2 = 0.99796\n",
            "epoch = 12000 \t loss =    0.006 \t RMSE =  0.083 \t R2 = 0.99796\n",
            "epoch = 13000 \t loss =    0.006 \t RMSE =  0.083 \t R2 = 0.99796\n",
            "epoch = 14000 \t loss =    0.006 \t RMSE =  0.083 \t R2 = 0.99796\n",
            "epoch = 15000 \t loss =    0.006 \t RMSE =  0.083 \t R2 = 0.99797\n",
            "epoch = 16000 \t loss =    0.006 \t RMSE =  0.083 \t R2 = 0.99797\n",
            "epoch = 17000 \t loss =    0.006 \t RMSE =  0.083 \t R2 = 0.99797\n",
            "epoch = 18000 \t loss =    0.006 \t RMSE =  0.083 \t R2 = 0.99798\n",
            "epoch = 19000 \t loss =    0.006 \t RMSE =  0.082 \t R2 = 0.99799\n",
            "epoch = 20000 \t loss =    0.006 \t RMSE =  0.080 \t R2 = 0.99812\n",
            "epoch = 21000 \t loss =    0.006 \t RMSE =  0.078 \t R2 = 0.99821\n",
            "epoch = 22000 \t loss =    0.006 \t RMSE =  0.075 \t R2 = 0.99836\n",
            "epoch = 23000 \t loss =    0.006 \t RMSE =  0.076 \t R2 = 0.99832\n",
            "epoch = 24000 \t loss =    0.006 \t RMSE =  0.073 \t R2 = 0.99843\n",
            "epoch = 25000 \t loss =    0.006 \t RMSE =  0.073 \t R2 = 0.99844\n",
            "epoch = 26000 \t loss =    0.006 \t RMSE =  0.073 \t R2 = 0.99842\n",
            "epoch = 27000 \t loss =    0.006 \t RMSE =  0.073 \t R2 = 0.99844\n",
            "epoch = 28000 \t loss =    0.006 \t RMSE =  0.081 \t R2 = 0.99807\n",
            "epoch = 29000 \t loss =    0.006 \t RMSE =  0.074 \t R2 = 0.99840\n",
            "epoch = 30000 \t loss =    0.006 \t RMSE =  0.073 \t R2 = 0.99844\n"
          ]
        }
      ],
      "source": [
        "# train model\n",
        "max_epochs = 30000\n",
        "loss_func  = torch.nn.MSELoss()\n",
        "optimizer  = torch.optim.Adam(net.parameters(), lr=0.001)\n",
        "\n",
        "R2_train   = np.array([])\n",
        "RMSE_train = np.array([])\n",
        "R2_test    = np.array([])\n",
        "RMSE_test  = np.array([])\n",
        "\n",
        "train_ldr = torch.utils.data.DataLoader(train_ds, batch_size=512, shuffle=True)\n",
        "for epoch in range(0, max_epochs+1):\n",
        "    net.train()\n",
        "    loss  = 0\n",
        "    count = 0\n",
        "    for (_, batch) in enumerate(train_ldr):\n",
        "        X = batch['inp']\n",
        "        Y = batch['outp']\n",
        "\n",
        "        optimizer.zero_grad()\n",
        "        output = net(X)                    # compute the output of the Network\n",
        "        loss_val = loss_func(output, Y)    # loss function\n",
        "        loss += loss_val.item()            # accumulate\n",
        "        loss_val.backward()                # gradients\n",
        "        optimizer.step()                   # update paramters\n",
        "        count += 1\n",
        "\n",
        "    net.eval()\n",
        "    R2_train   = np.append(R2_train, eval(net, train_ds)[0].item())\n",
        "    RMSE_train = np.append(RMSE_train, eval(net, train_ds)[1].item())\n",
        "    R2_test    = np.append(R2_test, eval(net, test_ds)[0].item())\n",
        "    RMSE_test  = np.append(RMSE_test, eval(net, test_ds)[1].item())\n",
        "\n",
        "\n",
        "    if(epoch%1000==0):\n",
        "        print(\"epoch = %5d \\t loss = %8.3f \\t RMSE = %6.3f \\t R2 = %7.5f\" % (epoch, loss/count, eval(net, test_ds)[1].item(), eval(net, test_ds)[0].item()))"
      ]
    },
    {
      "cell_type": "code",
      "execution_count": 43,
      "metadata": {},
      "outputs": [
        {
          "data": {
            "image/png": "[encoded data removed]",
            "text/plain": [
              "<Figure size 432x288 with 1 Axes>"
            ]
          },
          "metadata": {
            "needs_background": "light"
          },
          "output_type": "display_data"
        }
      ],
      "source": [
        "plt.plot(R2_train, R2_test)\n",
        "plt.xlabel('R2 Train')\n",
        "plt.ylabel('R2 Test')\n",
        "plt.show()"
      ]
    },
    {
      "cell_type": "code",
      "execution_count": 44,
      "metadata": {
        "id": "ywolwJ3MOYN7"
      },
      "outputs": [],
      "source": [
        "def plot(dataset, size):\n",
        "  with torch.no_grad():\n",
        "      pred_Y = net(dataset.x_data)\n",
        "\n",
        "  plt.figure(figsize=size)\n",
        "  plt.plot(dataset.y_data, 'b--', label=r'$T$ measured')\n",
        "  plt.plot(pred_Y,         'r--', label=r'$T$ predicted')\n",
        "  plt.ylabel(r'T($^oC$)')\n",
        "  plt.legend()\n",
        "  plt.show()"
      ]
    },
    {
      "cell_type": "code",
      "execution_count": 45,
      "metadata": {
        "colab": {
          "base_uri": "https://localhost:8080/"
        },
        "id": "IWo3Dbz3On1L",
        "outputId": "4cb78c88-5942-45c3-c26a-57ff265388db"
      },
      "outputs": [
        {
          "name": "stdout",
          "output_type": "stream",
          "text": [
            "RMSE: 0.07599221169948578\n",
            "R2:   0.998096227645874\n"
          ]
        },
        {
          "data": {
            "image/png": "[encoded data removed]",
            "text/plain": [
              "<Figure size 720x144 with 1 Axes>"
            ]
          },
          "metadata": {
            "needs_background": "light"
          },
          "output_type": "display_data"
        }
      ],
      "source": [
        "net.eval()\n",
        "print(\"RMSE:\", eval(net, train_ds)[1].item())\n",
        "print(\"R2:  \", eval(net, train_ds)[0].item())\n",
        "plot(train_ds, (10, 2))"
      ]
    },
    {
      "cell_type": "code",
      "execution_count": 46,
      "metadata": {
        "colab": {
          "base_uri": "https://localhost:8080/",
          "height": 192
        },
        "id": "Ag9YVcqXOpNE",
        "outputId": "df1687ca-583a-4bc6-c968-f825e140a566"
      },
      "outputs": [
        {
          "name": "stdout",
          "output_type": "stream",
          "text": [
            "RMSE: 0.07278183102607727\n",
            "R2:   0.9984375238418579\n"
          ]
        },
        {
          "data": {
            "image/png": "[encoded data removed]",
            "text/plain": [
              "<Figure size 720x144 with 1 Axes>"
            ]
          },
          "metadata": {
            "needs_background": "light"
          },
          "output_type": "display_data"
        }
      ],
      "source": [
        "net.eval()\n",
        "print(\"RMSE:\", eval(net, test_ds)[1].item())\n",
        "print(\"R2:  \", eval(net, test_ds)[0].item())\n",
        "plot(test_ds, (10, 2))"
      ]
    },
    {
      "cell_type": "code",
      "execution_count": 47,
      "metadata": {
        "colab": {
          "base_uri": "https://localhost:8080/"
        },
        "id": "-lu9lk55yy8g",
        "outputId": "fb732e80-fcc9-49a9-9523-3deaa65b10fd"
      },
      "outputs": [
        {
          "name": "stdout",
          "output_type": "stream",
          "text": [
            "29852\n",
            "0.9984483122825623\n"
          ]
        }
      ],
      "source": [
        "print(np.argmax(R2_test))\n",
        "print(np.max(R2_test))"
      ]
    },
    {
      "cell_type": "code",
      "execution_count": 48,
      "metadata": {},
      "outputs": [],
      "source": [
        "# PATH = 'C:/Users/tln229/Downloads/Python/Building/0. Saved models/Tz.pt'\n",
        "# torch.save(net, PATH)"
      ]
    }
  ],
  "metadata": {
    "colab": {
      "collapsed_sections": [],
      "name": "3. T_z .ipynb",
      "provenance": []
    },
    "kernelspec": {
      "display_name": "Python 3.10.5 64-bit",
      "language": "python",
      "name": "python3"
    },
    "language_info": {
      "codemirror_mode": {
        "name": "ipython",
        "version": 3
      },
      "file_extension": ".py",
      "mimetype": "text/x-python",
      "name": "python",
      "nbconvert_exporter": "python",
      "pygments_lexer": "ipython3",
      "version": "3.10.5"
    },
    "vscode": {
      "interpreter": {
        "hash": "912d6611990680b3d240e982c9d50f3da4c776707cfd42695cf7d82c88d80956"
      }
    }
  },
  "nbformat": 4,
  "nbformat_minor": 0
}
