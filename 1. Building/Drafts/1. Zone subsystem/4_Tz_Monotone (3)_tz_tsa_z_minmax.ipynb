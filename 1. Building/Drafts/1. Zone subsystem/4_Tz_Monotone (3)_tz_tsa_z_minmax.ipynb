{
 "cells": [
  {
   "cell_type": "code",
   "execution_count": 1,
   "metadata": {},
   "outputs": [],
   "source": [
    "# library\n",
    "import torch\n",
    "import numpy as np\n",
    "import matplotlib.pyplot as plt\n",
    "import pandas as pd\n",
    "\n",
    "torch.manual_seed(1)\n",
    "np.random.seed(1)\n",
    "torch.set_printoptions(precision=3)"
   ]
  },
  {
   "cell_type": "code",
   "execution_count": 2,
   "metadata": {},
   "outputs": [],
   "source": [
    "class MonotonicLinear(torch.nn.Module):\n",
    "  def __init__(self, input_size, output_size):\n",
    "    super().__init__()\n",
    "    self.input_size  = input_size\n",
    "    self.output_size = output_size\n",
    "    self.weights = torch.nn.Parameter(torch.rand((output_size, input_size), dtype=torch.float32))\n",
    "\n",
    "  def forward(self, x):\n",
    "    z = torch.mm(x, torch.exp(self.weights.t()))\n",
    "    return z"
   ]
  },
  {
   "cell_type": "code",
   "execution_count": 3,
   "metadata": {},
   "outputs": [],
   "source": [
    "class Net(torch.nn.Module):\n",
    "  def __init__(self):\n",
    "    super(Net, self).__init__()\n",
    "    self.input11 = MonotonicLinear(2, 4)\n",
    "    self.input12 = torch.nn.Linear(1, 4)\n",
    "    self.max1    = torch.nn.MaxPool1d(4)\n",
    "\n",
    "    self.input21 = MonotonicLinear(2, 4)\n",
    "    self.input22 = torch.nn.Linear(1, 4)\n",
    "    self.max2    = torch.nn.MaxPool1d(4)\n",
    "\n",
    "    self.output = torch.nn.MaxPool1d(2)\n",
    "\n",
    "  def forward(self, x_m, x_u):\n",
    "    z1 = torch.add(self.input11(x_m), self.input12(x_u))\n",
    "    z1 = self.max1(z1)\n",
    "\n",
    "    z2 = torch.add(self.input21(x_m), self.input22(x_u))\n",
    "    z2 = self.max1(z2)\n",
    "\n",
    "    z = torch.concat((z1,z2), axis=1)\n",
    "    z = self.output(-z)\n",
    "\n",
    "    return -z\n",
    "\n",
    "# Create network\n",
    "device = torch.device(\"cpu\")\n",
    "net = Net().to(device)"
   ]
  },
  {
   "cell_type": "code",
   "execution_count": 4,
   "metadata": {},
   "outputs": [],
   "source": [
    "# Model error\n",
    "def eval(model, testset):\n",
    "    with torch.no_grad():\n",
    "        pred_Y = model(testset.x_m_data, testset.x_u_data)\n",
    "    \n",
    "    # R^2\n",
    "    SSR = torch.sum(torch.square(pred_Y - testset.y_data))\n",
    "    SST = torch.sum(torch.square(pred_Y - torch.mean(testset.y_data)))\n",
    "    r2 = 1 - SSR/SST\n",
    "\n",
    "    # RMSE\n",
    "    rmse = torch.sqrt(torch.mean(torch.square(pred_Y - testset.y_data)))\n",
    "    return r2, rmse"
   ]
  },
  {
   "cell_type": "code",
   "execution_count": 5,
   "metadata": {},
   "outputs": [],
   "source": [
    "# Create network\n",
    "device = torch.device(\"cpu\")\n",
    "net = Net().to(device)"
   ]
  },
  {
   "cell_type": "code",
   "execution_count": 6,
   "metadata": {},
   "outputs": [],
   "source": [
    "# Data\n",
    "class Data(torch.utils.data.Dataset):\n",
    "  def __init__(self, src_file, start=None, end=None):\n",
    "    df = pd.read_csv(src_file)\n",
    "    Tsa_k1 = np.array(df['supply_discharge_temp']).reshape(-1,1)[start+1: end+1]\n",
    "    Tz_k   = np.array(df['room_temp']).reshape(-1,1)[start: end]\n",
    "    msa_k1 = np.array(df['airflow_current']).reshape(-1,1)[start+1: end+1]\n",
    "\n",
    "    tmp_x_m = np.concatenate(((Tsa_k1-65)/20, ((msa_k1-400)/600)*(Tsa_k1-Tz_k)), axis=1)\n",
    "    tmp_y   = np.array(df['room_temp']).reshape(-1,1)[start+1: end+1]\n",
    "\n",
    "    self.x_m_data = torch.tensor(tmp_x_m, dtype=torch.float32)\n",
    "    self.x_u_data = torch.tensor(Tz_k, dtype=torch.float32)\n",
    "    self.y_data   = torch.tensor(tmp_y, dtype=torch.float32)\n",
    "\n",
    "  def __len__(self):\n",
    "    return len(self.y_data)\n",
    "\n",
    "  def __getitem__(self, idx):\n",
    "    if torch.is_tensor(idx):\n",
    "      idx = idx.tolist()\n",
    "    inp_m  = self.x_m_data[idx]\n",
    "    inp_u  = self.x_u_data[idx]\n",
    "    outp   = self.y_data[idx]\n",
    "    sample = {'inp_m':inp_m, 'inp_u':inp_u, 'outp':outp}\n",
    "    return sample\n",
    "\n",
    "# Create Dataset and DataLoader objects\n",
    "src_file = 'C:/Users/tln229/Downloads/Python/Building/data/HVAC_B90_102_exp_10m_20210424.csv'\n",
    "n_train  = 128\n",
    "train_ds = Data(src_file, start=0,       end=n_train)\n",
    "test_ds  = Data(src_file, start=n_train, end=1600)"
   ]
  },
  {
   "cell_type": "code",
   "execution_count": 7,
   "metadata": {},
   "outputs": [
    {
     "name": "stdout",
     "output_type": "stream",
     "text": [
      "epoch =     0 \t loss =     287.943 \t RMSE =   20.706 \t R2 =  0.04139\n",
      "epoch =  1000 \t loss =       2.620 \t RMSE =    2.199 \t R2 =  0.60127\n",
      "epoch =  2000 \t loss =       0.779 \t RMSE =    1.195 \t R2 =  0.79436\n",
      "epoch =  3000 \t loss =       0.338 \t RMSE =    0.784 \t R2 =  0.88614\n",
      "epoch =  4000 \t loss =       0.169 \t RMSE =    0.552 \t R2 =  0.93483\n",
      "epoch =  5000 \t loss =       0.091 \t RMSE =    0.401 \t R2 =  0.96223\n",
      "epoch =  6000 \t loss =       0.051 \t RMSE =    0.296 \t R2 =  0.97807\n",
      "epoch =  7000 \t loss =       0.030 \t RMSE =    0.220 \t R2 =  0.98728\n",
      "epoch =  8000 \t loss =       0.019 \t RMSE =    0.165 \t R2 =  0.99257\n",
      "epoch =  9000 \t loss =       0.012 \t RMSE =    0.126 \t R2 =  0.99552\n",
      "epoch = 10000 \t loss =       0.009 \t RMSE =    0.101 \t R2 =  0.99707\n",
      "epoch = 11000 \t loss =       0.008 \t RMSE =    0.092 \t R2 =  0.99756\n",
      "epoch = 12000 \t loss =       0.007 \t RMSE =    0.079 \t R2 =  0.99818\n",
      "epoch = 13000 \t loss =       0.007 \t RMSE =    0.076 \t R2 =  0.99830\n",
      "epoch = 14000 \t loss =       0.006 \t RMSE =    0.074 \t R2 =  0.99837\n",
      "epoch = 15000 \t loss =       0.006 \t RMSE =    0.074 \t R2 =  0.99838\n",
      "epoch = 16000 \t loss =       0.006 \t RMSE =    0.074 \t R2 =  0.99840\n",
      "epoch = 17000 \t loss =       0.006 \t RMSE =    0.074 \t R2 =  0.99840\n",
      "epoch = 18000 \t loss =       0.006 \t RMSE =    0.074 \t R2 =  0.99840\n",
      "epoch = 19000 \t loss =       0.006 \t RMSE =    0.074 \t R2 =  0.99840\n",
      "epoch = 20000 \t loss =       0.006 \t RMSE =    0.074 \t R2 =  0.99839\n",
      "epoch = 21000 \t loss =       0.009 \t RMSE =    0.086 \t R2 =  0.99782\n",
      "epoch = 22000 \t loss =       0.006 \t RMSE =    0.074 \t R2 =  0.99838\n",
      "epoch = 23000 \t loss =       0.006 \t RMSE =    0.074 \t R2 =  0.99838\n",
      "epoch = 24000 \t loss =       0.006 \t RMSE =    0.075 \t R2 =  0.99837\n",
      "epoch = 25000 \t loss =       0.006 \t RMSE =    0.074 \t R2 =  0.99839\n",
      "epoch = 26000 \t loss =       0.006 \t RMSE =    0.075 \t R2 =  0.99837\n",
      "epoch = 27000 \t loss =       0.006 \t RMSE =    0.075 \t R2 =  0.99837\n",
      "epoch = 28000 \t loss =       0.007 \t RMSE =    0.075 \t R2 =  0.99836\n",
      "epoch = 29000 \t loss =       0.006 \t RMSE =    0.075 \t R2 =  0.99837\n",
      "epoch = 30000 \t loss =       0.006 \t RMSE =    0.075 \t R2 =  0.99837\n",
      "epoch = 31000 \t loss =       0.006 \t RMSE =    0.075 \t R2 =  0.99837\n",
      "epoch = 32000 \t loss =       0.007 \t RMSE =    0.075 \t R2 =  0.99837\n",
      "epoch = 33000 \t loss =       0.006 \t RMSE =    0.075 \t R2 =  0.99837\n",
      "epoch = 34000 \t loss =       0.006 \t RMSE =    0.075 \t R2 =  0.99837\n",
      "epoch = 35000 \t loss =       0.006 \t RMSE =    0.075 \t R2 =  0.99837\n",
      "epoch = 36000 \t loss =       0.006 \t RMSE =    0.075 \t R2 =  0.99836\n",
      "epoch = 37000 \t loss =       0.006 \t RMSE =    0.075 \t R2 =  0.99837\n",
      "epoch = 38000 \t loss =       0.006 \t RMSE =    0.074 \t R2 =  0.99838\n",
      "epoch = 39000 \t loss =       0.006 \t RMSE =    0.075 \t R2 =  0.99837\n",
      "epoch = 40000 \t loss =       0.007 \t RMSE =    0.076 \t R2 =  0.99830\n",
      "epoch = 41000 \t loss =       0.006 \t RMSE =    0.076 \t R2 =  0.99832\n",
      "epoch = 42000 \t loss =       0.006 \t RMSE =    0.075 \t R2 =  0.99837\n",
      "epoch = 43000 \t loss =       0.006 \t RMSE =    0.075 \t R2 =  0.99837\n",
      "epoch = 44000 \t loss =       0.006 \t RMSE =    0.075 \t R2 =  0.99837\n",
      "epoch = 45000 \t loss =       0.007 \t RMSE =    0.088 \t R2 =  0.99775\n",
      "epoch = 46000 \t loss =       0.006 \t RMSE =    0.075 \t R2 =  0.99837\n",
      "epoch = 47000 \t loss =       0.006 \t RMSE =    0.075 \t R2 =  0.99837\n",
      "epoch = 48000 \t loss =       0.006 \t RMSE =    0.075 \t R2 =  0.99837\n",
      "epoch = 49000 \t loss =       0.006 \t RMSE =    0.074 \t R2 =  0.99838\n",
      "epoch = 50000 \t loss =       0.006 \t RMSE =    0.074 \t R2 =  0.99838\n"
     ]
    }
   ],
   "source": [
    "# train model\n",
    "max_epochs = 50000\n",
    "loss_func  = torch.nn.MSELoss()\n",
    "optimizer  = torch.optim.Adam(net.parameters(), lr=0.005)\n",
    "\n",
    "R2_train   = np.array([])\n",
    "RMSE_train = np.array([])\n",
    "R2_test    = np.array([])\n",
    "RMSE_test  = np.array([])\n",
    "\n",
    "train_ldr = torch.utils.data.DataLoader(train_ds, batch_size=1024, shuffle=True)\n",
    "for epoch in range(0, max_epochs+1):\n",
    "    net.train()\n",
    "    loss  = 0\n",
    "    count = 0\n",
    "    for (_, batch) in enumerate(train_ldr):\n",
    "        X_m = batch['inp_m']\n",
    "        X_u = batch['inp_u']\n",
    "        Y   = batch['outp']\n",
    "\n",
    "        optimizer.zero_grad()\n",
    "        output = net(X_m, X_u)             # compute the output of the Network\n",
    "        loss_val = loss_func(output, Y)    # loss function\n",
    "        loss += loss_val.item()            # accumulate\n",
    "        loss_val.backward()                # gradients\n",
    "        optimizer.step()                   # update paramters\n",
    "        count += 1\n",
    "\n",
    "    net.eval()\n",
    "    R2_train   = np.append(R2_train, eval(net, train_ds)[0].item())\n",
    "    RMSE_train = np.append(RMSE_train, eval(net, train_ds)[1].item())\n",
    "    R2_test    = np.append(R2_test, eval(net, test_ds)[0].item())\n",
    "    RMSE_test  = np.append(RMSE_test, eval(net, test_ds)[1].item())\n",
    "\n",
    "\n",
    "    if(epoch%1000==0):\n",
    "        print(\"epoch = %5d \\t loss = %11.3f \\t RMSE = %8.3f \\t R2 = %8.5f\" % (epoch, loss/count, eval(net, test_ds)[1].item(), eval(net, test_ds)[0].item()))"
   ]
  },
  {
   "cell_type": "code",
   "execution_count": 8,
   "metadata": {},
   "outputs": [],
   "source": [
    "def plot(dataset, size):\n",
    "  with torch.no_grad():\n",
    "      pred_Y = net(dataset.x_m_data, dataset.x_u_data)\n",
    "\n",
    "  plt.figure(figsize=size)\n",
    "  plt.plot(dataset.y_data, 'b--', label=r'$T$ measured')\n",
    "  plt.plot(pred_Y,         'r--', label=r'$T$ predicted')\n",
    "  plt.ylabel(r'T($^oC$)')\n",
    "  plt.legend()\n",
    "  plt.show()"
   ]
  },
  {
   "cell_type": "code",
   "execution_count": 9,
   "metadata": {},
   "outputs": [
    {
     "name": "stdout",
     "output_type": "stream",
     "text": [
      "RMSE: 0.07896535843610764\n",
      "R2:   0.9979369640350342\n"
     ]
    },
    {
     "data": {
      "image/png": "[encoded data removed]",
      "text/plain": [
       "<Figure size 720x144 with 1 Axes>"
      ]
     },
     "metadata": {
      "needs_background": "light"
     },
     "output_type": "display_data"
    }
   ],
   "source": [
    "net.eval()\n",
    "print(\"RMSE:\", eval(net, train_ds)[1].item())\n",
    "print(\"R2:  \", eval(net, train_ds)[0].item())\n",
    "plot(train_ds, (10, 2))"
   ]
  },
  {
   "cell_type": "code",
   "execution_count": 10,
   "metadata": {},
   "outputs": [
    {
     "name": "stdout",
     "output_type": "stream",
     "text": [
      "RMSE: 0.0744665339589119\n",
      "R2:   0.9983785152435303\n"
     ]
    },
    {
     "data": {
      "image/png": "[encoded data removed]",
      "text/plain": [
       "<Figure size 720x144 with 1 Axes>"
      ]
     },
     "metadata": {
      "needs_background": "light"
     },
     "output_type": "display_data"
    }
   ],
   "source": [
    "net.eval()\n",
    "print(\"RMSE:\", eval(net, test_ds)[1].item())\n",
    "print(\"R2:  \",   eval(net, test_ds)[0].item())\n",
    "plot(test_ds, (10, 2))"
   ]
  },
  {
   "cell_type": "code",
   "execution_count": 11,
   "metadata": {},
   "outputs": [
    {
     "name": "stdout",
     "output_type": "stream",
     "text": [
      "18187\n",
      "0.9984059929847717\n"
     ]
    }
   ],
   "source": [
    "print(np.argmax(R2_test))\n",
    "print(np.max(R2_test))"
   ]
  }
 ],
 "metadata": {
  "kernelspec": {
   "display_name": "Python 3.10.5 64-bit",
   "language": "python",
   "name": "python3"
  },
  "language_info": {
   "codemirror_mode": {
    "name": "ipython",
    "version": 3
   },
   "file_extension": ".py",
   "mimetype": "text/x-python",
   "name": "python",
   "nbconvert_exporter": "python",
   "pygments_lexer": "ipython3",
   "version": "3.10.5"
  },
  "orig_nbformat": 4,
  "vscode": {
   "interpreter": {
    "hash": "912d6611990680b3d240e982c9d50f3da4c776707cfd42695cf7d82c88d80956"
   }
  }
 },
 "nbformat": 4,
 "nbformat_minor": 2
}
