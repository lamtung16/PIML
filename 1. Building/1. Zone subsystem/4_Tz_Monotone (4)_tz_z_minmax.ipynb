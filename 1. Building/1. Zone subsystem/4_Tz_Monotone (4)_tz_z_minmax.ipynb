{
 "cells": [
  {
   "cell_type": "code",
   "execution_count": 12,
   "metadata": {},
   "outputs": [],
   "source": [
    "# library\n",
    "import torch\n",
    "import numpy as np\n",
    "import matplotlib.pyplot as plt\n",
    "import pandas as pd\n",
    "\n",
    "torch.manual_seed(1)\n",
    "np.random.seed(1)\n",
    "torch.set_printoptions(precision=3)"
   ]
  },
  {
   "cell_type": "code",
   "execution_count": 13,
   "metadata": {},
   "outputs": [],
   "source": [
    "class MonotonicLinear(torch.nn.Module):\n",
    "  def __init__(self, input_size, output_size):\n",
    "    super().__init__()\n",
    "    self.input_size  = input_size\n",
    "    self.output_size = output_size\n",
    "    self.weights = torch.nn.Parameter(torch.rand((output_size, input_size), dtype=torch.float32))\n",
    "\n",
    "  def forward(self, x):\n",
    "    z = torch.mm(x, torch.exp(self.weights.t()))\n",
    "    return z"
   ]
  },
  {
   "cell_type": "code",
   "execution_count": 14,
   "metadata": {},
   "outputs": [],
   "source": [
    "class Net(torch.nn.Module):\n",
    "  def __init__(self):\n",
    "    super(Net, self).__init__()\n",
    "    self.input11 = MonotonicLinear(1, 4)\n",
    "    self.input12 = torch.nn.Linear(1, 4)\n",
    "    self.max1    = torch.nn.MaxPool1d(4)\n",
    "\n",
    "    self.input21 = MonotonicLinear(1, 4)\n",
    "    self.input22 = torch.nn.Linear(1, 4)\n",
    "    self.max2    = torch.nn.MaxPool1d(4)\n",
    "\n",
    "    self.output = torch.nn.MaxPool1d(2)\n",
    "\n",
    "  def forward(self, x_m, x_u):\n",
    "    z1 = torch.add(self.input11(x_m), self.input12(x_u))\n",
    "    z1 = self.max1(z1)\n",
    "\n",
    "    z2 = torch.add(self.input21(x_m), self.input22(x_u))\n",
    "    z2 = self.max1(z2)\n",
    "\n",
    "    z = torch.concat((z1,z2), axis=1)\n",
    "    z = self.output(-z)\n",
    "\n",
    "    return -z\n",
    "\n",
    "# Create network\n",
    "device = torch.device(\"cpu\")\n",
    "net = Net().to(device)"
   ]
  },
  {
   "cell_type": "code",
   "execution_count": 15,
   "metadata": {},
   "outputs": [],
   "source": [
    "# Model error\n",
    "def eval(model, testset):\n",
    "    with torch.no_grad():\n",
    "        pred_Y = model(testset.x_m_data, testset.x_u_data)\n",
    "    \n",
    "    # R^2\n",
    "    SSR = torch.sum(torch.square(pred_Y - testset.y_data))\n",
    "    SST = torch.sum(torch.square(pred_Y - torch.mean(testset.y_data)))\n",
    "    r2 = 1 - SSR/SST\n",
    "\n",
    "    # RMSE\n",
    "    rmse = torch.sqrt(torch.mean(torch.square(pred_Y - testset.y_data)))\n",
    "    return r2, rmse"
   ]
  },
  {
   "cell_type": "code",
   "execution_count": 16,
   "metadata": {},
   "outputs": [],
   "source": [
    "# Create network\n",
    "device = torch.device(\"cpu\")\n",
    "net = Net().to(device)"
   ]
  },
  {
   "cell_type": "code",
   "execution_count": 17,
   "metadata": {},
   "outputs": [],
   "source": [
    "# Data\n",
    "class Data(torch.utils.data.Dataset):\n",
    "  def __init__(self, src_file, start=None, end=None):\n",
    "    df = pd.read_csv(src_file)\n",
    "    Tz_k   = np.array(df['room_temp']).reshape(-1,1)[start: end]\n",
    "\n",
    "    Tsa_k1 = np.array(df['supply_discharge_temp']).reshape(-1,1)[start+1: end+1]\n",
    "    msa_k1 = np.array(df['airflow_current']).reshape(-1,1)[start+1: end+1]\n",
    "    new    = ((msa_k1-400)/600)*(Tsa_k1-Tz_k)\n",
    "\n",
    "    Tz_k1  = np.array(df['room_temp']).reshape(-1,1)[start+1: end+1]\n",
    "\n",
    "    self.x_m_data = torch.tensor(new, dtype=torch.float32)\n",
    "    self.x_u_data = torch.tensor(Tz_k, dtype=torch.float32)\n",
    "    self.y_data   = torch.tensor(Tz_k1, dtype=torch.float32)\n",
    "\n",
    "  def __len__(self):\n",
    "    return len(self.y_data)\n",
    "\n",
    "  def __getitem__(self, idx):\n",
    "    if torch.is_tensor(idx):\n",
    "      idx = idx.tolist()\n",
    "    inp_m  = self.x_m_data[idx]\n",
    "    inp_u  = self.x_u_data[idx]\n",
    "    outp   = self.y_data[idx]\n",
    "    sample = {'inp_m':inp_m, 'inp_u':inp_u, 'outp':outp}\n",
    "    return sample\n",
    "\n",
    "# Create Dataset and DataLoader objects\n",
    "src_file = 'C:/Users/tln229/Downloads/Python/Building/data/HVAC_B90_102_exp_10m_20210424.csv'\n",
    "n_train  = 128\n",
    "train_ds = Data(src_file, start=0,       end=n_train)\n",
    "test_ds  = Data(src_file, start=n_train, end=1600)"
   ]
  },
  {
   "cell_type": "code",
   "execution_count": 18,
   "metadata": {},
   "outputs": [
    {
     "name": "stdout",
     "output_type": "stream",
     "text": [
      "epoch =     0 \t loss = 205.36667 \t RMSE =   12.183 \t R2 =  0.14500\n",
      "epoch =  1000 \t loss = 3.92796 \t RMSE =    2.707 \t R2 =  0.52828\n",
      "epoch =  2000 \t loss = 1.21194 \t RMSE =    1.501 \t R2 =  0.73051\n",
      "epoch =  3000 \t loss = 0.53531 \t RMSE =    0.995 \t R2 =  0.84046\n",
      "epoch =  4000 \t loss = 0.27170 \t RMSE =    0.706 \t R2 =  0.90408\n",
      "epoch =  5000 \t loss = 0.14730 \t RMSE =    0.517 \t R2 =  0.94222\n",
      "epoch =  6000 \t loss = 0.08266 \t RMSE =    0.383 \t R2 =  0.96546\n",
      "epoch =  7000 \t loss = 0.04741 \t RMSE =    0.285 \t R2 =  0.97962\n",
      "epoch =  8000 \t loss = 0.02790 \t RMSE =    0.212 \t R2 =  0.98815\n",
      "epoch =  9000 \t loss = 0.01727 \t RMSE =    0.158 \t R2 =  0.99312\n",
      "epoch = 10000 \t loss = 0.01179 \t RMSE =    0.123 \t R2 =  0.99570\n",
      "epoch = 11000 \t loss = 0.00906 \t RMSE =    0.099 \t R2 =  0.99720\n",
      "epoch = 12000 \t loss = 0.00772 \t RMSE =    0.085 \t R2 =  0.99787\n",
      "epoch = 13000 \t loss = 0.00708 \t RMSE =    0.078 \t R2 =  0.99819\n",
      "epoch = 14000 \t loss = 0.00673 \t RMSE =    0.076 \t R2 =  0.99831\n",
      "epoch = 15000 \t loss = 0.00671 \t RMSE =    0.075 \t R2 =  0.99832\n",
      "epoch = 16000 \t loss = 0.00648 \t RMSE =    0.074 \t R2 =  0.99837\n",
      "epoch = 17000 \t loss = 0.00643 \t RMSE =    0.074 \t R2 =  0.99837\n",
      "epoch = 18000 \t loss = 0.00668 \t RMSE =    0.076 \t R2 =  0.99829\n",
      "epoch = 19000 \t loss = 0.00638 \t RMSE =    0.074 \t R2 =  0.99838\n",
      "epoch = 20000 \t loss = 0.00638 \t RMSE =    0.074 \t R2 =  0.99837\n",
      "epoch = 21000 \t loss = 0.00637 \t RMSE =    0.074 \t R2 =  0.99837\n",
      "epoch = 22000 \t loss = 0.00639 \t RMSE =    0.074 \t R2 =  0.99837\n",
      "epoch = 23000 \t loss = 0.00636 \t RMSE =    0.075 \t R2 =  0.99837\n",
      "epoch = 24000 \t loss = 0.00636 \t RMSE =    0.075 \t R2 =  0.99837\n",
      "epoch = 25000 \t loss = 0.00635 \t RMSE =    0.075 \t R2 =  0.99837\n",
      "epoch = 26000 \t loss = 0.00878 \t RMSE =    0.089 \t R2 =  0.99768\n",
      "epoch = 27000 \t loss = 0.00637 \t RMSE =    0.075 \t R2 =  0.99837\n",
      "epoch = 28000 \t loss = 0.00635 \t RMSE =    0.075 \t R2 =  0.99837\n",
      "epoch = 29000 \t loss = 0.00703 \t RMSE =    0.078 \t R2 =  0.99823\n",
      "epoch = 30000 \t loss = 0.00635 \t RMSE =    0.075 \t R2 =  0.99837\n",
      "epoch = 31000 \t loss = 0.00636 \t RMSE =    0.075 \t R2 =  0.99837\n",
      "epoch = 32000 \t loss = 0.00680 \t RMSE =    0.080 \t R2 =  0.99813\n",
      "epoch = 33000 \t loss = 0.00635 \t RMSE =    0.075 \t R2 =  0.99836\n",
      "epoch = 34000 \t loss = 0.00733 \t RMSE =    0.085 \t R2 =  0.99788\n",
      "epoch = 35000 \t loss = 0.00636 \t RMSE =    0.078 \t R2 =  0.99822\n",
      "epoch = 36000 \t loss = 0.00635 \t RMSE =    0.075 \t R2 =  0.99836\n",
      "epoch = 37000 \t loss = 0.00712 \t RMSE =    0.076 \t R2 =  0.99832\n",
      "epoch = 38000 \t loss = 0.00635 \t RMSE =    0.075 \t R2 =  0.99836\n",
      "epoch = 39000 \t loss = 0.00639 \t RMSE =    0.075 \t R2 =  0.99833\n",
      "epoch = 40000 \t loss = 0.00635 \t RMSE =    0.075 \t R2 =  0.99836\n",
      "epoch = 41000 \t loss = 0.00729 \t RMSE =    0.075 \t R2 =  0.99833\n",
      "epoch = 42000 \t loss = 0.00635 \t RMSE =    0.075 \t R2 =  0.99836\n",
      "epoch = 43000 \t loss = 0.00635 \t RMSE =    0.075 \t R2 =  0.99836\n",
      "epoch = 44000 \t loss = 0.00635 \t RMSE =    0.075 \t R2 =  0.99836\n",
      "epoch = 45000 \t loss = 0.00635 \t RMSE =    0.075 \t R2 =  0.99836\n",
      "epoch = 46000 \t loss = 0.00635 \t RMSE =    0.075 \t R2 =  0.99836\n",
      "epoch = 47000 \t loss = 0.00662 \t RMSE =    0.077 \t R2 =  0.99828\n",
      "epoch = 48000 \t loss = 0.00635 \t RMSE =    0.075 \t R2 =  0.99836\n",
      "epoch = 49000 \t loss = 0.00635 \t RMSE =    0.075 \t R2 =  0.99837\n",
      "epoch = 50000 \t loss = 0.00635 \t RMSE =    0.075 \t R2 =  0.99836\n",
      "epoch = 51000 \t loss = 0.00635 \t RMSE =    0.075 \t R2 =  0.99836\n",
      "epoch = 52000 \t loss = 0.00636 \t RMSE =    0.075 \t R2 =  0.99837\n",
      "epoch = 53000 \t loss = 0.00636 \t RMSE =    0.075 \t R2 =  0.99837\n",
      "epoch = 54000 \t loss = 0.00699 \t RMSE =    0.077 \t R2 =  0.99827\n",
      "epoch = 55000 \t loss = 0.00636 \t RMSE =    0.075 \t R2 =  0.99836\n",
      "epoch = 56000 \t loss = 0.00635 \t RMSE =    0.075 \t R2 =  0.99837\n",
      "epoch = 57000 \t loss = 0.00919 \t RMSE =    0.095 \t R2 =  0.99739\n",
      "epoch = 58000 \t loss = 0.00636 \t RMSE =    0.075 \t R2 =  0.99836\n",
      "epoch = 59000 \t loss = 0.00635 \t RMSE =    0.075 \t R2 =  0.99836\n",
      "epoch = 60000 \t loss = 0.00641 \t RMSE =    0.075 \t R2 =  0.99835\n",
      "epoch = 61000 \t loss = 0.00635 \t RMSE =    0.075 \t R2 =  0.99836\n",
      "epoch = 62000 \t loss = 0.00639 \t RMSE =    0.075 \t R2 =  0.99837\n",
      "epoch = 63000 \t loss = 0.00635 \t RMSE =    0.075 \t R2 =  0.99836\n",
      "epoch = 64000 \t loss = 0.00635 \t RMSE =    0.075 \t R2 =  0.99836\n",
      "epoch = 65000 \t loss = 0.00636 \t RMSE =    0.075 \t R2 =  0.99836\n",
      "epoch = 66000 \t loss = 0.00650 \t RMSE =    0.076 \t R2 =  0.99832\n",
      "epoch = 67000 \t loss = 0.00845 \t RMSE =    0.087 \t R2 =  0.99777\n",
      "epoch = 68000 \t loss = 0.00635 \t RMSE =    0.075 \t R2 =  0.99836\n",
      "epoch = 69000 \t loss = 0.00642 \t RMSE =    0.075 \t R2 =  0.99836\n",
      "epoch = 70000 \t loss = 0.00635 \t RMSE =    0.075 \t R2 =  0.99836\n",
      "epoch = 71000 \t loss = 0.00635 \t RMSE =    0.075 \t R2 =  0.99836\n",
      "epoch = 72000 \t loss = 0.00635 \t RMSE =    0.075 \t R2 =  0.99836\n",
      "epoch = 73000 \t loss = 0.00635 \t RMSE =    0.075 \t R2 =  0.99836\n",
      "epoch = 74000 \t loss = 0.00635 \t RMSE =    0.075 \t R2 =  0.99836\n",
      "epoch = 75000 \t loss = 0.00646 \t RMSE =    0.075 \t R2 =  0.99837\n",
      "epoch = 76000 \t loss = 0.00635 \t RMSE =    0.075 \t R2 =  0.99837\n",
      "epoch = 77000 \t loss = 0.00635 \t RMSE =    0.075 \t R2 =  0.99837\n",
      "epoch = 78000 \t loss = 0.00635 \t RMSE =    0.075 \t R2 =  0.99836\n",
      "epoch = 79000 \t loss = 0.00635 \t RMSE =    0.075 \t R2 =  0.99836\n",
      "epoch = 80000 \t loss = 0.00647 \t RMSE =    0.075 \t R2 =  0.99837\n",
      "epoch = 81000 \t loss = 0.00635 \t RMSE =    0.075 \t R2 =  0.99836\n",
      "epoch = 82000 \t loss = 0.00635 \t RMSE =    0.075 \t R2 =  0.99836\n",
      "epoch = 83000 \t loss = 0.00635 \t RMSE =    0.075 \t R2 =  0.99836\n",
      "epoch = 84000 \t loss = 0.00635 \t RMSE =    0.075 \t R2 =  0.99836\n",
      "epoch = 85000 \t loss = 0.00636 \t RMSE =    0.076 \t R2 =  0.99830\n",
      "epoch = 86000 \t loss = 0.00635 \t RMSE =    0.075 \t R2 =  0.99836\n",
      "epoch = 87000 \t loss = 0.00754 \t RMSE =    0.085 \t R2 =  0.99789\n",
      "epoch = 88000 \t loss = 0.00635 \t RMSE =    0.075 \t R2 =  0.99836\n",
      "epoch = 89000 \t loss = 0.00637 \t RMSE =    0.075 \t R2 =  0.99837\n",
      "epoch = 90000 \t loss = 0.00635 \t RMSE =    0.075 \t R2 =  0.99836\n",
      "epoch = 91000 \t loss = 0.00635 \t RMSE =    0.075 \t R2 =  0.99835\n",
      "epoch = 92000 \t loss = 0.00635 \t RMSE =    0.075 \t R2 =  0.99836\n",
      "epoch = 93000 \t loss = 0.00637 \t RMSE =    0.075 \t R2 =  0.99835\n",
      "epoch = 94000 \t loss = 0.00635 \t RMSE =    0.075 \t R2 =  0.99836\n",
      "epoch = 95000 \t loss = 0.00635 \t RMSE =    0.075 \t R2 =  0.99836\n",
      "epoch = 96000 \t loss = 0.00636 \t RMSE =    0.075 \t R2 =  0.99835\n",
      "epoch = 97000 \t loss = 0.00635 \t RMSE =    0.075 \t R2 =  0.99836\n",
      "epoch = 98000 \t loss = 0.00635 \t RMSE =    0.075 \t R2 =  0.99836\n",
      "epoch = 99000 \t loss = 0.00635 \t RMSE =    0.075 \t R2 =  0.99837\n",
      "epoch = 100000 \t loss = 0.00635 \t RMSE =    0.075 \t R2 =  0.99836\n"
     ]
    }
   ],
   "source": [
    "# train model\n",
    "max_epochs = 100000\n",
    "loss_func  = torch.nn.MSELoss()\n",
    "optimizer  = torch.optim.Adam(net.parameters(), lr=0.005)\n",
    "\n",
    "R2_train   = np.array([])\n",
    "RMSE_train = np.array([])\n",
    "R2_test    = np.array([])\n",
    "RMSE_test  = np.array([])\n",
    "\n",
    "train_ldr = torch.utils.data.DataLoader(train_ds, batch_size=128, shuffle=True)\n",
    "for epoch in range(0, max_epochs+1):\n",
    "    net.train()\n",
    "    loss  = 0\n",
    "    count = 0\n",
    "    for (_, batch) in enumerate(train_ldr):\n",
    "        X_m = batch['inp_m']\n",
    "        X_u = batch['inp_u']\n",
    "        Y   = batch['outp']\n",
    "\n",
    "        optimizer.zero_grad()\n",
    "        output = net(X_m, X_u)             # compute the output of the Network\n",
    "        loss_val = loss_func(output, Y)    # loss function\n",
    "        loss += loss_val.item()            # accumulate\n",
    "        loss_val.backward()                # gradients\n",
    "        optimizer.step()                   # update paramters\n",
    "        count += 1\n",
    "\n",
    "    net.eval()\n",
    "    R2_train   = np.append(R2_train, eval(net, train_ds)[0].item())\n",
    "    RMSE_train = np.append(RMSE_train, eval(net, train_ds)[1].item())\n",
    "    R2_test    = np.append(R2_test, eval(net, test_ds)[0].item())\n",
    "    RMSE_test  = np.append(RMSE_test, eval(net, test_ds)[1].item())\n",
    "\n",
    "\n",
    "    if(epoch%1000==0):\n",
    "        print(\"epoch = %5d \\t loss = %7.5f \\t RMSE = %8.3f \\t R2 = %8.5f\" % (epoch, loss/count, eval(net, test_ds)[1].item(), eval(net, test_ds)[0].item()))"
   ]
  },
  {
   "cell_type": "code",
   "execution_count": 19,
   "metadata": {},
   "outputs": [],
   "source": [
    "def plot(dataset, size):\n",
    "  with torch.no_grad():\n",
    "      pred_Y = net(dataset.x_m_data, dataset.x_u_data)\n",
    "\n",
    "  plt.figure(figsize=size)\n",
    "  plt.plot(dataset.y_data, 'b--', label=r'$T$ measured')\n",
    "  plt.plot(pred_Y,         'r--', label=r'$T$ predicted')\n",
    "  plt.ylabel(r'T($^oC$)')\n",
    "  plt.legend()\n",
    "  plt.show()"
   ]
  },
  {
   "cell_type": "code",
   "execution_count": 20,
   "metadata": {},
   "outputs": [
    {
     "name": "stdout",
     "output_type": "stream",
     "text": [
      "RMSE: 0.07970176637172699\n",
      "R2:   0.9978983998298645\n"
     ]
    },
    {
     "data": {
      "image/png": "[encoded data removed]",
      "text/plain": [
       "<Figure size 720x144 with 1 Axes>"
      ]
     },
     "metadata": {
      "needs_background": "light"
     },
     "output_type": "display_data"
    }
   ],
   "source": [
    "net.eval()\n",
    "print(\"RMSE:\", eval(net, train_ds)[1].item())\n",
    "print(\"R2:  \", eval(net, train_ds)[0].item())\n",
    "plot(train_ds, (10, 2))"
   ]
  },
  {
   "cell_type": "code",
   "execution_count": 21,
   "metadata": {},
   "outputs": [
    {
     "name": "stdout",
     "output_type": "stream",
     "text": [
      "RMSE: 0.07476826757192612\n",
      "R2:   0.9983643889427185\n"
     ]
    },
    {
     "data": {
      "image/png": "[encoded data removed]",
      "text/plain": [
       "<Figure size 720x144 with 1 Axes>"
      ]
     },
     "metadata": {
      "needs_background": "light"
     },
     "output_type": "display_data"
    }
   ],
   "source": [
    "net.eval()\n",
    "print(\"RMSE:\", eval(net, test_ds)[1].item())\n",
    "print(\"R2:  \",   eval(net, test_ds)[0].item())\n",
    "plot(test_ds, (10, 2))"
   ]
  },
  {
   "cell_type": "code",
   "execution_count": 22,
   "metadata": {},
   "outputs": [
    {
     "name": "stdout",
     "output_type": "stream",
     "text": [
      "18617\n",
      "0.9983786940574646\n"
     ]
    }
   ],
   "source": [
    "print(np.argmax(R2_test))\n",
    "print(np.max(R2_test))"
   ]
  }
 ],
 "metadata": {
  "kernelspec": {
   "display_name": "Python 3.10.5 64-bit",
   "language": "python",
   "name": "python3"
  },
  "language_info": {
   "codemirror_mode": {
    "name": "ipython",
    "version": 3
   },
   "file_extension": ".py",
   "mimetype": "text/x-python",
   "name": "python",
   "nbconvert_exporter": "python",
   "pygments_lexer": "ipython3",
   "version": "3.10.5"
  },
  "orig_nbformat": 4,
  "vscode": {
   "interpreter": {
    "hash": "912d6611990680b3d240e982c9d50f3da4c776707cfd42695cf7d82c88d80956"
   }
  }
 },
 "nbformat": 4,
 "nbformat_minor": 2
}
